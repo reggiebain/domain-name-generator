{
 "cells": [
  {
   "cell_type": "markdown",
   "id": "e58aed95",
   "metadata": {
    "papermill": {
     "duration": 0.004889,
     "end_time": "2025-07-30T13:43:02.211125",
     "exception": false,
     "start_time": "2025-07-30T13:43:02.206236",
     "status": "completed"
    },
    "tags": []
   },
   "source": [
    "# Part 2 - Fine Tune LLM\n",
    "- Fine tune LLM on our synthetically generated dataset to generate domain names from descriptions.\n",
    "- Do preliminary evaluation using various standard NLP metrics such as rouge, bleu, levenshtein, etc.\n",
    "- Due to time and Kaggle storage constraints, we'll just run this script changing different hyperparameters by hand as opposed to running a for loop over multiple configs, which would lead to a huge amount of space being used that will exceed the output allowance.\n",
    "- We will ultiamtely vary:\n",
    "    - Batch Size\n",
    "    - Learning Rate\n",
    "    - Switch on/off LoRA and PEFT"
   ]
  },
  {
   "cell_type": "code",
   "execution_count": 1,
   "id": "32d03954",
   "metadata": {
    "execution": {
     "iopub.execute_input": "2025-07-30T13:43:02.220824Z",
     "iopub.status.busy": "2025-07-30T13:43:02.220172Z",
     "iopub.status.idle": "2025-07-30T13:43:02.226320Z",
     "shell.execute_reply": "2025-07-30T13:43:02.225672Z"
    },
    "papermill": {
     "duration": 0.01228,
     "end_time": "2025-07-30T13:43:02.227545",
     "exception": false,
     "start_time": "2025-07-30T13:43:02.215265",
     "status": "completed"
    },
    "tags": []
   },
   "outputs": [],
   "source": [
    "VERSION = 'v2'"
   ]
  },
  {
   "cell_type": "code",
   "execution_count": 2,
   "id": "f2b887d2",
   "metadata": {
    "execution": {
     "iopub.execute_input": "2025-07-30T13:43:02.236521Z",
     "iopub.status.busy": "2025-07-30T13:43:02.236058Z",
     "iopub.status.idle": "2025-07-30T13:44:33.815615Z",
     "shell.execute_reply": "2025-07-30T13:44:33.814631Z"
    },
    "papermill": {
     "duration": 91.585787,
     "end_time": "2025-07-30T13:44:33.817304",
     "exception": false,
     "start_time": "2025-07-30T13:43:02.231517",
     "status": "completed"
    },
    "tags": []
   },
   "outputs": [
    {
     "name": "stdout",
     "output_type": "stream",
     "text": [
      "  Preparing metadata (setup.py) ... \u001b[?25l\u001b[?25hdone\r\n",
      "\u001b[2K   \u001b[90m━━━━━━━━━━━━━━━━━━━━━━━━━━━━━━━━━━━━━━━━\u001b[0m \u001b[32m363.4/363.4 MB\u001b[0m \u001b[31m4.5 MB/s\u001b[0m eta \u001b[36m0:00:00\u001b[0m\r\n",
      "\u001b[2K   \u001b[90m━━━━━━━━━━━━━━━━━━━━━━━━━━━━━━━━━━━━━━━━\u001b[0m \u001b[32m13.8/13.8 MB\u001b[0m \u001b[31m37.4 MB/s\u001b[0m eta \u001b[36m0:00:00\u001b[0m\r\n",
      "\u001b[2K   \u001b[90m━━━━━━━━━━━━━━━━━━━━━━━━━━━━━━━━━━━━━━━━\u001b[0m \u001b[32m24.6/24.6 MB\u001b[0m \u001b[31m44.0 MB/s\u001b[0m eta \u001b[36m0:00:00\u001b[0m\r\n",
      "\u001b[2K   \u001b[90m━━━━━━━━━━━━━━━━━━━━━━━━━━━━━━━━━━━━━━━━\u001b[0m \u001b[32m883.7/883.7 kB\u001b[0m \u001b[31m44.0 MB/s\u001b[0m eta \u001b[36m0:00:00\u001b[0m\r\n",
      "\u001b[2K   \u001b[90m━━━━━━━━━━━━━━━━━━━━━━━━━━━━━━━━━━━━━━━━\u001b[0m \u001b[32m664.8/664.8 MB\u001b[0m \u001b[31m2.6 MB/s\u001b[0m eta \u001b[36m0:00:00\u001b[0m\r\n",
      "\u001b[2K   \u001b[90m━━━━━━━━━━━━━━━━━━━━━━━━━━━━━━━━━━━━━━━━\u001b[0m \u001b[32m211.5/211.5 MB\u001b[0m \u001b[31m7.5 MB/s\u001b[0m eta \u001b[36m0:00:00\u001b[0m\r\n",
      "\u001b[2K   \u001b[90m━━━━━━━━━━━━━━━━━━━━━━━━━━━━━━━━━━━━━━━━\u001b[0m \u001b[32m56.3/56.3 MB\u001b[0m \u001b[31m23.6 MB/s\u001b[0m eta \u001b[36m0:00:00\u001b[0m\r\n",
      "\u001b[2K   \u001b[90m━━━━━━━━━━━━━━━━━━━━━━━━━━━━━━━━━━━━━━━━\u001b[0m \u001b[32m127.9/127.9 MB\u001b[0m \u001b[31m9.3 MB/s\u001b[0m eta \u001b[36m0:00:00\u001b[0m\r\n",
      "\u001b[2K   \u001b[90m━━━━━━━━━━━━━━━━━━━━━━━━━━━━━━━━━━━━━━━━\u001b[0m \u001b[32m207.5/207.5 MB\u001b[0m \u001b[31m2.2 MB/s\u001b[0m eta \u001b[36m0:00:00\u001b[0m\r\n",
      "\u001b[2K   \u001b[90m━━━━━━━━━━━━━━━━━━━━━━━━━━━━━━━━━━━━━━━━\u001b[0m \u001b[32m21.1/21.1 MB\u001b[0m \u001b[31m44.0 MB/s\u001b[0m eta \u001b[36m0:00:00\u001b[0m\r\n",
      "\u001b[2K   \u001b[90m━━━━━━━━━━━━━━━━━━━━━━━━━━━━━━━━━━━━━━━━\u001b[0m \u001b[32m161.7/161.7 kB\u001b[0m \u001b[31m10.2 MB/s\u001b[0m eta \u001b[36m0:00:00\u001b[0m\r\n",
      "\u001b[2K   \u001b[90m━━━━━━━━━━━━━━━━━━━━━━━━━━━━━━━━━━━━━━━━\u001b[0m \u001b[32m3.1/3.1 MB\u001b[0m \u001b[31m73.0 MB/s\u001b[0m eta \u001b[36m0:00:00\u001b[0m\r\n",
      "\u001b[?25h  Building wheel for rouge_score (setup.py) ... \u001b[?25l\u001b[?25hdone\r\n"
     ]
    }
   ],
   "source": [
    "!pip install -q transformers torch peft rouge_score levenshtein"
   ]
  },
  {
   "cell_type": "code",
   "execution_count": 3,
   "id": "c67a2713",
   "metadata": {
    "execution": {
     "iopub.execute_input": "2025-07-30T13:44:33.887802Z",
     "iopub.status.busy": "2025-07-30T13:44:33.887506Z",
     "iopub.status.idle": "2025-07-30T13:44:35.338616Z",
     "shell.execute_reply": "2025-07-30T13:44:35.337806Z"
    },
    "papermill": {
     "duration": 1.487281,
     "end_time": "2025-07-30T13:44:35.340037",
     "exception": false,
     "start_time": "2025-07-30T13:44:33.852756",
     "status": "completed"
    },
    "tags": []
   },
   "outputs": [],
   "source": [
    "import time\n",
    "import pandas as pd\n",
    "import json"
   ]
  },
  {
   "cell_type": "code",
   "execution_count": 4,
   "id": "ebc19df1",
   "metadata": {
    "execution": {
     "iopub.execute_input": "2025-07-30T13:44:35.408618Z",
     "iopub.status.busy": "2025-07-30T13:44:35.408179Z",
     "iopub.status.idle": "2025-07-30T13:44:35.444174Z",
     "shell.execute_reply": "2025-07-30T13:44:35.443514Z"
    },
    "papermill": {
     "duration": 0.071192,
     "end_time": "2025-07-30T13:44:35.445361",
     "exception": false,
     "start_time": "2025-07-30T13:44:35.374169",
     "status": "completed"
    },
    "tags": []
   },
   "outputs": [
    {
     "data": {
      "text/html": [
       "<div>\n",
       "<style scoped>\n",
       "    .dataframe tbody tr th:only-of-type {\n",
       "        vertical-align: middle;\n",
       "    }\n",
       "\n",
       "    .dataframe tbody tr th {\n",
       "        vertical-align: top;\n",
       "    }\n",
       "\n",
       "    .dataframe thead th {\n",
       "        text-align: right;\n",
       "    }\n",
       "</style>\n",
       "<table border=\"1\" class=\"dataframe\">\n",
       "  <thead>\n",
       "    <tr style=\"text-align: right;\">\n",
       "      <th></th>\n",
       "      <th>business_description</th>\n",
       "      <th>domain_name</th>\n",
       "      <th>category</th>\n",
       "    </tr>\n",
       "  </thead>\n",
       "  <tbody>\n",
       "    <tr>\n",
       "      <th>0</th>\n",
       "      <td>A mobile app that helps people find local farm...</td>\n",
       "      <td>freshfinds.app</td>\n",
       "      <td>NaN</td>\n",
       "    </tr>\n",
       "    <tr>\n",
       "      <th>1</th>\n",
       "      <td>An online subscription service for eco-friendl...</td>\n",
       "      <td>greenbundle.com</td>\n",
       "      <td>NaN</td>\n",
       "    </tr>\n",
       "    <tr>\n",
       "      <th>2</th>\n",
       "      <td>A platform that helps small businesses adverti...</td>\n",
       "      <td>smallbusiness.co</td>\n",
       "      <td>NaN</td>\n",
       "    </tr>\n",
       "    <tr>\n",
       "      <th>3</th>\n",
       "      <td>A website that connects pet owners with local ...</td>\n",
       "      <td>petsitter.com</td>\n",
       "      <td>NaN</td>\n",
       "    </tr>\n",
       "    <tr>\n",
       "      <th>4</th>\n",
       "      <td>A blog platform for creative writers to share ...</td>\n",
       "      <td>writeon.com</td>\n",
       "      <td>NaN</td>\n",
       "    </tr>\n",
       "  </tbody>\n",
       "</table>\n",
       "</div>"
      ],
      "text/plain": [
       "                                business_description       domain_name  \\\n",
       "0  A mobile app that helps people find local farm...    freshfinds.app   \n",
       "1  An online subscription service for eco-friendl...   greenbundle.com   \n",
       "2  A platform that helps small businesses adverti...  smallbusiness.co   \n",
       "3  A website that connects pet owners with local ...     petsitter.com   \n",
       "4  A blog platform for creative writers to share ...       writeon.com   \n",
       "\n",
       "  category  \n",
       "0      NaN  \n",
       "1      NaN  \n",
       "2      NaN  \n",
       "3      NaN  \n",
       "4      NaN  "
      ]
     },
     "execution_count": 4,
     "metadata": {},
     "output_type": "execute_result"
    }
   ],
   "source": [
    "# Load in data\n",
    "df = pd.read_csv('/kaggle/input/domain-name-generator/data/domain_names_with_descriptions.csv')\n",
    "df.head()"
   ]
  },
  {
   "cell_type": "code",
   "execution_count": 5,
   "id": "86ed25c2",
   "metadata": {
    "execution": {
     "iopub.execute_input": "2025-07-30T13:44:35.565931Z",
     "iopub.status.busy": "2025-07-30T13:44:35.565339Z",
     "iopub.status.idle": "2025-07-30T13:45:04.503683Z",
     "shell.execute_reply": "2025-07-30T13:45:04.502843Z"
    },
    "papermill": {
     "duration": 29.025277,
     "end_time": "2025-07-30T13:45:04.505088",
     "exception": false,
     "start_time": "2025-07-30T13:44:35.479811",
     "status": "completed"
    },
    "tags": []
   },
   "outputs": [
    {
     "name": "stderr",
     "output_type": "stream",
     "text": [
      "2025-07-30 13:44:51.784819: E external/local_xla/xla/stream_executor/cuda/cuda_fft.cc:477] Unable to register cuFFT factory: Attempting to register factory for plugin cuFFT when one has already been registered\n",
      "WARNING: All log messages before absl::InitializeLog() is called are written to STDERR\n",
      "E0000 00:00:1753883091.964641      19 cuda_dnn.cc:8310] Unable to register cuDNN factory: Attempting to register factory for plugin cuDNN when one has already been registered\n",
      "E0000 00:00:1753883092.015089      19 cuda_blas.cc:1418] Unable to register cuBLAS factory: Attempting to register factory for plugin cuBLAS when one has already been registered\n"
     ]
    }
   ],
   "source": [
    "# Create dataset object for training\n",
    "from datasets import load_dataset, Dataset, DatasetDict\n",
    "from transformers import AutoTokenizer, AutoModelForCausalLM, TrainingArguments, Trainer, DataCollatorForLanguageModeling\n",
    "from peft import get_peft_model, LoraConfig, TaskType\n",
    "import torch\n",
    "from sklearn.model_selection import train_test_split"
   ]
  },
  {
   "cell_type": "code",
   "execution_count": 6,
   "id": "e2b641fc",
   "metadata": {
    "execution": {
     "iopub.execute_input": "2025-07-30T13:45:04.583594Z",
     "iopub.status.busy": "2025-07-30T13:45:04.582976Z",
     "iopub.status.idle": "2025-07-30T13:45:04.618248Z",
     "shell.execute_reply": "2025-07-30T13:45:04.617446Z"
    },
    "papermill": {
     "duration": 0.072857,
     "end_time": "2025-07-30T13:45:04.619611",
     "exception": false,
     "start_time": "2025-07-30T13:45:04.546754",
     "status": "completed"
    },
    "tags": []
   },
   "outputs": [],
   "source": [
    "# Combine into prompt: \"Business: {description} -> Domain: {domain_name}\" for autoregressie model\n",
    "df[\"text\"] = df.apply(lambda row: f\"Business: {row['business_description']} -> Domain: {row['domain_name']}\", axis=1)\n",
    "\n",
    "# Split data set and turn into data set objects\n",
    "train_df, test_df = train_test_split(df, test_size=0.1, random_state=42)\n",
    "train_df.to_csv('train.csv',index=False)\n",
    "test_df.to_csv('test.csv',index=False)\n",
    "\n",
    "# Add a stop tag to the text column\n",
    "#train_df['text'] = train_df['text'] + '<|eot_id|>'\n",
    "#test_df['text'] = test_df['text'] + '<|eot_id|>'\n",
    "\n",
    "train_dataset = Dataset.from_pandas(train_df[[\"text\"]])\n",
    "test_dataset = Dataset.from_pandas(test_df[[\"text\"]])\n",
    "\n",
    "# Create dict of both training and testing for easy access in Trainer\n",
    "datasets = DatasetDict({\"train\": train_dataset, \"test\": test_dataset})"
   ]
  },
  {
   "cell_type": "code",
   "execution_count": 7,
   "id": "86c1e045",
   "metadata": {
    "execution": {
     "iopub.execute_input": "2025-07-30T13:45:04.692769Z",
     "iopub.status.busy": "2025-07-30T13:45:04.692486Z",
     "iopub.status.idle": "2025-07-30T13:45:04.699354Z",
     "shell.execute_reply": "2025-07-30T13:45:04.698699Z"
    },
    "papermill": {
     "duration": 0.046448,
     "end_time": "2025-07-30T13:45:04.700406",
     "exception": false,
     "start_time": "2025-07-30T13:45:04.653958",
     "status": "completed"
    },
    "tags": []
   },
   "outputs": [
    {
     "name": "stdout",
     "output_type": "stream",
     "text": [
      "Business: A subscription box service that delivers healthy snacks and wellness products to your home. -> Domain: wellnessbox.com\n"
     ]
    }
   ],
   "source": [
    "# Explore a piece of dataset as sanity check\n",
    "print(datasets['train'][0]['text'])"
   ]
  },
  {
   "cell_type": "code",
   "execution_count": 8,
   "id": "da05ffcd",
   "metadata": {
    "execution": {
     "iopub.execute_input": "2025-07-30T13:45:04.769732Z",
     "iopub.status.busy": "2025-07-30T13:45:04.769051Z",
     "iopub.status.idle": "2025-07-30T13:45:05.049696Z",
     "shell.execute_reply": "2025-07-30T13:45:05.048612Z"
    },
    "papermill": {
     "duration": 0.317264,
     "end_time": "2025-07-30T13:45:05.051303",
     "exception": false,
     "start_time": "2025-07-30T13:45:04.734039",
     "status": "completed"
    },
    "tags": []
   },
   "outputs": [],
   "source": [
    "from kaggle_secrets import UserSecretsClient\n",
    "user_secrets = UserSecretsClient()\n",
    "hf_token = user_secrets.get_secret(\"HF_TOKEN\")"
   ]
  },
  {
   "cell_type": "code",
   "execution_count": 9,
   "id": "d38881ab",
   "metadata": {
    "execution": {
     "iopub.execute_input": "2025-07-30T13:45:05.124394Z",
     "iopub.status.busy": "2025-07-30T13:45:05.123689Z",
     "iopub.status.idle": "2025-07-30T13:45:09.658544Z",
     "shell.execute_reply": "2025-07-30T13:45:09.657875Z"
    },
    "papermill": {
     "duration": 4.570234,
     "end_time": "2025-07-30T13:45:09.659941",
     "exception": false,
     "start_time": "2025-07-30T13:45:05.089707",
     "status": "completed"
    },
    "tags": []
   },
   "outputs": [
    {
     "name": "stderr",
     "output_type": "stream",
     "text": [
      "/usr/local/lib/python3.11/dist-packages/transformers/models/auto/tokenization_auto.py:902: FutureWarning: The `use_auth_token` argument is deprecated and will be removed in v5 of Transformers. Please use `token` instead.\n",
      "  warnings.warn(\n"
     ]
    },
    {
     "data": {
      "application/vnd.jupyter.widget-view+json": {
       "model_id": "e392ce7d8a234b39bbc274caae012df3",
       "version_major": 2,
       "version_minor": 0
      },
      "text/plain": [
       "tokenizer_config.json:   0%|          | 0.00/54.5k [00:00<?, ?B/s]"
      ]
     },
     "metadata": {},
     "output_type": "display_data"
    },
    {
     "data": {
      "application/vnd.jupyter.widget-view+json": {
       "model_id": "1290e38e64df4289ace69890f79ac45d",
       "version_major": 2,
       "version_minor": 0
      },
      "text/plain": [
       "tokenizer.json:   0%|          | 0.00/9.09M [00:00<?, ?B/s]"
      ]
     },
     "metadata": {},
     "output_type": "display_data"
    },
    {
     "data": {
      "application/vnd.jupyter.widget-view+json": {
       "model_id": "dc87f3155a2842eaab5e5f45afb6408a",
       "version_major": 2,
       "version_minor": 0
      },
      "text/plain": [
       "special_tokens_map.json:   0%|          | 0.00/296 [00:00<?, ?B/s]"
      ]
     },
     "metadata": {},
     "output_type": "display_data"
    }
   ],
   "source": [
    "model_name_or_path = \"/kaggle/input/llama-3.2/transformers/1b-instruct/1\"\n",
    "#tokenizer = AutoTokenizer.from_pretrained(model_name_or_path, trust_remote_code=True)\n",
    "tokenizer = AutoTokenizer.from_pretrained(\n",
    "    \"meta-llama/Llama-3.2-1B-Instruct\", \n",
    "    trust_remote_code=True,\n",
    "    use_auth_token=hf_token)\n",
    "\n",
    "#tokenizer.pad_token = tokenizer.eos_token\n",
    "#tokenizer.add_special_tokens({'pad_token': '[PAD]'})  # Add a safe pad token\n",
    "tokenizer.pad_token = \"<|eot_id|>\"  # if not already set\n",
    "tokenizer.eos_token = \"<|eot_id|>\""
   ]
  },
  {
   "cell_type": "code",
   "execution_count": 10,
   "id": "fad81e8b",
   "metadata": {
    "execution": {
     "iopub.execute_input": "2025-07-30T13:45:09.730916Z",
     "iopub.status.busy": "2025-07-30T13:45:09.730602Z",
     "iopub.status.idle": "2025-07-30T13:45:38.819619Z",
     "shell.execute_reply": "2025-07-30T13:45:38.819003Z"
    },
    "papermill": {
     "duration": 29.125702,
     "end_time": "2025-07-30T13:45:38.820709",
     "exception": false,
     "start_time": "2025-07-30T13:45:09.695007",
     "status": "completed"
    },
    "tags": []
   },
   "outputs": [
    {
     "data": {
      "application/vnd.jupyter.widget-view+json": {
       "model_id": "964570e28543438d8206756d660d3d3b",
       "version_major": 2,
       "version_minor": 0
      },
      "text/plain": [
       "Map:   0%|          | 0/175 [00:00<?, ? examples/s]"
      ]
     },
     "metadata": {},
     "output_type": "display_data"
    },
    {
     "data": {
      "application/vnd.jupyter.widget-view+json": {
       "model_id": "6ec4988dacff4291a786829a338e39ad",
       "version_major": 2,
       "version_minor": 0
      },
      "text/plain": [
       "Map:   0%|          | 0/20 [00:00<?, ? examples/s]"
      ]
     },
     "metadata": {},
     "output_type": "display_data"
    }
   ],
   "source": [
    "# Load base model and tokenize\n",
    "model = AutoModelForCausalLM.from_pretrained(\n",
    "    model_name_or_path,\n",
    "    #torch_dtype=torch.bfloat16,\n",
    "    #torch_dtype=torch.float16,\n",
    "    device_map=\"auto\" # put onto cuda automatically if available\n",
    ")\n",
    "model.resize_token_embeddings(len(tokenizer))         # Resize embedding to include [PAD]\n",
    "model.config.eos_token_id = tokenizer.eos_token_id\n",
    "\n",
    "def tokenize(example):\n",
    "    result = tokenizer(\n",
    "        example[\"text\"], \n",
    "        truncation=True, \n",
    "        padding=True,\n",
    "        #padding=\"max_length\", \n",
    "        max_length=128\n",
    "    )\n",
    "    result['labels'] = result['input_ids'].copy()\n",
    "    return result\n",
    "\n",
    "tokenized_dataset = datasets.map(tokenize, batched=True)"
   ]
  },
  {
   "cell_type": "code",
   "execution_count": 11,
   "id": "6c3bf9de",
   "metadata": {
    "execution": {
     "iopub.execute_input": "2025-07-30T13:45:38.891673Z",
     "iopub.status.busy": "2025-07-30T13:45:38.891365Z",
     "iopub.status.idle": "2025-07-30T13:45:38.895451Z",
     "shell.execute_reply": "2025-07-30T13:45:38.894676Z"
    },
    "papermill": {
     "duration": 0.040529,
     "end_time": "2025-07-30T13:45:38.896511",
     "exception": false,
     "start_time": "2025-07-30T13:45:38.855982",
     "status": "completed"
    },
    "tags": []
   },
   "outputs": [
    {
     "name": "stdout",
     "output_type": "stream",
     "text": [
      "{'bos_token': '<|begin_of_text|>', 'eos_token': '<|eot_id|>', 'pad_token': '<|eot_id|>'}\n"
     ]
    }
   ],
   "source": [
    "# Check one input after tokenizing\n",
    "print(tokenizer.special_tokens_map)"
   ]
  },
  {
   "cell_type": "code",
   "execution_count": 12,
   "id": "84be13e4",
   "metadata": {
    "execution": {
     "iopub.execute_input": "2025-07-30T13:45:38.966495Z",
     "iopub.status.busy": "2025-07-30T13:45:38.966234Z",
     "iopub.status.idle": "2025-07-30T13:45:39.430297Z",
     "shell.execute_reply": "2025-07-30T13:45:39.429734Z"
    },
    "papermill": {
     "duration": 0.500954,
     "end_time": "2025-07-30T13:45:39.431650",
     "exception": false,
     "start_time": "2025-07-30T13:45:38.930696",
     "status": "completed"
    },
    "tags": []
   },
   "outputs": [],
   "source": [
    "# Create LoRA (parameter-efficient fine-tuning) and wrap model in it\n",
    "peft_config = LoraConfig(\n",
    "    r=8,\n",
    "    lora_alpha=32,\n",
    "    target_modules=[\"q_proj\", \"v_proj\"],\n",
    "    lora_dropout=0.05,\n",
    "    bias=\"none\",\n",
    "    task_type=TaskType.CAUSAL_LM\n",
    ")\n",
    "\n",
    "# Commenting out removes peft and does full fine tuning\n",
    "model = get_peft_model(model, peft_config)"
   ]
  },
  {
   "cell_type": "code",
   "execution_count": 13,
   "id": "cd3bcc8d",
   "metadata": {
    "execution": {
     "iopub.execute_input": "2025-07-30T13:45:39.502504Z",
     "iopub.status.busy": "2025-07-30T13:45:39.502241Z",
     "iopub.status.idle": "2025-07-30T13:45:39.506226Z",
     "shell.execute_reply": "2025-07-30T13:45:39.505689Z"
    },
    "papermill": {
     "duration": 0.039987,
     "end_time": "2025-07-30T13:45:39.507315",
     "exception": false,
     "start_time": "2025-07-30T13:45:39.467328",
     "status": "completed"
    },
    "tags": []
   },
   "outputs": [],
   "source": [
    "# Create data collator to patch, dynamically pad, etc.\n",
    "data_collator = DataCollatorForLanguageModeling(\n",
    "    tokenizer, \n",
    "    mlm=False\n",
    ")\n",
    "\n",
    "if tokenizer.pad_token is None:\n",
    "    tokenizer.add_special_tokens({'pad_token': '[PAD]'})\n",
    "    model.resize_token_embeddings(len(tokenizer))"
   ]
  },
  {
   "cell_type": "code",
   "execution_count": 14,
   "id": "1a115829",
   "metadata": {
    "execution": {
     "iopub.execute_input": "2025-07-30T13:45:39.577039Z",
     "iopub.status.busy": "2025-07-30T13:45:39.576767Z",
     "iopub.status.idle": "2025-07-30T13:45:39.620124Z",
     "shell.execute_reply": "2025-07-30T13:45:39.619369Z"
    },
    "papermill": {
     "duration": 0.079811,
     "end_time": "2025-07-30T13:45:39.621362",
     "exception": false,
     "start_time": "2025-07-30T13:45:39.541551",
     "status": "completed"
    },
    "tags": []
   },
   "outputs": [
    {
     "name": "stderr",
     "output_type": "stream",
     "text": [
      "/tmp/ipykernel_19/3942653682.py:18: FutureWarning: `tokenizer` is deprecated and will be removed in version 5.0.0 for `Trainer.__init__`. Use `processing_class` instead.\n",
      "  trainer = Trainer(\n",
      "No label_names provided for model class `PeftModelForCausalLM`. Since `PeftModel` hides base models input arguments, if label_names is not given, label_names can't be set automatically within `Trainer`. Note that empty label_names list will be used instead.\n"
     ]
    }
   ],
   "source": [
    "# Create training arguments, data-collator ()\n",
    "\n",
    "training_args = TrainingArguments(\n",
    "    output_dir=\"./outputs\",\n",
    "    per_device_train_batch_size=4,\n",
    "    gradient_accumulation_steps=4,\n",
    "    num_train_epochs=3,\n",
    "    learning_rate=5e-5,\n",
    "    #fp16=True,\n",
    "    logging_dir=\"./logs\",\n",
    "    logging_steps=10,\n",
    "    save_steps=1000,\n",
    "    save_total_limit=2,\n",
    "    report_to=\"none\",\n",
    "    max_grad_norm=1.0,\n",
    ")\n",
    "\n",
    "trainer = Trainer(\n",
    "    model=model,\n",
    "    args=training_args,\n",
    "    train_dataset=tokenized_dataset[\"train\"],\n",
    "    eval_dataset=tokenized_dataset[\"test\"],\n",
    "    data_collator=data_collator,\n",
    "    tokenizer=tokenizer\n",
    ")"
   ]
  },
  {
   "cell_type": "code",
   "execution_count": 15,
   "id": "3153b392",
   "metadata": {
    "execution": {
     "iopub.execute_input": "2025-07-30T13:45:39.692363Z",
     "iopub.status.busy": "2025-07-30T13:45:39.692087Z",
     "iopub.status.idle": "2025-07-30T13:45:39.698056Z",
     "shell.execute_reply": "2025-07-30T13:45:39.697386Z"
    },
    "papermill": {
     "duration": 0.041862,
     "end_time": "2025-07-30T13:45:39.699181",
     "exception": false,
     "start_time": "2025-07-30T13:45:39.657319",
     "status": "completed"
    },
    "tags": []
   },
   "outputs": [
    {
     "name": "stdout",
     "output_type": "stream",
     "text": [
      "<|begin_of_text|>Business: A subscription box service that delivers healthy snacks and wellness products to your home. -> Domain: wellnessbox.com<|eot_id|><|eot_id|><|eot_id|><|eot_id|><|eot_id|><|eot_id|>\n"
     ]
    }
   ],
   "source": [
    "# Look at a few inputs pre training\n",
    "for i in range(1):\n",
    "    print(tokenizer.decode(tokenized_dataset[\"train\"][i][\"input_ids\"]))"
   ]
  },
  {
   "cell_type": "code",
   "execution_count": 16,
   "id": "36cb20f2",
   "metadata": {
    "execution": {
     "iopub.execute_input": "2025-07-30T13:45:39.769414Z",
     "iopub.status.busy": "2025-07-30T13:45:39.769127Z",
     "iopub.status.idle": "2025-07-30T13:45:58.374329Z",
     "shell.execute_reply": "2025-07-30T13:45:58.373443Z"
    },
    "papermill": {
     "duration": 18.642271,
     "end_time": "2025-07-30T13:45:58.375523",
     "exception": false,
     "start_time": "2025-07-30T13:45:39.733252",
     "status": "completed"
    },
    "tags": []
   },
   "outputs": [
    {
     "data": {
      "text/html": [
       "\n",
       "    <div>\n",
       "      \n",
       "      <progress value='33' max='33' style='width:300px; height:20px; vertical-align: middle;'></progress>\n",
       "      [33/33 00:16, Epoch 3/3]\n",
       "    </div>\n",
       "    <table border=\"1\" class=\"dataframe\">\n",
       "  <thead>\n",
       " <tr style=\"text-align: left;\">\n",
       "      <th>Step</th>\n",
       "      <th>Training Loss</th>\n",
       "    </tr>\n",
       "  </thead>\n",
       "  <tbody>\n",
       "    <tr>\n",
       "      <td>10</td>\n",
       "      <td>3.853100</td>\n",
       "    </tr>\n",
       "    <tr>\n",
       "      <td>20</td>\n",
       "      <td>3.499400</td>\n",
       "    </tr>\n",
       "    <tr>\n",
       "      <td>30</td>\n",
       "      <td>3.248900</td>\n",
       "    </tr>\n",
       "  </tbody>\n",
       "</table><p>"
      ],
      "text/plain": [
       "<IPython.core.display.HTML object>"
      ]
     },
     "metadata": {},
     "output_type": "display_data"
    },
    {
     "data": {
      "text/plain": [
       "('./fine-tuned-llama-domain-generator-v2/tokenizer_config.json',\n",
       " './fine-tuned-llama-domain-generator-v2/special_tokens_map.json',\n",
       " './fine-tuned-llama-domain-generator-v2/chat_template.jinja',\n",
       " './fine-tuned-llama-domain-generator-v2/tokenizer.json')"
      ]
     },
     "execution_count": 16,
     "metadata": {},
     "output_type": "execute_result"
    }
   ],
   "source": [
    "trainer.train()\n",
    "\n",
    "# Save final model\n",
    "trainer.save_model(f\"./fine-tuned-llama-domain-generator-{VERSION}\")\n",
    "tokenizer.save_pretrained(f\"./fine-tuned-llama-domain-generator-{VERSION}\")"
   ]
  },
  {
   "cell_type": "markdown",
   "id": "7016384d",
   "metadata": {
    "papermill": {
     "duration": 0.03416,
     "end_time": "2025-07-30T13:45:58.444672",
     "exception": false,
     "start_time": "2025-07-30T13:45:58.410512",
     "status": "completed"
    },
    "tags": []
   },
   "source": [
    "#### Checks Before Eval"
   ]
  },
  {
   "cell_type": "code",
   "execution_count": 17,
   "id": "beec7f40",
   "metadata": {
    "execution": {
     "iopub.execute_input": "2025-07-30T13:45:58.514277Z",
     "iopub.status.busy": "2025-07-30T13:45:58.513581Z",
     "iopub.status.idle": "2025-07-30T13:45:58.519228Z",
     "shell.execute_reply": "2025-07-30T13:45:58.518663Z"
    },
    "papermill": {
     "duration": 0.041509,
     "end_time": "2025-07-30T13:45:58.520326",
     "exception": false,
     "start_time": "2025-07-30T13:45:58.478817",
     "status": "completed"
    },
    "tags": []
   },
   "outputs": [
    {
     "data": {
      "text/plain": [
       "'A subscription box service for unique, handmade jewelry.'"
      ]
     },
     "execution_count": 17,
     "metadata": {},
     "output_type": "execute_result"
    }
   ],
   "source": [
    "# Generate a sample prompt from the test set\n",
    "sample_prompt = datasets['test'][0]['text'].split(\"-> Domain:\")[0].replace(\"Business:\", \"\").strip()\n",
    "sample_true_domain = datasets['test'][0]['text'].split(\"-> Domain:\")[-1].strip()\n",
    "sample_prompt"
   ]
  },
  {
   "cell_type": "code",
   "execution_count": 18,
   "id": "29d69bfa",
   "metadata": {
    "execution": {
     "iopub.execute_input": "2025-07-30T13:45:58.591371Z",
     "iopub.status.busy": "2025-07-30T13:45:58.591075Z",
     "iopub.status.idle": "2025-07-30T13:45:58.596238Z",
     "shell.execute_reply": "2025-07-30T13:45:58.595468Z"
    },
    "papermill": {
     "duration": 0.042103,
     "end_time": "2025-07-30T13:45:58.597409",
     "exception": false,
     "start_time": "2025-07-30T13:45:58.555306",
     "status": "completed"
    },
    "tags": []
   },
   "outputs": [
    {
     "data": {
      "text/plain": [
       "'Business: A subscription box service for unique, handmade jewelry. -> Domain: handmadebox.com'"
      ]
     },
     "execution_count": 18,
     "metadata": {},
     "output_type": "execute_result"
    }
   ],
   "source": [
    "datasets['test'][0]['text']"
   ]
  },
  {
   "cell_type": "code",
   "execution_count": 19,
   "id": "8e20c888",
   "metadata": {
    "execution": {
     "iopub.execute_input": "2025-07-30T13:45:58.667059Z",
     "iopub.status.busy": "2025-07-30T13:45:58.666821Z",
     "iopub.status.idle": "2025-07-30T13:45:58.695292Z",
     "shell.execute_reply": "2025-07-30T13:45:58.694511Z"
    },
    "papermill": {
     "duration": 0.064176,
     "end_time": "2025-07-30T13:45:58.696299",
     "exception": false,
     "start_time": "2025-07-30T13:45:58.632123",
     "status": "completed"
    },
    "tags": []
   },
   "outputs": [
    {
     "name": "stdout",
     "output_type": "stream",
     "text": [
      "Max token ID: 128000\n",
      "Model vocab size: 128256\n",
      "{'input_ids': tensor([[128000,     32,  15493,   3830,   2532,    369,   5016,     11,  52786,\n",
      "          31817,     13]], device='cuda:0'), 'attention_mask': tensor([[1, 1, 1, 1, 1, 1, 1, 1, 1, 1, 1]], device='cuda:0')}\n"
     ]
    }
   ],
   "source": [
    "# Put into tokenizer\n",
    "inputs = tokenizer(sample_prompt, return_tensors=\"pt\").to(model.device)\n",
    "print(\"Max token ID:\", inputs[\"input_ids\"].max().item())\n",
    "print(\"Model vocab size:\", model.config.vocab_size)\n",
    "print(inputs)"
   ]
  },
  {
   "cell_type": "code",
   "execution_count": 20,
   "id": "df562b33",
   "metadata": {
    "execution": {
     "iopub.execute_input": "2025-07-30T13:45:58.766445Z",
     "iopub.status.busy": "2025-07-30T13:45:58.766188Z",
     "iopub.status.idle": "2025-07-30T13:45:58.770546Z",
     "shell.execute_reply": "2025-07-30T13:45:58.769832Z"
    },
    "papermill": {
     "duration": 0.040649,
     "end_time": "2025-07-30T13:45:58.771552",
     "exception": false,
     "start_time": "2025-07-30T13:45:58.730903",
     "status": "completed"
    },
    "tags": []
   },
   "outputs": [
    {
     "name": "stdout",
     "output_type": "stream",
     "text": [
      "pad_token_id: 128009\n",
      "eos_token_id: 128009\n",
      "vocab size: 128256\n"
     ]
    }
   ],
   "source": [
    "# Check to make sure we're not having token id mis matches\n",
    "print(\"pad_token_id:\", tokenizer.pad_token_id)\n",
    "print(\"eos_token_id:\", tokenizer.eos_token_id)\n",
    "print(\"vocab size:\", model.config.vocab_size)"
   ]
  },
  {
   "cell_type": "code",
   "execution_count": 21,
   "id": "8699cab1",
   "metadata": {
    "execution": {
     "iopub.execute_input": "2025-07-30T13:45:58.841734Z",
     "iopub.status.busy": "2025-07-30T13:45:58.841434Z",
     "iopub.status.idle": "2025-07-30T13:45:58.846142Z",
     "shell.execute_reply": "2025-07-30T13:45:58.845574Z"
    },
    "papermill": {
     "duration": 0.040928,
     "end_time": "2025-07-30T13:45:58.847216",
     "exception": false,
     "start_time": "2025-07-30T13:45:58.806288",
     "status": "completed"
    },
    "tags": []
   },
   "outputs": [
    {
     "data": {
      "text/plain": [
       "'\\nmodel_id = \"/kaggle/input/llama-3.2/transformers/1b-instruct/1\"\\nmodel = AutoModelForCausalLM.from_pretrained(model_id, device_map=\"auto\", torch_dtype=torch.float16)\\ntokenizer = AutoTokenizer.from_pretrained(\\n    \"meta-llama/Llama-3.2-1B-Instruct\", \\n    trust_remote_code=True,\\n    use_auth_token=hf_token)\\n\\nprompt = \"Business: dog walking service -> Domain:\"\\ninputs = tokenizer(sample_prompt, return_tensors=\"pt\")\\ninputs = {k: v.to(model.device) for k, v in inputs.items()}\\n\\nmodel.eval()\\nwith torch.no_grad():\\n    outputs = model.generate(\\n        **inputs,\\n        max_new_tokens=10,\\n        do_sample=False,\\n        pad_token_id=tokenizer.pad_token_id or tokenizer.eos_token_id,\\n        eos_token_id=tokenizer.eos_token_id,\\n    )\\nprint(tokenizer.decode(outputs[0]))\\n'"
      ]
     },
     "execution_count": 21,
     "metadata": {},
     "output_type": "execute_result"
    }
   ],
   "source": [
    "'''\n",
    "model_id = \"/kaggle/input/llama-3.2/transformers/1b-instruct/1\"\n",
    "model = AutoModelForCausalLM.from_pretrained(model_id, device_map=\"auto\", torch_dtype=torch.float16)\n",
    "tokenizer = AutoTokenizer.from_pretrained(\n",
    "    \"meta-llama/Llama-3.2-1B-Instruct\", \n",
    "    trust_remote_code=True,\n",
    "    use_auth_token=hf_token)\n",
    "\n",
    "prompt = \"Business: dog walking service -> Domain:\"\n",
    "inputs = tokenizer(sample_prompt, return_tensors=\"pt\")\n",
    "inputs = {k: v.to(model.device) for k, v in inputs.items()}\n",
    "\n",
    "model.eval()\n",
    "with torch.no_grad():\n",
    "    outputs = model.generate(\n",
    "        **inputs,\n",
    "        max_new_tokens=10,\n",
    "        do_sample=False,\n",
    "        pad_token_id=tokenizer.pad_token_id or tokenizer.eos_token_id,\n",
    "        eos_token_id=tokenizer.eos_token_id,\n",
    "    )\n",
    "print(tokenizer.decode(outputs[0]))\n",
    "'''"
   ]
  },
  {
   "cell_type": "markdown",
   "id": "32fc99a2",
   "metadata": {
    "papermill": {
     "duration": 0.034584,
     "end_time": "2025-07-30T13:45:58.916091",
     "exception": false,
     "start_time": "2025-07-30T13:45:58.881507",
     "status": "completed"
    },
    "tags": []
   },
   "source": [
    "## Evaluating model\n",
    "- We do have some eval metrics above that computes \"language model loss\" which measures model's ability to predict the next token, not necessarily how relevant/quality the output is.\n",
    "- Thus, we implement some scoring\n",
    "    - ROUGE (Recall-Oriented Understudy for Gisting Evaluation) is a set of metrics used to evaluate the quality of machine-generated summaries by comparing them to human-written reference summaries.\n",
    "    - In general, a ROUGE score above 0.5 is often considered good, especially for ROUGE-1, while scores below 0.2 are often considered poor.\n",
    "    - A good BLEU (bilingual evaluation understudy) score is above 0.3...however, this isn't the best use case for BLEU since its primarily used for tranlsation.\n",
    "    - A good levenshtein distance is not a fixed thing, but 0 represents identical strings."
   ]
  },
  {
   "cell_type": "code",
   "execution_count": 22,
   "id": "09d535a9",
   "metadata": {
    "execution": {
     "iopub.execute_input": "2025-07-30T13:45:58.986450Z",
     "iopub.status.busy": "2025-07-30T13:45:58.985848Z",
     "iopub.status.idle": "2025-07-30T13:45:59.495100Z",
     "shell.execute_reply": "2025-07-30T13:45:59.494293Z"
    },
    "papermill": {
     "duration": 0.546211,
     "end_time": "2025-07-30T13:45:59.496530",
     "exception": false,
     "start_time": "2025-07-30T13:45:58.950319",
     "status": "completed"
    },
    "tags": []
   },
   "outputs": [],
   "source": [
    "from rouge_score import rouge_scorer\n",
    "import matplotlib.pyplot as plt\n",
    "from nltk.translate.bleu_score import sentence_bleu, SmoothingFunction\n",
    "import Levenshtein\n",
    "import re"
   ]
  },
  {
   "cell_type": "code",
   "execution_count": 23,
   "id": "9c5ee831",
   "metadata": {
    "execution": {
     "iopub.execute_input": "2025-07-30T13:45:59.568201Z",
     "iopub.status.busy": "2025-07-30T13:45:59.567639Z",
     "iopub.status.idle": "2025-07-30T13:45:59.572044Z",
     "shell.execute_reply": "2025-07-30T13:45:59.571483Z"
    },
    "papermill": {
     "duration": 0.040872,
     "end_time": "2025-07-30T13:45:59.573214",
     "exception": false,
     "start_time": "2025-07-30T13:45:59.532342",
     "status": "completed"
    },
    "tags": []
   },
   "outputs": [],
   "source": [
    "def extract_domain(text: str) -> str:\n",
    "    \"\"\"\n",
    "    Extracts the first domain-like string from the LLM output.\n",
    "    Handles formats like:\n",
    "    - plain: domain.com\n",
    "    - markdown: [domain.com](http://domain.com)\n",
    "    - prefixed: 'Website: domain.com'\n",
    "    - continuation: '-> Tagline: ...'\n",
    "    \"\"\"\n",
    "\n",
    "    # 1. Try to extract markdown-style domain\n",
    "    markdown_match = re.search(r'\\[([a-zA-Z0-9\\.-]+\\.[a-z]{2,})\\]\\(http[^\\)]*\\)', text)\n",
    "    if markdown_match:\n",
    "        return markdown_match.group(1)\n",
    "\n",
    "    # 2. Find domain-like text directly\n",
    "    domain_match = re.search(r'\\b([a-zA-Z0-9-]+\\.[a-z]{2,})\\b', text)\n",
    "    if domain_match:\n",
    "        return domain_match.group(1)\n",
    "\n",
    "    return \"NO_DOMAIN_FOUND\""
   ]
  },
  {
   "cell_type": "code",
   "execution_count": 24,
   "id": "b8adb56d",
   "metadata": {
    "execution": {
     "iopub.execute_input": "2025-07-30T13:45:59.644151Z",
     "iopub.status.busy": "2025-07-30T13:45:59.643589Z",
     "iopub.status.idle": "2025-07-30T13:45:59.648545Z",
     "shell.execute_reply": "2025-07-30T13:45:59.647958Z"
    },
    "papermill": {
     "duration": 0.041152,
     "end_time": "2025-07-30T13:45:59.649515",
     "exception": false,
     "start_time": "2025-07-30T13:45:59.608363",
     "status": "completed"
    },
    "tags": []
   },
   "outputs": [],
   "source": [
    "# Create function to check if domain name is valid domain name\n",
    "VALID_TLDS = ['.com', '.ai', '.io', '.net', '.org', '.co', '.app', '.tech', '.dev']\n",
    "\n",
    "def is_valid_domain(domain: str) -> bool:\n",
    "    domain = domain.strip().lower()\n",
    "\n",
    "    # Basic structure check: must contain a valid TLD\n",
    "    if not any(domain.endswith(tld) for tld in VALID_TLDS):\n",
    "        return False\n",
    "\n",
    "    # No whitespace\n",
    "    if ' ' in domain:\n",
    "        return False\n",
    "\n",
    "    # Length check\n",
    "    if len(domain) > 63 or len(domain) == 0:\n",
    "        return False\n",
    "\n",
    "    # Valid characters (alphanumeric, hyphen, and dot)\n",
    "    pattern = r'^[a-z0-9\\-\\.]+$'\n",
    "    if not re.match(pattern, domain):\n",
    "        return False\n",
    "\n",
    "    # Should not contain multiple dots (e.g., no sentences)\n",
    "    if domain.count('.') > 1:\n",
    "        return False\n",
    "\n",
    "    return True"
   ]
  },
  {
   "cell_type": "code",
   "execution_count": 25,
   "id": "3646c8d8",
   "metadata": {
    "execution": {
     "iopub.execute_input": "2025-07-30T13:45:59.720249Z",
     "iopub.status.busy": "2025-07-30T13:45:59.719576Z",
     "iopub.status.idle": "2025-07-30T13:45:59.723474Z",
     "shell.execute_reply": "2025-07-30T13:45:59.722918Z"
    },
    "papermill": {
     "duration": 0.040376,
     "end_time": "2025-07-30T13:45:59.724497",
     "exception": false,
     "start_time": "2025-07-30T13:45:59.684121",
     "status": "completed"
    },
    "tags": []
   },
   "outputs": [],
   "source": [
    "# get rouge scorer\n",
    "scorer = rouge_scorer.RougeScorer(['rougeL'], use_stemmer=True)\n",
    "scores = []\n",
    "bleu_scores = []\n",
    "levenshtein_distances = []\n",
    "brandability_scores = []\n",
    "predictions = []\n",
    "valid_domains = []"
   ]
  },
  {
   "cell_type": "code",
   "execution_count": 26,
   "id": "cde1c5c8",
   "metadata": {
    "execution": {
     "iopub.execute_input": "2025-07-30T13:45:59.795229Z",
     "iopub.status.busy": "2025-07-30T13:45:59.794953Z",
     "iopub.status.idle": "2025-07-30T13:46:09.528550Z",
     "shell.execute_reply": "2025-07-30T13:46:09.527666Z"
    },
    "papermill": {
     "duration": 9.770844,
     "end_time": "2025-07-30T13:46:09.530152",
     "exception": false,
     "start_time": "2025-07-30T13:45:59.759308",
     "status": "completed"
    },
    "tags": []
   },
   "outputs": [
    {
     "name": "stdout",
     "output_type": "stream",
     "text": [
      "Pct of Predictions that are valid domains = 85.00%\n"
     ]
    }
   ],
   "source": [
    "# Put pytorch model in eval mode\n",
    "model.eval()\n",
    "\n",
    "# Loop over test data\n",
    "for item in test_dataset:\n",
    "    input_text = item[\"text\"]\n",
    "    if \"-> Domain:\" not in input_text:\n",
    "        continue\n",
    "    description = input_text.split(\"-> Domain:\")[0].replace(\"Business:\", \"\").strip()\n",
    "    true_domain = input_text.split(\"-> Domain:\")[-1].strip()\n",
    "\n",
    "    prompt = f\"Business: {description} -> Domain:\"\n",
    "    inputs = tokenizer(prompt, return_tensors=\"pt\").to(model.device)\n",
    "    \n",
    "    with torch.no_grad():\n",
    "        outputs = model.generate(\n",
    "            **inputs, \n",
    "            max_new_tokens=20, \n",
    "            do_sample=True, \n",
    "            top_k=50, \n",
    "            temperature=0.7,\n",
    "            pad_token_id=tokenizer.pad_token_id,\n",
    "            eos_token_id=tokenizer.eos_token_id)\n",
    "    \n",
    "    decoded = tokenizer.decode(outputs[0], skip_special_tokens=True)\n",
    "    output_text = tokenizer.decode(outputs[0], skip_special_tokens=False)\n",
    "    pred_domain = output_text.split(\"-> Domain:\")[-1].split(\"<|\")[0].split(\"\\n\")[0].strip()\n",
    "    pred_domain = extract_domain(pred_domain)\n",
    "    #pred_domain = decoded.split(\"-> Domain:\")[-1].strip()\n",
    "\n",
    "    # Safety filter\n",
    "    banned_keywords = [\"sex\", \"kill\", \"drugs\", \"hate\", \"murder\",\n",
    "                        \"adult-content\", 'adult content', \"explicit\", \n",
    "                        \"porn\", \"xxx\", \"nude\", \"erotic\", \"pornography\"\n",
    "                        \"gambling\", \"casino\", \"hate\", \"violence\"]\n",
    "    if any(bad in pred_domain.lower() for bad in banned_keywords):\n",
    "        pred_domain = \"[REDACTED: Unsafe Output]\"\n",
    "\n",
    "    # Check if valid domain       \n",
    "    valid_domain = is_valid_domain(pred_domain)\n",
    "    valid_domains.append(valid_domain)\n",
    "    \n",
    "    # ROUGE\n",
    "    rouge_score = scorer.score(true_domain, pred_domain)[\"rougeL\"].fmeasure\n",
    "    scores.append(rouge_score)\n",
    "\n",
    "    # BLEU\n",
    "    bleu = sentence_bleu([true_domain.split(\".\")], pred_domain.split(\".\"), smoothing_function=SmoothingFunction().method1)\n",
    "    bleu_scores.append(bleu)\n",
    "\n",
    "    # Levenshtein\n",
    "    lev_distance = Levenshtein.distance(true_domain, pred_domain)\n",
    "    levenshtein_distances.append(lev_distance)\n",
    "\n",
    "    # Brandability heuristic: short, no numbers/symbols, vowel-consonant balance\n",
    "    def brandability(domain):\n",
    "        score = 1.0\n",
    "        if len(domain) > 15: score -= 0.3\n",
    "        if any(char.isdigit() or not char.isalnum() for char in domain): score -= 0.3\n",
    "        vowels = sum(1 for c in domain if c in \"aeiou\")\n",
    "        consonants = sum(1 for c in domain if c.isalpha() and c not in \"aeiou\")\n",
    "        ratio = vowels / (consonants + 1)\n",
    "        if ratio < 0.2 or ratio > 0.8: score -= 0.2\n",
    "        return max(0, round(score, 2))\n",
    "\n",
    "    brandability_score = brandability(pred_domain)\n",
    "    brandability_scores.append(brandability_score)\n",
    "\n",
    "    predictions.append({\n",
    "        \"description\": description,\n",
    "        \"true\": true_domain,\n",
    "        \"pred\": pred_domain,\n",
    "        \"rougeL\": rouge_score,\n",
    "        \"bleu\": bleu,\n",
    "        \"levenshtein\": lev_distance,\n",
    "        \"brandability\": brandability_score,\n",
    "        \"is_valid_domain\": valid_domain,\n",
    "    })\n",
    "\n",
    "# Save predictions\n",
    "results_df = pd.DataFrame(predictions)\n",
    "results_df.to_csv(f\"predictions_eval-{VERSION}.csv\", index=False)\n",
    "\n",
    "# Report average scores\n",
    "print_string = f\"Pct of Predictions that are valid domains = {results_df['is_valid_domain'].mean():.2%}\"\n",
    "print(print_string)"
   ]
  }
 ],
 "metadata": {
  "kaggle": {
   "accelerator": "none",
   "dataSources": [
    {
     "datasetId": 7943647,
     "sourceId": 12594591,
     "sourceType": "datasetVersion"
    },
    {
     "modelId": 121027,
     "modelInstanceId": 100933,
     "sourceId": 120002,
     "sourceType": "modelInstanceVersion"
    }
   ],
   "dockerImageVersionId": 31089,
   "isGpuEnabled": false,
   "isInternetEnabled": true,
   "language": "python",
   "sourceType": "notebook"
  },
  "kernelspec": {
   "display_name": "Python 3",
   "language": "python",
   "name": "python3"
  },
  "language_info": {
   "codemirror_mode": {
    "name": "ipython",
    "version": 3
   },
   "file_extension": ".py",
   "mimetype": "text/x-python",
   "name": "python",
   "nbconvert_exporter": "python",
   "pygments_lexer": "ipython3",
   "version": "3.11.13"
  },
  "papermill": {
   "default_parameters": {},
   "duration": 195.280254,
   "end_time": "2025-07-30T13:46:13.364469",
   "environment_variables": {},
   "exception": null,
   "input_path": "__notebook__.ipynb",
   "output_path": "__notebook__.ipynb",
   "parameters": {},
   "start_time": "2025-07-30T13:42:58.084215",
   "version": "2.6.0"
  },
  "widgets": {
   "application/vnd.jupyter.widget-state+json": {
    "state": {
     "01c074b2c33f4456a0fb182e40c9dd0e": {
      "model_module": "@jupyter-widgets/controls",
      "model_module_version": "2.0.0",
      "model_name": "ProgressStyleModel",
      "state": {
       "_model_module": "@jupyter-widgets/controls",
       "_model_module_version": "2.0.0",
       "_model_name": "ProgressStyleModel",
       "_view_count": null,
       "_view_module": "@jupyter-widgets/base",
       "_view_module_version": "2.0.0",
       "_view_name": "StyleView",
       "bar_color": null,
       "description_width": ""
      }
     },
     "07261c728a2e447994d2f90daf764248": {
      "model_module": "@jupyter-widgets/controls",
      "model_module_version": "2.0.0",
      "model_name": "HTMLModel",
      "state": {
       "_dom_classes": [],
       "_model_module": "@jupyter-widgets/controls",
       "_model_module_version": "2.0.0",
       "_model_name": "HTMLModel",
       "_view_count": null,
       "_view_module": "@jupyter-widgets/controls",
       "_view_module_version": "2.0.0",
       "_view_name": "HTMLView",
       "description": "",
       "description_allow_html": false,
       "layout": "IPY_MODEL_b0df62054a6544839f61fa5e629c7083",
       "placeholder": "​",
       "style": "IPY_MODEL_9e4e59d9644a48d99ad4158bb0bdf576",
       "tabbable": null,
       "tooltip": null,
       "value": " 296/296 [00:00&lt;00:00, 36.6kB/s]"
      }
     },
     "0dd8591fec62484cbd6c9d4ee2ed4cef": {
      "model_module": "@jupyter-widgets/controls",
      "model_module_version": "2.0.0",
      "model_name": "HTMLModel",
      "state": {
       "_dom_classes": [],
       "_model_module": "@jupyter-widgets/controls",
       "_model_module_version": "2.0.0",
       "_model_name": "HTMLModel",
       "_view_count": null,
       "_view_module": "@jupyter-widgets/controls",
       "_view_module_version": "2.0.0",
       "_view_name": "HTMLView",
       "description": "",
       "description_allow_html": false,
       "layout": "IPY_MODEL_c6688c4a2aee4374a8d6bb39e2ac91ed",
       "placeholder": "​",
       "style": "IPY_MODEL_bab9c291e9f84d7dbb201c1d35ac134b",
       "tabbable": null,
       "tooltip": null,
       "value": "tokenizer.json: 100%"
      }
     },
     "1290e38e64df4289ace69890f79ac45d": {
      "model_module": "@jupyter-widgets/controls",
      "model_module_version": "2.0.0",
      "model_name": "HBoxModel",
      "state": {
       "_dom_classes": [],
       "_model_module": "@jupyter-widgets/controls",
       "_model_module_version": "2.0.0",
       "_model_name": "HBoxModel",
       "_view_count": null,
       "_view_module": "@jupyter-widgets/controls",
       "_view_module_version": "2.0.0",
       "_view_name": "HBoxView",
       "box_style": "",
       "children": [
        "IPY_MODEL_0dd8591fec62484cbd6c9d4ee2ed4cef",
        "IPY_MODEL_e50861116e5f4d6eaf2b9745d27f66b2",
        "IPY_MODEL_97090863685c4b2c8b2e76c0dd1a3ba6"
       ],
       "layout": "IPY_MODEL_36d276defa2a4ab7b7076c28c3b1f8e7",
       "tabbable": null,
       "tooltip": null
      }
     },
     "14bd227c95c249b49e6397369fef3909": {
      "model_module": "@jupyter-widgets/controls",
      "model_module_version": "2.0.0",
      "model_name": "HTMLStyleModel",
      "state": {
       "_model_module": "@jupyter-widgets/controls",
       "_model_module_version": "2.0.0",
       "_model_name": "HTMLStyleModel",
       "_view_count": null,
       "_view_module": "@jupyter-widgets/base",
       "_view_module_version": "2.0.0",
       "_view_name": "StyleView",
       "background": null,
       "description_width": "",
       "font_size": null,
       "text_color": null
      }
     },
     "15fd06fd2570449683921da753b6127c": {
      "model_module": "@jupyter-widgets/controls",
      "model_module_version": "2.0.0",
      "model_name": "HTMLStyleModel",
      "state": {
       "_model_module": "@jupyter-widgets/controls",
       "_model_module_version": "2.0.0",
       "_model_name": "HTMLStyleModel",
       "_view_count": null,
       "_view_module": "@jupyter-widgets/base",
       "_view_module_version": "2.0.0",
       "_view_name": "StyleView",
       "background": null,
       "description_width": "",
       "font_size": null,
       "text_color": null
      }
     },
     "2715e770bfb4422280f9b68e7459c6f3": {
      "model_module": "@jupyter-widgets/controls",
      "model_module_version": "2.0.0",
      "model_name": "FloatProgressModel",
      "state": {
       "_dom_classes": [],
       "_model_module": "@jupyter-widgets/controls",
       "_model_module_version": "2.0.0",
       "_model_name": "FloatProgressModel",
       "_view_count": null,
       "_view_module": "@jupyter-widgets/controls",
       "_view_module_version": "2.0.0",
       "_view_name": "ProgressView",
       "bar_style": "success",
       "description": "",
       "description_allow_html": false,
       "layout": "IPY_MODEL_7fce660a8cbd4f819cb23324c6e5a36e",
       "max": 296.0,
       "min": 0.0,
       "orientation": "horizontal",
       "style": "IPY_MODEL_b10aac10386a458d8c636bdada2682cc",
       "tabbable": null,
       "tooltip": null,
       "value": 296.0
      }
     },
     "27761c513b0141f8bbdcc44605229713": {
      "model_module": "@jupyter-widgets/base",
      "model_module_version": "2.0.0",
      "model_name": "LayoutModel",
      "state": {
       "_model_module": "@jupyter-widgets/base",
       "_model_module_version": "2.0.0",
       "_model_name": "LayoutModel",
       "_view_count": null,
       "_view_module": "@jupyter-widgets/base",
       "_view_module_version": "2.0.0",
       "_view_name": "LayoutView",
       "align_content": null,
       "align_items": null,
       "align_self": null,
       "border_bottom": null,
       "border_left": null,
       "border_right": null,
       "border_top": null,
       "bottom": null,
       "display": null,
       "flex": null,
       "flex_flow": null,
       "grid_area": null,
       "grid_auto_columns": null,
       "grid_auto_flow": null,
       "grid_auto_rows": null,
       "grid_column": null,
       "grid_gap": null,
       "grid_row": null,
       "grid_template_areas": null,
       "grid_template_columns": null,
       "grid_template_rows": null,
       "height": null,
       "justify_content": null,
       "justify_items": null,
       "left": null,
       "margin": null,
       "max_height": null,
       "max_width": null,
       "min_height": null,
       "min_width": null,
       "object_fit": null,
       "object_position": null,
       "order": null,
       "overflow": null,
       "padding": null,
       "right": null,
       "top": null,
       "visibility": null,
       "width": null
      }
     },
     "2be23cd1aa9d40309151e83c119e4850": {
      "model_module": "@jupyter-widgets/controls",
      "model_module_version": "2.0.0",
      "model_name": "HTMLModel",
      "state": {
       "_dom_classes": [],
       "_model_module": "@jupyter-widgets/controls",
       "_model_module_version": "2.0.0",
       "_model_name": "HTMLModel",
       "_view_count": null,
       "_view_module": "@jupyter-widgets/controls",
       "_view_module_version": "2.0.0",
       "_view_name": "HTMLView",
       "description": "",
       "description_allow_html": false,
       "layout": "IPY_MODEL_87341b7aacec4b28a406cfccc3589e65",
       "placeholder": "​",
       "style": "IPY_MODEL_3fbd4807dfdd498993ca53eaf9df0768",
       "tabbable": null,
       "tooltip": null,
       "value": " 175/175 [00:00&lt;00:00, 4412.08 examples/s]"
      }
     },
     "2d496dd1b35c48cea1d81fa663ce32c6": {
      "model_module": "@jupyter-widgets/base",
      "model_module_version": "2.0.0",
      "model_name": "LayoutModel",
      "state": {
       "_model_module": "@jupyter-widgets/base",
       "_model_module_version": "2.0.0",
       "_model_name": "LayoutModel",
       "_view_count": null,
       "_view_module": "@jupyter-widgets/base",
       "_view_module_version": "2.0.0",
       "_view_name": "LayoutView",
       "align_content": null,
       "align_items": null,
       "align_self": null,
       "border_bottom": null,
       "border_left": null,
       "border_right": null,
       "border_top": null,
       "bottom": null,
       "display": null,
       "flex": null,
       "flex_flow": null,
       "grid_area": null,
       "grid_auto_columns": null,
       "grid_auto_flow": null,
       "grid_auto_rows": null,
       "grid_column": null,
       "grid_gap": null,
       "grid_row": null,
       "grid_template_areas": null,
       "grid_template_columns": null,
       "grid_template_rows": null,
       "height": null,
       "justify_content": null,
       "justify_items": null,
       "left": null,
       "margin": null,
       "max_height": null,
       "max_width": null,
       "min_height": null,
       "min_width": null,
       "object_fit": null,
       "object_position": null,
       "order": null,
       "overflow": null,
       "padding": null,
       "right": null,
       "top": null,
       "visibility": null,
       "width": null
      }
     },
     "2f9f7ba628aa4d82965395d52fdd3cc7": {
      "model_module": "@jupyter-widgets/controls",
      "model_module_version": "2.0.0",
      "model_name": "FloatProgressModel",
      "state": {
       "_dom_classes": [],
       "_model_module": "@jupyter-widgets/controls",
       "_model_module_version": "2.0.0",
       "_model_name": "FloatProgressModel",
       "_view_count": null,
       "_view_module": "@jupyter-widgets/controls",
       "_view_module_version": "2.0.0",
       "_view_name": "ProgressView",
       "bar_style": "success",
       "description": "",
       "description_allow_html": false,
       "layout": "IPY_MODEL_42752511a1d242ee9916e7bf676d6a14",
       "max": 175.0,
       "min": 0.0,
       "orientation": "horizontal",
       "style": "IPY_MODEL_492bacf0aef0450cb1bccb529c5bbed3",
       "tabbable": null,
       "tooltip": null,
       "value": 175.0
      }
     },
     "34c6912220854787a397e17f5a3ed278": {
      "model_module": "@jupyter-widgets/base",
      "model_module_version": "2.0.0",
      "model_name": "LayoutModel",
      "state": {
       "_model_module": "@jupyter-widgets/base",
       "_model_module_version": "2.0.0",
       "_model_name": "LayoutModel",
       "_view_count": null,
       "_view_module": "@jupyter-widgets/base",
       "_view_module_version": "2.0.0",
       "_view_name": "LayoutView",
       "align_content": null,
       "align_items": null,
       "align_self": null,
       "border_bottom": null,
       "border_left": null,
       "border_right": null,
       "border_top": null,
       "bottom": null,
       "display": null,
       "flex": null,
       "flex_flow": null,
       "grid_area": null,
       "grid_auto_columns": null,
       "grid_auto_flow": null,
       "grid_auto_rows": null,
       "grid_column": null,
       "grid_gap": null,
       "grid_row": null,
       "grid_template_areas": null,
       "grid_template_columns": null,
       "grid_template_rows": null,
       "height": null,
       "justify_content": null,
       "justify_items": null,
       "left": null,
       "margin": null,
       "max_height": null,
       "max_width": null,
       "min_height": null,
       "min_width": null,
       "object_fit": null,
       "object_position": null,
       "order": null,
       "overflow": null,
       "padding": null,
       "right": null,
       "top": null,
       "visibility": null,
       "width": null
      }
     },
     "35ece139937142b9b9c3e13f129f5171": {
      "model_module": "@jupyter-widgets/controls",
      "model_module_version": "2.0.0",
      "model_name": "ProgressStyleModel",
      "state": {
       "_model_module": "@jupyter-widgets/controls",
       "_model_module_version": "2.0.0",
       "_model_name": "ProgressStyleModel",
       "_view_count": null,
       "_view_module": "@jupyter-widgets/base",
       "_view_module_version": "2.0.0",
       "_view_name": "StyleView",
       "bar_color": null,
       "description_width": ""
      }
     },
     "3621e28e75db40c2ae1c2729e0d04ba0": {
      "model_module": "@jupyter-widgets/controls",
      "model_module_version": "2.0.0",
      "model_name": "HTMLModel",
      "state": {
       "_dom_classes": [],
       "_model_module": "@jupyter-widgets/controls",
       "_model_module_version": "2.0.0",
       "_model_name": "HTMLModel",
       "_view_count": null,
       "_view_module": "@jupyter-widgets/controls",
       "_view_module_version": "2.0.0",
       "_view_name": "HTMLView",
       "description": "",
       "description_allow_html": false,
       "layout": "IPY_MODEL_a61783d8e24c422998887aac01c0fb02",
       "placeholder": "​",
       "style": "IPY_MODEL_5000196a5e3b4618a3720ca7916f0b00",
       "tabbable": null,
       "tooltip": null,
       "value": "special_tokens_map.json: 100%"
      }
     },
     "36d276defa2a4ab7b7076c28c3b1f8e7": {
      "model_module": "@jupyter-widgets/base",
      "model_module_version": "2.0.0",
      "model_name": "LayoutModel",
      "state": {
       "_model_module": "@jupyter-widgets/base",
       "_model_module_version": "2.0.0",
       "_model_name": "LayoutModel",
       "_view_count": null,
       "_view_module": "@jupyter-widgets/base",
       "_view_module_version": "2.0.0",
       "_view_name": "LayoutView",
       "align_content": null,
       "align_items": null,
       "align_self": null,
       "border_bottom": null,
       "border_left": null,
       "border_right": null,
       "border_top": null,
       "bottom": null,
       "display": null,
       "flex": null,
       "flex_flow": null,
       "grid_area": null,
       "grid_auto_columns": null,
       "grid_auto_flow": null,
       "grid_auto_rows": null,
       "grid_column": null,
       "grid_gap": null,
       "grid_row": null,
       "grid_template_areas": null,
       "grid_template_columns": null,
       "grid_template_rows": null,
       "height": null,
       "justify_content": null,
       "justify_items": null,
       "left": null,
       "margin": null,
       "max_height": null,
       "max_width": null,
       "min_height": null,
       "min_width": null,
       "object_fit": null,
       "object_position": null,
       "order": null,
       "overflow": null,
       "padding": null,
       "right": null,
       "top": null,
       "visibility": null,
       "width": null
      }
     },
     "3d2ea642e343461697db6d0f44c2ee34": {
      "model_module": "@jupyter-widgets/base",
      "model_module_version": "2.0.0",
      "model_name": "LayoutModel",
      "state": {
       "_model_module": "@jupyter-widgets/base",
       "_model_module_version": "2.0.0",
       "_model_name": "LayoutModel",
       "_view_count": null,
       "_view_module": "@jupyter-widgets/base",
       "_view_module_version": "2.0.0",
       "_view_name": "LayoutView",
       "align_content": null,
       "align_items": null,
       "align_self": null,
       "border_bottom": null,
       "border_left": null,
       "border_right": null,
       "border_top": null,
       "bottom": null,
       "display": null,
       "flex": null,
       "flex_flow": null,
       "grid_area": null,
       "grid_auto_columns": null,
       "grid_auto_flow": null,
       "grid_auto_rows": null,
       "grid_column": null,
       "grid_gap": null,
       "grid_row": null,
       "grid_template_areas": null,
       "grid_template_columns": null,
       "grid_template_rows": null,
       "height": null,
       "justify_content": null,
       "justify_items": null,
       "left": null,
       "margin": null,
       "max_height": null,
       "max_width": null,
       "min_height": null,
       "min_width": null,
       "object_fit": null,
       "object_position": null,
       "order": null,
       "overflow": null,
       "padding": null,
       "right": null,
       "top": null,
       "visibility": null,
       "width": null
      }
     },
     "3fbd4807dfdd498993ca53eaf9df0768": {
      "model_module": "@jupyter-widgets/controls",
      "model_module_version": "2.0.0",
      "model_name": "HTMLStyleModel",
      "state": {
       "_model_module": "@jupyter-widgets/controls",
       "_model_module_version": "2.0.0",
       "_model_name": "HTMLStyleModel",
       "_view_count": null,
       "_view_module": "@jupyter-widgets/base",
       "_view_module_version": "2.0.0",
       "_view_name": "StyleView",
       "background": null,
       "description_width": "",
       "font_size": null,
       "text_color": null
      }
     },
     "40103a05cdbe4068958b94dd4b1a2cc1": {
      "model_module": "@jupyter-widgets/controls",
      "model_module_version": "2.0.0",
      "model_name": "HTMLModel",
      "state": {
       "_dom_classes": [],
       "_model_module": "@jupyter-widgets/controls",
       "_model_module_version": "2.0.0",
       "_model_name": "HTMLModel",
       "_view_count": null,
       "_view_module": "@jupyter-widgets/controls",
       "_view_module_version": "2.0.0",
       "_view_name": "HTMLView",
       "description": "",
       "description_allow_html": false,
       "layout": "IPY_MODEL_ab4153d00bd04820b544525822786a06",
       "placeholder": "​",
       "style": "IPY_MODEL_915d19e4afad49d7a53b5fc9c63aac2d",
       "tabbable": null,
       "tooltip": null,
       "value": " 20/20 [00:00&lt;00:00, 1363.80 examples/s]"
      }
     },
     "42752511a1d242ee9916e7bf676d6a14": {
      "model_module": "@jupyter-widgets/base",
      "model_module_version": "2.0.0",
      "model_name": "LayoutModel",
      "state": {
       "_model_module": "@jupyter-widgets/base",
       "_model_module_version": "2.0.0",
       "_model_name": "LayoutModel",
       "_view_count": null,
       "_view_module": "@jupyter-widgets/base",
       "_view_module_version": "2.0.0",
       "_view_name": "LayoutView",
       "align_content": null,
       "align_items": null,
       "align_self": null,
       "border_bottom": null,
       "border_left": null,
       "border_right": null,
       "border_top": null,
       "bottom": null,
       "display": null,
       "flex": null,
       "flex_flow": null,
       "grid_area": null,
       "grid_auto_columns": null,
       "grid_auto_flow": null,
       "grid_auto_rows": null,
       "grid_column": null,
       "grid_gap": null,
       "grid_row": null,
       "grid_template_areas": null,
       "grid_template_columns": null,
       "grid_template_rows": null,
       "height": null,
       "justify_content": null,
       "justify_items": null,
       "left": null,
       "margin": null,
       "max_height": null,
       "max_width": null,
       "min_height": null,
       "min_width": null,
       "object_fit": null,
       "object_position": null,
       "order": null,
       "overflow": null,
       "padding": null,
       "right": null,
       "top": null,
       "visibility": null,
       "width": null
      }
     },
     "492bacf0aef0450cb1bccb529c5bbed3": {
      "model_module": "@jupyter-widgets/controls",
      "model_module_version": "2.0.0",
      "model_name": "ProgressStyleModel",
      "state": {
       "_model_module": "@jupyter-widgets/controls",
       "_model_module_version": "2.0.0",
       "_model_name": "ProgressStyleModel",
       "_view_count": null,
       "_view_module": "@jupyter-widgets/base",
       "_view_module_version": "2.0.0",
       "_view_name": "StyleView",
       "bar_color": null,
       "description_width": ""
      }
     },
     "496cddb85cf3443f8013562bac353a4d": {
      "model_module": "@jupyter-widgets/base",
      "model_module_version": "2.0.0",
      "model_name": "LayoutModel",
      "state": {
       "_model_module": "@jupyter-widgets/base",
       "_model_module_version": "2.0.0",
       "_model_name": "LayoutModel",
       "_view_count": null,
       "_view_module": "@jupyter-widgets/base",
       "_view_module_version": "2.0.0",
       "_view_name": "LayoutView",
       "align_content": null,
       "align_items": null,
       "align_self": null,
       "border_bottom": null,
       "border_left": null,
       "border_right": null,
       "border_top": null,
       "bottom": null,
       "display": null,
       "flex": null,
       "flex_flow": null,
       "grid_area": null,
       "grid_auto_columns": null,
       "grid_auto_flow": null,
       "grid_auto_rows": null,
       "grid_column": null,
       "grid_gap": null,
       "grid_row": null,
       "grid_template_areas": null,
       "grid_template_columns": null,
       "grid_template_rows": null,
       "height": null,
       "justify_content": null,
       "justify_items": null,
       "left": null,
       "margin": null,
       "max_height": null,
       "max_width": null,
       "min_height": null,
       "min_width": null,
       "object_fit": null,
       "object_position": null,
       "order": null,
       "overflow": null,
       "padding": null,
       "right": null,
       "top": null,
       "visibility": null,
       "width": null
      }
     },
     "4e6105bcbbdc4b0192bafd8255554f9f": {
      "model_module": "@jupyter-widgets/base",
      "model_module_version": "2.0.0",
      "model_name": "LayoutModel",
      "state": {
       "_model_module": "@jupyter-widgets/base",
       "_model_module_version": "2.0.0",
       "_model_name": "LayoutModel",
       "_view_count": null,
       "_view_module": "@jupyter-widgets/base",
       "_view_module_version": "2.0.0",
       "_view_name": "LayoutView",
       "align_content": null,
       "align_items": null,
       "align_self": null,
       "border_bottom": null,
       "border_left": null,
       "border_right": null,
       "border_top": null,
       "bottom": null,
       "display": null,
       "flex": null,
       "flex_flow": null,
       "grid_area": null,
       "grid_auto_columns": null,
       "grid_auto_flow": null,
       "grid_auto_rows": null,
       "grid_column": null,
       "grid_gap": null,
       "grid_row": null,
       "grid_template_areas": null,
       "grid_template_columns": null,
       "grid_template_rows": null,
       "height": null,
       "justify_content": null,
       "justify_items": null,
       "left": null,
       "margin": null,
       "max_height": null,
       "max_width": null,
       "min_height": null,
       "min_width": null,
       "object_fit": null,
       "object_position": null,
       "order": null,
       "overflow": null,
       "padding": null,
       "right": null,
       "top": null,
       "visibility": null,
       "width": null
      }
     },
     "5000196a5e3b4618a3720ca7916f0b00": {
      "model_module": "@jupyter-widgets/controls",
      "model_module_version": "2.0.0",
      "model_name": "HTMLStyleModel",
      "state": {
       "_model_module": "@jupyter-widgets/controls",
       "_model_module_version": "2.0.0",
       "_model_name": "HTMLStyleModel",
       "_view_count": null,
       "_view_module": "@jupyter-widgets/base",
       "_view_module_version": "2.0.0",
       "_view_name": "StyleView",
       "background": null,
       "description_width": "",
       "font_size": null,
       "text_color": null
      }
     },
     "6ec4988dacff4291a786829a338e39ad": {
      "model_module": "@jupyter-widgets/controls",
      "model_module_version": "2.0.0",
      "model_name": "HBoxModel",
      "state": {
       "_dom_classes": [],
       "_model_module": "@jupyter-widgets/controls",
       "_model_module_version": "2.0.0",
       "_model_name": "HBoxModel",
       "_view_count": null,
       "_view_module": "@jupyter-widgets/controls",
       "_view_module_version": "2.0.0",
       "_view_name": "HBoxView",
       "box_style": "",
       "children": [
        "IPY_MODEL_abb86176533b45a186f797154c3009d2",
        "IPY_MODEL_8e1ef9b2df074b12aa7c4d0a696cf90c",
        "IPY_MODEL_40103a05cdbe4068958b94dd4b1a2cc1"
       ],
       "layout": "IPY_MODEL_94ccd389f6bf4c948d41dbd1a49f5452",
       "tabbable": null,
       "tooltip": null
      }
     },
     "78d4d3cf34c9472cb3cebc4247b3c0c1": {
      "model_module": "@jupyter-widgets/base",
      "model_module_version": "2.0.0",
      "model_name": "LayoutModel",
      "state": {
       "_model_module": "@jupyter-widgets/base",
       "_model_module_version": "2.0.0",
       "_model_name": "LayoutModel",
       "_view_count": null,
       "_view_module": "@jupyter-widgets/base",
       "_view_module_version": "2.0.0",
       "_view_name": "LayoutView",
       "align_content": null,
       "align_items": null,
       "align_self": null,
       "border_bottom": null,
       "border_left": null,
       "border_right": null,
       "border_top": null,
       "bottom": null,
       "display": null,
       "flex": null,
       "flex_flow": null,
       "grid_area": null,
       "grid_auto_columns": null,
       "grid_auto_flow": null,
       "grid_auto_rows": null,
       "grid_column": null,
       "grid_gap": null,
       "grid_row": null,
       "grid_template_areas": null,
       "grid_template_columns": null,
       "grid_template_rows": null,
       "height": null,
       "justify_content": null,
       "justify_items": null,
       "left": null,
       "margin": null,
       "max_height": null,
       "max_width": null,
       "min_height": null,
       "min_width": null,
       "object_fit": null,
       "object_position": null,
       "order": null,
       "overflow": null,
       "padding": null,
       "right": null,
       "top": null,
       "visibility": null,
       "width": null
      }
     },
     "7fce660a8cbd4f819cb23324c6e5a36e": {
      "model_module": "@jupyter-widgets/base",
      "model_module_version": "2.0.0",
      "model_name": "LayoutModel",
      "state": {
       "_model_module": "@jupyter-widgets/base",
       "_model_module_version": "2.0.0",
       "_model_name": "LayoutModel",
       "_view_count": null,
       "_view_module": "@jupyter-widgets/base",
       "_view_module_version": "2.0.0",
       "_view_name": "LayoutView",
       "align_content": null,
       "align_items": null,
       "align_self": null,
       "border_bottom": null,
       "border_left": null,
       "border_right": null,
       "border_top": null,
       "bottom": null,
       "display": null,
       "flex": null,
       "flex_flow": null,
       "grid_area": null,
       "grid_auto_columns": null,
       "grid_auto_flow": null,
       "grid_auto_rows": null,
       "grid_column": null,
       "grid_gap": null,
       "grid_row": null,
       "grid_template_areas": null,
       "grid_template_columns": null,
       "grid_template_rows": null,
       "height": null,
       "justify_content": null,
       "justify_items": null,
       "left": null,
       "margin": null,
       "max_height": null,
       "max_width": null,
       "min_height": null,
       "min_width": null,
       "object_fit": null,
       "object_position": null,
       "order": null,
       "overflow": null,
       "padding": null,
       "right": null,
       "top": null,
       "visibility": null,
       "width": null
      }
     },
     "87341b7aacec4b28a406cfccc3589e65": {
      "model_module": "@jupyter-widgets/base",
      "model_module_version": "2.0.0",
      "model_name": "LayoutModel",
      "state": {
       "_model_module": "@jupyter-widgets/base",
       "_model_module_version": "2.0.0",
       "_model_name": "LayoutModel",
       "_view_count": null,
       "_view_module": "@jupyter-widgets/base",
       "_view_module_version": "2.0.0",
       "_view_name": "LayoutView",
       "align_content": null,
       "align_items": null,
       "align_self": null,
       "border_bottom": null,
       "border_left": null,
       "border_right": null,
       "border_top": null,
       "bottom": null,
       "display": null,
       "flex": null,
       "flex_flow": null,
       "grid_area": null,
       "grid_auto_columns": null,
       "grid_auto_flow": null,
       "grid_auto_rows": null,
       "grid_column": null,
       "grid_gap": null,
       "grid_row": null,
       "grid_template_areas": null,
       "grid_template_columns": null,
       "grid_template_rows": null,
       "height": null,
       "justify_content": null,
       "justify_items": null,
       "left": null,
       "margin": null,
       "max_height": null,
       "max_width": null,
       "min_height": null,
       "min_width": null,
       "object_fit": null,
       "object_position": null,
       "order": null,
       "overflow": null,
       "padding": null,
       "right": null,
       "top": null,
       "visibility": null,
       "width": null
      }
     },
     "8e1ef9b2df074b12aa7c4d0a696cf90c": {
      "model_module": "@jupyter-widgets/controls",
      "model_module_version": "2.0.0",
      "model_name": "FloatProgressModel",
      "state": {
       "_dom_classes": [],
       "_model_module": "@jupyter-widgets/controls",
       "_model_module_version": "2.0.0",
       "_model_name": "FloatProgressModel",
       "_view_count": null,
       "_view_module": "@jupyter-widgets/controls",
       "_view_module_version": "2.0.0",
       "_view_name": "ProgressView",
       "bar_style": "success",
       "description": "",
       "description_allow_html": false,
       "layout": "IPY_MODEL_27761c513b0141f8bbdcc44605229713",
       "max": 20.0,
       "min": 0.0,
       "orientation": "horizontal",
       "style": "IPY_MODEL_01c074b2c33f4456a0fb182e40c9dd0e",
       "tabbable": null,
       "tooltip": null,
       "value": 20.0
      }
     },
     "8ed42ce5f1a642fba370bea8dfd28fc5": {
      "model_module": "@jupyter-widgets/controls",
      "model_module_version": "2.0.0",
      "model_name": "HTMLModel",
      "state": {
       "_dom_classes": [],
       "_model_module": "@jupyter-widgets/controls",
       "_model_module_version": "2.0.0",
       "_model_name": "HTMLModel",
       "_view_count": null,
       "_view_module": "@jupyter-widgets/controls",
       "_view_module_version": "2.0.0",
       "_view_name": "HTMLView",
       "description": "",
       "description_allow_html": false,
       "layout": "IPY_MODEL_3d2ea642e343461697db6d0f44c2ee34",
       "placeholder": "​",
       "style": "IPY_MODEL_14bd227c95c249b49e6397369fef3909",
       "tabbable": null,
       "tooltip": null,
       "value": "Map: 100%"
      }
     },
     "908a4d9e3e0f4b9b847ea98e8db7ccfd": {
      "model_module": "@jupyter-widgets/controls",
      "model_module_version": "2.0.0",
      "model_name": "ProgressStyleModel",
      "state": {
       "_model_module": "@jupyter-widgets/controls",
       "_model_module_version": "2.0.0",
       "_model_name": "ProgressStyleModel",
       "_view_count": null,
       "_view_module": "@jupyter-widgets/base",
       "_view_module_version": "2.0.0",
       "_view_name": "StyleView",
       "bar_color": null,
       "description_width": ""
      }
     },
     "915d19e4afad49d7a53b5fc9c63aac2d": {
      "model_module": "@jupyter-widgets/controls",
      "model_module_version": "2.0.0",
      "model_name": "HTMLStyleModel",
      "state": {
       "_model_module": "@jupyter-widgets/controls",
       "_model_module_version": "2.0.0",
       "_model_name": "HTMLStyleModel",
       "_view_count": null,
       "_view_module": "@jupyter-widgets/base",
       "_view_module_version": "2.0.0",
       "_view_name": "StyleView",
       "background": null,
       "description_width": "",
       "font_size": null,
       "text_color": null
      }
     },
     "94ccd389f6bf4c948d41dbd1a49f5452": {
      "model_module": "@jupyter-widgets/base",
      "model_module_version": "2.0.0",
      "model_name": "LayoutModel",
      "state": {
       "_model_module": "@jupyter-widgets/base",
       "_model_module_version": "2.0.0",
       "_model_name": "LayoutModel",
       "_view_count": null,
       "_view_module": "@jupyter-widgets/base",
       "_view_module_version": "2.0.0",
       "_view_name": "LayoutView",
       "align_content": null,
       "align_items": null,
       "align_self": null,
       "border_bottom": null,
       "border_left": null,
       "border_right": null,
       "border_top": null,
       "bottom": null,
       "display": null,
       "flex": null,
       "flex_flow": null,
       "grid_area": null,
       "grid_auto_columns": null,
       "grid_auto_flow": null,
       "grid_auto_rows": null,
       "grid_column": null,
       "grid_gap": null,
       "grid_row": null,
       "grid_template_areas": null,
       "grid_template_columns": null,
       "grid_template_rows": null,
       "height": null,
       "justify_content": null,
       "justify_items": null,
       "left": null,
       "margin": null,
       "max_height": null,
       "max_width": null,
       "min_height": null,
       "min_width": null,
       "object_fit": null,
       "object_position": null,
       "order": null,
       "overflow": null,
       "padding": null,
       "right": null,
       "top": null,
       "visibility": null,
       "width": null
      }
     },
     "964570e28543438d8206756d660d3d3b": {
      "model_module": "@jupyter-widgets/controls",
      "model_module_version": "2.0.0",
      "model_name": "HBoxModel",
      "state": {
       "_dom_classes": [],
       "_model_module": "@jupyter-widgets/controls",
       "_model_module_version": "2.0.0",
       "_model_name": "HBoxModel",
       "_view_count": null,
       "_view_module": "@jupyter-widgets/controls",
       "_view_module_version": "2.0.0",
       "_view_name": "HBoxView",
       "box_style": "",
       "children": [
        "IPY_MODEL_8ed42ce5f1a642fba370bea8dfd28fc5",
        "IPY_MODEL_2f9f7ba628aa4d82965395d52fdd3cc7",
        "IPY_MODEL_2be23cd1aa9d40309151e83c119e4850"
       ],
       "layout": "IPY_MODEL_78d4d3cf34c9472cb3cebc4247b3c0c1",
       "tabbable": null,
       "tooltip": null
      }
     },
     "96ba74976e3b4aee858bc1a69cb17b40": {
      "model_module": "@jupyter-widgets/controls",
      "model_module_version": "2.0.0",
      "model_name": "HTMLModel",
      "state": {
       "_dom_classes": [],
       "_model_module": "@jupyter-widgets/controls",
       "_model_module_version": "2.0.0",
       "_model_name": "HTMLModel",
       "_view_count": null,
       "_view_module": "@jupyter-widgets/controls",
       "_view_module_version": "2.0.0",
       "_view_name": "HTMLView",
       "description": "",
       "description_allow_html": false,
       "layout": "IPY_MODEL_496cddb85cf3443f8013562bac353a4d",
       "placeholder": "​",
       "style": "IPY_MODEL_da2f0a7dc0234833920a3f80fc72f1b7",
       "tabbable": null,
       "tooltip": null,
       "value": "tokenizer_config.json: 100%"
      }
     },
     "97090863685c4b2c8b2e76c0dd1a3ba6": {
      "model_module": "@jupyter-widgets/controls",
      "model_module_version": "2.0.0",
      "model_name": "HTMLModel",
      "state": {
       "_dom_classes": [],
       "_model_module": "@jupyter-widgets/controls",
       "_model_module_version": "2.0.0",
       "_model_name": "HTMLModel",
       "_view_count": null,
       "_view_module": "@jupyter-widgets/controls",
       "_view_module_version": "2.0.0",
       "_view_name": "HTMLView",
       "description": "",
       "description_allow_html": false,
       "layout": "IPY_MODEL_34c6912220854787a397e17f5a3ed278",
       "placeholder": "​",
       "style": "IPY_MODEL_c30840623a34437487f42878ae1d3bb7",
       "tabbable": null,
       "tooltip": null,
       "value": " 9.09M/9.09M [00:01&lt;00:00, 7.36MB/s]"
      }
     },
     "97783dcc01c24181986b8256f621fc8a": {
      "model_module": "@jupyter-widgets/base",
      "model_module_version": "2.0.0",
      "model_name": "LayoutModel",
      "state": {
       "_model_module": "@jupyter-widgets/base",
       "_model_module_version": "2.0.0",
       "_model_name": "LayoutModel",
       "_view_count": null,
       "_view_module": "@jupyter-widgets/base",
       "_view_module_version": "2.0.0",
       "_view_name": "LayoutView",
       "align_content": null,
       "align_items": null,
       "align_self": null,
       "border_bottom": null,
       "border_left": null,
       "border_right": null,
       "border_top": null,
       "bottom": null,
       "display": null,
       "flex": null,
       "flex_flow": null,
       "grid_area": null,
       "grid_auto_columns": null,
       "grid_auto_flow": null,
       "grid_auto_rows": null,
       "grid_column": null,
       "grid_gap": null,
       "grid_row": null,
       "grid_template_areas": null,
       "grid_template_columns": null,
       "grid_template_rows": null,
       "height": null,
       "justify_content": null,
       "justify_items": null,
       "left": null,
       "margin": null,
       "max_height": null,
       "max_width": null,
       "min_height": null,
       "min_width": null,
       "object_fit": null,
       "object_position": null,
       "order": null,
       "overflow": null,
       "padding": null,
       "right": null,
       "top": null,
       "visibility": null,
       "width": null
      }
     },
     "9e4e59d9644a48d99ad4158bb0bdf576": {
      "model_module": "@jupyter-widgets/controls",
      "model_module_version": "2.0.0",
      "model_name": "HTMLStyleModel",
      "state": {
       "_model_module": "@jupyter-widgets/controls",
       "_model_module_version": "2.0.0",
       "_model_name": "HTMLStyleModel",
       "_view_count": null,
       "_view_module": "@jupyter-widgets/base",
       "_view_module_version": "2.0.0",
       "_view_name": "StyleView",
       "background": null,
       "description_width": "",
       "font_size": null,
       "text_color": null
      }
     },
     "a61783d8e24c422998887aac01c0fb02": {
      "model_module": "@jupyter-widgets/base",
      "model_module_version": "2.0.0",
      "model_name": "LayoutModel",
      "state": {
       "_model_module": "@jupyter-widgets/base",
       "_model_module_version": "2.0.0",
       "_model_name": "LayoutModel",
       "_view_count": null,
       "_view_module": "@jupyter-widgets/base",
       "_view_module_version": "2.0.0",
       "_view_name": "LayoutView",
       "align_content": null,
       "align_items": null,
       "align_self": null,
       "border_bottom": null,
       "border_left": null,
       "border_right": null,
       "border_top": null,
       "bottom": null,
       "display": null,
       "flex": null,
       "flex_flow": null,
       "grid_area": null,
       "grid_auto_columns": null,
       "grid_auto_flow": null,
       "grid_auto_rows": null,
       "grid_column": null,
       "grid_gap": null,
       "grid_row": null,
       "grid_template_areas": null,
       "grid_template_columns": null,
       "grid_template_rows": null,
       "height": null,
       "justify_content": null,
       "justify_items": null,
       "left": null,
       "margin": null,
       "max_height": null,
       "max_width": null,
       "min_height": null,
       "min_width": null,
       "object_fit": null,
       "object_position": null,
       "order": null,
       "overflow": null,
       "padding": null,
       "right": null,
       "top": null,
       "visibility": null,
       "width": null
      }
     },
     "a954ae39bd5a441badd497cb7b14690d": {
      "model_module": "@jupyter-widgets/base",
      "model_module_version": "2.0.0",
      "model_name": "LayoutModel",
      "state": {
       "_model_module": "@jupyter-widgets/base",
       "_model_module_version": "2.0.0",
       "_model_name": "LayoutModel",
       "_view_count": null,
       "_view_module": "@jupyter-widgets/base",
       "_view_module_version": "2.0.0",
       "_view_name": "LayoutView",
       "align_content": null,
       "align_items": null,
       "align_self": null,
       "border_bottom": null,
       "border_left": null,
       "border_right": null,
       "border_top": null,
       "bottom": null,
       "display": null,
       "flex": null,
       "flex_flow": null,
       "grid_area": null,
       "grid_auto_columns": null,
       "grid_auto_flow": null,
       "grid_auto_rows": null,
       "grid_column": null,
       "grid_gap": null,
       "grid_row": null,
       "grid_template_areas": null,
       "grid_template_columns": null,
       "grid_template_rows": null,
       "height": null,
       "justify_content": null,
       "justify_items": null,
       "left": null,
       "margin": null,
       "max_height": null,
       "max_width": null,
       "min_height": null,
       "min_width": null,
       "object_fit": null,
       "object_position": null,
       "order": null,
       "overflow": null,
       "padding": null,
       "right": null,
       "top": null,
       "visibility": null,
       "width": null
      }
     },
     "ab4153d00bd04820b544525822786a06": {
      "model_module": "@jupyter-widgets/base",
      "model_module_version": "2.0.0",
      "model_name": "LayoutModel",
      "state": {
       "_model_module": "@jupyter-widgets/base",
       "_model_module_version": "2.0.0",
       "_model_name": "LayoutModel",
       "_view_count": null,
       "_view_module": "@jupyter-widgets/base",
       "_view_module_version": "2.0.0",
       "_view_name": "LayoutView",
       "align_content": null,
       "align_items": null,
       "align_self": null,
       "border_bottom": null,
       "border_left": null,
       "border_right": null,
       "border_top": null,
       "bottom": null,
       "display": null,
       "flex": null,
       "flex_flow": null,
       "grid_area": null,
       "grid_auto_columns": null,
       "grid_auto_flow": null,
       "grid_auto_rows": null,
       "grid_column": null,
       "grid_gap": null,
       "grid_row": null,
       "grid_template_areas": null,
       "grid_template_columns": null,
       "grid_template_rows": null,
       "height": null,
       "justify_content": null,
       "justify_items": null,
       "left": null,
       "margin": null,
       "max_height": null,
       "max_width": null,
       "min_height": null,
       "min_width": null,
       "object_fit": null,
       "object_position": null,
       "order": null,
       "overflow": null,
       "padding": null,
       "right": null,
       "top": null,
       "visibility": null,
       "width": null
      }
     },
     "abb86176533b45a186f797154c3009d2": {
      "model_module": "@jupyter-widgets/controls",
      "model_module_version": "2.0.0",
      "model_name": "HTMLModel",
      "state": {
       "_dom_classes": [],
       "_model_module": "@jupyter-widgets/controls",
       "_model_module_version": "2.0.0",
       "_model_name": "HTMLModel",
       "_view_count": null,
       "_view_module": "@jupyter-widgets/controls",
       "_view_module_version": "2.0.0",
       "_view_name": "HTMLView",
       "description": "",
       "description_allow_html": false,
       "layout": "IPY_MODEL_4e6105bcbbdc4b0192bafd8255554f9f",
       "placeholder": "​",
       "style": "IPY_MODEL_15fd06fd2570449683921da753b6127c",
       "tabbable": null,
       "tooltip": null,
       "value": "Map: 100%"
      }
     },
     "ae57f8f726f641efaf45e8dd8ee81008": {
      "model_module": "@jupyter-widgets/controls",
      "model_module_version": "2.0.0",
      "model_name": "HTMLModel",
      "state": {
       "_dom_classes": [],
       "_model_module": "@jupyter-widgets/controls",
       "_model_module_version": "2.0.0",
       "_model_name": "HTMLModel",
       "_view_count": null,
       "_view_module": "@jupyter-widgets/controls",
       "_view_module_version": "2.0.0",
       "_view_name": "HTMLView",
       "description": "",
       "description_allow_html": false,
       "layout": "IPY_MODEL_97783dcc01c24181986b8256f621fc8a",
       "placeholder": "​",
       "style": "IPY_MODEL_f45df0d55f164bc4bc89f3232bf3545a",
       "tabbable": null,
       "tooltip": null,
       "value": " 54.5k/54.5k [00:00&lt;00:00, 6.09MB/s]"
      }
     },
     "b0df62054a6544839f61fa5e629c7083": {
      "model_module": "@jupyter-widgets/base",
      "model_module_version": "2.0.0",
      "model_name": "LayoutModel",
      "state": {
       "_model_module": "@jupyter-widgets/base",
       "_model_module_version": "2.0.0",
       "_model_name": "LayoutModel",
       "_view_count": null,
       "_view_module": "@jupyter-widgets/base",
       "_view_module_version": "2.0.0",
       "_view_name": "LayoutView",
       "align_content": null,
       "align_items": null,
       "align_self": null,
       "border_bottom": null,
       "border_left": null,
       "border_right": null,
       "border_top": null,
       "bottom": null,
       "display": null,
       "flex": null,
       "flex_flow": null,
       "grid_area": null,
       "grid_auto_columns": null,
       "grid_auto_flow": null,
       "grid_auto_rows": null,
       "grid_column": null,
       "grid_gap": null,
       "grid_row": null,
       "grid_template_areas": null,
       "grid_template_columns": null,
       "grid_template_rows": null,
       "height": null,
       "justify_content": null,
       "justify_items": null,
       "left": null,
       "margin": null,
       "max_height": null,
       "max_width": null,
       "min_height": null,
       "min_width": null,
       "object_fit": null,
       "object_position": null,
       "order": null,
       "overflow": null,
       "padding": null,
       "right": null,
       "top": null,
       "visibility": null,
       "width": null
      }
     },
     "b10aac10386a458d8c636bdada2682cc": {
      "model_module": "@jupyter-widgets/controls",
      "model_module_version": "2.0.0",
      "model_name": "ProgressStyleModel",
      "state": {
       "_model_module": "@jupyter-widgets/controls",
       "_model_module_version": "2.0.0",
       "_model_name": "ProgressStyleModel",
       "_view_count": null,
       "_view_module": "@jupyter-widgets/base",
       "_view_module_version": "2.0.0",
       "_view_name": "StyleView",
       "bar_color": null,
       "description_width": ""
      }
     },
     "b8388ccae5f849fda90b3c8f5b307121": {
      "model_module": "@jupyter-widgets/controls",
      "model_module_version": "2.0.0",
      "model_name": "FloatProgressModel",
      "state": {
       "_dom_classes": [],
       "_model_module": "@jupyter-widgets/controls",
       "_model_module_version": "2.0.0",
       "_model_name": "FloatProgressModel",
       "_view_count": null,
       "_view_module": "@jupyter-widgets/controls",
       "_view_module_version": "2.0.0",
       "_view_name": "ProgressView",
       "bar_style": "success",
       "description": "",
       "description_allow_html": false,
       "layout": "IPY_MODEL_f93745fe56ba4adabf48f47c0d06fe96",
       "max": 54528.0,
       "min": 0.0,
       "orientation": "horizontal",
       "style": "IPY_MODEL_908a4d9e3e0f4b9b847ea98e8db7ccfd",
       "tabbable": null,
       "tooltip": null,
       "value": 54528.0
      }
     },
     "bab9c291e9f84d7dbb201c1d35ac134b": {
      "model_module": "@jupyter-widgets/controls",
      "model_module_version": "2.0.0",
      "model_name": "HTMLStyleModel",
      "state": {
       "_model_module": "@jupyter-widgets/controls",
       "_model_module_version": "2.0.0",
       "_model_name": "HTMLStyleModel",
       "_view_count": null,
       "_view_module": "@jupyter-widgets/base",
       "_view_module_version": "2.0.0",
       "_view_name": "StyleView",
       "background": null,
       "description_width": "",
       "font_size": null,
       "text_color": null
      }
     },
     "c30840623a34437487f42878ae1d3bb7": {
      "model_module": "@jupyter-widgets/controls",
      "model_module_version": "2.0.0",
      "model_name": "HTMLStyleModel",
      "state": {
       "_model_module": "@jupyter-widgets/controls",
       "_model_module_version": "2.0.0",
       "_model_name": "HTMLStyleModel",
       "_view_count": null,
       "_view_module": "@jupyter-widgets/base",
       "_view_module_version": "2.0.0",
       "_view_name": "StyleView",
       "background": null,
       "description_width": "",
       "font_size": null,
       "text_color": null
      }
     },
     "c6688c4a2aee4374a8d6bb39e2ac91ed": {
      "model_module": "@jupyter-widgets/base",
      "model_module_version": "2.0.0",
      "model_name": "LayoutModel",
      "state": {
       "_model_module": "@jupyter-widgets/base",
       "_model_module_version": "2.0.0",
       "_model_name": "LayoutModel",
       "_view_count": null,
       "_view_module": "@jupyter-widgets/base",
       "_view_module_version": "2.0.0",
       "_view_name": "LayoutView",
       "align_content": null,
       "align_items": null,
       "align_self": null,
       "border_bottom": null,
       "border_left": null,
       "border_right": null,
       "border_top": null,
       "bottom": null,
       "display": null,
       "flex": null,
       "flex_flow": null,
       "grid_area": null,
       "grid_auto_columns": null,
       "grid_auto_flow": null,
       "grid_auto_rows": null,
       "grid_column": null,
       "grid_gap": null,
       "grid_row": null,
       "grid_template_areas": null,
       "grid_template_columns": null,
       "grid_template_rows": null,
       "height": null,
       "justify_content": null,
       "justify_items": null,
       "left": null,
       "margin": null,
       "max_height": null,
       "max_width": null,
       "min_height": null,
       "min_width": null,
       "object_fit": null,
       "object_position": null,
       "order": null,
       "overflow": null,
       "padding": null,
       "right": null,
       "top": null,
       "visibility": null,
       "width": null
      }
     },
     "cd7809a759734920911603314fe24a31": {
      "model_module": "@jupyter-widgets/base",
      "model_module_version": "2.0.0",
      "model_name": "LayoutModel",
      "state": {
       "_model_module": "@jupyter-widgets/base",
       "_model_module_version": "2.0.0",
       "_model_name": "LayoutModel",
       "_view_count": null,
       "_view_module": "@jupyter-widgets/base",
       "_view_module_version": "2.0.0",
       "_view_name": "LayoutView",
       "align_content": null,
       "align_items": null,
       "align_self": null,
       "border_bottom": null,
       "border_left": null,
       "border_right": null,
       "border_top": null,
       "bottom": null,
       "display": null,
       "flex": null,
       "flex_flow": null,
       "grid_area": null,
       "grid_auto_columns": null,
       "grid_auto_flow": null,
       "grid_auto_rows": null,
       "grid_column": null,
       "grid_gap": null,
       "grid_row": null,
       "grid_template_areas": null,
       "grid_template_columns": null,
       "grid_template_rows": null,
       "height": null,
       "justify_content": null,
       "justify_items": null,
       "left": null,
       "margin": null,
       "max_height": null,
       "max_width": null,
       "min_height": null,
       "min_width": null,
       "object_fit": null,
       "object_position": null,
       "order": null,
       "overflow": null,
       "padding": null,
       "right": null,
       "top": null,
       "visibility": null,
       "width": null
      }
     },
     "da2f0a7dc0234833920a3f80fc72f1b7": {
      "model_module": "@jupyter-widgets/controls",
      "model_module_version": "2.0.0",
      "model_name": "HTMLStyleModel",
      "state": {
       "_model_module": "@jupyter-widgets/controls",
       "_model_module_version": "2.0.0",
       "_model_name": "HTMLStyleModel",
       "_view_count": null,
       "_view_module": "@jupyter-widgets/base",
       "_view_module_version": "2.0.0",
       "_view_name": "StyleView",
       "background": null,
       "description_width": "",
       "font_size": null,
       "text_color": null
      }
     },
     "dc87f3155a2842eaab5e5f45afb6408a": {
      "model_module": "@jupyter-widgets/controls",
      "model_module_version": "2.0.0",
      "model_name": "HBoxModel",
      "state": {
       "_dom_classes": [],
       "_model_module": "@jupyter-widgets/controls",
       "_model_module_version": "2.0.0",
       "_model_name": "HBoxModel",
       "_view_count": null,
       "_view_module": "@jupyter-widgets/controls",
       "_view_module_version": "2.0.0",
       "_view_name": "HBoxView",
       "box_style": "",
       "children": [
        "IPY_MODEL_3621e28e75db40c2ae1c2729e0d04ba0",
        "IPY_MODEL_2715e770bfb4422280f9b68e7459c6f3",
        "IPY_MODEL_07261c728a2e447994d2f90daf764248"
       ],
       "layout": "IPY_MODEL_2d496dd1b35c48cea1d81fa663ce32c6",
       "tabbable": null,
       "tooltip": null
      }
     },
     "e392ce7d8a234b39bbc274caae012df3": {
      "model_module": "@jupyter-widgets/controls",
      "model_module_version": "2.0.0",
      "model_name": "HBoxModel",
      "state": {
       "_dom_classes": [],
       "_model_module": "@jupyter-widgets/controls",
       "_model_module_version": "2.0.0",
       "_model_name": "HBoxModel",
       "_view_count": null,
       "_view_module": "@jupyter-widgets/controls",
       "_view_module_version": "2.0.0",
       "_view_name": "HBoxView",
       "box_style": "",
       "children": [
        "IPY_MODEL_96ba74976e3b4aee858bc1a69cb17b40",
        "IPY_MODEL_b8388ccae5f849fda90b3c8f5b307121",
        "IPY_MODEL_ae57f8f726f641efaf45e8dd8ee81008"
       ],
       "layout": "IPY_MODEL_a954ae39bd5a441badd497cb7b14690d",
       "tabbable": null,
       "tooltip": null
      }
     },
     "e50861116e5f4d6eaf2b9745d27f66b2": {
      "model_module": "@jupyter-widgets/controls",
      "model_module_version": "2.0.0",
      "model_name": "FloatProgressModel",
      "state": {
       "_dom_classes": [],
       "_model_module": "@jupyter-widgets/controls",
       "_model_module_version": "2.0.0",
       "_model_name": "FloatProgressModel",
       "_view_count": null,
       "_view_module": "@jupyter-widgets/controls",
       "_view_module_version": "2.0.0",
       "_view_name": "ProgressView",
       "bar_style": "success",
       "description": "",
       "description_allow_html": false,
       "layout": "IPY_MODEL_cd7809a759734920911603314fe24a31",
       "max": 9085657.0,
       "min": 0.0,
       "orientation": "horizontal",
       "style": "IPY_MODEL_35ece139937142b9b9c3e13f129f5171",
       "tabbable": null,
       "tooltip": null,
       "value": 9085657.0
      }
     },
     "f45df0d55f164bc4bc89f3232bf3545a": {
      "model_module": "@jupyter-widgets/controls",
      "model_module_version": "2.0.0",
      "model_name": "HTMLStyleModel",
      "state": {
       "_model_module": "@jupyter-widgets/controls",
       "_model_module_version": "2.0.0",
       "_model_name": "HTMLStyleModel",
       "_view_count": null,
       "_view_module": "@jupyter-widgets/base",
       "_view_module_version": "2.0.0",
       "_view_name": "StyleView",
       "background": null,
       "description_width": "",
       "font_size": null,
       "text_color": null
      }
     },
     "f93745fe56ba4adabf48f47c0d06fe96": {
      "model_module": "@jupyter-widgets/base",
      "model_module_version": "2.0.0",
      "model_name": "LayoutModel",
      "state": {
       "_model_module": "@jupyter-widgets/base",
       "_model_module_version": "2.0.0",
       "_model_name": "LayoutModel",
       "_view_count": null,
       "_view_module": "@jupyter-widgets/base",
       "_view_module_version": "2.0.0",
       "_view_name": "LayoutView",
       "align_content": null,
       "align_items": null,
       "align_self": null,
       "border_bottom": null,
       "border_left": null,
       "border_right": null,
       "border_top": null,
       "bottom": null,
       "display": null,
       "flex": null,
       "flex_flow": null,
       "grid_area": null,
       "grid_auto_columns": null,
       "grid_auto_flow": null,
       "grid_auto_rows": null,
       "grid_column": null,
       "grid_gap": null,
       "grid_row": null,
       "grid_template_areas": null,
       "grid_template_columns": null,
       "grid_template_rows": null,
       "height": null,
       "justify_content": null,
       "justify_items": null,
       "left": null,
       "margin": null,
       "max_height": null,
       "max_width": null,
       "min_height": null,
       "min_width": null,
       "object_fit": null,
       "object_position": null,
       "order": null,
       "overflow": null,
       "padding": null,
       "right": null,
       "top": null,
       "visibility": null,
       "width": null
      }
     }
    },
    "version_major": 2,
    "version_minor": 0
   }
  }
 },
 "nbformat": 4,
 "nbformat_minor": 5
}
