{
 "cells": [
  {
   "cell_type": "markdown",
   "id": "07f53b74",
   "metadata": {
    "papermill": {
     "duration": 0.002087,
     "end_time": "2025-07-30T15:07:43.826238",
     "exception": false,
     "start_time": "2025-07-30T15:07:43.824151",
     "status": "completed"
    },
    "tags": []
   },
   "source": [
    "# Part 3 - LLM as Judge\n",
    "- Use proprietary LLM to assess domain names created by fine tuned llm\n",
    "- This finishes off the pipeline and utlizes a rubric to assess the names (in addition to the BLEU/ROUGE metrics we used already)"
   ]
  },
  {
   "cell_type": "code",
   "execution_count": 1,
   "id": "12f67c09",
   "metadata": {
    "execution": {
     "iopub.execute_input": "2025-07-30T15:07:43.830661Z",
     "iopub.status.busy": "2025-07-30T15:07:43.830398Z",
     "iopub.status.idle": "2025-07-30T15:07:47.713352Z",
     "shell.execute_reply": "2025-07-30T15:07:47.712404Z"
    },
    "papermill": {
     "duration": 3.886808,
     "end_time": "2025-07-30T15:07:47.714776",
     "exception": false,
     "start_time": "2025-07-30T15:07:43.827968",
     "status": "completed"
    },
    "tags": []
   },
   "outputs": [],
   "source": [
    "!pip install -q openai"
   ]
  },
  {
   "cell_type": "code",
   "execution_count": 2,
   "id": "8ce80502",
   "metadata": {
    "execution": {
     "iopub.execute_input": "2025-07-30T15:07:47.719253Z",
     "iopub.status.busy": "2025-07-30T15:07:47.718961Z",
     "iopub.status.idle": "2025-07-30T15:07:50.618116Z",
     "shell.execute_reply": "2025-07-30T15:07:50.617334Z"
    },
    "papermill": {
     "duration": 2.902996,
     "end_time": "2025-07-30T15:07:50.619599",
     "exception": false,
     "start_time": "2025-07-30T15:07:47.716603",
     "status": "completed"
    },
    "tags": []
   },
   "outputs": [],
   "source": [
    "import os\n",
    "import openai\n",
    "from openai import OpenAI\n",
    "import json\n",
    "import pandas as pd\n",
    "from tqdm import tqdm\n",
    "\n",
    "from kaggle_secrets import UserSecretsClient\n",
    "user_secrets = UserSecretsClient()\n",
    "#openai.api_key = user_secrets.get_secret(\"openai_api_key\")\n",
    "api_key = user_secrets.get_secret(\"openai_api_key\")"
   ]
  },
  {
   "cell_type": "code",
   "execution_count": 3,
   "id": "c6c8f965",
   "metadata": {
    "execution": {
     "iopub.execute_input": "2025-07-30T15:07:50.623941Z",
     "iopub.status.busy": "2025-07-30T15:07:50.623575Z",
     "iopub.status.idle": "2025-07-30T15:07:50.627482Z",
     "shell.execute_reply": "2025-07-30T15:07:50.626962Z"
    },
    "papermill": {
     "duration": 0.007127,
     "end_time": "2025-07-30T15:07:50.628514",
     "exception": false,
     "start_time": "2025-07-30T15:07:50.621387",
     "status": "completed"
    },
    "tags": []
   },
   "outputs": [],
   "source": [
    "def format_prompt(description: str, domain_name: dict) -> str:\n",
    "    return f\"\"\"\n",
    "You are an expert branding consultant. Your task is to evaluate the quality of a proposed domain name for a business.\n",
    "\n",
    "Business Description:\n",
    "\\\"\\\"\\\"{description}\\\"\\\"\\\"\n",
    "\n",
    "Proposed Domain Name:\n",
    "\\\"\\\"\\\"{domain_name}\\\"\\\"\\\"\n",
    "\n",
    "Evaluate the domain on the following criteria, providing scores from 0-5 for each criteria:\n",
    "1. **Validity**: Is the text provided a valid domain name?\n",
    "1. **Relevance**: Does the domain name relate well to the business?\n",
    "2. **Creativity**: Is the name original and imaginative?\n",
    "3. **Brandability**: Is it catchy, easy to remember, and easy to spell?\n",
    "4. **Safety**: Is the name appropriate and free of offensive language?\n",
    "\n",
    "Provide a JSON response like:\n",
    "{{\n",
    "  \"validity\": 3,\n",
    "  \"relevance\": 4,\n",
    "  \"creativity\": 5,\n",
    "  \"brandability\": 4,\n",
    "  \"safety\": 5,\n",
    "  \"comments\": \"Creative and brandable. Slightly generic but safe and relevant.\"\n",
    "}}\n",
    "\n",
    "ONLY respond with the JSON and nothing else.\n",
    "\"\"\""
   ]
  },
  {
   "cell_type": "code",
   "execution_count": 4,
   "id": "2edd232a",
   "metadata": {
    "execution": {
     "iopub.execute_input": "2025-07-30T15:07:50.632091Z",
     "iopub.status.busy": "2025-07-30T15:07:50.631888Z",
     "iopub.status.idle": "2025-07-30T15:07:50.865396Z",
     "shell.execute_reply": "2025-07-30T15:07:50.864811Z"
    },
    "papermill": {
     "duration": 0.23666,
     "end_time": "2025-07-30T15:07:50.866651",
     "exception": false,
     "start_time": "2025-07-30T15:07:50.629991",
     "status": "completed"
    },
    "tags": []
   },
   "outputs": [],
   "source": [
    "# Initialize OpenAI client\n",
    "client = OpenAI(api_key=api_key)\n",
    "\n",
    "def call_judge(prompt):\n",
    "    #prompt = format_prompt(description, domain_name)\n",
    "\n",
    "    response = client.chat.completions.create(\n",
    "        model=\"gpt-4\",\n",
    "        messages=[{\"role\": \"user\", \"content\": prompt}],\n",
    "        temperature=0.3,\n",
    "    )\n",
    "\n",
    "    content = response.choices[0].message.content.strip()\n",
    "    try:\n",
    "        parsed = json.loads(content)\n",
    "    except json.JSONDecodeError:\n",
    "        parsed = eval(content)  # fallback (not recommended)\n",
    "        return None\n",
    "    return parsed"
   ]
  },
  {
   "cell_type": "code",
   "execution_count": 5,
   "id": "3e329674",
   "metadata": {
    "execution": {
     "iopub.execute_input": "2025-07-30T15:07:50.871046Z",
     "iopub.status.busy": "2025-07-30T15:07:50.870554Z",
     "iopub.status.idle": "2025-07-30T15:07:50.875185Z",
     "shell.execute_reply": "2025-07-30T15:07:50.874618Z"
    },
    "papermill": {
     "duration": 0.007712,
     "end_time": "2025-07-30T15:07:50.876132",
     "exception": false,
     "start_time": "2025-07-30T15:07:50.868420",
     "status": "completed"
    },
    "tags": []
   },
   "outputs": [],
   "source": [
    "def evaluate_domains(pred_csv_path, output_path):\n",
    "    df = pd.read_csv(pred_csv_path)\n",
    "    evaluations = []\n",
    "\n",
    "    for _, row in tqdm(df.iterrows(), total=len(df)):\n",
    "        #if not row['is_valid_domain']:\n",
    "        #    continue\n",
    "        prompt = format_prompt(row[\"description\"], row[\"pred\"])\n",
    "        result = call_judge(prompt)\n",
    "\n",
    "        if result:\n",
    "            evaluations.append({**row, **result})\n",
    "        else:\n",
    "            evaluations.append({**row, \"relevance\": None, \"creativity\": None, \n",
    "                                \"brandability\": None, \"safety\": None, \"comments\": \"Failed to evaluate\"})\n",
    "\n",
    "    pd.DataFrame(evaluations).to_csv(output_path, index=False)\n",
    "    print(f\"Saved evaluations to {output_path}\")"
   ]
  },
  {
   "cell_type": "code",
   "execution_count": 6,
   "id": "c24b422b",
   "metadata": {
    "execution": {
     "iopub.execute_input": "2025-07-30T15:07:50.879581Z",
     "iopub.status.busy": "2025-07-30T15:07:50.879414Z",
     "iopub.status.idle": "2025-07-30T15:09:32.072019Z",
     "shell.execute_reply": "2025-07-30T15:09:32.071047Z"
    },
    "papermill": {
     "duration": 101.195551,
     "end_time": "2025-07-30T15:09:32.073115",
     "exception": false,
     "start_time": "2025-07-30T15:07:50.877564",
     "status": "completed"
    },
    "tags": []
   },
   "outputs": [
    {
     "name": "stderr",
     "output_type": "stream",
     "text": [
      "100%|██████████| 20/20 [01:41<00:00,  5.06s/it]"
     ]
    },
    {
     "name": "stdout",
     "output_type": "stream",
     "text": [
      "Saved evaluations to judged_domains-small-v1.csv\n"
     ]
    },
    {
     "name": "stderr",
     "output_type": "stream",
     "text": [
      "\n"
     ]
    }
   ],
   "source": [
    "# Run the evaluations \n",
    "version = 'v1'\n",
    "flag = 'small'\n",
    "input_file = f'/kaggle/input/domain-name-generator/data/predictions_eval-{version}-{flag}.csv'\n",
    "output_file = f'judged_domains-{flag}-{version}.csv'\n",
    "evaluate_domains(input_file, output_file)"
   ]
  }
 ],
 "metadata": {
  "kaggle": {
   "accelerator": "gpu",
   "dataSources": [
    {
     "datasetId": 7943647,
     "sourceId": 12623369,
     "sourceType": "datasetVersion"
    }
   ],
   "dockerImageVersionId": 31090,
   "isGpuEnabled": true,
   "isInternetEnabled": true,
   "language": "python",
   "sourceType": "notebook"
  },
  "kernelspec": {
   "display_name": "Python 3",
   "language": "python",
   "name": "python3"
  },
  "language_info": {
   "codemirror_mode": {
    "name": "ipython",
    "version": 3
   },
   "file_extension": ".py",
   "mimetype": "text/x-python",
   "name": "python",
   "nbconvert_exporter": "python",
   "pygments_lexer": "ipython3",
   "version": "3.11.13"
  },
  "papermill": {
   "default_parameters": {},
   "duration": 112.749634,
   "end_time": "2025-07-30T15:09:32.594660",
   "environment_variables": {},
   "exception": null,
   "input_path": "__notebook__.ipynb",
   "output_path": "__notebook__.ipynb",
   "parameters": {},
   "start_time": "2025-07-30T15:07:39.845026",
   "version": "2.6.0"
  }
 },
 "nbformat": 4,
 "nbformat_minor": 5
}
