{
 "cells": [
  {
   "cell_type": "markdown",
   "id": "f7a3a0f6",
   "metadata": {
    "papermill": {
     "duration": 0.002076,
     "end_time": "2025-07-30T14:58:06.454799",
     "exception": false,
     "start_time": "2025-07-30T14:58:06.452723",
     "status": "completed"
    },
    "tags": []
   },
   "source": [
    "# Part 3 - LLM as Judge\n",
    "- Use proprietary LLM to assess domain names created by fine tuned llm\n",
    "- This finishes off the pipeline and utlizes a rubric to assess the names (in addition to the BLEU/ROUGE metrics we used already)"
   ]
  },
  {
   "cell_type": "code",
   "execution_count": 1,
   "id": "c8086c69",
   "metadata": {
    "execution": {
     "iopub.execute_input": "2025-07-30T14:58:06.459023Z",
     "iopub.status.busy": "2025-07-30T14:58:06.458752Z",
     "iopub.status.idle": "2025-07-30T14:58:10.526558Z",
     "shell.execute_reply": "2025-07-30T14:58:10.525495Z"
    },
    "papermill": {
     "duration": 4.071788,
     "end_time": "2025-07-30T14:58:10.528199",
     "exception": false,
     "start_time": "2025-07-30T14:58:06.456411",
     "status": "completed"
    },
    "tags": []
   },
   "outputs": [],
   "source": [
    "!pip install -q openai"
   ]
  },
  {
   "cell_type": "code",
   "execution_count": 2,
   "id": "1fc29376",
   "metadata": {
    "execution": {
     "iopub.execute_input": "2025-07-30T14:58:10.532766Z",
     "iopub.status.busy": "2025-07-30T14:58:10.532460Z",
     "iopub.status.idle": "2025-07-30T14:58:13.530436Z",
     "shell.execute_reply": "2025-07-30T14:58:13.529855Z"
    },
    "papermill": {
     "duration": 3.001765,
     "end_time": "2025-07-30T14:58:13.531787",
     "exception": false,
     "start_time": "2025-07-30T14:58:10.530022",
     "status": "completed"
    },
    "tags": []
   },
   "outputs": [],
   "source": [
    "import os\n",
    "import openai\n",
    "from openai import OpenAI\n",
    "import json\n",
    "import pandas as pd\n",
    "from tqdm import tqdm\n",
    "\n",
    "from kaggle_secrets import UserSecretsClient\n",
    "user_secrets = UserSecretsClient()\n",
    "#openai.api_key = user_secrets.get_secret(\"openai_api_key\")\n",
    "api_key = user_secrets.get_secret(\"openai_api_key\")"
   ]
  },
  {
   "cell_type": "code",
   "execution_count": 3,
   "id": "d4a03773",
   "metadata": {
    "execution": {
     "iopub.execute_input": "2025-07-30T14:58:13.536339Z",
     "iopub.status.busy": "2025-07-30T14:58:13.535993Z",
     "iopub.status.idle": "2025-07-30T14:58:13.539992Z",
     "shell.execute_reply": "2025-07-30T14:58:13.539463Z"
    },
    "papermill": {
     "duration": 0.007369,
     "end_time": "2025-07-30T14:58:13.541083",
     "exception": false,
     "start_time": "2025-07-30T14:58:13.533714",
     "status": "completed"
    },
    "tags": []
   },
   "outputs": [],
   "source": [
    "def format_prompt(description: str, domain_name: dict) -> str:\n",
    "    return f\"\"\"\n",
    "You are an expert branding consultant. Your task is to evaluate the quality of a proposed domain name for a business.\n",
    "\n",
    "Business Description:\n",
    "\\\"\\\"\\\"{description}\\\"\\\"\\\"\n",
    "\n",
    "Proposed Domain Name:\n",
    "\\\"\\\"\\\"{domain_name}\\\"\\\"\\\"\n",
    "\n",
    "Evaluate the domain on the following criteria:\n",
    "1. **Relevance**: Does the domain name relate well to the business?\n",
    "2. **Creativity**: Is the name original and imaginative?\n",
    "3. **Brandability**: Is it catchy, easy to remember, and easy to spell?\n",
    "4. **Safety**: Is the name appropriate and free of offensive language?\n",
    "\n",
    "Provide a JSON response like:\n",
    "{{\n",
    "  \"relevance\": 4,\n",
    "  \"creativity\": 5,\n",
    "  \"brandability\": 4,\n",
    "  \"safety\": 5,\n",
    "  \"comments\": \"Creative and brandable. Slightly generic but safe and relevant.\"\n",
    "}}\n",
    "\n",
    "ONLY respond with the JSON and nothing else.\n",
    "\"\"\""
   ]
  },
  {
   "cell_type": "code",
   "execution_count": 4,
   "id": "c558f8dc",
   "metadata": {
    "execution": {
     "iopub.execute_input": "2025-07-30T14:58:13.544984Z",
     "iopub.status.busy": "2025-07-30T14:58:13.544780Z",
     "iopub.status.idle": "2025-07-30T14:58:13.784390Z",
     "shell.execute_reply": "2025-07-30T14:58:13.783827Z"
    },
    "papermill": {
     "duration": 0.243104,
     "end_time": "2025-07-30T14:58:13.785767",
     "exception": false,
     "start_time": "2025-07-30T14:58:13.542663",
     "status": "completed"
    },
    "tags": []
   },
   "outputs": [],
   "source": [
    "# Initialize OpenAI client\n",
    "client = OpenAI(api_key=api_key)\n",
    "\n",
    "def call_judge(prompt):\n",
    "    #prompt = format_prompt(description, domain_name)\n",
    "\n",
    "    response = client.chat.completions.create(\n",
    "        model=\"gpt-4\",\n",
    "        messages=[{\"role\": \"user\", \"content\": prompt}],\n",
    "        temperature=0.3,\n",
    "    )\n",
    "\n",
    "    content = response.choices[0].message.content.strip()\n",
    "    try:\n",
    "        parsed = json.loads(content)\n",
    "    except json.JSONDecodeError:\n",
    "        parsed = eval(content)  # fallback (not recommended)\n",
    "        return None\n",
    "    return parsed"
   ]
  },
  {
   "cell_type": "code",
   "execution_count": 5,
   "id": "29b1a9d5",
   "metadata": {
    "execution": {
     "iopub.execute_input": "2025-07-30T14:58:13.790024Z",
     "iopub.status.busy": "2025-07-30T14:58:13.789808Z",
     "iopub.status.idle": "2025-07-30T14:58:13.794668Z",
     "shell.execute_reply": "2025-07-30T14:58:13.794125Z"
    },
    "papermill": {
     "duration": 0.008242,
     "end_time": "2025-07-30T14:58:13.795793",
     "exception": false,
     "start_time": "2025-07-30T14:58:13.787551",
     "status": "completed"
    },
    "tags": []
   },
   "outputs": [],
   "source": [
    "def evaluate_domains(pred_csv_path, output_path):\n",
    "    df = pd.read_csv(pred_csv_path)\n",
    "    evaluations = []\n",
    "\n",
    "    for _, row in tqdm(df.iterrows(), total=len(df)):\n",
    "        if not row['is_valid_domain']:\n",
    "            continue\n",
    "        prompt = format_prompt(row[\"description\"], row[\"pred\"])\n",
    "        result = call_judge(prompt)\n",
    "\n",
    "        if result:\n",
    "            evaluations.append({**row, **result})\n",
    "        else:\n",
    "            evaluations.append({**row, \"relevance\": None, \"creativity\": None, \n",
    "                                \"brandability\": None, \"safety\": None, \"comments\": \"Failed to evaluate\"})\n",
    "\n",
    "    pd.DataFrame(evaluations).to_csv(output_path, index=False)\n",
    "    print(f\"Saved evaluations to {output_path}\")"
   ]
  },
  {
   "cell_type": "code",
   "execution_count": 6,
   "id": "946d1a3b",
   "metadata": {
    "execution": {
     "iopub.execute_input": "2025-07-30T14:58:13.799487Z",
     "iopub.status.busy": "2025-07-30T14:58:13.799293Z",
     "iopub.status.idle": "2025-07-30T14:58:13.845115Z",
     "shell.execute_reply": "2025-07-30T14:58:13.844300Z"
    },
    "papermill": {
     "duration": 0.049075,
     "end_time": "2025-07-30T14:58:13.846336",
     "exception": false,
     "start_time": "2025-07-30T14:58:13.797261",
     "status": "completed"
    },
    "tags": []
   },
   "outputs": [
    {
     "name": "stderr",
     "output_type": "stream",
     "text": [
      "100%|██████████| 20/20 [00:00<00:00, 4555.07it/s]"
     ]
    },
    {
     "name": "stdout",
     "output_type": "stream",
     "text": [
      "Saved evaluations to judged_domains-small-v1.csv\n"
     ]
    },
    {
     "name": "stderr",
     "output_type": "stream",
     "text": [
      "\n"
     ]
    }
   ],
   "source": [
    "# Run the evaluations \n",
    "version = 'v1'\n",
    "flag = 'small'\n",
    "input_file = f'/kaggle/input/domain-name-generator/data/predictions_eval-{version}-{flag}.csv'\n",
    "output_file = f'judged_domains-{flag}-{version}.csv'\n",
    "evaluate_domains(input_file, output_file)"
   ]
  }
 ],
 "metadata": {
  "kaggle": {
   "accelerator": "none",
   "dataSources": [
    {
     "datasetId": 7943647,
     "sourceId": 12623369,
     "sourceType": "datasetVersion"
    }
   ],
   "dockerImageVersionId": 31090,
   "isGpuEnabled": false,
   "isInternetEnabled": true,
   "language": "python",
   "sourceType": "notebook"
  },
  "kernelspec": {
   "display_name": "Python 3",
   "language": "python",
   "name": "python3"
  },
  "language_info": {
   "codemirror_mode": {
    "name": "ipython",
    "version": 3
   },
   "file_extension": ".py",
   "mimetype": "text/x-python",
   "name": "python",
   "nbconvert_exporter": "python",
   "pygments_lexer": "ipython3",
   "version": "3.11.13"
  },
  "papermill": {
   "default_parameters": {},
   "duration": 12.10136,
   "end_time": "2025-07-30T14:58:14.366803",
   "environment_variables": {},
   "exception": null,
   "input_path": "__notebook__.ipynb",
   "output_path": "__notebook__.ipynb",
   "parameters": {},
   "start_time": "2025-07-30T14:58:02.265443",
   "version": "2.6.0"
  }
 },
 "nbformat": 4,
 "nbformat_minor": 5
}
