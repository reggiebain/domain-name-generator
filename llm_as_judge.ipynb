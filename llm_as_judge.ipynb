{
 "cells": [
  {
   "cell_type": "markdown",
   "id": "274fad6b",
   "metadata": {
    "papermill": {
     "duration": 0.002047,
     "end_time": "2025-07-30T14:20:00.405777",
     "exception": false,
     "start_time": "2025-07-30T14:20:00.403730",
     "status": "completed"
    },
    "tags": []
   },
   "source": [
    "# Part 3 - LLM as Judge\n",
    "- Use proprietary LLM to assess domain names created by fine tuned llm\n",
    "- This finishes off the pipeline and utlizes a rubric to assess the names (in addition to the BLEU/ROUGE metrics we used already)"
   ]
  },
  {
   "cell_type": "code",
   "execution_count": 1,
   "id": "af6a2667",
   "metadata": {
    "execution": {
     "iopub.execute_input": "2025-07-30T14:20:00.410055Z",
     "iopub.status.busy": "2025-07-30T14:20:00.409790Z",
     "iopub.status.idle": "2025-07-30T14:20:04.310481Z",
     "shell.execute_reply": "2025-07-30T14:20:04.309352Z"
    },
    "papermill": {
     "duration": 3.905052,
     "end_time": "2025-07-30T14:20:04.312485",
     "exception": false,
     "start_time": "2025-07-30T14:20:00.407433",
     "status": "completed"
    },
    "tags": []
   },
   "outputs": [],
   "source": [
    "!pip install -q openai"
   ]
  },
  {
   "cell_type": "code",
   "execution_count": 2,
   "id": "0eac7979",
   "metadata": {
    "execution": {
     "iopub.execute_input": "2025-07-30T14:20:04.317276Z",
     "iopub.status.busy": "2025-07-30T14:20:04.316660Z",
     "iopub.status.idle": "2025-07-30T14:20:07.283706Z",
     "shell.execute_reply": "2025-07-30T14:20:07.283104Z"
    },
    "papermill": {
     "duration": 2.970822,
     "end_time": "2025-07-30T14:20:07.285120",
     "exception": false,
     "start_time": "2025-07-30T14:20:04.314298",
     "status": "completed"
    },
    "tags": []
   },
   "outputs": [],
   "source": [
    "import os\n",
    "import openai\n",
    "from openai import OpenAI\n",
    "import json\n",
    "import pandas as pd\n",
    "from tqdm import tqdm\n",
    "\n",
    "from kaggle_secrets import UserSecretsClient\n",
    "user_secrets = UserSecretsClient()\n",
    "#openai.api_key = user_secrets.get_secret(\"openai_api_key\")\n",
    "api_key = user_secrets.get_secret(\"openai_api_key\")"
   ]
  },
  {
   "cell_type": "code",
   "execution_count": 3,
   "id": "d520aab0",
   "metadata": {
    "execution": {
     "iopub.execute_input": "2025-07-30T14:20:07.289659Z",
     "iopub.status.busy": "2025-07-30T14:20:07.289069Z",
     "iopub.status.idle": "2025-07-30T14:20:07.293329Z",
     "shell.execute_reply": "2025-07-30T14:20:07.292637Z"
    },
    "papermill": {
     "duration": 0.007615,
     "end_time": "2025-07-30T14:20:07.294558",
     "exception": false,
     "start_time": "2025-07-30T14:20:07.286943",
     "status": "completed"
    },
    "tags": []
   },
   "outputs": [],
   "source": [
    "def format_prompt(description: str, domain_name: dict) -> str:\n",
    "    return f\"\"\"\n",
    "You are an expert branding consultant. Your task is to evaluate the quality of a proposed domain name for a business.\n",
    "\n",
    "Business Description:\n",
    "\\\"\\\"\\\"{description}\\\"\\\"\\\"\n",
    "\n",
    "Proposed Domain Name:\n",
    "\\\"\\\"\\\"{domain_name}\\\"\\\"\\\"\n",
    "\n",
    "Evaluate the domain on the following criteria:\n",
    "1. **Relevance**: Does the domain name relate well to the business?\n",
    "2. **Creativity**: Is the name original and imaginative?\n",
    "3. **Brandability**: Is it catchy, easy to remember, and easy to spell?\n",
    "4. **Safety**: Is the name appropriate and free of offensive language?\n",
    "\n",
    "Provide a JSON response like:\n",
    "{{\n",
    "  \"relevance\": 4,\n",
    "  \"creativity\": 5,\n",
    "  \"brandability\": 4,\n",
    "  \"safety\": 5,\n",
    "  \"comments\": \"Creative and brandable. Slightly generic but safe and relevant.\"\n",
    "}}\n",
    "\n",
    "ONLY respond with the JSON and nothing else.\n",
    "\"\"\""
   ]
  },
  {
   "cell_type": "code",
   "execution_count": 4,
   "id": "54d2df6d",
   "metadata": {
    "execution": {
     "iopub.execute_input": "2025-07-30T14:20:07.298333Z",
     "iopub.status.busy": "2025-07-30T14:20:07.297959Z",
     "iopub.status.idle": "2025-07-30T14:20:07.540418Z",
     "shell.execute_reply": "2025-07-30T14:20:07.539859Z"
    },
    "papermill": {
     "duration": 0.245722,
     "end_time": "2025-07-30T14:20:07.541751",
     "exception": false,
     "start_time": "2025-07-30T14:20:07.296029",
     "status": "completed"
    },
    "tags": []
   },
   "outputs": [],
   "source": [
    "# Initialize OpenAI client\n",
    "client = OpenAI(api_key=api_key)\n",
    "\n",
    "def call_judge(prompt):\n",
    "    #prompt = format_prompt(description, domain_name)\n",
    "\n",
    "    response = client.chat.completions.create(\n",
    "        model=\"gpt-4\",\n",
    "        messages=[{\"role\": \"user\", \"content\": prompt}],\n",
    "        temperature=0.3,\n",
    "    )\n",
    "\n",
    "    content = response.choices[0].message.content.strip()\n",
    "    try:\n",
    "        parsed = json.loads(content)\n",
    "    except json.JSONDecodeError:\n",
    "        parsed = eval(content)  # fallback (not recommended)\n",
    "        return None\n",
    "    return parsed"
   ]
  },
  {
   "cell_type": "code",
   "execution_count": 5,
   "id": "6c06d5ad",
   "metadata": {
    "execution": {
     "iopub.execute_input": "2025-07-30T14:20:07.546378Z",
     "iopub.status.busy": "2025-07-30T14:20:07.545914Z",
     "iopub.status.idle": "2025-07-30T14:20:07.550522Z",
     "shell.execute_reply": "2025-07-30T14:20:07.550033Z"
    },
    "papermill": {
     "duration": 0.008045,
     "end_time": "2025-07-30T14:20:07.551549",
     "exception": false,
     "start_time": "2025-07-30T14:20:07.543504",
     "status": "completed"
    },
    "tags": []
   },
   "outputs": [],
   "source": [
    "def evaluate_domains(pred_csv_path, output_path):\n",
    "    df = pd.read_csv(pred_csv_path)\n",
    "    evaluations = []\n",
    "\n",
    "    for _, row in tqdm(df.iterrows(), total=len(df)):\n",
    "        if not row['is_valid_domain']:\n",
    "            continue\n",
    "        prompt = format_prompt(row[\"description\"], row[\"pred\"])\n",
    "        result = call_judge(prompt)\n",
    "\n",
    "        if result:\n",
    "            evaluations.append({**row, **result})\n",
    "        else:\n",
    "            evaluations.append({**row, \"relevance\": None, \"creativity\": None, \n",
    "                                \"brandability\": None, \"safety\": None, \"comments\": \"Failed to evaluate\"})\n",
    "\n",
    "    pd.DataFrame(evaluations).to_csv(output_path, index=False)\n",
    "    print(f\"Saved evaluations to {output_path}\")"
   ]
  },
  {
   "cell_type": "code",
   "execution_count": 6,
   "id": "725275ab",
   "metadata": {
    "execution": {
     "iopub.execute_input": "2025-07-30T14:20:07.555230Z",
     "iopub.status.busy": "2025-07-30T14:20:07.555058Z",
     "iopub.status.idle": "2025-07-30T14:20:11.852948Z",
     "shell.execute_reply": "2025-07-30T14:20:11.851997Z"
    },
    "papermill": {
     "duration": 4.301077,
     "end_time": "2025-07-30T14:20:11.854133",
     "exception": false,
     "start_time": "2025-07-30T14:20:07.553056",
     "status": "completed"
    },
    "tags": []
   },
   "outputs": [
    {
     "name": "stderr",
     "output_type": "stream",
     "text": [
      "100%|██████████| 20/20 [00:04<00:00,  4.78it/s]"
     ]
    },
    {
     "name": "stdout",
     "output_type": "stream",
     "text": [
      "Saved evaluations to judged_domains-small-v1.csv\n"
     ]
    },
    {
     "name": "stderr",
     "output_type": "stream",
     "text": [
      "\n"
     ]
    }
   ],
   "source": [
    "# Run the evaluations \n",
    "version = 'v1'\n",
    "flag = 'small'\n",
    "input_file = f'/kaggle/input/domain-name-generator/data/predictions_eval-{version}-{flag}.csv'\n",
    "output_file = f'judged_domains-{flag}-{version}.csv'\n",
    "evaluate_domains(input_file, output_file)"
   ]
  }
 ],
 "metadata": {
  "kaggle": {
   "accelerator": "none",
   "dataSources": [
    {
     "datasetId": 7943647,
     "sourceId": 12623126,
     "sourceType": "datasetVersion"
    }
   ],
   "dockerImageVersionId": 31090,
   "isGpuEnabled": false,
   "isInternetEnabled": true,
   "language": "python",
   "sourceType": "notebook"
  },
  "kernelspec": {
   "display_name": "Python 3",
   "language": "python",
   "name": "python3"
  },
  "language_info": {
   "codemirror_mode": {
    "name": "ipython",
    "version": 3
   },
   "file_extension": ".py",
   "mimetype": "text/x-python",
   "name": "python",
   "nbconvert_exporter": "python",
   "pygments_lexer": "ipython3",
   "version": "3.11.13"
  },
  "papermill": {
   "default_parameters": {},
   "duration": 16.150605,
   "end_time": "2025-07-30T14:20:12.473573",
   "environment_variables": {},
   "exception": null,
   "input_path": "__notebook__.ipynb",
   "output_path": "__notebook__.ipynb",
   "parameters": {},
   "start_time": "2025-07-30T14:19:56.322968",
   "version": "2.6.0"
  }
 },
 "nbformat": 4,
 "nbformat_minor": 5
}
