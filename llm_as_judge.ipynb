{
 "cells": [
  {
   "cell_type": "markdown",
   "id": "931de0a3",
   "metadata": {
    "papermill": {
     "duration": 0.002087,
     "end_time": "2025-07-30T15:04:00.801813",
     "exception": false,
     "start_time": "2025-07-30T15:04:00.799726",
     "status": "completed"
    },
    "tags": []
   },
   "source": [
    "# Part 3 - LLM as Judge\n",
    "- Use proprietary LLM to assess domain names created by fine tuned llm\n",
    "- This finishes off the pipeline and utlizes a rubric to assess the names (in addition to the BLEU/ROUGE metrics we used already)"
   ]
  },
  {
   "cell_type": "code",
   "execution_count": 1,
   "id": "57187de9",
   "metadata": {
    "execution": {
     "iopub.execute_input": "2025-07-30T15:04:00.806505Z",
     "iopub.status.busy": "2025-07-30T15:04:00.805878Z",
     "iopub.status.idle": "2025-07-30T15:04:04.776900Z",
     "shell.execute_reply": "2025-07-30T15:04:04.776069Z"
    },
    "papermill": {
     "duration": 3.975246,
     "end_time": "2025-07-30T15:04:04.778812",
     "exception": false,
     "start_time": "2025-07-30T15:04:00.803566",
     "status": "completed"
    },
    "tags": []
   },
   "outputs": [],
   "source": [
    "!pip install -q openai"
   ]
  },
  {
   "cell_type": "code",
   "execution_count": 2,
   "id": "3cdc1afe",
   "metadata": {
    "execution": {
     "iopub.execute_input": "2025-07-30T15:04:04.783102Z",
     "iopub.status.busy": "2025-07-30T15:04:04.782888Z",
     "iopub.status.idle": "2025-07-30T15:04:07.689192Z",
     "shell.execute_reply": "2025-07-30T15:04:07.688418Z"
    },
    "papermill": {
     "duration": 2.910055,
     "end_time": "2025-07-30T15:04:07.690649",
     "exception": false,
     "start_time": "2025-07-30T15:04:04.780594",
     "status": "completed"
    },
    "tags": []
   },
   "outputs": [],
   "source": [
    "import os\n",
    "import openai\n",
    "from openai import OpenAI\n",
    "import json\n",
    "import pandas as pd\n",
    "from tqdm import tqdm\n",
    "\n",
    "from kaggle_secrets import UserSecretsClient\n",
    "user_secrets = UserSecretsClient()\n",
    "#openai.api_key = user_secrets.get_secret(\"openai_api_key\")\n",
    "api_key = user_secrets.get_secret(\"openai_api_key\")"
   ]
  },
  {
   "cell_type": "code",
   "execution_count": 3,
   "id": "842f3a1d",
   "metadata": {
    "execution": {
     "iopub.execute_input": "2025-07-30T15:04:07.694781Z",
     "iopub.status.busy": "2025-07-30T15:04:07.694453Z",
     "iopub.status.idle": "2025-07-30T15:04:07.698554Z",
     "shell.execute_reply": "2025-07-30T15:04:07.697890Z"
    },
    "papermill": {
     "duration": 0.007188,
     "end_time": "2025-07-30T15:04:07.699539",
     "exception": false,
     "start_time": "2025-07-30T15:04:07.692351",
     "status": "completed"
    },
    "tags": []
   },
   "outputs": [],
   "source": [
    "def format_prompt(description: str, domain_name: dict) -> str:\n",
    "    return f\"\"\"\n",
    "You are an expert branding consultant. Your task is to evaluate the quality of a proposed domain name for a business.\n",
    "\n",
    "Business Description:\n",
    "\\\"\\\"\\\"{description}\\\"\\\"\\\"\n",
    "\n",
    "Proposed Domain Name:\n",
    "\\\"\\\"\\\"{domain_name}\\\"\\\"\\\"\n",
    "\n",
    "Evaluate the domain on the following criteria, providing scores from 0-5 for each criteria:\n",
    "1. **Relevance**: Does the domain name relate well to the business?\n",
    "2. **Creativity**: Is the name original and imaginative?\n",
    "3. **Brandability**: Is it catchy, easy to remember, and easy to spell?\n",
    "4. **Safety**: Is the name appropriate and free of offensive language?\n",
    "\n",
    "Provide a JSON response like:\n",
    "{{\n",
    "  \"relevance\": 4,\n",
    "  \"creativity\": 5,\n",
    "  \"brandability\": 4,\n",
    "  \"safety\": 5,\n",
    "  \"comments\": \"Creative and brandable. Slightly generic but safe and relevant.\"\n",
    "}}\n",
    "\n",
    "ONLY respond with the JSON and nothing else.\n",
    "\"\"\""
   ]
  },
  {
   "cell_type": "code",
   "execution_count": 4,
   "id": "b6edb6d1",
   "metadata": {
    "execution": {
     "iopub.execute_input": "2025-07-30T15:04:07.702982Z",
     "iopub.status.busy": "2025-07-30T15:04:07.702784Z",
     "iopub.status.idle": "2025-07-30T15:04:07.942765Z",
     "shell.execute_reply": "2025-07-30T15:04:07.941998Z"
    },
    "papermill": {
     "duration": 0.243221,
     "end_time": "2025-07-30T15:04:07.944162",
     "exception": false,
     "start_time": "2025-07-30T15:04:07.700941",
     "status": "completed"
    },
    "tags": []
   },
   "outputs": [],
   "source": [
    "# Initialize OpenAI client\n",
    "client = OpenAI(api_key=api_key)\n",
    "\n",
    "def call_judge(prompt):\n",
    "    #prompt = format_prompt(description, domain_name)\n",
    "\n",
    "    response = client.chat.completions.create(\n",
    "        model=\"gpt-4\",\n",
    "        messages=[{\"role\": \"user\", \"content\": prompt}],\n",
    "        temperature=0.3,\n",
    "    )\n",
    "\n",
    "    content = response.choices[0].message.content.strip()\n",
    "    try:\n",
    "        parsed = json.loads(content)\n",
    "    except json.JSONDecodeError:\n",
    "        parsed = eval(content)  # fallback (not recommended)\n",
    "        return None\n",
    "    return parsed"
   ]
  },
  {
   "cell_type": "code",
   "execution_count": 5,
   "id": "7b10dab0",
   "metadata": {
    "execution": {
     "iopub.execute_input": "2025-07-30T15:04:07.948825Z",
     "iopub.status.busy": "2025-07-30T15:04:07.948331Z",
     "iopub.status.idle": "2025-07-30T15:04:07.952896Z",
     "shell.execute_reply": "2025-07-30T15:04:07.952415Z"
    },
    "papermill": {
     "duration": 0.007937,
     "end_time": "2025-07-30T15:04:07.953854",
     "exception": false,
     "start_time": "2025-07-30T15:04:07.945917",
     "status": "completed"
    },
    "tags": []
   },
   "outputs": [],
   "source": [
    "def evaluate_domains(pred_csv_path, output_path):\n",
    "    df = pd.read_csv(pred_csv_path)\n",
    "    evaluations = []\n",
    "\n",
    "    for _, row in tqdm(df.iterrows(), total=len(df)):\n",
    "        #if not row['is_valid_domain']:\n",
    "        #    continue\n",
    "        prompt = format_prompt(row[\"description\"], row[\"pred\"])\n",
    "        result = call_judge(prompt)\n",
    "\n",
    "        if result:\n",
    "            evaluations.append({**row, **result})\n",
    "        else:\n",
    "            evaluations.append({**row, \"relevance\": None, \"creativity\": None, \n",
    "                                \"brandability\": None, \"safety\": None, \"comments\": \"Failed to evaluate\"})\n",
    "\n",
    "    pd.DataFrame(evaluations).to_csv(output_path, index=False)\n",
    "    print(f\"Saved evaluations to {output_path}\")"
   ]
  },
  {
   "cell_type": "code",
   "execution_count": 6,
   "id": "523069e2",
   "metadata": {
    "execution": {
     "iopub.execute_input": "2025-07-30T15:04:07.957765Z",
     "iopub.status.busy": "2025-07-30T15:04:07.957392Z",
     "iopub.status.idle": "2025-07-30T15:05:31.493000Z",
     "shell.execute_reply": "2025-07-30T15:05:31.491935Z"
    },
    "papermill": {
     "duration": 83.538765,
     "end_time": "2025-07-30T15:05:31.494135",
     "exception": false,
     "start_time": "2025-07-30T15:04:07.955370",
     "status": "completed"
    },
    "tags": []
   },
   "outputs": [
    {
     "name": "stderr",
     "output_type": "stream",
     "text": [
      "100%|██████████| 20/20 [01:23<00:00,  4.17s/it]"
     ]
    },
    {
     "name": "stdout",
     "output_type": "stream",
     "text": [
      "Saved evaluations to judged_domains-small-v1.csv\n"
     ]
    },
    {
     "name": "stderr",
     "output_type": "stream",
     "text": [
      "\n"
     ]
    }
   ],
   "source": [
    "# Run the evaluations \n",
    "version = 'v1'\n",
    "flag = 'small'\n",
    "input_file = f'/kaggle/input/domain-name-generator/data/predictions_eval-{version}-{flag}.csv'\n",
    "output_file = f'judged_domains-{flag}-{version}.csv'\n",
    "evaluate_domains(input_file, output_file)"
   ]
  }
 ],
 "metadata": {
  "kaggle": {
   "accelerator": "gpu",
   "dataSources": [
    {
     "datasetId": 7943647,
     "sourceId": 12623369,
     "sourceType": "datasetVersion"
    }
   ],
   "dockerImageVersionId": 31090,
   "isGpuEnabled": true,
   "isInternetEnabled": true,
   "language": "python",
   "sourceType": "notebook"
  },
  "kernelspec": {
   "display_name": "Python 3",
   "language": "python",
   "name": "python3"
  },
  "language_info": {
   "codemirror_mode": {
    "name": "ipython",
    "version": 3
   },
   "file_extension": ".py",
   "mimetype": "text/x-python",
   "name": "python",
   "nbconvert_exporter": "python",
   "pygments_lexer": "ipython3",
   "version": "3.11.13"
  },
  "papermill": {
   "default_parameters": {},
   "duration": 95.391047,
   "end_time": "2025-07-30T15:05:32.113943",
   "environment_variables": {},
   "exception": null,
   "input_path": "__notebook__.ipynb",
   "output_path": "__notebook__.ipynb",
   "parameters": {},
   "start_time": "2025-07-30T15:03:56.722896",
   "version": "2.6.0"
  }
 },
 "nbformat": 4,
 "nbformat_minor": 5
}
