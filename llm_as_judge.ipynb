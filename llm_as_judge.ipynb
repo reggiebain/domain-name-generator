{
 "cells": [
  {
   "cell_type": "markdown",
   "id": "9129c80a",
   "metadata": {
    "papermill": {
     "duration": 0.002084,
     "end_time": "2025-07-30T15:11:34.687575",
     "exception": false,
     "start_time": "2025-07-30T15:11:34.685491",
     "status": "completed"
    },
    "tags": []
   },
   "source": [
    "# Part 3 - LLM as Judge\n",
    "- Use proprietary LLM to assess domain names created by fine tuned llm\n",
    "- This finishes off the pipeline and utlizes a rubric to assess the names (in addition to the BLEU/ROUGE metrics we used already)"
   ]
  },
  {
   "cell_type": "code",
   "execution_count": 1,
   "id": "ba8372f8",
   "metadata": {
    "execution": {
     "iopub.execute_input": "2025-07-30T15:11:34.692183Z",
     "iopub.status.busy": "2025-07-30T15:11:34.691877Z",
     "iopub.status.idle": "2025-07-30T15:11:39.012527Z",
     "shell.execute_reply": "2025-07-30T15:11:39.011489Z"
    },
    "papermill": {
     "duration": 4.325524,
     "end_time": "2025-07-30T15:11:39.014893",
     "exception": false,
     "start_time": "2025-07-30T15:11:34.689369",
     "status": "completed"
    },
    "tags": []
   },
   "outputs": [],
   "source": [
    "!pip install -q openai"
   ]
  },
  {
   "cell_type": "code",
   "execution_count": 2,
   "id": "03537019",
   "metadata": {
    "execution": {
     "iopub.execute_input": "2025-07-30T15:11:39.019483Z",
     "iopub.status.busy": "2025-07-30T15:11:39.019223Z",
     "iopub.status.idle": "2025-07-30T15:11:42.059208Z",
     "shell.execute_reply": "2025-07-30T15:11:42.058643Z"
    },
    "papermill": {
     "duration": 3.043794,
     "end_time": "2025-07-30T15:11:42.060628",
     "exception": false,
     "start_time": "2025-07-30T15:11:39.016834",
     "status": "completed"
    },
    "tags": []
   },
   "outputs": [],
   "source": [
    "import os\n",
    "import openai\n",
    "from openai import OpenAI\n",
    "import json\n",
    "import pandas as pd\n",
    "from tqdm import tqdm\n",
    "\n",
    "from kaggle_secrets import UserSecretsClient\n",
    "user_secrets = UserSecretsClient()\n",
    "#openai.api_key = user_secrets.get_secret(\"openai_api_key\")\n",
    "api_key = user_secrets.get_secret(\"openai_api_key\")"
   ]
  },
  {
   "cell_type": "code",
   "execution_count": 3,
   "id": "3eff04f6",
   "metadata": {
    "execution": {
     "iopub.execute_input": "2025-07-30T15:11:42.065292Z",
     "iopub.status.busy": "2025-07-30T15:11:42.064747Z",
     "iopub.status.idle": "2025-07-30T15:11:42.069264Z",
     "shell.execute_reply": "2025-07-30T15:11:42.068494Z"
    },
    "papermill": {
     "duration": 0.007898,
     "end_time": "2025-07-30T15:11:42.070409",
     "exception": false,
     "start_time": "2025-07-30T15:11:42.062511",
     "status": "completed"
    },
    "tags": []
   },
   "outputs": [],
   "source": [
    "def format_prompt(description: str, domain_name: dict) -> str:\n",
    "    return f\"\"\"\n",
    "You are an expert branding consultant. Your task is to evaluate the quality of a proposed domain name for a business.\n",
    "\n",
    "Business Description:\n",
    "\\\"\\\"\\\"{description}\\\"\\\"\\\"\n",
    "\n",
    "Proposed Domain Name:\n",
    "\\\"\\\"\\\"{domain_name}\\\"\\\"\\\"\n",
    "\n",
    "Evaluate the domain on the following criteria, providing scores from 0-5 for each criteria:\n",
    "1. **Validity**: Is the text provided a valid domain name exactly as provided?\n",
    "1. **Relevance**: Does the domain name relate well to the business?\n",
    "2. **Creativity**: Is the name original and imaginative?\n",
    "3. **Brandability**: Is it catchy, easy to remember, and easy to spell?\n",
    "4. **Safety**: Is the name appropriate and free of offensive language?\n",
    "\n",
    "Provide a JSON response like:\n",
    "{{\n",
    "  \"validity\": 3,\n",
    "  \"relevance\": 4,\n",
    "  \"creativity\": 5,\n",
    "  \"brandability\": 4,\n",
    "  \"safety\": 5,\n",
    "  \"comments\": \"Creative and brandable. Slightly generic but safe and relevant.\"\n",
    "}}\n",
    "\n",
    "ONLY respond with the JSON and nothing else.\n",
    "\"\"\""
   ]
  },
  {
   "cell_type": "code",
   "execution_count": 4,
   "id": "46251693",
   "metadata": {
    "execution": {
     "iopub.execute_input": "2025-07-30T15:11:42.074083Z",
     "iopub.status.busy": "2025-07-30T15:11:42.073883Z",
     "iopub.status.idle": "2025-07-30T15:11:42.408466Z",
     "shell.execute_reply": "2025-07-30T15:11:42.407693Z"
    },
    "papermill": {
     "duration": 0.338143,
     "end_time": "2025-07-30T15:11:42.410028",
     "exception": false,
     "start_time": "2025-07-30T15:11:42.071885",
     "status": "completed"
    },
    "tags": []
   },
   "outputs": [],
   "source": [
    "# Initialize OpenAI client\n",
    "client = OpenAI(api_key=api_key)\n",
    "\n",
    "def call_judge(prompt):\n",
    "    #prompt = format_prompt(description, domain_name)\n",
    "\n",
    "    response = client.chat.completions.create(\n",
    "        model=\"gpt-4\",\n",
    "        messages=[{\"role\": \"user\", \"content\": prompt}],\n",
    "        temperature=0.3,\n",
    "    )\n",
    "\n",
    "    content = response.choices[0].message.content.strip()\n",
    "    try:\n",
    "        parsed = json.loads(content)\n",
    "    except json.JSONDecodeError:\n",
    "        parsed = eval(content)  # fallback (not recommended)\n",
    "        return None\n",
    "    return parsed"
   ]
  },
  {
   "cell_type": "code",
   "execution_count": 5,
   "id": "0063c9a4",
   "metadata": {
    "execution": {
     "iopub.execute_input": "2025-07-30T15:11:42.414690Z",
     "iopub.status.busy": "2025-07-30T15:11:42.414206Z",
     "iopub.status.idle": "2025-07-30T15:11:42.419383Z",
     "shell.execute_reply": "2025-07-30T15:11:42.418739Z"
    },
    "papermill": {
     "duration": 0.008583,
     "end_time": "2025-07-30T15:11:42.420591",
     "exception": false,
     "start_time": "2025-07-30T15:11:42.412008",
     "status": "completed"
    },
    "tags": []
   },
   "outputs": [],
   "source": [
    "def evaluate_domains(pred_csv_path, output_path):\n",
    "    df = pd.read_csv(pred_csv_path)\n",
    "    evaluations = []\n",
    "\n",
    "    for _, row in tqdm(df.iterrows(), total=len(df)):\n",
    "        #if not row['is_valid_domain']:\n",
    "        #    continue\n",
    "        prompt = format_prompt(row[\"description\"], row[\"pred\"])\n",
    "        result = call_judge(prompt)\n",
    "\n",
    "        if result:\n",
    "            evaluations.append({**row, **result})\n",
    "        else:\n",
    "            evaluations.append({**row, \"relevance\": None, \"creativity\": None, \n",
    "                                \"brandability\": None, \"safety\": None, \"comments\": \"Failed to evaluate\"})\n",
    "\n",
    "    pd.DataFrame(evaluations).to_csv(output_path, index=False)\n",
    "    print(f\"Saved evaluations to {output_path}\")"
   ]
  },
  {
   "cell_type": "code",
   "execution_count": 6,
   "id": "8a910b48",
   "metadata": {
    "execution": {
     "iopub.execute_input": "2025-07-30T15:11:42.424434Z",
     "iopub.status.busy": "2025-07-30T15:11:42.424214Z",
     "iopub.status.idle": "2025-07-30T15:13:25.824361Z",
     "shell.execute_reply": "2025-07-30T15:13:25.823344Z"
    },
    "papermill": {
     "duration": 103.40349,
     "end_time": "2025-07-30T15:13:25.825662",
     "exception": false,
     "start_time": "2025-07-30T15:11:42.422172",
     "status": "completed"
    },
    "tags": []
   },
   "outputs": [
    {
     "name": "stderr",
     "output_type": "stream",
     "text": [
      "100%|██████████| 20/20 [01:43<00:00,  5.17s/it]"
     ]
    },
    {
     "name": "stdout",
     "output_type": "stream",
     "text": [
      "Saved evaluations to judged_domains-small-v1.csv\n"
     ]
    },
    {
     "name": "stderr",
     "output_type": "stream",
     "text": [
      "\n"
     ]
    }
   ],
   "source": [
    "# Run the evaluations \n",
    "version = 'v1'\n",
    "flag = 'small'\n",
    "input_file = f'/kaggle/input/domain-name-generator/data/predictions_eval-{version}-{flag}.csv'\n",
    "output_file = f'judged_domains-{flag}-{version}.csv'\n",
    "evaluate_domains(input_file, output_file)"
   ]
  }
 ],
 "metadata": {
  "kaggle": {
   "accelerator": "gpu",
   "dataSources": [
    {
     "datasetId": 7943647,
     "sourceId": 12623369,
     "sourceType": "datasetVersion"
    }
   ],
   "dockerImageVersionId": 31090,
   "isGpuEnabled": true,
   "isInternetEnabled": true,
   "language": "python",
   "sourceType": "notebook"
  },
  "kernelspec": {
   "display_name": "Python 3",
   "language": "python",
   "name": "python3"
  },
  "language_info": {
   "codemirror_mode": {
    "name": "ipython",
    "version": 3
   },
   "file_extension": ".py",
   "mimetype": "text/x-python",
   "name": "python",
   "nbconvert_exporter": "python",
   "pygments_lexer": "ipython3",
   "version": "3.11.13"
  },
  "papermill": {
   "default_parameters": {},
   "duration": 116.338343,
   "end_time": "2025-07-30T15:13:26.547503",
   "environment_variables": {},
   "exception": null,
   "input_path": "__notebook__.ipynb",
   "output_path": "__notebook__.ipynb",
   "parameters": {},
   "start_time": "2025-07-30T15:11:30.209160",
   "version": "2.6.0"
  }
 },
 "nbformat": 4,
 "nbformat_minor": 5
}
