{
 "cells": [
  {
   "cell_type": "markdown",
   "id": "a43bf995",
   "metadata": {
    "papermill": {
     "duration": 0.004516,
     "end_time": "2025-07-30T17:55:19.382831",
     "exception": false,
     "start_time": "2025-07-30T17:55:19.378315",
     "status": "completed"
    },
    "tags": []
   },
   "source": [
    "# Part 2 - Fine Tune LLM\n",
    "- Fine tune LLM on our synthetically generated dataset to generate domain names from descriptions.\n",
    "- Do preliminary evaluation using various standard NLP metrics such as rouge, bleu, levenshtein, etc.\n",
    "- Due to time and Kaggle storage constraints, we'll just run this script changing different hyperparameters by hand as opposed to running a for loop over multiple configs, which would lead to a huge amount of space being used that will exceed the output allowance.\n",
    "- We will ultiamtely vary:\n",
    "    - Batch Size\n",
    "    - Learning Rate\n",
    "    - Switch on/off LoRA and PEFT"
   ]
  },
  {
   "cell_type": "code",
   "execution_count": 1,
   "id": "26d3db7b",
   "metadata": {
    "execution": {
     "iopub.execute_input": "2025-07-30T17:55:19.391576Z",
     "iopub.status.busy": "2025-07-30T17:55:19.391314Z",
     "iopub.status.idle": "2025-07-30T17:55:19.397081Z",
     "shell.execute_reply": "2025-07-30T17:55:19.396531Z"
    },
    "papermill": {
     "duration": 0.011376,
     "end_time": "2025-07-30T17:55:19.398181",
     "exception": false,
     "start_time": "2025-07-30T17:55:19.386805",
     "status": "completed"
    },
    "tags": []
   },
   "outputs": [],
   "source": [
    "VERSION = 'v2'\n",
    "FLAG = 'large'"
   ]
  },
  {
   "cell_type": "code",
   "execution_count": 2,
   "id": "aa64fa07",
   "metadata": {
    "execution": {
     "iopub.execute_input": "2025-07-30T17:55:19.406407Z",
     "iopub.status.busy": "2025-07-30T17:55:19.405717Z",
     "iopub.status.idle": "2025-07-30T17:56:41.531034Z",
     "shell.execute_reply": "2025-07-30T17:56:41.530310Z"
    },
    "papermill": {
     "duration": 82.130823,
     "end_time": "2025-07-30T17:56:41.532552",
     "exception": false,
     "start_time": "2025-07-30T17:55:19.401729",
     "status": "completed"
    },
    "tags": []
   },
   "outputs": [
    {
     "name": "stdout",
     "output_type": "stream",
     "text": [
      "  Preparing metadata (setup.py) ... \u001b[?25l\u001b[?25hdone\r\n",
      "\u001b[2K   \u001b[90m━━━━━━━━━━━━━━━━━━━━━━━━━━━━━━━━━━━━━━━━\u001b[0m \u001b[32m363.4/363.4 MB\u001b[0m \u001b[31m5.0 MB/s\u001b[0m eta \u001b[36m0:00:00\u001b[0m\r\n",
      "\u001b[2K   \u001b[90m━━━━━━━━━━━━━━━━━━━━━━━━━━━━━━━━━━━━━━━━\u001b[0m \u001b[32m13.8/13.8 MB\u001b[0m \u001b[31m97.3 MB/s\u001b[0m eta \u001b[36m0:00:00\u001b[0m\r\n",
      "\u001b[2K   \u001b[90m━━━━━━━━━━━━━━━━━━━━━━━━━━━━━━━━━━━━━━━━\u001b[0m \u001b[32m24.6/24.6 MB\u001b[0m \u001b[31m77.3 MB/s\u001b[0m eta \u001b[36m0:00:00\u001b[0m\r\n",
      "\u001b[2K   \u001b[90m━━━━━━━━━━━━━━━━━━━━━━━━━━━━━━━━━━━━━━━━\u001b[0m \u001b[32m883.7/883.7 kB\u001b[0m \u001b[31m41.2 MB/s\u001b[0m eta \u001b[36m0:00:00\u001b[0m\r\n",
      "\u001b[2K   \u001b[90m━━━━━━━━━━━━━━━━━━━━━━━━━━━━━━━━━━━━━━━━\u001b[0m \u001b[32m664.8/664.8 MB\u001b[0m \u001b[31m2.5 MB/s\u001b[0m eta \u001b[36m0:00:00\u001b[0m\r\n",
      "\u001b[2K   \u001b[90m━━━━━━━━━━━━━━━━━━━━━━━━━━━━━━━━━━━━━━━━\u001b[0m \u001b[32m211.5/211.5 MB\u001b[0m \u001b[31m5.2 MB/s\u001b[0m eta \u001b[36m0:00:00\u001b[0m\r\n",
      "\u001b[2K   \u001b[90m━━━━━━━━━━━━━━━━━━━━━━━━━━━━━━━━━━━━━━━━\u001b[0m \u001b[32m56.3/56.3 MB\u001b[0m \u001b[31m30.7 MB/s\u001b[0m eta \u001b[36m0:00:00\u001b[0m\r\n",
      "\u001b[2K   \u001b[90m━━━━━━━━━━━━━━━━━━━━━━━━━━━━━━━━━━━━━━━━\u001b[0m \u001b[32m127.9/127.9 MB\u001b[0m \u001b[31m13.5 MB/s\u001b[0m eta \u001b[36m0:00:00\u001b[0m\r\n",
      "\u001b[2K   \u001b[90m━━━━━━━━━━━━━━━━━━━━━━━━━━━━━━━━━━━━━━━━\u001b[0m \u001b[32m207.5/207.5 MB\u001b[0m \u001b[31m2.2 MB/s\u001b[0m eta \u001b[36m0:00:00\u001b[0m\r\n",
      "\u001b[2K   \u001b[90m━━━━━━━━━━━━━━━━━━━━━━━━━━━━━━━━━━━━━━━━\u001b[0m \u001b[32m21.1/21.1 MB\u001b[0m \u001b[31m87.1 MB/s\u001b[0m eta \u001b[36m0:00:00\u001b[0m\r\n",
      "\u001b[2K   \u001b[90m━━━━━━━━━━━━━━━━━━━━━━━━━━━━━━━━━━━━━━━━\u001b[0m \u001b[32m161.7/161.7 kB\u001b[0m \u001b[31m10.9 MB/s\u001b[0m eta \u001b[36m0:00:00\u001b[0m\r\n",
      "\u001b[2K   \u001b[90m━━━━━━━━━━━━━━━━━━━━━━━━━━━━━━━━━━━━━━━━\u001b[0m \u001b[32m3.1/3.1 MB\u001b[0m \u001b[31m80.2 MB/s\u001b[0m eta \u001b[36m0:00:00\u001b[0m\r\n",
      "\u001b[?25h  Building wheel for rouge_score (setup.py) ... \u001b[?25l\u001b[?25hdone\r\n"
     ]
    }
   ],
   "source": [
    "!pip install -q transformers torch peft rouge_score levenshtein"
   ]
  },
  {
   "cell_type": "code",
   "execution_count": 3,
   "id": "d30d0361",
   "metadata": {
    "execution": {
     "iopub.execute_input": "2025-07-30T17:56:41.577672Z",
     "iopub.status.busy": "2025-07-30T17:56:41.577432Z",
     "iopub.status.idle": "2025-07-30T17:56:43.019050Z",
     "shell.execute_reply": "2025-07-30T17:56:43.018299Z"
    },
    "papermill": {
     "duration": 1.465136,
     "end_time": "2025-07-30T17:56:43.020469",
     "exception": false,
     "start_time": "2025-07-30T17:56:41.555333",
     "status": "completed"
    },
    "tags": []
   },
   "outputs": [],
   "source": [
    "import time\n",
    "import pandas as pd\n",
    "import json"
   ]
  },
  {
   "cell_type": "code",
   "execution_count": 4,
   "id": "38774d90",
   "metadata": {
    "execution": {
     "iopub.execute_input": "2025-07-30T17:56:43.065374Z",
     "iopub.status.busy": "2025-07-30T17:56:43.064465Z",
     "iopub.status.idle": "2025-07-30T17:56:43.106475Z",
     "shell.execute_reply": "2025-07-30T17:56:43.105773Z"
    },
    "papermill": {
     "duration": 0.065305,
     "end_time": "2025-07-30T17:56:43.107557",
     "exception": false,
     "start_time": "2025-07-30T17:56:43.042252",
     "status": "completed"
    },
    "tags": []
   },
   "outputs": [
    {
     "data": {
      "text/html": [
       "<div>\n",
       "<style scoped>\n",
       "    .dataframe tbody tr th:only-of-type {\n",
       "        vertical-align: middle;\n",
       "    }\n",
       "\n",
       "    .dataframe tbody tr th {\n",
       "        vertical-align: top;\n",
       "    }\n",
       "\n",
       "    .dataframe thead th {\n",
       "        text-align: right;\n",
       "    }\n",
       "</style>\n",
       "<table border=\"1\" class=\"dataframe\">\n",
       "  <thead>\n",
       "    <tr style=\"text-align: right;\">\n",
       "      <th></th>\n",
       "      <th>business_description</th>\n",
       "      <th>domain_name</th>\n",
       "      <th>text</th>\n",
       "    </tr>\n",
       "  </thead>\n",
       "  <tbody>\n",
       "    <tr>\n",
       "      <th>0</th>\n",
       "      <td>A mobile app that helps people find local farm...</td>\n",
       "      <td>freshfinds.app</td>\n",
       "      <td>Business: A mobile app that helps people find ...</td>\n",
       "    </tr>\n",
       "    <tr>\n",
       "      <th>1</th>\n",
       "      <td>An online subscription service for eco-friendl...</td>\n",
       "      <td>greenbundle.com</td>\n",
       "      <td>Business: An online subscription service for e...</td>\n",
       "    </tr>\n",
       "    <tr>\n",
       "      <th>2</th>\n",
       "      <td>A platform that connects freelance writers wit...</td>\n",
       "      <td>wordsmith.com</td>\n",
       "      <td>Business: A platform that connects freelance w...</td>\n",
       "    </tr>\n",
       "    <tr>\n",
       "      <th>3</th>\n",
       "      <td>A website that provides personalized health an...</td>\n",
       "      <td>fitlife.com</td>\n",
       "      <td>Business: A website that provides personalized...</td>\n",
       "    </tr>\n",
       "    <tr>\n",
       "      <th>4</th>\n",
       "      <td>A social media platform that helps people find...</td>\n",
       "      <td>volunteerforce.com</td>\n",
       "      <td>Business: A social media platform that helps p...</td>\n",
       "    </tr>\n",
       "  </tbody>\n",
       "</table>\n",
       "</div>"
      ],
      "text/plain": [
       "                                business_description         domain_name  \\\n",
       "0  A mobile app that helps people find local farm...      freshfinds.app   \n",
       "1  An online subscription service for eco-friendl...     greenbundle.com   \n",
       "2  A platform that connects freelance writers wit...       wordsmith.com   \n",
       "3  A website that provides personalized health an...         fitlife.com   \n",
       "4  A social media platform that helps people find...  volunteerforce.com   \n",
       "\n",
       "                                                text  \n",
       "0  Business: A mobile app that helps people find ...  \n",
       "1  Business: An online subscription service for e...  \n",
       "2  Business: A platform that connects freelance w...  \n",
       "3  Business: A website that provides personalized...  \n",
       "4  Business: A social media platform that helps p...  "
      ]
     },
     "execution_count": 4,
     "metadata": {},
     "output_type": "execute_result"
    }
   ],
   "source": [
    "# Load in data\n",
    "data_file = f'/kaggle/input/domain-name-generator/data/synthetic_data_{FLAG}.csv'\n",
    "df = pd.read_csv(data_file)\n",
    "df.head()"
   ]
  },
  {
   "cell_type": "code",
   "execution_count": 5,
   "id": "d6f216a9",
   "metadata": {
    "execution": {
     "iopub.execute_input": "2025-07-30T17:56:43.151769Z",
     "iopub.status.busy": "2025-07-30T17:56:43.151551Z",
     "iopub.status.idle": "2025-07-30T17:57:14.649663Z",
     "shell.execute_reply": "2025-07-30T17:57:14.649006Z"
    },
    "papermill": {
     "duration": 31.522007,
     "end_time": "2025-07-30T17:57:14.651099",
     "exception": false,
     "start_time": "2025-07-30T17:56:43.129092",
     "status": "completed"
    },
    "tags": []
   },
   "outputs": [
    {
     "name": "stderr",
     "output_type": "stream",
     "text": [
      "2025-07-30 17:57:01.194277: E external/local_xla/xla/stream_executor/cuda/cuda_fft.cc:477] Unable to register cuFFT factory: Attempting to register factory for plugin cuFFT when one has already been registered\n",
      "WARNING: All log messages before absl::InitializeLog() is called are written to STDERR\n",
      "E0000 00:00:1753898221.405048      19 cuda_dnn.cc:8310] Unable to register cuDNN factory: Attempting to register factory for plugin cuDNN when one has already been registered\n",
      "E0000 00:00:1753898221.468268      19 cuda_blas.cc:1418] Unable to register cuBLAS factory: Attempting to register factory for plugin cuBLAS when one has already been registered\n"
     ]
    }
   ],
   "source": [
    "# Create dataset object for training\n",
    "from datasets import load_dataset, Dataset, DatasetDict\n",
    "from transformers import AutoTokenizer, AutoModelForCausalLM, TrainingArguments, Trainer, DataCollatorForLanguageModeling\n",
    "from peft import get_peft_model, LoraConfig, TaskType\n",
    "import torch\n",
    "from sklearn.model_selection import train_test_split"
   ]
  },
  {
   "cell_type": "code",
   "execution_count": 6,
   "id": "94cafc99",
   "metadata": {
    "execution": {
     "iopub.execute_input": "2025-07-30T17:57:14.696907Z",
     "iopub.status.busy": "2025-07-30T17:57:14.696330Z",
     "iopub.status.idle": "2025-07-30T17:57:14.735358Z",
     "shell.execute_reply": "2025-07-30T17:57:14.734836Z"
    },
    "papermill": {
     "duration": 0.063071,
     "end_time": "2025-07-30T17:57:14.736500",
     "exception": false,
     "start_time": "2025-07-30T17:57:14.673429",
     "status": "completed"
    },
    "tags": []
   },
   "outputs": [],
   "source": [
    "# Combine into prompt: \"Business: {description} -> Domain: {domain_name}\" for autoregressie model\n",
    "df[\"text\"] = df.apply(lambda row: f\"Business: {row['business_description']} -> Domain: {row['domain_name']}\", axis=1)\n",
    "\n",
    "# Split data set and turn into data set objects\n",
    "train_df, test_df = train_test_split(df, test_size=0.1, random_state=42)\n",
    "train_df.to_csv('train.csv',index=False)\n",
    "test_df.to_csv('test.csv',index=False)\n",
    "\n",
    "# Add a stop tag to the text column\n",
    "#train_df['text'] = train_df['text'] + '<|eot_id|>'\n",
    "#test_df['text'] = test_df['text'] + '<|eot_id|>'\n",
    "\n",
    "train_dataset = Dataset.from_pandas(train_df[[\"text\"]])\n",
    "test_dataset = Dataset.from_pandas(test_df[[\"text\"]])\n",
    "\n",
    "# Create dict of both training and testing for easy access in Trainer\n",
    "datasets = DatasetDict({\"train\": train_dataset, \"test\": test_dataset})"
   ]
  },
  {
   "cell_type": "code",
   "execution_count": 7,
   "id": "9f76d6d4",
   "metadata": {
    "execution": {
     "iopub.execute_input": "2025-07-30T17:57:14.781105Z",
     "iopub.status.busy": "2025-07-30T17:57:14.780584Z",
     "iopub.status.idle": "2025-07-30T17:57:14.788069Z",
     "shell.execute_reply": "2025-07-30T17:57:14.787215Z"
    },
    "papermill": {
     "duration": 0.030749,
     "end_time": "2025-07-30T17:57:14.789299",
     "exception": false,
     "start_time": "2025-07-30T17:57:14.758550",
     "status": "completed"
    },
    "tags": []
   },
   "outputs": [
    {
     "name": "stdout",
     "output_type": "stream",
     "text": [
      "Business: A platform that helps small businesses find affordable marketing solutions. -> Domain: smallbizmarketing.com\n"
     ]
    }
   ],
   "source": [
    "# Explore a piece of dataset as sanity check\n",
    "print(datasets['train'][0]['text'])"
   ]
  },
  {
   "cell_type": "code",
   "execution_count": 8,
   "id": "ec8e71f8",
   "metadata": {
    "execution": {
     "iopub.execute_input": "2025-07-30T17:57:14.886668Z",
     "iopub.status.busy": "2025-07-30T17:57:14.886069Z",
     "iopub.status.idle": "2025-07-30T17:57:15.078245Z",
     "shell.execute_reply": "2025-07-30T17:57:15.077641Z"
    },
    "papermill": {
     "duration": 0.216084,
     "end_time": "2025-07-30T17:57:15.079544",
     "exception": false,
     "start_time": "2025-07-30T17:57:14.863460",
     "status": "completed"
    },
    "tags": []
   },
   "outputs": [],
   "source": [
    "from kaggle_secrets import UserSecretsClient\n",
    "user_secrets = UserSecretsClient()\n",
    "hf_token = user_secrets.get_secret(\"HF_TOKEN\")"
   ]
  },
  {
   "cell_type": "code",
   "execution_count": 9,
   "id": "d591f7f2",
   "metadata": {
    "execution": {
     "iopub.execute_input": "2025-07-30T17:57:15.124786Z",
     "iopub.status.busy": "2025-07-30T17:57:15.124057Z",
     "iopub.status.idle": "2025-07-30T17:57:17.362426Z",
     "shell.execute_reply": "2025-07-30T17:57:17.361592Z"
    },
    "papermill": {
     "duration": 2.262386,
     "end_time": "2025-07-30T17:57:17.363967",
     "exception": false,
     "start_time": "2025-07-30T17:57:15.101581",
     "status": "completed"
    },
    "tags": []
   },
   "outputs": [
    {
     "name": "stderr",
     "output_type": "stream",
     "text": [
      "/usr/local/lib/python3.11/dist-packages/transformers/models/auto/tokenization_auto.py:902: FutureWarning: The `use_auth_token` argument is deprecated and will be removed in v5 of Transformers. Please use `token` instead.\n",
      "  warnings.warn(\n"
     ]
    },
    {
     "data": {
      "application/vnd.jupyter.widget-view+json": {
       "model_id": "a5a68f8cf0d54161aa84eb0fcb917b3e",
       "version_major": 2,
       "version_minor": 0
      },
      "text/plain": [
       "tokenizer_config.json:   0%|          | 0.00/54.5k [00:00<?, ?B/s]"
      ]
     },
     "metadata": {},
     "output_type": "display_data"
    },
    {
     "data": {
      "application/vnd.jupyter.widget-view+json": {
       "model_id": "a6ad2f8f3eae413fafbf340d1ec2c6ba",
       "version_major": 2,
       "version_minor": 0
      },
      "text/plain": [
       "tokenizer.json:   0%|          | 0.00/9.09M [00:00<?, ?B/s]"
      ]
     },
     "metadata": {},
     "output_type": "display_data"
    },
    {
     "data": {
      "application/vnd.jupyter.widget-view+json": {
       "model_id": "7f07b8b94fa94c179717aafb40f3b2f4",
       "version_major": 2,
       "version_minor": 0
      },
      "text/plain": [
       "special_tokens_map.json:   0%|          | 0.00/296 [00:00<?, ?B/s]"
      ]
     },
     "metadata": {},
     "output_type": "display_data"
    }
   ],
   "source": [
    "model_name_or_path = \"/kaggle/input/llama-3.2/transformers/1b-instruct/1\"\n",
    "#tokenizer = AutoTokenizer.from_pretrained(model_name_or_path, trust_remote_code=True)\n",
    "tokenizer = AutoTokenizer.from_pretrained(\n",
    "    \"meta-llama/Llama-3.2-1B-Instruct\", \n",
    "    trust_remote_code=True,\n",
    "    use_auth_token=hf_token)\n",
    "\n",
    "#tokenizer.pad_token = tokenizer.eos_token\n",
    "#tokenizer.add_special_tokens({'pad_token': '[PAD]'})  # Add a safe pad token\n",
    "tokenizer.pad_token = \"<|eot_id|>\"  # if not already set\n",
    "tokenizer.eos_token = \"<|eot_id|>\""
   ]
  },
  {
   "cell_type": "code",
   "execution_count": 10,
   "id": "69b60e62",
   "metadata": {
    "execution": {
     "iopub.execute_input": "2025-07-30T17:57:17.414109Z",
     "iopub.status.busy": "2025-07-30T17:57:17.413656Z",
     "iopub.status.idle": "2025-07-30T17:57:43.387781Z",
     "shell.execute_reply": "2025-07-30T17:57:43.387186Z"
    },
    "papermill": {
     "duration": 25.99972,
     "end_time": "2025-07-30T17:57:43.388849",
     "exception": false,
     "start_time": "2025-07-30T17:57:17.389129",
     "status": "completed"
    },
    "tags": []
   },
   "outputs": [
    {
     "data": {
      "application/vnd.jupyter.widget-view+json": {
       "model_id": "0be7fab650f1462b94e2f96be5b38f0c",
       "version_major": 2,
       "version_minor": 0
      },
      "text/plain": [
       "Map:   0%|          | 0/413 [00:00<?, ? examples/s]"
      ]
     },
     "metadata": {},
     "output_type": "display_data"
    },
    {
     "data": {
      "application/vnd.jupyter.widget-view+json": {
       "model_id": "4b98a369ee714b0196303f7ef75d4bca",
       "version_major": 2,
       "version_minor": 0
      },
      "text/plain": [
       "Map:   0%|          | 0/46 [00:00<?, ? examples/s]"
      ]
     },
     "metadata": {},
     "output_type": "display_data"
    }
   ],
   "source": [
    "# Load base model and tokenize\n",
    "model = AutoModelForCausalLM.from_pretrained(\n",
    "    model_name_or_path,\n",
    "    #torch_dtype=torch.bfloat16,\n",
    "    #torch_dtype=torch.float16,\n",
    "    device_map=\"auto\" # put onto cuda automatically if available\n",
    ")\n",
    "model.resize_token_embeddings(len(tokenizer))         # Resize embedding to include [PAD]\n",
    "model.config.eos_token_id = tokenizer.eos_token_id\n",
    "\n",
    "def tokenize(example):\n",
    "    result = tokenizer(\n",
    "        example[\"text\"], \n",
    "        truncation=True, \n",
    "        padding=True,\n",
    "        #padding=\"max_length\", \n",
    "        max_length=128\n",
    "    )\n",
    "    result['labels'] = result['input_ids'].copy()\n",
    "    return result\n",
    "\n",
    "tokenized_dataset = datasets.map(tokenize, batched=True)"
   ]
  },
  {
   "cell_type": "code",
   "execution_count": 11,
   "id": "63faa695",
   "metadata": {
    "execution": {
     "iopub.execute_input": "2025-07-30T17:57:43.434664Z",
     "iopub.status.busy": "2025-07-30T17:57:43.434460Z",
     "iopub.status.idle": "2025-07-30T17:57:43.438041Z",
     "shell.execute_reply": "2025-07-30T17:57:43.437203Z"
    },
    "papermill": {
     "duration": 0.027478,
     "end_time": "2025-07-30T17:57:43.439330",
     "exception": false,
     "start_time": "2025-07-30T17:57:43.411852",
     "status": "completed"
    },
    "tags": []
   },
   "outputs": [
    {
     "name": "stdout",
     "output_type": "stream",
     "text": [
      "{'bos_token': '<|begin_of_text|>', 'eos_token': '<|eot_id|>', 'pad_token': '<|eot_id|>'}\n"
     ]
    }
   ],
   "source": [
    "# Check one input after tokenizing\n",
    "print(tokenizer.special_tokens_map)"
   ]
  },
  {
   "cell_type": "code",
   "execution_count": 12,
   "id": "9c1b6a2c",
   "metadata": {
    "execution": {
     "iopub.execute_input": "2025-07-30T17:57:43.485326Z",
     "iopub.status.busy": "2025-07-30T17:57:43.484987Z",
     "iopub.status.idle": "2025-07-30T17:57:43.536379Z",
     "shell.execute_reply": "2025-07-30T17:57:43.535783Z"
    },
    "papermill": {
     "duration": 0.075317,
     "end_time": "2025-07-30T17:57:43.537455",
     "exception": false,
     "start_time": "2025-07-30T17:57:43.462138",
     "status": "completed"
    },
    "tags": []
   },
   "outputs": [],
   "source": [
    "# Create LoRA (parameter-efficient fine-tuning) and wrap model in it\n",
    "peft_config = LoraConfig(\n",
    "    r=8,\n",
    "    lora_alpha=32,\n",
    "    target_modules=[\"q_proj\", \"v_proj\"],\n",
    "    lora_dropout=0.05,\n",
    "    bias=\"none\",\n",
    "    task_type=TaskType.CAUSAL_LM\n",
    ")\n",
    "\n",
    "# Commenting out removes peft and does full fine tuning\n",
    "model = get_peft_model(model, peft_config)"
   ]
  },
  {
   "cell_type": "code",
   "execution_count": 13,
   "id": "dfc9f988",
   "metadata": {
    "execution": {
     "iopub.execute_input": "2025-07-30T17:57:43.582175Z",
     "iopub.status.busy": "2025-07-30T17:57:43.581922Z",
     "iopub.status.idle": "2025-07-30T17:57:43.585473Z",
     "shell.execute_reply": "2025-07-30T17:57:43.584955Z"
    },
    "papermill": {
     "duration": 0.027124,
     "end_time": "2025-07-30T17:57:43.586467",
     "exception": false,
     "start_time": "2025-07-30T17:57:43.559343",
     "status": "completed"
    },
    "tags": []
   },
   "outputs": [],
   "source": [
    "# Create data collator to patch, dynamically pad, etc.\n",
    "data_collator = DataCollatorForLanguageModeling(\n",
    "    tokenizer, \n",
    "    mlm=False\n",
    ")\n",
    "\n",
    "if tokenizer.pad_token is None:\n",
    "    tokenizer.add_special_tokens({'pad_token': '[PAD]'})\n",
    "    model.resize_token_embeddings(len(tokenizer))"
   ]
  },
  {
   "cell_type": "code",
   "execution_count": 14,
   "id": "b29c401b",
   "metadata": {
    "execution": {
     "iopub.execute_input": "2025-07-30T17:57:43.631824Z",
     "iopub.status.busy": "2025-07-30T17:57:43.631089Z",
     "iopub.status.idle": "2025-07-30T17:57:43.674698Z",
     "shell.execute_reply": "2025-07-30T17:57:43.674023Z"
    },
    "papermill": {
     "duration": 0.067403,
     "end_time": "2025-07-30T17:57:43.675791",
     "exception": false,
     "start_time": "2025-07-30T17:57:43.608388",
     "status": "completed"
    },
    "tags": []
   },
   "outputs": [
    {
     "name": "stderr",
     "output_type": "stream",
     "text": [
      "/tmp/ipykernel_19/3942653682.py:18: FutureWarning: `tokenizer` is deprecated and will be removed in version 5.0.0 for `Trainer.__init__`. Use `processing_class` instead.\n",
      "  trainer = Trainer(\n",
      "No label_names provided for model class `PeftModelForCausalLM`. Since `PeftModel` hides base models input arguments, if label_names is not given, label_names can't be set automatically within `Trainer`. Note that empty label_names list will be used instead.\n"
     ]
    }
   ],
   "source": [
    "# Create training arguments, data-collator ()\n",
    "\n",
    "training_args = TrainingArguments(\n",
    "    output_dir=\"./outputs\",\n",
    "    per_device_train_batch_size=4,\n",
    "    gradient_accumulation_steps=4,\n",
    "    num_train_epochs=3,\n",
    "    learning_rate=5e-5,\n",
    "    #fp16=True,\n",
    "    logging_dir=\"./logs\",\n",
    "    logging_steps=10,\n",
    "    save_steps=1000,\n",
    "    save_total_limit=2,\n",
    "    report_to=\"none\",\n",
    "    max_grad_norm=1.0,\n",
    ")\n",
    "\n",
    "trainer = Trainer(\n",
    "    model=model,\n",
    "    args=training_args,\n",
    "    train_dataset=tokenized_dataset[\"train\"],\n",
    "    eval_dataset=tokenized_dataset[\"test\"],\n",
    "    data_collator=data_collator,\n",
    "    tokenizer=tokenizer\n",
    ")"
   ]
  },
  {
   "cell_type": "code",
   "execution_count": 15,
   "id": "ecbba5ce",
   "metadata": {
    "execution": {
     "iopub.execute_input": "2025-07-30T17:57:43.722284Z",
     "iopub.status.busy": "2025-07-30T17:57:43.721542Z",
     "iopub.status.idle": "2025-07-30T17:57:43.727539Z",
     "shell.execute_reply": "2025-07-30T17:57:43.726949Z"
    },
    "papermill": {
     "duration": 0.03027,
     "end_time": "2025-07-30T17:57:43.728576",
     "exception": false,
     "start_time": "2025-07-30T17:57:43.698306",
     "status": "completed"
    },
    "tags": []
   },
   "outputs": [
    {
     "name": "stdout",
     "output_type": "stream",
     "text": [
      "<|begin_of_text|>Business: A platform that helps small businesses find affordable marketing solutions. -> Domain: smallbizmarketing.com<|eot_id|><|eot_id|><|eot_id|><|eot_id|><|eot_id|><|eot_id|><|eot_id|><|eot_id|><|eot_id|><|eot_id|>\n"
     ]
    }
   ],
   "source": [
    "# Look at a few inputs pre training\n",
    "for i in range(1):\n",
    "    print(tokenizer.decode(tokenized_dataset[\"train\"][i][\"input_ids\"]))"
   ]
  },
  {
   "cell_type": "code",
   "execution_count": 16,
   "id": "9fc921cb",
   "metadata": {
    "execution": {
     "iopub.execute_input": "2025-07-30T17:57:43.773986Z",
     "iopub.status.busy": "2025-07-30T17:57:43.773382Z",
     "iopub.status.idle": "2025-07-30T17:58:24.809488Z",
     "shell.execute_reply": "2025-07-30T17:58:24.808654Z"
    },
    "papermill": {
     "duration": 41.06018,
     "end_time": "2025-07-30T17:58:24.810889",
     "exception": false,
     "start_time": "2025-07-30T17:57:43.750709",
     "status": "completed"
    },
    "tags": []
   },
   "outputs": [
    {
     "data": {
      "text/html": [
       "\n",
       "    <div>\n",
       "      \n",
       "      <progress value='78' max='78' style='width:300px; height:20px; vertical-align: middle;'></progress>\n",
       "      [78/78 00:38, Epoch 3/3]\n",
       "    </div>\n",
       "    <table border=\"1\" class=\"dataframe\">\n",
       "  <thead>\n",
       " <tr style=\"text-align: left;\">\n",
       "      <th>Step</th>\n",
       "      <th>Training Loss</th>\n",
       "    </tr>\n",
       "  </thead>\n",
       "  <tbody>\n",
       "    <tr>\n",
       "      <td>10</td>\n",
       "      <td>3.855000</td>\n",
       "    </tr>\n",
       "    <tr>\n",
       "      <td>20</td>\n",
       "      <td>3.425300</td>\n",
       "    </tr>\n",
       "    <tr>\n",
       "      <td>30</td>\n",
       "      <td>2.849400</td>\n",
       "    </tr>\n",
       "    <tr>\n",
       "      <td>40</td>\n",
       "      <td>2.310800</td>\n",
       "    </tr>\n",
       "    <tr>\n",
       "      <td>50</td>\n",
       "      <td>1.933300</td>\n",
       "    </tr>\n",
       "    <tr>\n",
       "      <td>60</td>\n",
       "      <td>1.770300</td>\n",
       "    </tr>\n",
       "    <tr>\n",
       "      <td>70</td>\n",
       "      <td>1.754300</td>\n",
       "    </tr>\n",
       "  </tbody>\n",
       "</table><p>"
      ],
      "text/plain": [
       "<IPython.core.display.HTML object>"
      ]
     },
     "metadata": {},
     "output_type": "display_data"
    },
    {
     "data": {
      "text/plain": [
       "('./fine-tuned-llama-domain-generator-v2/tokenizer_config.json',\n",
       " './fine-tuned-llama-domain-generator-v2/special_tokens_map.json',\n",
       " './fine-tuned-llama-domain-generator-v2/chat_template.jinja',\n",
       " './fine-tuned-llama-domain-generator-v2/tokenizer.json')"
      ]
     },
     "execution_count": 16,
     "metadata": {},
     "output_type": "execute_result"
    }
   ],
   "source": [
    "trainer.train()\n",
    "\n",
    "# Save final model\n",
    "trainer.save_model(f\"./fine-tuned-llama-domain-generator-{VERSION}\")\n",
    "tokenizer.save_pretrained(f\"./fine-tuned-llama-domain-generator-{VERSION}\")"
   ]
  },
  {
   "cell_type": "markdown",
   "id": "741ff903",
   "metadata": {
    "papermill": {
     "duration": 0.022371,
     "end_time": "2025-07-30T17:58:24.856258",
     "exception": false,
     "start_time": "2025-07-30T17:58:24.833887",
     "status": "completed"
    },
    "tags": []
   },
   "source": [
    "#### Checks Before Eval"
   ]
  },
  {
   "cell_type": "code",
   "execution_count": 17,
   "id": "d6f4518d",
   "metadata": {
    "execution": {
     "iopub.execute_input": "2025-07-30T17:58:24.901478Z",
     "iopub.status.busy": "2025-07-30T17:58:24.901226Z",
     "iopub.status.idle": "2025-07-30T17:58:24.906716Z",
     "shell.execute_reply": "2025-07-30T17:58:24.906194Z"
    },
    "papermill": {
     "duration": 0.029371,
     "end_time": "2025-07-30T17:58:24.907731",
     "exception": false,
     "start_time": "2025-07-30T17:58:24.878360",
     "status": "completed"
    },
    "tags": []
   },
   "outputs": [
    {
     "data": {
      "text/plain": [
       "'A subscription model for monthly deliveries of fresh, organic produce.'"
      ]
     },
     "execution_count": 17,
     "metadata": {},
     "output_type": "execute_result"
    }
   ],
   "source": [
    "# Generate a sample prompt from the test set\n",
    "sample_prompt = datasets['test'][0]['text'].split(\"-> Domain:\")[0].replace(\"Business:\", \"\").strip()\n",
    "sample_true_domain = datasets['test'][0]['text'].split(\"-> Domain:\")[-1].strip()\n",
    "sample_prompt"
   ]
  },
  {
   "cell_type": "code",
   "execution_count": 18,
   "id": "c2eb7856",
   "metadata": {
    "execution": {
     "iopub.execute_input": "2025-07-30T17:58:24.953674Z",
     "iopub.status.busy": "2025-07-30T17:58:24.953459Z",
     "iopub.status.idle": "2025-07-30T17:58:24.957865Z",
     "shell.execute_reply": "2025-07-30T17:58:24.957333Z"
    },
    "papermill": {
     "duration": 0.028439,
     "end_time": "2025-07-30T17:58:24.958885",
     "exception": false,
     "start_time": "2025-07-30T17:58:24.930446",
     "status": "completed"
    },
    "tags": []
   },
   "outputs": [
    {
     "data": {
      "text/plain": [
       "'Business: A subscription model for monthly deliveries of fresh, organic produce. -> Domain: farm2fridge.com'"
      ]
     },
     "execution_count": 18,
     "metadata": {},
     "output_type": "execute_result"
    }
   ],
   "source": [
    "datasets['test'][0]['text']"
   ]
  },
  {
   "cell_type": "markdown",
   "id": "85e252d4",
   "metadata": {
    "papermill": {
     "duration": 0.023413,
     "end_time": "2025-07-30T17:58:25.004501",
     "exception": false,
     "start_time": "2025-07-30T17:58:24.981088",
     "status": "completed"
    },
    "tags": []
   },
   "source": [
    "## Evaluating model\n",
    "- We do have some eval metrics above that computes \"language model loss\" which measures model's ability to predict the next token, not necessarily how relevant/quality the output is.\n",
    "- Thus, we implement some scoring\n",
    "    - ROUGE (Recall-Oriented Understudy for Gisting Evaluation) is a set of metrics used to evaluate the quality of machine-generated summaries by comparing them to human-written reference summaries.\n",
    "    - In general, a ROUGE score above 0.5 is often considered good, especially for ROUGE-1, while scores below 0.2 are often considered poor.\n",
    "    - A good BLEU (bilingual evaluation understudy) score is above 0.3...however, this isn't the best use case for BLEU since its primarily used for tranlsation.\n",
    "    - A good levenshtein distance is not a fixed thing, but 0 represents identical strings."
   ]
  },
  {
   "cell_type": "code",
   "execution_count": 19,
   "id": "80d633a7",
   "metadata": {
    "execution": {
     "iopub.execute_input": "2025-07-30T17:58:25.049889Z",
     "iopub.status.busy": "2025-07-30T17:58:25.049678Z",
     "iopub.status.idle": "2025-07-30T17:58:25.637962Z",
     "shell.execute_reply": "2025-07-30T17:58:25.637374Z"
    },
    "papermill": {
     "duration": 0.612516,
     "end_time": "2025-07-30T17:58:25.639300",
     "exception": false,
     "start_time": "2025-07-30T17:58:25.026784",
     "status": "completed"
    },
    "tags": []
   },
   "outputs": [],
   "source": [
    "from rouge_score import rouge_scorer\n",
    "import matplotlib.pyplot as plt\n",
    "from nltk.translate.bleu_score import sentence_bleu, SmoothingFunction\n",
    "import Levenshtein\n",
    "import re"
   ]
  },
  {
   "cell_type": "code",
   "execution_count": 20,
   "id": "5f827d4d",
   "metadata": {
    "execution": {
     "iopub.execute_input": "2025-07-30T17:58:25.686772Z",
     "iopub.status.busy": "2025-07-30T17:58:25.686028Z",
     "iopub.status.idle": "2025-07-30T17:58:25.690486Z",
     "shell.execute_reply": "2025-07-30T17:58:25.689935Z"
    },
    "papermill": {
     "duration": 0.028772,
     "end_time": "2025-07-30T17:58:25.691572",
     "exception": false,
     "start_time": "2025-07-30T17:58:25.662800",
     "status": "completed"
    },
    "tags": []
   },
   "outputs": [],
   "source": [
    "def extract_domain(text: str) -> str:\n",
    "    \"\"\"\n",
    "    Extracts the first domain-like string from the LLM output.\n",
    "    Handles formats like:\n",
    "    - plain: domain.com\n",
    "    - markdown: [domain.com](http://domain.com)\n",
    "    - prefixed: 'Website: domain.com'\n",
    "    - continuation: '-> Tagline: ...'\n",
    "    \"\"\"\n",
    "\n",
    "    # 1. Try to extract markdown-style domain\n",
    "    markdown_match = re.search(r'\\[([a-zA-Z0-9\\.-]+\\.[a-z]{2,})\\]\\(http[^\\)]*\\)', text)\n",
    "    if markdown_match:\n",
    "        return markdown_match.group(1)\n",
    "\n",
    "    # 2. Find domain-like text directly\n",
    "    domain_match = re.search(r'\\b([a-zA-Z0-9-]+\\.[a-z]{2,})\\b', text)\n",
    "    if domain_match:\n",
    "        return domain_match.group(1)\n",
    "\n",
    "    return \"NO_DOMAIN_FOUND\""
   ]
  },
  {
   "cell_type": "code",
   "execution_count": 21,
   "id": "ef358dd3",
   "metadata": {
    "execution": {
     "iopub.execute_input": "2025-07-30T17:58:25.737534Z",
     "iopub.status.busy": "2025-07-30T17:58:25.737347Z",
     "iopub.status.idle": "2025-07-30T17:58:25.742192Z",
     "shell.execute_reply": "2025-07-30T17:58:25.741535Z"
    },
    "papermill": {
     "duration": 0.029271,
     "end_time": "2025-07-30T17:58:25.743195",
     "exception": false,
     "start_time": "2025-07-30T17:58:25.713924",
     "status": "completed"
    },
    "tags": []
   },
   "outputs": [],
   "source": [
    "# Create function to check if domain name is valid domain name\n",
    "VALID_TLDS = ['.com', '.ai', '.io', '.net', '.org', '.co', '.app', '.tech', '.dev']\n",
    "\n",
    "def is_valid_domain(domain: str) -> bool:\n",
    "    domain = domain.strip().lower()\n",
    "\n",
    "    # Basic structure check: must contain a valid TLD\n",
    "    if not any(domain.endswith(tld) for tld in VALID_TLDS):\n",
    "        return False\n",
    "\n",
    "    # No whitespace\n",
    "    if ' ' in domain:\n",
    "        return False\n",
    "\n",
    "    # Length check\n",
    "    if len(domain) > 63 or len(domain) == 0:\n",
    "        return False\n",
    "\n",
    "    # Valid characters (alphanumeric, hyphen, and dot)\n",
    "    pattern = r'^[a-z0-9\\-\\.]+$'\n",
    "    if not re.match(pattern, domain):\n",
    "        return False\n",
    "\n",
    "    # Should not contain multiple dots (e.g., no sentences)\n",
    "    if domain.count('.') > 1:\n",
    "        return False\n",
    "\n",
    "    return True"
   ]
  },
  {
   "cell_type": "code",
   "execution_count": 22,
   "id": "3a87240a",
   "metadata": {
    "execution": {
     "iopub.execute_input": "2025-07-30T17:58:25.788787Z",
     "iopub.status.busy": "2025-07-30T17:58:25.788570Z",
     "iopub.status.idle": "2025-07-30T17:58:25.791951Z",
     "shell.execute_reply": "2025-07-30T17:58:25.791463Z"
    },
    "papermill": {
     "duration": 0.027187,
     "end_time": "2025-07-30T17:58:25.792967",
     "exception": false,
     "start_time": "2025-07-30T17:58:25.765780",
     "status": "completed"
    },
    "tags": []
   },
   "outputs": [],
   "source": [
    "# get rouge scorer\n",
    "scorer = rouge_scorer.RougeScorer(['rougeL'], use_stemmer=True)\n",
    "scores = []\n",
    "bleu_scores = []\n",
    "levenshtein_distances = []\n",
    "brandability_scores = []\n",
    "predictions = []\n",
    "valid_domains = []"
   ]
  },
  {
   "cell_type": "code",
   "execution_count": 23,
   "id": "2975aadf",
   "metadata": {
    "execution": {
     "iopub.execute_input": "2025-07-30T17:58:25.838675Z",
     "iopub.status.busy": "2025-07-30T17:58:25.838458Z",
     "iopub.status.idle": "2025-07-30T17:58:47.713830Z",
     "shell.execute_reply": "2025-07-30T17:58:47.712966Z"
    },
    "papermill": {
     "duration": 21.899812,
     "end_time": "2025-07-30T17:58:47.715205",
     "exception": false,
     "start_time": "2025-07-30T17:58:25.815393",
     "status": "completed"
    },
    "tags": []
   },
   "outputs": [
    {
     "name": "stdout",
     "output_type": "stream",
     "text": [
      "Pct of Predictions that are valid domains = 97.83%\n"
     ]
    }
   ],
   "source": [
    "# Put pytorch model in eval mode\n",
    "model.eval()\n",
    "\n",
    "# Loop over test data\n",
    "for item in test_dataset:\n",
    "    input_text = item[\"text\"]\n",
    "    if \"-> Domain:\" not in input_text:\n",
    "        continue\n",
    "    description = input_text.split(\"-> Domain:\")[0].replace(\"Business:\", \"\").strip()\n",
    "    true_domain = input_text.split(\"-> Domain:\")[-1].strip()\n",
    "\n",
    "    prompt = f\"Business: {description} -> Domain:\"\n",
    "    inputs = tokenizer(prompt, return_tensors=\"pt\").to(model.device)\n",
    "    \n",
    "    with torch.no_grad():\n",
    "        outputs = model.generate(\n",
    "            **inputs, \n",
    "            max_new_tokens=20, \n",
    "            do_sample=True, \n",
    "            top_k=50, \n",
    "            temperature=0.7,\n",
    "            pad_token_id=tokenizer.pad_token_id,\n",
    "            eos_token_id=tokenizer.eos_token_id,\n",
    "            #eos_token_id=tokenizer.encode('<|eot_id|>')[0],\n",
    "        )\n",
    "    \n",
    "    decoded = tokenizer.decode(outputs[0], skip_special_tokens=True)\n",
    "    output_text = tokenizer.decode(outputs[0], skip_special_tokens=False)\n",
    "    pred_domain = output_text.split(\"-> Domain:\")[-1].split(\"<|\")[0].split(\"\\n\")[0].strip()\n",
    "    pred_domain = extract_domain(pred_domain)\n",
    "    #pred_domain = decoded.split(\"-> Domain:\")[-1].strip()\n",
    "\n",
    "    # Safety filter\n",
    "    banned_keywords = [\"sex\", \"kill\", \"drugs\", \"hate\", \"murder\", \"terrorism\", 'terror',\n",
    "                        \"adult-content\", 'adult content', \"explicit\", \n",
    "                        \"porn\", \"xxx\", \"nude\", \"erotic\", \"pornography\"\n",
    "                        \"gambling\", \"casino\", \"hate\", \"violence\"]\n",
    "    if any(bad in pred_domain.lower() for bad in banned_keywords):\n",
    "        pred_domain = \"[REDACTED: Unsafe Output]\"\n",
    "\n",
    "    # Check if valid domain       \n",
    "    valid_domain = is_valid_domain(pred_domain)\n",
    "    valid_domains.append(valid_domain)\n",
    "    \n",
    "    # ROUGE\n",
    "    rouge_score = scorer.score(true_domain, pred_domain)[\"rougeL\"].fmeasure\n",
    "    scores.append(rouge_score)\n",
    "\n",
    "    # BLEU\n",
    "    bleu = sentence_bleu([true_domain.split(\".\")], pred_domain.split(\".\"), smoothing_function=SmoothingFunction().method1)\n",
    "    bleu_scores.append(bleu)\n",
    "\n",
    "    # Levenshtein\n",
    "    lev_distance = Levenshtein.distance(true_domain, pred_domain)\n",
    "    levenshtein_distances.append(lev_distance)\n",
    "\n",
    "    # Brandability heuristic: short, no numbers/symbols, vowel-consonant balance\n",
    "    def brandability(domain):\n",
    "        score = 1.0\n",
    "        if len(domain) > 15: score -= 0.3\n",
    "        if any(char.isdigit() or not char.isalnum() for char in domain): score -= 0.3\n",
    "        vowels = sum(1 for c in domain if c in \"aeiou\")\n",
    "        consonants = sum(1 for c in domain if c.isalpha() and c not in \"aeiou\")\n",
    "        ratio = vowels / (consonants + 1)\n",
    "        if ratio < 0.2 or ratio > 0.8: score -= 0.2\n",
    "        return max(0, round(score, 2))\n",
    "\n",
    "    brandability_score = brandability(pred_domain)\n",
    "    brandability_scores.append(brandability_score)\n",
    "\n",
    "    predictions.append({\n",
    "        \"description\": description,\n",
    "        \"true\": true_domain,\n",
    "        \"pred\": pred_domain,\n",
    "        \"rougeL\": rouge_score,\n",
    "        \"bleu\": bleu,\n",
    "        \"levenshtein\": lev_distance,\n",
    "        \"brandability\": brandability_score,\n",
    "        \"is_valid_domain\": valid_domain,\n",
    "    })\n",
    "\n",
    "# Save predictions\n",
    "results_df = pd.DataFrame(predictions)\n",
    "results_df.to_csv(f\"predictions_eval-{VERSION}-{FLAG}.csv\", index=False)\n",
    "\n",
    "# Report average scores\n",
    "print_string = f\"Pct of Predictions that are valid domains = {results_df['is_valid_domain'].mean():.2%}\"\n",
    "print(print_string)"
   ]
  }
 ],
 "metadata": {
  "kaggle": {
   "accelerator": "none",
   "dataSources": [
    {
     "datasetId": 7943647,
     "sourceId": 12624684,
     "sourceType": "datasetVersion"
    },
    {
     "modelId": 121027,
     "modelInstanceId": 100933,
     "sourceId": 120002,
     "sourceType": "modelInstanceVersion"
    }
   ],
   "dockerImageVersionId": 31089,
   "isGpuEnabled": false,
   "isInternetEnabled": true,
   "language": "python",
   "sourceType": "notebook"
  },
  "kernelspec": {
   "display_name": "Python 3",
   "language": "python",
   "name": "python3"
  },
  "language_info": {
   "codemirror_mode": {
    "name": "ipython",
    "version": 3
   },
   "file_extension": ".py",
   "mimetype": "text/x-python",
   "name": "python",
   "nbconvert_exporter": "python",
   "pygments_lexer": "ipython3",
   "version": "3.11.13"
  },
  "papermill": {
   "default_parameters": {},
   "duration": 216.461278,
   "end_time": "2025-07-30T17:58:51.482521",
   "environment_variables": {},
   "exception": null,
   "input_path": "__notebook__.ipynb",
   "output_path": "__notebook__.ipynb",
   "parameters": {},
   "start_time": "2025-07-30T17:55:15.021243",
   "version": "2.6.0"
  },
  "widgets": {
   "application/vnd.jupyter.widget-state+json": {
    "state": {
     "09018b19e15a431a8eb03026665746a2": {
      "model_module": "@jupyter-widgets/base",
      "model_module_version": "2.0.0",
      "model_name": "LayoutModel",
      "state": {
       "_model_module": "@jupyter-widgets/base",
       "_model_module_version": "2.0.0",
       "_model_name": "LayoutModel",
       "_view_count": null,
       "_view_module": "@jupyter-widgets/base",
       "_view_module_version": "2.0.0",
       "_view_name": "LayoutView",
       "align_content": null,
       "align_items": null,
       "align_self": null,
       "border_bottom": null,
       "border_left": null,
       "border_right": null,
       "border_top": null,
       "bottom": null,
       "display": null,
       "flex": null,
       "flex_flow": null,
       "grid_area": null,
       "grid_auto_columns": null,
       "grid_auto_flow": null,
       "grid_auto_rows": null,
       "grid_column": null,
       "grid_gap": null,
       "grid_row": null,
       "grid_template_areas": null,
       "grid_template_columns": null,
       "grid_template_rows": null,
       "height": null,
       "justify_content": null,
       "justify_items": null,
       "left": null,
       "margin": null,
       "max_height": null,
       "max_width": null,
       "min_height": null,
       "min_width": null,
       "object_fit": null,
       "object_position": null,
       "order": null,
       "overflow": null,
       "padding": null,
       "right": null,
       "top": null,
       "visibility": null,
       "width": null
      }
     },
     "0be7fab650f1462b94e2f96be5b38f0c": {
      "model_module": "@jupyter-widgets/controls",
      "model_module_version": "2.0.0",
      "model_name": "HBoxModel",
      "state": {
       "_dom_classes": [],
       "_model_module": "@jupyter-widgets/controls",
       "_model_module_version": "2.0.0",
       "_model_name": "HBoxModel",
       "_view_count": null,
       "_view_module": "@jupyter-widgets/controls",
       "_view_module_version": "2.0.0",
       "_view_name": "HBoxView",
       "box_style": "",
       "children": [
        "IPY_MODEL_fd481ba76ba14c7c9a7d783f2e0616bb",
        "IPY_MODEL_d130a1aeec554b67b7c29a2b08e441e4",
        "IPY_MODEL_e796ed581287465985fa05c7662fb4ae"
       ],
       "layout": "IPY_MODEL_0e3bd05043974734899180c7a30ee281",
       "tabbable": null,
       "tooltip": null
      }
     },
     "0e3bd05043974734899180c7a30ee281": {
      "model_module": "@jupyter-widgets/base",
      "model_module_version": "2.0.0",
      "model_name": "LayoutModel",
      "state": {
       "_model_module": "@jupyter-widgets/base",
       "_model_module_version": "2.0.0",
       "_model_name": "LayoutModel",
       "_view_count": null,
       "_view_module": "@jupyter-widgets/base",
       "_view_module_version": "2.0.0",
       "_view_name": "LayoutView",
       "align_content": null,
       "align_items": null,
       "align_self": null,
       "border_bottom": null,
       "border_left": null,
       "border_right": null,
       "border_top": null,
       "bottom": null,
       "display": null,
       "flex": null,
       "flex_flow": null,
       "grid_area": null,
       "grid_auto_columns": null,
       "grid_auto_flow": null,
       "grid_auto_rows": null,
       "grid_column": null,
       "grid_gap": null,
       "grid_row": null,
       "grid_template_areas": null,
       "grid_template_columns": null,
       "grid_template_rows": null,
       "height": null,
       "justify_content": null,
       "justify_items": null,
       "left": null,
       "margin": null,
       "max_height": null,
       "max_width": null,
       "min_height": null,
       "min_width": null,
       "object_fit": null,
       "object_position": null,
       "order": null,
       "overflow": null,
       "padding": null,
       "right": null,
       "top": null,
       "visibility": null,
       "width": null
      }
     },
     "0f0702742f4947348328f599d5b29f3e": {
      "model_module": "@jupyter-widgets/controls",
      "model_module_version": "2.0.0",
      "model_name": "HTMLStyleModel",
      "state": {
       "_model_module": "@jupyter-widgets/controls",
       "_model_module_version": "2.0.0",
       "_model_name": "HTMLStyleModel",
       "_view_count": null,
       "_view_module": "@jupyter-widgets/base",
       "_view_module_version": "2.0.0",
       "_view_name": "StyleView",
       "background": null,
       "description_width": "",
       "font_size": null,
       "text_color": null
      }
     },
     "1ba642e26d3b4919b96a1c61283c1cd8": {
      "model_module": "@jupyter-widgets/controls",
      "model_module_version": "2.0.0",
      "model_name": "FloatProgressModel",
      "state": {
       "_dom_classes": [],
       "_model_module": "@jupyter-widgets/controls",
       "_model_module_version": "2.0.0",
       "_model_name": "FloatProgressModel",
       "_view_count": null,
       "_view_module": "@jupyter-widgets/controls",
       "_view_module_version": "2.0.0",
       "_view_name": "ProgressView",
       "bar_style": "success",
       "description": "",
       "description_allow_html": false,
       "layout": "IPY_MODEL_c6d739aafd7e4d71a71e57cdb0849502",
       "max": 54528.0,
       "min": 0.0,
       "orientation": "horizontal",
       "style": "IPY_MODEL_562f63a54d4e4267b05b365b73d14827",
       "tabbable": null,
       "tooltip": null,
       "value": 54528.0
      }
     },
     "1cbb5e4ffbf841c9bae49d2358515353": {
      "model_module": "@jupyter-widgets/base",
      "model_module_version": "2.0.0",
      "model_name": "LayoutModel",
      "state": {
       "_model_module": "@jupyter-widgets/base",
       "_model_module_version": "2.0.0",
       "_model_name": "LayoutModel",
       "_view_count": null,
       "_view_module": "@jupyter-widgets/base",
       "_view_module_version": "2.0.0",
       "_view_name": "LayoutView",
       "align_content": null,
       "align_items": null,
       "align_self": null,
       "border_bottom": null,
       "border_left": null,
       "border_right": null,
       "border_top": null,
       "bottom": null,
       "display": null,
       "flex": null,
       "flex_flow": null,
       "grid_area": null,
       "grid_auto_columns": null,
       "grid_auto_flow": null,
       "grid_auto_rows": null,
       "grid_column": null,
       "grid_gap": null,
       "grid_row": null,
       "grid_template_areas": null,
       "grid_template_columns": null,
       "grid_template_rows": null,
       "height": null,
       "justify_content": null,
       "justify_items": null,
       "left": null,
       "margin": null,
       "max_height": null,
       "max_width": null,
       "min_height": null,
       "min_width": null,
       "object_fit": null,
       "object_position": null,
       "order": null,
       "overflow": null,
       "padding": null,
       "right": null,
       "top": null,
       "visibility": null,
       "width": null
      }
     },
     "238f8f21ab69424289c3c91960bc6fa4": {
      "model_module": "@jupyter-widgets/controls",
      "model_module_version": "2.0.0",
      "model_name": "HTMLStyleModel",
      "state": {
       "_model_module": "@jupyter-widgets/controls",
       "_model_module_version": "2.0.0",
       "_model_name": "HTMLStyleModel",
       "_view_count": null,
       "_view_module": "@jupyter-widgets/base",
       "_view_module_version": "2.0.0",
       "_view_name": "StyleView",
       "background": null,
       "description_width": "",
       "font_size": null,
       "text_color": null
      }
     },
     "2ee7ddad658f4f5f9c05c2f37d83e27c": {
      "model_module": "@jupyter-widgets/controls",
      "model_module_version": "2.0.0",
      "model_name": "FloatProgressModel",
      "state": {
       "_dom_classes": [],
       "_model_module": "@jupyter-widgets/controls",
       "_model_module_version": "2.0.0",
       "_model_name": "FloatProgressModel",
       "_view_count": null,
       "_view_module": "@jupyter-widgets/controls",
       "_view_module_version": "2.0.0",
       "_view_name": "ProgressView",
       "bar_style": "success",
       "description": "",
       "description_allow_html": false,
       "layout": "IPY_MODEL_82aa808deac7452e991548a7b50e9abe",
       "max": 46.0,
       "min": 0.0,
       "orientation": "horizontal",
       "style": "IPY_MODEL_806ad961163645058b0b9b8865fe33bb",
       "tabbable": null,
       "tooltip": null,
       "value": 46.0
      }
     },
     "3e4b443433a045b9ab23555f3977841d": {
      "model_module": "@jupyter-widgets/controls",
      "model_module_version": "2.0.0",
      "model_name": "HTMLModel",
      "state": {
       "_dom_classes": [],
       "_model_module": "@jupyter-widgets/controls",
       "_model_module_version": "2.0.0",
       "_model_name": "HTMLModel",
       "_view_count": null,
       "_view_module": "@jupyter-widgets/controls",
       "_view_module_version": "2.0.0",
       "_view_name": "HTMLView",
       "description": "",
       "description_allow_html": false,
       "layout": "IPY_MODEL_531db5e9578048e0845a2f8885c8a22c",
       "placeholder": "​",
       "style": "IPY_MODEL_e4115bb553fb4dbab7fed9351c1989cf",
       "tabbable": null,
       "tooltip": null,
       "value": " 296/296 [00:00&lt;00:00, 38.3kB/s]"
      }
     },
     "3ed7bb94931f42c6b8fddaba9d8fee08": {
      "model_module": "@jupyter-widgets/controls",
      "model_module_version": "2.0.0",
      "model_name": "HTMLModel",
      "state": {
       "_dom_classes": [],
       "_model_module": "@jupyter-widgets/controls",
       "_model_module_version": "2.0.0",
       "_model_name": "HTMLModel",
       "_view_count": null,
       "_view_module": "@jupyter-widgets/controls",
       "_view_module_version": "2.0.0",
       "_view_name": "HTMLView",
       "description": "",
       "description_allow_html": false,
       "layout": "IPY_MODEL_577125d9655e4dbeaee24ab668c7a7a2",
       "placeholder": "​",
       "style": "IPY_MODEL_4b665e0c5d27465bbdaa7c3ebfaa0d35",
       "tabbable": null,
       "tooltip": null,
       "value": "special_tokens_map.json: 100%"
      }
     },
     "3ff82f2e8b0749f7bd12ac1177172422": {
      "model_module": "@jupyter-widgets/base",
      "model_module_version": "2.0.0",
      "model_name": "LayoutModel",
      "state": {
       "_model_module": "@jupyter-widgets/base",
       "_model_module_version": "2.0.0",
       "_model_name": "LayoutModel",
       "_view_count": null,
       "_view_module": "@jupyter-widgets/base",
       "_view_module_version": "2.0.0",
       "_view_name": "LayoutView",
       "align_content": null,
       "align_items": null,
       "align_self": null,
       "border_bottom": null,
       "border_left": null,
       "border_right": null,
       "border_top": null,
       "bottom": null,
       "display": null,
       "flex": null,
       "flex_flow": null,
       "grid_area": null,
       "grid_auto_columns": null,
       "grid_auto_flow": null,
       "grid_auto_rows": null,
       "grid_column": null,
       "grid_gap": null,
       "grid_row": null,
       "grid_template_areas": null,
       "grid_template_columns": null,
       "grid_template_rows": null,
       "height": null,
       "justify_content": null,
       "justify_items": null,
       "left": null,
       "margin": null,
       "max_height": null,
       "max_width": null,
       "min_height": null,
       "min_width": null,
       "object_fit": null,
       "object_position": null,
       "order": null,
       "overflow": null,
       "padding": null,
       "right": null,
       "top": null,
       "visibility": null,
       "width": null
      }
     },
     "41ab0408090a4be284da8c77b41bd7ba": {
      "model_module": "@jupyter-widgets/controls",
      "model_module_version": "2.0.0",
      "model_name": "ProgressStyleModel",
      "state": {
       "_model_module": "@jupyter-widgets/controls",
       "_model_module_version": "2.0.0",
       "_model_name": "ProgressStyleModel",
       "_view_count": null,
       "_view_module": "@jupyter-widgets/base",
       "_view_module_version": "2.0.0",
       "_view_name": "StyleView",
       "bar_color": null,
       "description_width": ""
      }
     },
     "4346da542ab44156aa3351e970ad3721": {
      "model_module": "@jupyter-widgets/base",
      "model_module_version": "2.0.0",
      "model_name": "LayoutModel",
      "state": {
       "_model_module": "@jupyter-widgets/base",
       "_model_module_version": "2.0.0",
       "_model_name": "LayoutModel",
       "_view_count": null,
       "_view_module": "@jupyter-widgets/base",
       "_view_module_version": "2.0.0",
       "_view_name": "LayoutView",
       "align_content": null,
       "align_items": null,
       "align_self": null,
       "border_bottom": null,
       "border_left": null,
       "border_right": null,
       "border_top": null,
       "bottom": null,
       "display": null,
       "flex": null,
       "flex_flow": null,
       "grid_area": null,
       "grid_auto_columns": null,
       "grid_auto_flow": null,
       "grid_auto_rows": null,
       "grid_column": null,
       "grid_gap": null,
       "grid_row": null,
       "grid_template_areas": null,
       "grid_template_columns": null,
       "grid_template_rows": null,
       "height": null,
       "justify_content": null,
       "justify_items": null,
       "left": null,
       "margin": null,
       "max_height": null,
       "max_width": null,
       "min_height": null,
       "min_width": null,
       "object_fit": null,
       "object_position": null,
       "order": null,
       "overflow": null,
       "padding": null,
       "right": null,
       "top": null,
       "visibility": null,
       "width": null
      }
     },
     "4b665e0c5d27465bbdaa7c3ebfaa0d35": {
      "model_module": "@jupyter-widgets/controls",
      "model_module_version": "2.0.0",
      "model_name": "HTMLStyleModel",
      "state": {
       "_model_module": "@jupyter-widgets/controls",
       "_model_module_version": "2.0.0",
       "_model_name": "HTMLStyleModel",
       "_view_count": null,
       "_view_module": "@jupyter-widgets/base",
       "_view_module_version": "2.0.0",
       "_view_name": "StyleView",
       "background": null,
       "description_width": "",
       "font_size": null,
       "text_color": null
      }
     },
     "4b98a369ee714b0196303f7ef75d4bca": {
      "model_module": "@jupyter-widgets/controls",
      "model_module_version": "2.0.0",
      "model_name": "HBoxModel",
      "state": {
       "_dom_classes": [],
       "_model_module": "@jupyter-widgets/controls",
       "_model_module_version": "2.0.0",
       "_model_name": "HBoxModel",
       "_view_count": null,
       "_view_module": "@jupyter-widgets/controls",
       "_view_module_version": "2.0.0",
       "_view_name": "HBoxView",
       "box_style": "",
       "children": [
        "IPY_MODEL_7eaf39984f2a4ee2a670614570871561",
        "IPY_MODEL_2ee7ddad658f4f5f9c05c2f37d83e27c",
        "IPY_MODEL_7d821040641c4ab1bb8cb4f2bfc2d836"
       ],
       "layout": "IPY_MODEL_1cbb5e4ffbf841c9bae49d2358515353",
       "tabbable": null,
       "tooltip": null
      }
     },
     "526eb4fa97fb4ce49524aafd73e26641": {
      "model_module": "@jupyter-widgets/controls",
      "model_module_version": "2.0.0",
      "model_name": "HTMLStyleModel",
      "state": {
       "_model_module": "@jupyter-widgets/controls",
       "_model_module_version": "2.0.0",
       "_model_name": "HTMLStyleModel",
       "_view_count": null,
       "_view_module": "@jupyter-widgets/base",
       "_view_module_version": "2.0.0",
       "_view_name": "StyleView",
       "background": null,
       "description_width": "",
       "font_size": null,
       "text_color": null
      }
     },
     "531db5e9578048e0845a2f8885c8a22c": {
      "model_module": "@jupyter-widgets/base",
      "model_module_version": "2.0.0",
      "model_name": "LayoutModel",
      "state": {
       "_model_module": "@jupyter-widgets/base",
       "_model_module_version": "2.0.0",
       "_model_name": "LayoutModel",
       "_view_count": null,
       "_view_module": "@jupyter-widgets/base",
       "_view_module_version": "2.0.0",
       "_view_name": "LayoutView",
       "align_content": null,
       "align_items": null,
       "align_self": null,
       "border_bottom": null,
       "border_left": null,
       "border_right": null,
       "border_top": null,
       "bottom": null,
       "display": null,
       "flex": null,
       "flex_flow": null,
       "grid_area": null,
       "grid_auto_columns": null,
       "grid_auto_flow": null,
       "grid_auto_rows": null,
       "grid_column": null,
       "grid_gap": null,
       "grid_row": null,
       "grid_template_areas": null,
       "grid_template_columns": null,
       "grid_template_rows": null,
       "height": null,
       "justify_content": null,
       "justify_items": null,
       "left": null,
       "margin": null,
       "max_height": null,
       "max_width": null,
       "min_height": null,
       "min_width": null,
       "object_fit": null,
       "object_position": null,
       "order": null,
       "overflow": null,
       "padding": null,
       "right": null,
       "top": null,
       "visibility": null,
       "width": null
      }
     },
     "562f63a54d4e4267b05b365b73d14827": {
      "model_module": "@jupyter-widgets/controls",
      "model_module_version": "2.0.0",
      "model_name": "ProgressStyleModel",
      "state": {
       "_model_module": "@jupyter-widgets/controls",
       "_model_module_version": "2.0.0",
       "_model_name": "ProgressStyleModel",
       "_view_count": null,
       "_view_module": "@jupyter-widgets/base",
       "_view_module_version": "2.0.0",
       "_view_name": "StyleView",
       "bar_color": null,
       "description_width": ""
      }
     },
     "577125d9655e4dbeaee24ab668c7a7a2": {
      "model_module": "@jupyter-widgets/base",
      "model_module_version": "2.0.0",
      "model_name": "LayoutModel",
      "state": {
       "_model_module": "@jupyter-widgets/base",
       "_model_module_version": "2.0.0",
       "_model_name": "LayoutModel",
       "_view_count": null,
       "_view_module": "@jupyter-widgets/base",
       "_view_module_version": "2.0.0",
       "_view_name": "LayoutView",
       "align_content": null,
       "align_items": null,
       "align_self": null,
       "border_bottom": null,
       "border_left": null,
       "border_right": null,
       "border_top": null,
       "bottom": null,
       "display": null,
       "flex": null,
       "flex_flow": null,
       "grid_area": null,
       "grid_auto_columns": null,
       "grid_auto_flow": null,
       "grid_auto_rows": null,
       "grid_column": null,
       "grid_gap": null,
       "grid_row": null,
       "grid_template_areas": null,
       "grid_template_columns": null,
       "grid_template_rows": null,
       "height": null,
       "justify_content": null,
       "justify_items": null,
       "left": null,
       "margin": null,
       "max_height": null,
       "max_width": null,
       "min_height": null,
       "min_width": null,
       "object_fit": null,
       "object_position": null,
       "order": null,
       "overflow": null,
       "padding": null,
       "right": null,
       "top": null,
       "visibility": null,
       "width": null
      }
     },
     "62c6d419990a4913b880e4fdee230ed8": {
      "model_module": "@jupyter-widgets/base",
      "model_module_version": "2.0.0",
      "model_name": "LayoutModel",
      "state": {
       "_model_module": "@jupyter-widgets/base",
       "_model_module_version": "2.0.0",
       "_model_name": "LayoutModel",
       "_view_count": null,
       "_view_module": "@jupyter-widgets/base",
       "_view_module_version": "2.0.0",
       "_view_name": "LayoutView",
       "align_content": null,
       "align_items": null,
       "align_self": null,
       "border_bottom": null,
       "border_left": null,
       "border_right": null,
       "border_top": null,
       "bottom": null,
       "display": null,
       "flex": null,
       "flex_flow": null,
       "grid_area": null,
       "grid_auto_columns": null,
       "grid_auto_flow": null,
       "grid_auto_rows": null,
       "grid_column": null,
       "grid_gap": null,
       "grid_row": null,
       "grid_template_areas": null,
       "grid_template_columns": null,
       "grid_template_rows": null,
       "height": null,
       "justify_content": null,
       "justify_items": null,
       "left": null,
       "margin": null,
       "max_height": null,
       "max_width": null,
       "min_height": null,
       "min_width": null,
       "object_fit": null,
       "object_position": null,
       "order": null,
       "overflow": null,
       "padding": null,
       "right": null,
       "top": null,
       "visibility": null,
       "width": null
      }
     },
     "68672ab7ea2d48299f99e8e0e47b446e": {
      "model_module": "@jupyter-widgets/controls",
      "model_module_version": "2.0.0",
      "model_name": "HTMLStyleModel",
      "state": {
       "_model_module": "@jupyter-widgets/controls",
       "_model_module_version": "2.0.0",
       "_model_name": "HTMLStyleModel",
       "_view_count": null,
       "_view_module": "@jupyter-widgets/base",
       "_view_module_version": "2.0.0",
       "_view_name": "StyleView",
       "background": null,
       "description_width": "",
       "font_size": null,
       "text_color": null
      }
     },
     "698fad1f92de4445b90431b0a385db1a": {
      "model_module": "@jupyter-widgets/controls",
      "model_module_version": "2.0.0",
      "model_name": "FloatProgressModel",
      "state": {
       "_dom_classes": [],
       "_model_module": "@jupyter-widgets/controls",
       "_model_module_version": "2.0.0",
       "_model_name": "FloatProgressModel",
       "_view_count": null,
       "_view_module": "@jupyter-widgets/controls",
       "_view_module_version": "2.0.0",
       "_view_name": "ProgressView",
       "bar_style": "success",
       "description": "",
       "description_allow_html": false,
       "layout": "IPY_MODEL_d2abebbd286c4bdc9a0c8af1801fbdb5",
       "max": 296.0,
       "min": 0.0,
       "orientation": "horizontal",
       "style": "IPY_MODEL_abdc6ff392fe4607a829af8ad55fdcfc",
       "tabbable": null,
       "tooltip": null,
       "value": 296.0
      }
     },
     "6b73c291b3cb4789b600409bb597f183": {
      "model_module": "@jupyter-widgets/controls",
      "model_module_version": "2.0.0",
      "model_name": "HTMLStyleModel",
      "state": {
       "_model_module": "@jupyter-widgets/controls",
       "_model_module_version": "2.0.0",
       "_model_name": "HTMLStyleModel",
       "_view_count": null,
       "_view_module": "@jupyter-widgets/base",
       "_view_module_version": "2.0.0",
       "_view_name": "StyleView",
       "background": null,
       "description_width": "",
       "font_size": null,
       "text_color": null
      }
     },
     "6baadef57bd84c32ab6ab1a9d10a5c6c": {
      "model_module": "@jupyter-widgets/controls",
      "model_module_version": "2.0.0",
      "model_name": "ProgressStyleModel",
      "state": {
       "_model_module": "@jupyter-widgets/controls",
       "_model_module_version": "2.0.0",
       "_model_name": "ProgressStyleModel",
       "_view_count": null,
       "_view_module": "@jupyter-widgets/base",
       "_view_module_version": "2.0.0",
       "_view_name": "StyleView",
       "bar_color": null,
       "description_width": ""
      }
     },
     "6e329c45ce3347f48fe0f4a9125977ad": {
      "model_module": "@jupyter-widgets/controls",
      "model_module_version": "2.0.0",
      "model_name": "FloatProgressModel",
      "state": {
       "_dom_classes": [],
       "_model_module": "@jupyter-widgets/controls",
       "_model_module_version": "2.0.0",
       "_model_name": "FloatProgressModel",
       "_view_count": null,
       "_view_module": "@jupyter-widgets/controls",
       "_view_module_version": "2.0.0",
       "_view_name": "ProgressView",
       "bar_style": "success",
       "description": "",
       "description_allow_html": false,
       "layout": "IPY_MODEL_3ff82f2e8b0749f7bd12ac1177172422",
       "max": 9085657.0,
       "min": 0.0,
       "orientation": "horizontal",
       "style": "IPY_MODEL_6baadef57bd84c32ab6ab1a9d10a5c6c",
       "tabbable": null,
       "tooltip": null,
       "value": 9085657.0
      }
     },
     "6eae4414ff924f629ca41092d3a876c7": {
      "model_module": "@jupyter-widgets/base",
      "model_module_version": "2.0.0",
      "model_name": "LayoutModel",
      "state": {
       "_model_module": "@jupyter-widgets/base",
       "_model_module_version": "2.0.0",
       "_model_name": "LayoutModel",
       "_view_count": null,
       "_view_module": "@jupyter-widgets/base",
       "_view_module_version": "2.0.0",
       "_view_name": "LayoutView",
       "align_content": null,
       "align_items": null,
       "align_self": null,
       "border_bottom": null,
       "border_left": null,
       "border_right": null,
       "border_top": null,
       "bottom": null,
       "display": null,
       "flex": null,
       "flex_flow": null,
       "grid_area": null,
       "grid_auto_columns": null,
       "grid_auto_flow": null,
       "grid_auto_rows": null,
       "grid_column": null,
       "grid_gap": null,
       "grid_row": null,
       "grid_template_areas": null,
       "grid_template_columns": null,
       "grid_template_rows": null,
       "height": null,
       "justify_content": null,
       "justify_items": null,
       "left": null,
       "margin": null,
       "max_height": null,
       "max_width": null,
       "min_height": null,
       "min_width": null,
       "object_fit": null,
       "object_position": null,
       "order": null,
       "overflow": null,
       "padding": null,
       "right": null,
       "top": null,
       "visibility": null,
       "width": null
      }
     },
     "6ee3d54796b2449bb1e3b8d147319ded": {
      "model_module": "@jupyter-widgets/controls",
      "model_module_version": "2.0.0",
      "model_name": "HTMLStyleModel",
      "state": {
       "_model_module": "@jupyter-widgets/controls",
       "_model_module_version": "2.0.0",
       "_model_name": "HTMLStyleModel",
       "_view_count": null,
       "_view_module": "@jupyter-widgets/base",
       "_view_module_version": "2.0.0",
       "_view_name": "StyleView",
       "background": null,
       "description_width": "",
       "font_size": null,
       "text_color": null
      }
     },
     "73725f1734234eccb1a337b1b46b517f": {
      "model_module": "@jupyter-widgets/base",
      "model_module_version": "2.0.0",
      "model_name": "LayoutModel",
      "state": {
       "_model_module": "@jupyter-widgets/base",
       "_model_module_version": "2.0.0",
       "_model_name": "LayoutModel",
       "_view_count": null,
       "_view_module": "@jupyter-widgets/base",
       "_view_module_version": "2.0.0",
       "_view_name": "LayoutView",
       "align_content": null,
       "align_items": null,
       "align_self": null,
       "border_bottom": null,
       "border_left": null,
       "border_right": null,
       "border_top": null,
       "bottom": null,
       "display": null,
       "flex": null,
       "flex_flow": null,
       "grid_area": null,
       "grid_auto_columns": null,
       "grid_auto_flow": null,
       "grid_auto_rows": null,
       "grid_column": null,
       "grid_gap": null,
       "grid_row": null,
       "grid_template_areas": null,
       "grid_template_columns": null,
       "grid_template_rows": null,
       "height": null,
       "justify_content": null,
       "justify_items": null,
       "left": null,
       "margin": null,
       "max_height": null,
       "max_width": null,
       "min_height": null,
       "min_width": null,
       "object_fit": null,
       "object_position": null,
       "order": null,
       "overflow": null,
       "padding": null,
       "right": null,
       "top": null,
       "visibility": null,
       "width": null
      }
     },
     "7d821040641c4ab1bb8cb4f2bfc2d836": {
      "model_module": "@jupyter-widgets/controls",
      "model_module_version": "2.0.0",
      "model_name": "HTMLModel",
      "state": {
       "_dom_classes": [],
       "_model_module": "@jupyter-widgets/controls",
       "_model_module_version": "2.0.0",
       "_model_name": "HTMLModel",
       "_view_count": null,
       "_view_module": "@jupyter-widgets/controls",
       "_view_module_version": "2.0.0",
       "_view_name": "HTMLView",
       "description": "",
       "description_allow_html": false,
       "layout": "IPY_MODEL_09018b19e15a431a8eb03026665746a2",
       "placeholder": "​",
       "style": "IPY_MODEL_526eb4fa97fb4ce49524aafd73e26641",
       "tabbable": null,
       "tooltip": null,
       "value": " 46/46 [00:00&lt;00:00, 2887.77 examples/s]"
      }
     },
     "7ea37924d32040d7b446299cd1f2ac57": {
      "model_module": "@jupyter-widgets/controls",
      "model_module_version": "2.0.0",
      "model_name": "HTMLStyleModel",
      "state": {
       "_model_module": "@jupyter-widgets/controls",
       "_model_module_version": "2.0.0",
       "_model_name": "HTMLStyleModel",
       "_view_count": null,
       "_view_module": "@jupyter-widgets/base",
       "_view_module_version": "2.0.0",
       "_view_name": "StyleView",
       "background": null,
       "description_width": "",
       "font_size": null,
       "text_color": null
      }
     },
     "7eaf39984f2a4ee2a670614570871561": {
      "model_module": "@jupyter-widgets/controls",
      "model_module_version": "2.0.0",
      "model_name": "HTMLModel",
      "state": {
       "_dom_classes": [],
       "_model_module": "@jupyter-widgets/controls",
       "_model_module_version": "2.0.0",
       "_model_name": "HTMLModel",
       "_view_count": null,
       "_view_module": "@jupyter-widgets/controls",
       "_view_module_version": "2.0.0",
       "_view_name": "HTMLView",
       "description": "",
       "description_allow_html": false,
       "layout": "IPY_MODEL_e7d6b552b6aa4e48833a885a3ea633d8",
       "placeholder": "​",
       "style": "IPY_MODEL_0f0702742f4947348328f599d5b29f3e",
       "tabbable": null,
       "tooltip": null,
       "value": "Map: 100%"
      }
     },
     "7f07b8b94fa94c179717aafb40f3b2f4": {
      "model_module": "@jupyter-widgets/controls",
      "model_module_version": "2.0.0",
      "model_name": "HBoxModel",
      "state": {
       "_dom_classes": [],
       "_model_module": "@jupyter-widgets/controls",
       "_model_module_version": "2.0.0",
       "_model_name": "HBoxModel",
       "_view_count": null,
       "_view_module": "@jupyter-widgets/controls",
       "_view_module_version": "2.0.0",
       "_view_name": "HBoxView",
       "box_style": "",
       "children": [
        "IPY_MODEL_3ed7bb94931f42c6b8fddaba9d8fee08",
        "IPY_MODEL_698fad1f92de4445b90431b0a385db1a",
        "IPY_MODEL_3e4b443433a045b9ab23555f3977841d"
       ],
       "layout": "IPY_MODEL_a8461b50fa814e1d9af571804a029ab9",
       "tabbable": null,
       "tooltip": null
      }
     },
     "806ad961163645058b0b9b8865fe33bb": {
      "model_module": "@jupyter-widgets/controls",
      "model_module_version": "2.0.0",
      "model_name": "ProgressStyleModel",
      "state": {
       "_model_module": "@jupyter-widgets/controls",
       "_model_module_version": "2.0.0",
       "_model_name": "ProgressStyleModel",
       "_view_count": null,
       "_view_module": "@jupyter-widgets/base",
       "_view_module_version": "2.0.0",
       "_view_name": "StyleView",
       "bar_color": null,
       "description_width": ""
      }
     },
     "82aa808deac7452e991548a7b50e9abe": {
      "model_module": "@jupyter-widgets/base",
      "model_module_version": "2.0.0",
      "model_name": "LayoutModel",
      "state": {
       "_model_module": "@jupyter-widgets/base",
       "_model_module_version": "2.0.0",
       "_model_name": "LayoutModel",
       "_view_count": null,
       "_view_module": "@jupyter-widgets/base",
       "_view_module_version": "2.0.0",
       "_view_name": "LayoutView",
       "align_content": null,
       "align_items": null,
       "align_self": null,
       "border_bottom": null,
       "border_left": null,
       "border_right": null,
       "border_top": null,
       "bottom": null,
       "display": null,
       "flex": null,
       "flex_flow": null,
       "grid_area": null,
       "grid_auto_columns": null,
       "grid_auto_flow": null,
       "grid_auto_rows": null,
       "grid_column": null,
       "grid_gap": null,
       "grid_row": null,
       "grid_template_areas": null,
       "grid_template_columns": null,
       "grid_template_rows": null,
       "height": null,
       "justify_content": null,
       "justify_items": null,
       "left": null,
       "margin": null,
       "max_height": null,
       "max_width": null,
       "min_height": null,
       "min_width": null,
       "object_fit": null,
       "object_position": null,
       "order": null,
       "overflow": null,
       "padding": null,
       "right": null,
       "top": null,
       "visibility": null,
       "width": null
      }
     },
     "83a4266c6aa64ce7bded1f017f692e99": {
      "model_module": "@jupyter-widgets/base",
      "model_module_version": "2.0.0",
      "model_name": "LayoutModel",
      "state": {
       "_model_module": "@jupyter-widgets/base",
       "_model_module_version": "2.0.0",
       "_model_name": "LayoutModel",
       "_view_count": null,
       "_view_module": "@jupyter-widgets/base",
       "_view_module_version": "2.0.0",
       "_view_name": "LayoutView",
       "align_content": null,
       "align_items": null,
       "align_self": null,
       "border_bottom": null,
       "border_left": null,
       "border_right": null,
       "border_top": null,
       "bottom": null,
       "display": null,
       "flex": null,
       "flex_flow": null,
       "grid_area": null,
       "grid_auto_columns": null,
       "grid_auto_flow": null,
       "grid_auto_rows": null,
       "grid_column": null,
       "grid_gap": null,
       "grid_row": null,
       "grid_template_areas": null,
       "grid_template_columns": null,
       "grid_template_rows": null,
       "height": null,
       "justify_content": null,
       "justify_items": null,
       "left": null,
       "margin": null,
       "max_height": null,
       "max_width": null,
       "min_height": null,
       "min_width": null,
       "object_fit": null,
       "object_position": null,
       "order": null,
       "overflow": null,
       "padding": null,
       "right": null,
       "top": null,
       "visibility": null,
       "width": null
      }
     },
     "883ea919b1544a8ab79e8b2782c85ca3": {
      "model_module": "@jupyter-widgets/base",
      "model_module_version": "2.0.0",
      "model_name": "LayoutModel",
      "state": {
       "_model_module": "@jupyter-widgets/base",
       "_model_module_version": "2.0.0",
       "_model_name": "LayoutModel",
       "_view_count": null,
       "_view_module": "@jupyter-widgets/base",
       "_view_module_version": "2.0.0",
       "_view_name": "LayoutView",
       "align_content": null,
       "align_items": null,
       "align_self": null,
       "border_bottom": null,
       "border_left": null,
       "border_right": null,
       "border_top": null,
       "bottom": null,
       "display": null,
       "flex": null,
       "flex_flow": null,
       "grid_area": null,
       "grid_auto_columns": null,
       "grid_auto_flow": null,
       "grid_auto_rows": null,
       "grid_column": null,
       "grid_gap": null,
       "grid_row": null,
       "grid_template_areas": null,
       "grid_template_columns": null,
       "grid_template_rows": null,
       "height": null,
       "justify_content": null,
       "justify_items": null,
       "left": null,
       "margin": null,
       "max_height": null,
       "max_width": null,
       "min_height": null,
       "min_width": null,
       "object_fit": null,
       "object_position": null,
       "order": null,
       "overflow": null,
       "padding": null,
       "right": null,
       "top": null,
       "visibility": null,
       "width": null
      }
     },
     "a3198718e46c4e55996fe0e16f53a730": {
      "model_module": "@jupyter-widgets/base",
      "model_module_version": "2.0.0",
      "model_name": "LayoutModel",
      "state": {
       "_model_module": "@jupyter-widgets/base",
       "_model_module_version": "2.0.0",
       "_model_name": "LayoutModel",
       "_view_count": null,
       "_view_module": "@jupyter-widgets/base",
       "_view_module_version": "2.0.0",
       "_view_name": "LayoutView",
       "align_content": null,
       "align_items": null,
       "align_self": null,
       "border_bottom": null,
       "border_left": null,
       "border_right": null,
       "border_top": null,
       "bottom": null,
       "display": null,
       "flex": null,
       "flex_flow": null,
       "grid_area": null,
       "grid_auto_columns": null,
       "grid_auto_flow": null,
       "grid_auto_rows": null,
       "grid_column": null,
       "grid_gap": null,
       "grid_row": null,
       "grid_template_areas": null,
       "grid_template_columns": null,
       "grid_template_rows": null,
       "height": null,
       "justify_content": null,
       "justify_items": null,
       "left": null,
       "margin": null,
       "max_height": null,
       "max_width": null,
       "min_height": null,
       "min_width": null,
       "object_fit": null,
       "object_position": null,
       "order": null,
       "overflow": null,
       "padding": null,
       "right": null,
       "top": null,
       "visibility": null,
       "width": null
      }
     },
     "a5a68f8cf0d54161aa84eb0fcb917b3e": {
      "model_module": "@jupyter-widgets/controls",
      "model_module_version": "2.0.0",
      "model_name": "HBoxModel",
      "state": {
       "_dom_classes": [],
       "_model_module": "@jupyter-widgets/controls",
       "_model_module_version": "2.0.0",
       "_model_name": "HBoxModel",
       "_view_count": null,
       "_view_module": "@jupyter-widgets/controls",
       "_view_module_version": "2.0.0",
       "_view_name": "HBoxView",
       "box_style": "",
       "children": [
        "IPY_MODEL_b4719fdde86d4230a35d364573fe58ae",
        "IPY_MODEL_1ba642e26d3b4919b96a1c61283c1cd8",
        "IPY_MODEL_dc5834b37f704f278b87be3d15bcd6f5"
       ],
       "layout": "IPY_MODEL_6eae4414ff924f629ca41092d3a876c7",
       "tabbable": null,
       "tooltip": null
      }
     },
     "a6ad2f8f3eae413fafbf340d1ec2c6ba": {
      "model_module": "@jupyter-widgets/controls",
      "model_module_version": "2.0.0",
      "model_name": "HBoxModel",
      "state": {
       "_dom_classes": [],
       "_model_module": "@jupyter-widgets/controls",
       "_model_module_version": "2.0.0",
       "_model_name": "HBoxModel",
       "_view_count": null,
       "_view_module": "@jupyter-widgets/controls",
       "_view_module_version": "2.0.0",
       "_view_name": "HBoxView",
       "box_style": "",
       "children": [
        "IPY_MODEL_d644b70092cd42fda769346ad9f3bcad",
        "IPY_MODEL_6e329c45ce3347f48fe0f4a9125977ad",
        "IPY_MODEL_e866ed64fc0a41639350a94fb73d6871"
       ],
       "layout": "IPY_MODEL_83a4266c6aa64ce7bded1f017f692e99",
       "tabbable": null,
       "tooltip": null
      }
     },
     "a8461b50fa814e1d9af571804a029ab9": {
      "model_module": "@jupyter-widgets/base",
      "model_module_version": "2.0.0",
      "model_name": "LayoutModel",
      "state": {
       "_model_module": "@jupyter-widgets/base",
       "_model_module_version": "2.0.0",
       "_model_name": "LayoutModel",
       "_view_count": null,
       "_view_module": "@jupyter-widgets/base",
       "_view_module_version": "2.0.0",
       "_view_name": "LayoutView",
       "align_content": null,
       "align_items": null,
       "align_self": null,
       "border_bottom": null,
       "border_left": null,
       "border_right": null,
       "border_top": null,
       "bottom": null,
       "display": null,
       "flex": null,
       "flex_flow": null,
       "grid_area": null,
       "grid_auto_columns": null,
       "grid_auto_flow": null,
       "grid_auto_rows": null,
       "grid_column": null,
       "grid_gap": null,
       "grid_row": null,
       "grid_template_areas": null,
       "grid_template_columns": null,
       "grid_template_rows": null,
       "height": null,
       "justify_content": null,
       "justify_items": null,
       "left": null,
       "margin": null,
       "max_height": null,
       "max_width": null,
       "min_height": null,
       "min_width": null,
       "object_fit": null,
       "object_position": null,
       "order": null,
       "overflow": null,
       "padding": null,
       "right": null,
       "top": null,
       "visibility": null,
       "width": null
      }
     },
     "abdc6ff392fe4607a829af8ad55fdcfc": {
      "model_module": "@jupyter-widgets/controls",
      "model_module_version": "2.0.0",
      "model_name": "ProgressStyleModel",
      "state": {
       "_model_module": "@jupyter-widgets/controls",
       "_model_module_version": "2.0.0",
       "_model_name": "ProgressStyleModel",
       "_view_count": null,
       "_view_module": "@jupyter-widgets/base",
       "_view_module_version": "2.0.0",
       "_view_name": "StyleView",
       "bar_color": null,
       "description_width": ""
      }
     },
     "adef67a997aa4078bfabbb526d1c79f7": {
      "model_module": "@jupyter-widgets/base",
      "model_module_version": "2.0.0",
      "model_name": "LayoutModel",
      "state": {
       "_model_module": "@jupyter-widgets/base",
       "_model_module_version": "2.0.0",
       "_model_name": "LayoutModel",
       "_view_count": null,
       "_view_module": "@jupyter-widgets/base",
       "_view_module_version": "2.0.0",
       "_view_name": "LayoutView",
       "align_content": null,
       "align_items": null,
       "align_self": null,
       "border_bottom": null,
       "border_left": null,
       "border_right": null,
       "border_top": null,
       "bottom": null,
       "display": null,
       "flex": null,
       "flex_flow": null,
       "grid_area": null,
       "grid_auto_columns": null,
       "grid_auto_flow": null,
       "grid_auto_rows": null,
       "grid_column": null,
       "grid_gap": null,
       "grid_row": null,
       "grid_template_areas": null,
       "grid_template_columns": null,
       "grid_template_rows": null,
       "height": null,
       "justify_content": null,
       "justify_items": null,
       "left": null,
       "margin": null,
       "max_height": null,
       "max_width": null,
       "min_height": null,
       "min_width": null,
       "object_fit": null,
       "object_position": null,
       "order": null,
       "overflow": null,
       "padding": null,
       "right": null,
       "top": null,
       "visibility": null,
       "width": null
      }
     },
     "b4719fdde86d4230a35d364573fe58ae": {
      "model_module": "@jupyter-widgets/controls",
      "model_module_version": "2.0.0",
      "model_name": "HTMLModel",
      "state": {
       "_dom_classes": [],
       "_model_module": "@jupyter-widgets/controls",
       "_model_module_version": "2.0.0",
       "_model_name": "HTMLModel",
       "_view_count": null,
       "_view_module": "@jupyter-widgets/controls",
       "_view_module_version": "2.0.0",
       "_view_name": "HTMLView",
       "description": "",
       "description_allow_html": false,
       "layout": "IPY_MODEL_a3198718e46c4e55996fe0e16f53a730",
       "placeholder": "​",
       "style": "IPY_MODEL_e2799a18f45a44778e6f99bdbb53fb5c",
       "tabbable": null,
       "tooltip": null,
       "value": "tokenizer_config.json: 100%"
      }
     },
     "c6d739aafd7e4d71a71e57cdb0849502": {
      "model_module": "@jupyter-widgets/base",
      "model_module_version": "2.0.0",
      "model_name": "LayoutModel",
      "state": {
       "_model_module": "@jupyter-widgets/base",
       "_model_module_version": "2.0.0",
       "_model_name": "LayoutModel",
       "_view_count": null,
       "_view_module": "@jupyter-widgets/base",
       "_view_module_version": "2.0.0",
       "_view_name": "LayoutView",
       "align_content": null,
       "align_items": null,
       "align_self": null,
       "border_bottom": null,
       "border_left": null,
       "border_right": null,
       "border_top": null,
       "bottom": null,
       "display": null,
       "flex": null,
       "flex_flow": null,
       "grid_area": null,
       "grid_auto_columns": null,
       "grid_auto_flow": null,
       "grid_auto_rows": null,
       "grid_column": null,
       "grid_gap": null,
       "grid_row": null,
       "grid_template_areas": null,
       "grid_template_columns": null,
       "grid_template_rows": null,
       "height": null,
       "justify_content": null,
       "justify_items": null,
       "left": null,
       "margin": null,
       "max_height": null,
       "max_width": null,
       "min_height": null,
       "min_width": null,
       "object_fit": null,
       "object_position": null,
       "order": null,
       "overflow": null,
       "padding": null,
       "right": null,
       "top": null,
       "visibility": null,
       "width": null
      }
     },
     "d130a1aeec554b67b7c29a2b08e441e4": {
      "model_module": "@jupyter-widgets/controls",
      "model_module_version": "2.0.0",
      "model_name": "FloatProgressModel",
      "state": {
       "_dom_classes": [],
       "_model_module": "@jupyter-widgets/controls",
       "_model_module_version": "2.0.0",
       "_model_name": "FloatProgressModel",
       "_view_count": null,
       "_view_module": "@jupyter-widgets/controls",
       "_view_module_version": "2.0.0",
       "_view_name": "ProgressView",
       "bar_style": "success",
       "description": "",
       "description_allow_html": false,
       "layout": "IPY_MODEL_62c6d419990a4913b880e4fdee230ed8",
       "max": 413.0,
       "min": 0.0,
       "orientation": "horizontal",
       "style": "IPY_MODEL_41ab0408090a4be284da8c77b41bd7ba",
       "tabbable": null,
       "tooltip": null,
       "value": 413.0
      }
     },
     "d2abebbd286c4bdc9a0c8af1801fbdb5": {
      "model_module": "@jupyter-widgets/base",
      "model_module_version": "2.0.0",
      "model_name": "LayoutModel",
      "state": {
       "_model_module": "@jupyter-widgets/base",
       "_model_module_version": "2.0.0",
       "_model_name": "LayoutModel",
       "_view_count": null,
       "_view_module": "@jupyter-widgets/base",
       "_view_module_version": "2.0.0",
       "_view_name": "LayoutView",
       "align_content": null,
       "align_items": null,
       "align_self": null,
       "border_bottom": null,
       "border_left": null,
       "border_right": null,
       "border_top": null,
       "bottom": null,
       "display": null,
       "flex": null,
       "flex_flow": null,
       "grid_area": null,
       "grid_auto_columns": null,
       "grid_auto_flow": null,
       "grid_auto_rows": null,
       "grid_column": null,
       "grid_gap": null,
       "grid_row": null,
       "grid_template_areas": null,
       "grid_template_columns": null,
       "grid_template_rows": null,
       "height": null,
       "justify_content": null,
       "justify_items": null,
       "left": null,
       "margin": null,
       "max_height": null,
       "max_width": null,
       "min_height": null,
       "min_width": null,
       "object_fit": null,
       "object_position": null,
       "order": null,
       "overflow": null,
       "padding": null,
       "right": null,
       "top": null,
       "visibility": null,
       "width": null
      }
     },
     "d644b70092cd42fda769346ad9f3bcad": {
      "model_module": "@jupyter-widgets/controls",
      "model_module_version": "2.0.0",
      "model_name": "HTMLModel",
      "state": {
       "_dom_classes": [],
       "_model_module": "@jupyter-widgets/controls",
       "_model_module_version": "2.0.0",
       "_model_name": "HTMLModel",
       "_view_count": null,
       "_view_module": "@jupyter-widgets/controls",
       "_view_module_version": "2.0.0",
       "_view_name": "HTMLView",
       "description": "",
       "description_allow_html": false,
       "layout": "IPY_MODEL_883ea919b1544a8ab79e8b2782c85ca3",
       "placeholder": "​",
       "style": "IPY_MODEL_6b73c291b3cb4789b600409bb597f183",
       "tabbable": null,
       "tooltip": null,
       "value": "tokenizer.json: 100%"
      }
     },
     "dbc559faed1f41c5aba2afb8a1854294": {
      "model_module": "@jupyter-widgets/base",
      "model_module_version": "2.0.0",
      "model_name": "LayoutModel",
      "state": {
       "_model_module": "@jupyter-widgets/base",
       "_model_module_version": "2.0.0",
       "_model_name": "LayoutModel",
       "_view_count": null,
       "_view_module": "@jupyter-widgets/base",
       "_view_module_version": "2.0.0",
       "_view_name": "LayoutView",
       "align_content": null,
       "align_items": null,
       "align_self": null,
       "border_bottom": null,
       "border_left": null,
       "border_right": null,
       "border_top": null,
       "bottom": null,
       "display": null,
       "flex": null,
       "flex_flow": null,
       "grid_area": null,
       "grid_auto_columns": null,
       "grid_auto_flow": null,
       "grid_auto_rows": null,
       "grid_column": null,
       "grid_gap": null,
       "grid_row": null,
       "grid_template_areas": null,
       "grid_template_columns": null,
       "grid_template_rows": null,
       "height": null,
       "justify_content": null,
       "justify_items": null,
       "left": null,
       "margin": null,
       "max_height": null,
       "max_width": null,
       "min_height": null,
       "min_width": null,
       "object_fit": null,
       "object_position": null,
       "order": null,
       "overflow": null,
       "padding": null,
       "right": null,
       "top": null,
       "visibility": null,
       "width": null
      }
     },
     "dc5834b37f704f278b87be3d15bcd6f5": {
      "model_module": "@jupyter-widgets/controls",
      "model_module_version": "2.0.0",
      "model_name": "HTMLModel",
      "state": {
       "_dom_classes": [],
       "_model_module": "@jupyter-widgets/controls",
       "_model_module_version": "2.0.0",
       "_model_name": "HTMLModel",
       "_view_count": null,
       "_view_module": "@jupyter-widgets/controls",
       "_view_module_version": "2.0.0",
       "_view_name": "HTMLView",
       "description": "",
       "description_allow_html": false,
       "layout": "IPY_MODEL_4346da542ab44156aa3351e970ad3721",
       "placeholder": "​",
       "style": "IPY_MODEL_7ea37924d32040d7b446299cd1f2ac57",
       "tabbable": null,
       "tooltip": null,
       "value": " 54.5k/54.5k [00:00&lt;00:00, 5.67MB/s]"
      }
     },
     "e2799a18f45a44778e6f99bdbb53fb5c": {
      "model_module": "@jupyter-widgets/controls",
      "model_module_version": "2.0.0",
      "model_name": "HTMLStyleModel",
      "state": {
       "_model_module": "@jupyter-widgets/controls",
       "_model_module_version": "2.0.0",
       "_model_name": "HTMLStyleModel",
       "_view_count": null,
       "_view_module": "@jupyter-widgets/base",
       "_view_module_version": "2.0.0",
       "_view_name": "StyleView",
       "background": null,
       "description_width": "",
       "font_size": null,
       "text_color": null
      }
     },
     "e4115bb553fb4dbab7fed9351c1989cf": {
      "model_module": "@jupyter-widgets/controls",
      "model_module_version": "2.0.0",
      "model_name": "HTMLStyleModel",
      "state": {
       "_model_module": "@jupyter-widgets/controls",
       "_model_module_version": "2.0.0",
       "_model_name": "HTMLStyleModel",
       "_view_count": null,
       "_view_module": "@jupyter-widgets/base",
       "_view_module_version": "2.0.0",
       "_view_name": "StyleView",
       "background": null,
       "description_width": "",
       "font_size": null,
       "text_color": null
      }
     },
     "e796ed581287465985fa05c7662fb4ae": {
      "model_module": "@jupyter-widgets/controls",
      "model_module_version": "2.0.0",
      "model_name": "HTMLModel",
      "state": {
       "_dom_classes": [],
       "_model_module": "@jupyter-widgets/controls",
       "_model_module_version": "2.0.0",
       "_model_name": "HTMLModel",
       "_view_count": null,
       "_view_module": "@jupyter-widgets/controls",
       "_view_module_version": "2.0.0",
       "_view_name": "HTMLView",
       "description": "",
       "description_allow_html": false,
       "layout": "IPY_MODEL_73725f1734234eccb1a337b1b46b517f",
       "placeholder": "​",
       "style": "IPY_MODEL_6ee3d54796b2449bb1e3b8d147319ded",
       "tabbable": null,
       "tooltip": null,
       "value": " 413/413 [00:00&lt;00:00, 7063.45 examples/s]"
      }
     },
     "e7d6b552b6aa4e48833a885a3ea633d8": {
      "model_module": "@jupyter-widgets/base",
      "model_module_version": "2.0.0",
      "model_name": "LayoutModel",
      "state": {
       "_model_module": "@jupyter-widgets/base",
       "_model_module_version": "2.0.0",
       "_model_name": "LayoutModel",
       "_view_count": null,
       "_view_module": "@jupyter-widgets/base",
       "_view_module_version": "2.0.0",
       "_view_name": "LayoutView",
       "align_content": null,
       "align_items": null,
       "align_self": null,
       "border_bottom": null,
       "border_left": null,
       "border_right": null,
       "border_top": null,
       "bottom": null,
       "display": null,
       "flex": null,
       "flex_flow": null,
       "grid_area": null,
       "grid_auto_columns": null,
       "grid_auto_flow": null,
       "grid_auto_rows": null,
       "grid_column": null,
       "grid_gap": null,
       "grid_row": null,
       "grid_template_areas": null,
       "grid_template_columns": null,
       "grid_template_rows": null,
       "height": null,
       "justify_content": null,
       "justify_items": null,
       "left": null,
       "margin": null,
       "max_height": null,
       "max_width": null,
       "min_height": null,
       "min_width": null,
       "object_fit": null,
       "object_position": null,
       "order": null,
       "overflow": null,
       "padding": null,
       "right": null,
       "top": null,
       "visibility": null,
       "width": null
      }
     },
     "e866ed64fc0a41639350a94fb73d6871": {
      "model_module": "@jupyter-widgets/controls",
      "model_module_version": "2.0.0",
      "model_name": "HTMLModel",
      "state": {
       "_dom_classes": [],
       "_model_module": "@jupyter-widgets/controls",
       "_model_module_version": "2.0.0",
       "_model_name": "HTMLModel",
       "_view_count": null,
       "_view_module": "@jupyter-widgets/controls",
       "_view_module_version": "2.0.0",
       "_view_name": "HTMLView",
       "description": "",
       "description_allow_html": false,
       "layout": "IPY_MODEL_adef67a997aa4078bfabbb526d1c79f7",
       "placeholder": "​",
       "style": "IPY_MODEL_238f8f21ab69424289c3c91960bc6fa4",
       "tabbable": null,
       "tooltip": null,
       "value": " 9.09M/9.09M [00:00&lt;00:00, 15.6MB/s]"
      }
     },
     "fd481ba76ba14c7c9a7d783f2e0616bb": {
      "model_module": "@jupyter-widgets/controls",
      "model_module_version": "2.0.0",
      "model_name": "HTMLModel",
      "state": {
       "_dom_classes": [],
       "_model_module": "@jupyter-widgets/controls",
       "_model_module_version": "2.0.0",
       "_model_name": "HTMLModel",
       "_view_count": null,
       "_view_module": "@jupyter-widgets/controls",
       "_view_module_version": "2.0.0",
       "_view_name": "HTMLView",
       "description": "",
       "description_allow_html": false,
       "layout": "IPY_MODEL_dbc559faed1f41c5aba2afb8a1854294",
       "placeholder": "​",
       "style": "IPY_MODEL_68672ab7ea2d48299f99e8e0e47b446e",
       "tabbable": null,
       "tooltip": null,
       "value": "Map: 100%"
      }
     }
    },
    "version_major": 2,
    "version_minor": 0
   }
  }
 },
 "nbformat": 4,
 "nbformat_minor": 5
}
