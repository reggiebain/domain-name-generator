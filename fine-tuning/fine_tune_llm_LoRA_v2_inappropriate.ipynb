{
 "cells": [
  {
   "cell_type": "markdown",
   "id": "c376286d",
   "metadata": {
    "papermill": {
     "duration": 0.004489,
     "end_time": "2025-07-31T03:30:41.393401",
     "exception": false,
     "start_time": "2025-07-31T03:30:41.388912",
     "status": "completed"
    },
    "tags": []
   },
   "source": [
    "# Part 2 - Fine Tune LLM\n",
    "- Fine tune LLM on our synthetically generated dataset to generate domain names from descriptions.\n",
    "- Do preliminary evaluation using various standard NLP metrics such as rouge, bleu, levenshtein, etc.\n",
    "- Due to time and Kaggle storage constraints, we'll just run this script changing different hyperparameters by hand as opposed to running a for loop over multiple configs, which would lead to a huge amount of space being used that will exceed the output allowance.\n",
    "- We will ultiamtely vary:\n",
    "    - Batch Size\n",
    "    - Learning Rate\n",
    "    - Switch on/off LoRA and PEFT"
   ]
  },
  {
   "cell_type": "code",
   "execution_count": 1,
   "id": "d49ebfc6",
   "metadata": {
    "execution": {
     "iopub.execute_input": "2025-07-31T03:30:41.401561Z",
     "iopub.status.busy": "2025-07-31T03:30:41.401348Z",
     "iopub.status.idle": "2025-07-31T03:30:41.407938Z",
     "shell.execute_reply": "2025-07-31T03:30:41.407388Z"
    },
    "papermill": {
     "duration": 0.011835,
     "end_time": "2025-07-31T03:30:41.409012",
     "exception": false,
     "start_time": "2025-07-31T03:30:41.397177",
     "status": "completed"
    },
    "tags": []
   },
   "outputs": [],
   "source": [
    "VERSION = 'v2'\n",
    "FLAG = 'inappropriate'"
   ]
  },
  {
   "cell_type": "code",
   "execution_count": 2,
   "id": "48bf1f79",
   "metadata": {
    "execution": {
     "iopub.execute_input": "2025-07-31T03:30:41.416806Z",
     "iopub.status.busy": "2025-07-31T03:30:41.416597Z",
     "iopub.status.idle": "2025-07-31T03:32:56.421303Z",
     "shell.execute_reply": "2025-07-31T03:32:56.420547Z"
    },
    "papermill": {
     "duration": 135.010128,
     "end_time": "2025-07-31T03:32:56.422719",
     "exception": false,
     "start_time": "2025-07-31T03:30:41.412591",
     "status": "completed"
    },
    "tags": []
   },
   "outputs": [
    {
     "name": "stdout",
     "output_type": "stream",
     "text": [
      "  Preparing metadata (setup.py) ... \u001b[?25l\u001b[?25hdone\r\n",
      "\u001b[2K   \u001b[90m━━━━━━━━━━━━━━━━━━━━━━━━━━━━━━━━━━━━━━━━\u001b[0m \u001b[32m363.4/363.4 MB\u001b[0m \u001b[31m4.1 MB/s\u001b[0m eta \u001b[36m0:00:00\u001b[0m\r\n",
      "\u001b[2K   \u001b[90m━━━━━━━━━━━━━━━━━━━━━━━━━━━━━━━━━━━━━━━━\u001b[0m \u001b[32m13.8/13.8 MB\u001b[0m \u001b[31m23.2 MB/s\u001b[0m eta \u001b[36m0:00:00\u001b[0m\r\n",
      "\u001b[2K   \u001b[90m━━━━━━━━━━━━━━━━━━━━━━━━━━━━━━━━━━━━━━━━\u001b[0m \u001b[32m24.6/24.6 MB\u001b[0m \u001b[31m23.3 MB/s\u001b[0m eta \u001b[36m0:00:00\u001b[0m\r\n",
      "\u001b[2K   \u001b[90m━━━━━━━━━━━━━━━━━━━━━━━━━━━━━━━━━━━━━━━━\u001b[0m \u001b[32m883.7/883.7 kB\u001b[0m \u001b[31m23.5 MB/s\u001b[0m eta \u001b[36m0:00:00\u001b[0m\r\n",
      "\u001b[2K   \u001b[90m━━━━━━━━━━━━━━━━━━━━━━━━━━━━━━━━━━━━━━━━\u001b[0m \u001b[32m664.8/664.8 MB\u001b[0m \u001b[31m2.0 MB/s\u001b[0m eta \u001b[36m0:00:00\u001b[0m\r\n",
      "\u001b[2K   \u001b[90m━━━━━━━━━━━━━━━━━━━━━━━━━━━━━━━━━━━━━━━━\u001b[0m \u001b[32m211.5/211.5 MB\u001b[0m \u001b[31m6.1 MB/s\u001b[0m eta \u001b[36m0:00:00\u001b[0m\r\n",
      "\u001b[2K   \u001b[90m━━━━━━━━━━━━━━━━━━━━━━━━━━━━━━━━━━━━━━━━\u001b[0m \u001b[32m56.3/56.3 MB\u001b[0m \u001b[31m13.4 MB/s\u001b[0m eta \u001b[36m0:00:00\u001b[0m\r\n",
      "\u001b[2K   \u001b[90m━━━━━━━━━━━━━━━━━━━━━━━━━━━━━━━━━━━━━━━━\u001b[0m \u001b[32m127.9/127.9 MB\u001b[0m \u001b[31m9.0 MB/s\u001b[0m eta \u001b[36m0:00:00\u001b[0m\r\n",
      "\u001b[2K   \u001b[90m━━━━━━━━━━━━━━━━━━━━━━━━━━━━━━━━━━━━━━━━\u001b[0m \u001b[32m207.5/207.5 MB\u001b[0m \u001b[31m6.3 MB/s\u001b[0m eta \u001b[36m0:00:00\u001b[0m\r\n",
      "\u001b[2K   \u001b[90m━━━━━━━━━━━━━━━━━━━━━━━━━━━━━━━━━━━━━━━━\u001b[0m \u001b[32m21.1/21.1 MB\u001b[0m \u001b[31m21.6 MB/s\u001b[0m eta \u001b[36m0:00:00\u001b[0m\r\n",
      "\u001b[2K   \u001b[90m━━━━━━━━━━━━━━━━━━━━━━━━━━━━━━━━━━━━━━━━\u001b[0m \u001b[32m161.7/161.7 kB\u001b[0m \u001b[31m4.3 MB/s\u001b[0m eta \u001b[36m0:00:00\u001b[0m\r\n",
      "\u001b[2K   \u001b[90m━━━━━━━━━━━━━━━━━━━━━━━━━━━━━━━━━━━━━━━━\u001b[0m \u001b[32m3.1/3.1 MB\u001b[0m \u001b[31m23.1 MB/s\u001b[0m eta \u001b[36m0:00:00\u001b[0m\r\n",
      "\u001b[?25h  Building wheel for rouge_score (setup.py) ... \u001b[?25l\u001b[?25hdone\r\n"
     ]
    }
   ],
   "source": [
    "!pip install -q transformers torch peft rouge_score levenshtein"
   ]
  },
  {
   "cell_type": "code",
   "execution_count": 3,
   "id": "89960414",
   "metadata": {
    "execution": {
     "iopub.execute_input": "2025-07-31T03:32:56.601273Z",
     "iopub.status.busy": "2025-07-31T03:32:56.600530Z",
     "iopub.status.idle": "2025-07-31T03:32:57.974811Z",
     "shell.execute_reply": "2025-07-31T03:32:57.974223Z"
    },
    "papermill": {
     "duration": 1.442301,
     "end_time": "2025-07-31T03:32:57.976190",
     "exception": false,
     "start_time": "2025-07-31T03:32:56.533889",
     "status": "completed"
    },
    "tags": []
   },
   "outputs": [],
   "source": [
    "import time\n",
    "import pandas as pd\n",
    "import json"
   ]
  },
  {
   "cell_type": "code",
   "execution_count": 4,
   "id": "7ebad8a5",
   "metadata": {
    "execution": {
     "iopub.execute_input": "2025-07-31T03:32:58.105198Z",
     "iopub.status.busy": "2025-07-31T03:32:58.104729Z",
     "iopub.status.idle": "2025-07-31T03:32:58.140164Z",
     "shell.execute_reply": "2025-07-31T03:32:58.139564Z"
    },
    "papermill": {
     "duration": 0.098249,
     "end_time": "2025-07-31T03:32:58.141209",
     "exception": false,
     "start_time": "2025-07-31T03:32:58.042960",
     "status": "completed"
    },
    "tags": []
   },
   "outputs": [
    {
     "data": {
      "text/html": [
       "<div>\n",
       "<style scoped>\n",
       "    .dataframe tbody tr th:only-of-type {\n",
       "        vertical-align: middle;\n",
       "    }\n",
       "\n",
       "    .dataframe tbody tr th {\n",
       "        vertical-align: top;\n",
       "    }\n",
       "\n",
       "    .dataframe thead th {\n",
       "        text-align: right;\n",
       "    }\n",
       "</style>\n",
       "<table border=\"1\" class=\"dataframe\">\n",
       "  <thead>\n",
       "    <tr style=\"text-align: right;\">\n",
       "      <th></th>\n",
       "      <th>business_description</th>\n",
       "      <th>domain_name</th>\n",
       "      <th>category</th>\n",
       "    </tr>\n",
       "  </thead>\n",
       "  <tbody>\n",
       "    <tr>\n",
       "      <th>0</th>\n",
       "      <td>An app that shows people devilish acts of terr...</td>\n",
       "      <td>[REDACTED: Unsafe Output]</td>\n",
       "      <td>NaN</td>\n",
       "    </tr>\n",
       "    <tr>\n",
       "      <th>1</th>\n",
       "      <td>A website that displays graphic images without...</td>\n",
       "      <td>[REDACTED: Unsafe Output]</td>\n",
       "      <td>NaN</td>\n",
       "    </tr>\n",
       "    <tr>\n",
       "      <th>2</th>\n",
       "      <td>A platform for sharing obscene content without...</td>\n",
       "      <td>[REDACTED: Unsafe Output]</td>\n",
       "      <td>NaN</td>\n",
       "    </tr>\n",
       "    <tr>\n",
       "      <th>3</th>\n",
       "      <td>A game that simulates demonic possession and t...</td>\n",
       "      <td>[REDACTED: Unsafe Output]</td>\n",
       "      <td>NaN</td>\n",
       "    </tr>\n",
       "    <tr>\n",
       "      <th>4</th>\n",
       "      <td>A forum for discussing and sharing explicit se...</td>\n",
       "      <td>[REDACTED: Unsafe Output]</td>\n",
       "      <td>NaN</td>\n",
       "    </tr>\n",
       "    <tr>\n",
       "      <th>5</th>\n",
       "      <td>A mobile app that helps people find local farm...</td>\n",
       "      <td>freshfinds.app</td>\n",
       "      <td>NaN</td>\n",
       "    </tr>\n",
       "    <tr>\n",
       "      <th>6</th>\n",
       "      <td>An online subscription service for eco-friendl...</td>\n",
       "      <td>greenbundle.com</td>\n",
       "      <td>NaN</td>\n",
       "    </tr>\n",
       "    <tr>\n",
       "      <th>7</th>\n",
       "      <td>A platform that helps small businesses adverti...</td>\n",
       "      <td>smallbusiness.co</td>\n",
       "      <td>NaN</td>\n",
       "    </tr>\n",
       "    <tr>\n",
       "      <th>8</th>\n",
       "      <td>A website that connects pet owners with local ...</td>\n",
       "      <td>petsitter.com</td>\n",
       "      <td>NaN</td>\n",
       "    </tr>\n",
       "    <tr>\n",
       "      <th>9</th>\n",
       "      <td>A blog platform for creative writers to share ...</td>\n",
       "      <td>writeon.com</td>\n",
       "      <td>NaN</td>\n",
       "    </tr>\n",
       "  </tbody>\n",
       "</table>\n",
       "</div>"
      ],
      "text/plain": [
       "                                business_description  \\\n",
       "0  An app that shows people devilish acts of terr...   \n",
       "1  A website that displays graphic images without...   \n",
       "2  A platform for sharing obscene content without...   \n",
       "3  A game that simulates demonic possession and t...   \n",
       "4  A forum for discussing and sharing explicit se...   \n",
       "5  A mobile app that helps people find local farm...   \n",
       "6  An online subscription service for eco-friendl...   \n",
       "7  A platform that helps small businesses adverti...   \n",
       "8  A website that connects pet owners with local ...   \n",
       "9  A blog platform for creative writers to share ...   \n",
       "\n",
       "                 domain_name  category  \n",
       "0  [REDACTED: Unsafe Output]       NaN  \n",
       "1  [REDACTED: Unsafe Output]       NaN  \n",
       "2  [REDACTED: Unsafe Output]       NaN  \n",
       "3  [REDACTED: Unsafe Output]       NaN  \n",
       "4  [REDACTED: Unsafe Output]       NaN  \n",
       "5             freshfinds.app       NaN  \n",
       "6            greenbundle.com       NaN  \n",
       "7           smallbusiness.co       NaN  \n",
       "8              petsitter.com       NaN  \n",
       "9                writeon.com       NaN  "
      ]
     },
     "execution_count": 4,
     "metadata": {},
     "output_type": "execute_result"
    }
   ],
   "source": [
    "# Load in data\n",
    "data_file = f'/kaggle/input/domain-name-generator/data/synthetic_data_{FLAG}.csv'\n",
    "df = pd.read_csv(data_file)\n",
    "df.head(10)"
   ]
  },
  {
   "cell_type": "code",
   "execution_count": 5,
   "id": "50f5667c",
   "metadata": {
    "execution": {
     "iopub.execute_input": "2025-07-31T03:32:58.265843Z",
     "iopub.status.busy": "2025-07-31T03:32:58.265384Z",
     "iopub.status.idle": "2025-07-31T03:33:26.295718Z",
     "shell.execute_reply": "2025-07-31T03:33:26.295071Z"
    },
    "papermill": {
     "duration": 28.094181,
     "end_time": "2025-07-31T03:33:26.297231",
     "exception": false,
     "start_time": "2025-07-31T03:32:58.203050",
     "status": "completed"
    },
    "tags": []
   },
   "outputs": [
    {
     "name": "stderr",
     "output_type": "stream",
     "text": [
      "2025-07-31 03:33:13.883415: E external/local_xla/xla/stream_executor/cuda/cuda_fft.cc:477] Unable to register cuFFT factory: Attempting to register factory for plugin cuFFT when one has already been registered\n",
      "WARNING: All log messages before absl::InitializeLog() is called are written to STDERR\n",
      "E0000 00:00:1753932794.074080      19 cuda_dnn.cc:8310] Unable to register cuDNN factory: Attempting to register factory for plugin cuDNN when one has already been registered\n",
      "E0000 00:00:1753932794.132735      19 cuda_blas.cc:1418] Unable to register cuBLAS factory: Attempting to register factory for plugin cuBLAS when one has already been registered\n"
     ]
    }
   ],
   "source": [
    "# Create dataset object for training\n",
    "from datasets import load_dataset, Dataset, DatasetDict\n",
    "from transformers import AutoTokenizer, AutoModelForCausalLM, TrainingArguments, Trainer, DataCollatorForLanguageModeling\n",
    "from peft import get_peft_model, LoraConfig, TaskType\n",
    "import torch\n",
    "from sklearn.model_selection import train_test_split"
   ]
  },
  {
   "cell_type": "code",
   "execution_count": 6,
   "id": "df28000e",
   "metadata": {
    "execution": {
     "iopub.execute_input": "2025-07-31T03:33:26.425655Z",
     "iopub.status.busy": "2025-07-31T03:33:26.424617Z",
     "iopub.status.idle": "2025-07-31T03:33:26.459893Z",
     "shell.execute_reply": "2025-07-31T03:33:26.459125Z"
    },
    "papermill": {
     "duration": 0.100624,
     "end_time": "2025-07-31T03:33:26.461231",
     "exception": false,
     "start_time": "2025-07-31T03:33:26.360607",
     "status": "completed"
    },
    "tags": []
   },
   "outputs": [],
   "source": [
    "# Combine into prompt: \"Business: {description} -> Domain: {domain_name}\" for autoregressie model\n",
    "df[\"text\"] = df.apply(lambda row: f\"Business: {row['business_description']} -> Domain: {row['domain_name']}\", axis=1)\n",
    "\n",
    "# Split data set and turn into data set objects\n",
    "train_df, test_df = train_test_split(df, test_size=0.1, random_state=42)\n",
    "train_df.to_csv('train.csv',index=False)\n",
    "test_df.to_csv('test.csv',index=False)\n",
    "\n",
    "# Add a stop tag to the text column\n",
    "#train_df['text'] = train_df['text'] + '<|eot_id|>'\n",
    "#test_df['text'] = test_df['text'] + '<|eot_id|>'\n",
    "\n",
    "train_dataset = Dataset.from_pandas(train_df[[\"text\"]])\n",
    "test_dataset = Dataset.from_pandas(test_df[[\"text\"]])\n",
    "\n",
    "# Create dict of both training and testing for easy access in Trainer\n",
    "datasets = DatasetDict({\"train\": train_dataset, \"test\": test_dataset})"
   ]
  },
  {
   "cell_type": "code",
   "execution_count": 7,
   "id": "3b68e6a6",
   "metadata": {
    "execution": {
     "iopub.execute_input": "2025-07-31T03:33:26.589486Z",
     "iopub.status.busy": "2025-07-31T03:33:26.588767Z",
     "iopub.status.idle": "2025-07-31T03:33:26.596235Z",
     "shell.execute_reply": "2025-07-31T03:33:26.595556Z"
    },
    "papermill": {
     "duration": 0.072252,
     "end_time": "2025-07-31T03:33:26.597347",
     "exception": false,
     "start_time": "2025-07-31T03:33:26.525095",
     "status": "completed"
    },
    "tags": []
   },
   "outputs": [
    {
     "name": "stdout",
     "output_type": "stream",
     "text": [
      "Business: A personalized meal delivery service that offers healthy, customizable meals. -> Domain: mealprep.com\n"
     ]
    }
   ],
   "source": [
    "# Explore a piece of dataset as sanity check\n",
    "print(datasets['train'][0]['text'])"
   ]
  },
  {
   "cell_type": "code",
   "execution_count": 8,
   "id": "fb0df101",
   "metadata": {
    "execution": {
     "iopub.execute_input": "2025-07-31T03:33:26.723880Z",
     "iopub.status.busy": "2025-07-31T03:33:26.723091Z",
     "iopub.status.idle": "2025-07-31T03:33:26.989615Z",
     "shell.execute_reply": "2025-07-31T03:33:26.989056Z"
    },
    "papermill": {
     "duration": 0.329912,
     "end_time": "2025-07-31T03:33:26.990925",
     "exception": false,
     "start_time": "2025-07-31T03:33:26.661013",
     "status": "completed"
    },
    "tags": []
   },
   "outputs": [],
   "source": [
    "from kaggle_secrets import UserSecretsClient\n",
    "user_secrets = UserSecretsClient()\n",
    "hf_token = user_secrets.get_secret(\"HF_TOKEN\")"
   ]
  },
  {
   "cell_type": "code",
   "execution_count": 9,
   "id": "7f7a2d4e",
   "metadata": {
    "execution": {
     "iopub.execute_input": "2025-07-31T03:33:27.117442Z",
     "iopub.status.busy": "2025-07-31T03:33:27.117189Z",
     "iopub.status.idle": "2025-07-31T03:33:30.553758Z",
     "shell.execute_reply": "2025-07-31T03:33:30.553132Z"
    },
    "papermill": {
     "duration": 3.500662,
     "end_time": "2025-07-31T03:33:30.555281",
     "exception": false,
     "start_time": "2025-07-31T03:33:27.054619",
     "status": "completed"
    },
    "tags": []
   },
   "outputs": [
    {
     "name": "stderr",
     "output_type": "stream",
     "text": [
      "/usr/local/lib/python3.11/dist-packages/transformers/models/auto/tokenization_auto.py:902: FutureWarning: The `use_auth_token` argument is deprecated and will be removed in v5 of Transformers. Please use `token` instead.\n",
      "  warnings.warn(\n"
     ]
    },
    {
     "data": {
      "application/vnd.jupyter.widget-view+json": {
       "model_id": "8fa9bb1a0d584c74a4d7a71d8e40b4bd",
       "version_major": 2,
       "version_minor": 0
      },
      "text/plain": [
       "tokenizer_config.json:   0%|          | 0.00/54.5k [00:00<?, ?B/s]"
      ]
     },
     "metadata": {},
     "output_type": "display_data"
    },
    {
     "data": {
      "application/vnd.jupyter.widget-view+json": {
       "model_id": "18697018a56f457386841b84b2000007",
       "version_major": 2,
       "version_minor": 0
      },
      "text/plain": [
       "tokenizer.json:   0%|          | 0.00/9.09M [00:00<?, ?B/s]"
      ]
     },
     "metadata": {},
     "output_type": "display_data"
    },
    {
     "data": {
      "application/vnd.jupyter.widget-view+json": {
       "model_id": "8eaee1a27cf04284b89abfa50b92378d",
       "version_major": 2,
       "version_minor": 0
      },
      "text/plain": [
       "special_tokens_map.json:   0%|          | 0.00/296 [00:00<?, ?B/s]"
      ]
     },
     "metadata": {},
     "output_type": "display_data"
    }
   ],
   "source": [
    "model_name_or_path = \"/kaggle/input/llama-3.2/transformers/1b-instruct/1\"\n",
    "#tokenizer = AutoTokenizer.from_pretrained(model_name_or_path, trust_remote_code=True)\n",
    "tokenizer = AutoTokenizer.from_pretrained(\n",
    "    \"meta-llama/Llama-3.2-1B-Instruct\", \n",
    "    trust_remote_code=True,\n",
    "    use_auth_token=hf_token)\n",
    "\n",
    "#tokenizer.pad_token = tokenizer.eos_token\n",
    "#tokenizer.add_special_tokens({'pad_token': '[PAD]'})  # Add a safe pad token\n",
    "tokenizer.pad_token = \"<|eot_id|>\"  # if not already set\n",
    "tokenizer.eos_token = \"<|eot_id|>\""
   ]
  },
  {
   "cell_type": "code",
   "execution_count": 10,
   "id": "0e5e58f0",
   "metadata": {
    "execution": {
     "iopub.execute_input": "2025-07-31T03:33:30.684275Z",
     "iopub.status.busy": "2025-07-31T03:33:30.683616Z",
     "iopub.status.idle": "2025-07-31T03:33:56.353914Z",
     "shell.execute_reply": "2025-07-31T03:33:56.353236Z"
    },
    "papermill": {
     "duration": 25.734466,
     "end_time": "2025-07-31T03:33:56.355077",
     "exception": false,
     "start_time": "2025-07-31T03:33:30.620611",
     "status": "completed"
    },
    "tags": []
   },
   "outputs": [
    {
     "data": {
      "application/vnd.jupyter.widget-view+json": {
       "model_id": "46e7623913ef477fafabe26a45a454a4",
       "version_major": 2,
       "version_minor": 0
      },
      "text/plain": [
       "Map:   0%|          | 0/180 [00:00<?, ? examples/s]"
      ]
     },
     "metadata": {},
     "output_type": "display_data"
    },
    {
     "data": {
      "application/vnd.jupyter.widget-view+json": {
       "model_id": "6cc400b322884f9e89d6c4008f933067",
       "version_major": 2,
       "version_minor": 0
      },
      "text/plain": [
       "Map:   0%|          | 0/20 [00:00<?, ? examples/s]"
      ]
     },
     "metadata": {},
     "output_type": "display_data"
    }
   ],
   "source": [
    "# Load base model and tokenize\n",
    "model = AutoModelForCausalLM.from_pretrained(\n",
    "    model_name_or_path,\n",
    "    #torch_dtype=torch.bfloat16,\n",
    "    #torch_dtype=torch.float16,\n",
    "    device_map=\"auto\" # put onto cuda automatically if available\n",
    ")\n",
    "model.resize_token_embeddings(len(tokenizer))         # Resize embedding to include [PAD]\n",
    "model.config.eos_token_id = tokenizer.eos_token_id\n",
    "\n",
    "def tokenize(example):\n",
    "    result = tokenizer(\n",
    "        example[\"text\"], \n",
    "        truncation=True, \n",
    "        padding=True,\n",
    "        #padding=\"max_length\", \n",
    "        max_length=128\n",
    "    )\n",
    "    result['labels'] = result['input_ids'].copy()\n",
    "    return result\n",
    "\n",
    "tokenized_dataset = datasets.map(tokenize, batched=True)"
   ]
  },
  {
   "cell_type": "code",
   "execution_count": 11,
   "id": "e649b22f",
   "metadata": {
    "execution": {
     "iopub.execute_input": "2025-07-31T03:33:56.484346Z",
     "iopub.status.busy": "2025-07-31T03:33:56.483685Z",
     "iopub.status.idle": "2025-07-31T03:33:56.487685Z",
     "shell.execute_reply": "2025-07-31T03:33:56.486935Z"
    },
    "papermill": {
     "duration": 0.07042,
     "end_time": "2025-07-31T03:33:56.488752",
     "exception": false,
     "start_time": "2025-07-31T03:33:56.418332",
     "status": "completed"
    },
    "tags": []
   },
   "outputs": [
    {
     "name": "stdout",
     "output_type": "stream",
     "text": [
      "{'bos_token': '<|begin_of_text|>', 'eos_token': '<|eot_id|>', 'pad_token': '<|eot_id|>'}\n"
     ]
    }
   ],
   "source": [
    "# Check one input after tokenizing\n",
    "print(tokenizer.special_tokens_map)"
   ]
  },
  {
   "cell_type": "code",
   "execution_count": 12,
   "id": "cc3cc206",
   "metadata": {
    "execution": {
     "iopub.execute_input": "2025-07-31T03:33:56.617890Z",
     "iopub.status.busy": "2025-07-31T03:33:56.617641Z",
     "iopub.status.idle": "2025-07-31T03:33:56.668753Z",
     "shell.execute_reply": "2025-07-31T03:33:56.668235Z"
    },
    "papermill": {
     "duration": 0.117208,
     "end_time": "2025-07-31T03:33:56.669884",
     "exception": false,
     "start_time": "2025-07-31T03:33:56.552676",
     "status": "completed"
    },
    "tags": []
   },
   "outputs": [],
   "source": [
    "# Create LoRA (parameter-efficient fine-tuning) and wrap model in it\n",
    "peft_config = LoraConfig(\n",
    "    r=8,\n",
    "    lora_alpha=32,\n",
    "    target_modules=[\"q_proj\", \"v_proj\"],\n",
    "    lora_dropout=0.05,\n",
    "    bias=\"none\",\n",
    "    task_type=TaskType.CAUSAL_LM\n",
    ")\n",
    "\n",
    "# Commenting out removes peft and does full fine tuning\n",
    "model = get_peft_model(model, peft_config)"
   ]
  },
  {
   "cell_type": "code",
   "execution_count": 13,
   "id": "90cc81d4",
   "metadata": {
    "execution": {
     "iopub.execute_input": "2025-07-31T03:33:56.798576Z",
     "iopub.status.busy": "2025-07-31T03:33:56.798356Z",
     "iopub.status.idle": "2025-07-31T03:33:56.802401Z",
     "shell.execute_reply": "2025-07-31T03:33:56.801648Z"
    },
    "papermill": {
     "duration": 0.070374,
     "end_time": "2025-07-31T03:33:56.803572",
     "exception": false,
     "start_time": "2025-07-31T03:33:56.733198",
     "status": "completed"
    },
    "tags": []
   },
   "outputs": [],
   "source": [
    "# Create data collator to patch, dynamically pad, etc.\n",
    "data_collator = DataCollatorForLanguageModeling(\n",
    "    tokenizer, \n",
    "    mlm=False\n",
    ")\n",
    "\n",
    "if tokenizer.pad_token is None:\n",
    "    tokenizer.add_special_tokens({'pad_token': '[PAD]'})\n",
    "    model.resize_token_embeddings(len(tokenizer))"
   ]
  },
  {
   "cell_type": "code",
   "execution_count": 14,
   "id": "7197cab4",
   "metadata": {
    "execution": {
     "iopub.execute_input": "2025-07-31T03:33:56.931035Z",
     "iopub.status.busy": "2025-07-31T03:33:56.930616Z",
     "iopub.status.idle": "2025-07-31T03:33:56.972900Z",
     "shell.execute_reply": "2025-07-31T03:33:56.972026Z"
    },
    "papermill": {
     "duration": 0.1074,
     "end_time": "2025-07-31T03:33:56.974102",
     "exception": false,
     "start_time": "2025-07-31T03:33:56.866702",
     "status": "completed"
    },
    "tags": []
   },
   "outputs": [
    {
     "name": "stderr",
     "output_type": "stream",
     "text": [
      "/tmp/ipykernel_19/3942653682.py:18: FutureWarning: `tokenizer` is deprecated and will be removed in version 5.0.0 for `Trainer.__init__`. Use `processing_class` instead.\n",
      "  trainer = Trainer(\n",
      "No label_names provided for model class `PeftModelForCausalLM`. Since `PeftModel` hides base models input arguments, if label_names is not given, label_names can't be set automatically within `Trainer`. Note that empty label_names list will be used instead.\n"
     ]
    }
   ],
   "source": [
    "# Create training arguments, data-collator ()\n",
    "\n",
    "training_args = TrainingArguments(\n",
    "    output_dir=\"./outputs\",\n",
    "    per_device_train_batch_size=4,\n",
    "    gradient_accumulation_steps=4,\n",
    "    num_train_epochs=3,\n",
    "    learning_rate=5e-5,\n",
    "    #fp16=True,\n",
    "    logging_dir=\"./logs\",\n",
    "    logging_steps=10,\n",
    "    save_steps=1000,\n",
    "    save_total_limit=2,\n",
    "    report_to=\"none\",\n",
    "    max_grad_norm=1.0,\n",
    ")\n",
    "\n",
    "trainer = Trainer(\n",
    "    model=model,\n",
    "    args=training_args,\n",
    "    train_dataset=tokenized_dataset[\"train\"],\n",
    "    eval_dataset=tokenized_dataset[\"test\"],\n",
    "    data_collator=data_collator,\n",
    "    tokenizer=tokenizer\n",
    ")"
   ]
  },
  {
   "cell_type": "code",
   "execution_count": 15,
   "id": "dc22c41d",
   "metadata": {
    "execution": {
     "iopub.execute_input": "2025-07-31T03:33:57.101326Z",
     "iopub.status.busy": "2025-07-31T03:33:57.100707Z",
     "iopub.status.idle": "2025-07-31T03:33:57.106652Z",
     "shell.execute_reply": "2025-07-31T03:33:57.106105Z"
    },
    "papermill": {
     "duration": 0.07079,
     "end_time": "2025-07-31T03:33:57.107629",
     "exception": false,
     "start_time": "2025-07-31T03:33:57.036839",
     "status": "completed"
    },
    "tags": []
   },
   "outputs": [
    {
     "name": "stdout",
     "output_type": "stream",
     "text": [
      "<|begin_of_text|>Business: A personalized meal delivery service that offers healthy, customizable meals. -> Domain: mealprep.com<|eot_id|><|eot_id|><|eot_id|><|eot_id|><|eot_id|><|eot_id|><|eot_id|><|eot_id|><|eot_id|>\n"
     ]
    }
   ],
   "source": [
    "# Look at a few inputs pre training\n",
    "for i in range(1):\n",
    "    print(tokenizer.decode(tokenized_dataset[\"train\"][i][\"input_ids\"]))"
   ]
  },
  {
   "cell_type": "code",
   "execution_count": 16,
   "id": "d96b7833",
   "metadata": {
    "execution": {
     "iopub.execute_input": "2025-07-31T03:33:57.283993Z",
     "iopub.status.busy": "2025-07-31T03:33:57.283621Z",
     "iopub.status.idle": "2025-07-31T03:34:16.133974Z",
     "shell.execute_reply": "2025-07-31T03:34:16.133023Z"
    },
    "papermill": {
     "duration": 18.963569,
     "end_time": "2025-07-31T03:34:16.135755",
     "exception": false,
     "start_time": "2025-07-31T03:33:57.172186",
     "status": "completed"
    },
    "tags": []
   },
   "outputs": [
    {
     "data": {
      "text/html": [
       "\n",
       "    <div>\n",
       "      \n",
       "      <progress value='36' max='36' style='width:300px; height:20px; vertical-align: middle;'></progress>\n",
       "      [36/36 00:16, Epoch 3/3]\n",
       "    </div>\n",
       "    <table border=\"1\" class=\"dataframe\">\n",
       "  <thead>\n",
       " <tr style=\"text-align: left;\">\n",
       "      <th>Step</th>\n",
       "      <th>Training Loss</th>\n",
       "    </tr>\n",
       "  </thead>\n",
       "  <tbody>\n",
       "    <tr>\n",
       "      <td>10</td>\n",
       "      <td>3.938400</td>\n",
       "    </tr>\n",
       "    <tr>\n",
       "      <td>20</td>\n",
       "      <td>3.569700</td>\n",
       "    </tr>\n",
       "    <tr>\n",
       "      <td>30</td>\n",
       "      <td>3.269200</td>\n",
       "    </tr>\n",
       "  </tbody>\n",
       "</table><p>"
      ],
      "text/plain": [
       "<IPython.core.display.HTML object>"
      ]
     },
     "metadata": {},
     "output_type": "display_data"
    },
    {
     "data": {
      "text/plain": [
       "('./fine-tuned-llama-domain-generator-v2/tokenizer_config.json',\n",
       " './fine-tuned-llama-domain-generator-v2/special_tokens_map.json',\n",
       " './fine-tuned-llama-domain-generator-v2/chat_template.jinja',\n",
       " './fine-tuned-llama-domain-generator-v2/tokenizer.json')"
      ]
     },
     "execution_count": 16,
     "metadata": {},
     "output_type": "execute_result"
    }
   ],
   "source": [
    "trainer.train()\n",
    "\n",
    "# Save final model\n",
    "trainer.save_model(f\"./fine-tuned-llama-domain-generator-{VERSION}\")\n",
    "tokenizer.save_pretrained(f\"./fine-tuned-llama-domain-generator-{VERSION}\")"
   ]
  },
  {
   "cell_type": "markdown",
   "id": "1d55c5d5",
   "metadata": {
    "papermill": {
     "duration": 0.064343,
     "end_time": "2025-07-31T03:34:16.267583",
     "exception": false,
     "start_time": "2025-07-31T03:34:16.203240",
     "status": "completed"
    },
    "tags": []
   },
   "source": [
    "#### Checks Before Eval"
   ]
  },
  {
   "cell_type": "code",
   "execution_count": 17,
   "id": "af17925d",
   "metadata": {
    "execution": {
     "iopub.execute_input": "2025-07-31T03:34:16.395471Z",
     "iopub.status.busy": "2025-07-31T03:34:16.395207Z",
     "iopub.status.idle": "2025-07-31T03:34:16.401001Z",
     "shell.execute_reply": "2025-07-31T03:34:16.400392Z"
    },
    "papermill": {
     "duration": 0.070711,
     "end_time": "2025-07-31T03:34:16.402059",
     "exception": false,
     "start_time": "2025-07-31T03:34:16.331348",
     "status": "completed"
    },
    "tags": []
   },
   "outputs": [
    {
     "data": {
      "text/plain": [
       "'A delivery service for fresh, locally sourced food.'"
      ]
     },
     "execution_count": 17,
     "metadata": {},
     "output_type": "execute_result"
    }
   ],
   "source": [
    "# Generate a sample prompt from the test set\n",
    "sample_prompt = datasets['test'][0]['text'].split(\"-> Domain:\")[0].replace(\"Business:\", \"\").strip()\n",
    "sample_true_domain = datasets['test'][0]['text'].split(\"-> Domain:\")[-1].strip()\n",
    "sample_prompt"
   ]
  },
  {
   "cell_type": "code",
   "execution_count": 18,
   "id": "b32c3218",
   "metadata": {
    "execution": {
     "iopub.execute_input": "2025-07-31T03:34:16.530431Z",
     "iopub.status.busy": "2025-07-31T03:34:16.530154Z",
     "iopub.status.idle": "2025-07-31T03:34:16.535145Z",
     "shell.execute_reply": "2025-07-31T03:34:16.534551Z"
    },
    "papermill": {
     "duration": 0.071124,
     "end_time": "2025-07-31T03:34:16.536164",
     "exception": false,
     "start_time": "2025-07-31T03:34:16.465040",
     "status": "completed"
    },
    "tags": []
   },
   "outputs": [
    {
     "data": {
      "text/plain": [
       "'Business: A delivery service for fresh, locally sourced food. -> Domain: farmfresh.com'"
      ]
     },
     "execution_count": 18,
     "metadata": {},
     "output_type": "execute_result"
    }
   ],
   "source": [
    "datasets['test'][0]['text']"
   ]
  },
  {
   "cell_type": "markdown",
   "id": "ed276d9c",
   "metadata": {
    "papermill": {
     "duration": 0.06279,
     "end_time": "2025-07-31T03:34:16.661984",
     "exception": false,
     "start_time": "2025-07-31T03:34:16.599194",
     "status": "completed"
    },
    "tags": []
   },
   "source": [
    "## Evaluating model\n",
    "- We do have some eval metrics above that computes \"language model loss\" which measures model's ability to predict the next token, not necessarily how relevant/quality the output is.\n",
    "- Thus, we implement some scoring\n",
    "    - ROUGE (Recall-Oriented Understudy for Gisting Evaluation) is a set of metrics used to evaluate the quality of machine-generated summaries by comparing them to human-written reference summaries.\n",
    "    - In general, a ROUGE score above 0.5 is often considered good, especially for ROUGE-1, while scores below 0.2 are often considered poor.\n",
    "    - A good BLEU (bilingual evaluation understudy) score is above 0.3...however, this isn't the best use case for BLEU since its primarily used for tranlsation.\n",
    "    - A good levenshtein distance is not a fixed thing, but 0 represents identical strings."
   ]
  },
  {
   "cell_type": "code",
   "execution_count": 19,
   "id": "f8cbda46",
   "metadata": {
    "execution": {
     "iopub.execute_input": "2025-07-31T03:34:16.789046Z",
     "iopub.status.busy": "2025-07-31T03:34:16.788763Z",
     "iopub.status.idle": "2025-07-31T03:34:17.282032Z",
     "shell.execute_reply": "2025-07-31T03:34:17.281333Z"
    },
    "papermill": {
     "duration": 0.558735,
     "end_time": "2025-07-31T03:34:17.283416",
     "exception": false,
     "start_time": "2025-07-31T03:34:16.724681",
     "status": "completed"
    },
    "tags": []
   },
   "outputs": [],
   "source": [
    "from rouge_score import rouge_scorer\n",
    "import matplotlib.pyplot as plt\n",
    "from nltk.translate.bleu_score import sentence_bleu, SmoothingFunction\n",
    "import Levenshtein\n",
    "import re"
   ]
  },
  {
   "cell_type": "code",
   "execution_count": 20,
   "id": "5eb03d64",
   "metadata": {
    "execution": {
     "iopub.execute_input": "2025-07-31T03:34:17.410920Z",
     "iopub.status.busy": "2025-07-31T03:34:17.410640Z",
     "iopub.status.idle": "2025-07-31T03:34:17.414903Z",
     "shell.execute_reply": "2025-07-31T03:34:17.414340Z"
    },
    "papermill": {
     "duration": 0.068477,
     "end_time": "2025-07-31T03:34:17.416012",
     "exception": false,
     "start_time": "2025-07-31T03:34:17.347535",
     "status": "completed"
    },
    "tags": []
   },
   "outputs": [],
   "source": [
    "def extract_domain(text: str) -> str:\n",
    "    \"\"\"\n",
    "    Extracts the first domain-like string from the LLM output.\n",
    "    Handles formats like:\n",
    "    - plain: domain.com\n",
    "    - markdown: [domain.com](http://domain.com)\n",
    "    - prefixed: 'Website: domain.com'\n",
    "    - continuation: '-> Tagline: ...'\n",
    "    \"\"\"\n",
    "\n",
    "    # 1. Try to extract markdown-style domain\n",
    "    markdown_match = re.search(r'\\[([a-zA-Z0-9\\.-]+\\.[a-z]{2,})\\]\\(http[^\\)]*\\)', text)\n",
    "    if markdown_match:\n",
    "        return markdown_match.group(1)\n",
    "\n",
    "    # 2. Find domain-like text directly\n",
    "    domain_match = re.search(r'\\b([a-zA-Z0-9-]+\\.[a-z]{2,})\\b', text)\n",
    "    if domain_match:\n",
    "        return domain_match.group(1)\n",
    "\n",
    "    return \"NO_DOMAIN_FOUND\""
   ]
  },
  {
   "cell_type": "code",
   "execution_count": 21,
   "id": "579e442f",
   "metadata": {
    "execution": {
     "iopub.execute_input": "2025-07-31T03:34:17.545951Z",
     "iopub.status.busy": "2025-07-31T03:34:17.545692Z",
     "iopub.status.idle": "2025-07-31T03:34:17.550627Z",
     "shell.execute_reply": "2025-07-31T03:34:17.550070Z"
    },
    "papermill": {
     "duration": 0.072227,
     "end_time": "2025-07-31T03:34:17.551687",
     "exception": false,
     "start_time": "2025-07-31T03:34:17.479460",
     "status": "completed"
    },
    "tags": []
   },
   "outputs": [],
   "source": [
    "# Create function to check if domain name is valid domain name\n",
    "VALID_TLDS = ['.com', '.ai', '.io', '.net', '.org', '.co', '.app', '.tech', '.dev']\n",
    "\n",
    "def is_valid_domain(domain: str) -> bool:\n",
    "    domain = domain.strip().lower()\n",
    "\n",
    "    # Basic structure check: must contain a valid TLD\n",
    "    if not any(domain.endswith(tld) for tld in VALID_TLDS):\n",
    "        return False\n",
    "\n",
    "    # No whitespace\n",
    "    if ' ' in domain:\n",
    "        return False\n",
    "\n",
    "    # Length check\n",
    "    if len(domain) > 63 or len(domain) == 0:\n",
    "        return False\n",
    "\n",
    "    # Valid characters (alphanumeric, hyphen, and dot)\n",
    "    pattern = r'^[a-z0-9\\-\\.]+$'\n",
    "    if not re.match(pattern, domain):\n",
    "        return False\n",
    "\n",
    "    # Should not contain multiple dots (e.g., no sentences)\n",
    "    if domain.count('.') > 1:\n",
    "        return False\n",
    "\n",
    "    return True"
   ]
  },
  {
   "cell_type": "code",
   "execution_count": 22,
   "id": "8a7408a9",
   "metadata": {
    "execution": {
     "iopub.execute_input": "2025-07-31T03:34:17.678907Z",
     "iopub.status.busy": "2025-07-31T03:34:17.678537Z",
     "iopub.status.idle": "2025-07-31T03:34:17.682246Z",
     "shell.execute_reply": "2025-07-31T03:34:17.681742Z"
    },
    "papermill": {
     "duration": 0.068365,
     "end_time": "2025-07-31T03:34:17.683229",
     "exception": false,
     "start_time": "2025-07-31T03:34:17.614864",
     "status": "completed"
    },
    "tags": []
   },
   "outputs": [],
   "source": [
    "# get rouge scorer\n",
    "scorer = rouge_scorer.RougeScorer(['rougeL'], use_stemmer=True)\n",
    "scores = []\n",
    "bleu_scores = []\n",
    "levenshtein_distances = []\n",
    "brandability_scores = []\n",
    "predictions = []\n",
    "valid_domains = []"
   ]
  },
  {
   "cell_type": "code",
   "execution_count": 23,
   "id": "8abd80ed",
   "metadata": {
    "execution": {
     "iopub.execute_input": "2025-07-31T03:34:17.810035Z",
     "iopub.status.busy": "2025-07-31T03:34:17.809553Z",
     "iopub.status.idle": "2025-07-31T03:34:27.540765Z",
     "shell.execute_reply": "2025-07-31T03:34:27.539924Z"
    },
    "papermill": {
     "duration": 9.795845,
     "end_time": "2025-07-31T03:34:27.542063",
     "exception": false,
     "start_time": "2025-07-31T03:34:17.746218",
     "status": "completed"
    },
    "tags": []
   },
   "outputs": [
    {
     "name": "stdout",
     "output_type": "stream",
     "text": [
      "Pct of Predictions that are valid domains = 80.00%\n"
     ]
    }
   ],
   "source": [
    "# Put pytorch model in eval mode\n",
    "model.eval()\n",
    "\n",
    "# Loop over test data\n",
    "for item in test_dataset:\n",
    "    input_text = item[\"text\"]\n",
    "    if \"-> Domain:\" not in input_text:\n",
    "        continue\n",
    "    description = input_text.split(\"-> Domain:\")[0].replace(\"Business:\", \"\").strip()\n",
    "    true_domain = input_text.split(\"-> Domain:\")[-1].strip()\n",
    "\n",
    "    prompt = f\"Business: {description} -> Domain:\"\n",
    "    inputs = tokenizer(prompt, return_tensors=\"pt\").to(model.device)\n",
    "    \n",
    "    with torch.no_grad():\n",
    "        outputs = model.generate(\n",
    "            **inputs, \n",
    "            max_new_tokens=20, \n",
    "            do_sample=True, \n",
    "            top_k=50, \n",
    "            temperature=0.7,\n",
    "            pad_token_id=tokenizer.pad_token_id,\n",
    "            eos_token_id=tokenizer.eos_token_id,\n",
    "            #eos_token_id=tokenizer.encode('<|eot_id|>')[0],\n",
    "        )\n",
    "    \n",
    "    decoded = tokenizer.decode(outputs[0], skip_special_tokens=True)\n",
    "    output_text = tokenizer.decode(outputs[0], skip_special_tokens=False)\n",
    "    pred_domain = output_text.split(\"-> Domain:\")[-1].split(\"<|\")[0].split(\"\\n\")[0].strip()\n",
    "    pred_domain = extract_domain(pred_domain)\n",
    "    #pred_domain = decoded.split(\"-> Domain:\")[-1].strip()\n",
    "\n",
    "    # Safety filter\n",
    "    banned_keywords = [\"sex\", \"kill\", \"drugs\", \"hate\", \"murder\", \"terrorism\", 'terror',\n",
    "                        \"adult-content\", 'adult content', \"explicit\", \n",
    "                        \"porn\", \"xxx\", \"nude\", \"erotic\", \"pornography\"\n",
    "                        \"gambling\", \"casino\", \"hate\", \"violence\"]\n",
    "    if any(bad in pred_domain.lower() for bad in banned_keywords):\n",
    "        pred_domain = \"[REDACTED: Unsafe Output]\"\n",
    "\n",
    "    # Check if valid domain       \n",
    "    valid_domain = is_valid_domain(pred_domain)\n",
    "    valid_domains.append(valid_domain)\n",
    "    \n",
    "    # ROUGE\n",
    "    rouge_score = scorer.score(true_domain, pred_domain)[\"rougeL\"].fmeasure\n",
    "    scores.append(rouge_score)\n",
    "\n",
    "    # BLEU\n",
    "    bleu = sentence_bleu([true_domain.split(\".\")], pred_domain.split(\".\"), smoothing_function=SmoothingFunction().method1)\n",
    "    bleu_scores.append(bleu)\n",
    "\n",
    "    # Levenshtein\n",
    "    lev_distance = Levenshtein.distance(true_domain, pred_domain)\n",
    "    levenshtein_distances.append(lev_distance)\n",
    "\n",
    "    # Brandability heuristic: short, no numbers/symbols, vowel-consonant balance\n",
    "    def brandability(domain):\n",
    "        score = 1.0\n",
    "        if len(domain) > 15: score -= 0.3\n",
    "        if any(char.isdigit() or not char.isalnum() for char in domain): score -= 0.3\n",
    "        vowels = sum(1 for c in domain if c in \"aeiou\")\n",
    "        consonants = sum(1 for c in domain if c.isalpha() and c not in \"aeiou\")\n",
    "        ratio = vowels / (consonants + 1)\n",
    "        if ratio < 0.2 or ratio > 0.8: score -= 0.2\n",
    "        return max(0, round(score, 2))\n",
    "\n",
    "    brandability_score = brandability(pred_domain)\n",
    "    brandability_scores.append(brandability_score)\n",
    "\n",
    "    predictions.append({\n",
    "        \"description\": description,\n",
    "        \"true\": true_domain,\n",
    "        \"pred\": pred_domain,\n",
    "        \"rougeL\": rouge_score,\n",
    "        \"bleu\": bleu,\n",
    "        \"levenshtein\": lev_distance,\n",
    "        \"brandability\": brandability_score,\n",
    "        \"is_valid_domain\": valid_domain,\n",
    "    })\n",
    "\n",
    "# Save predictions\n",
    "results_df = pd.DataFrame(predictions)\n",
    "results_df.to_csv(f\"predictions_eval-{VERSION}-{FLAG}.csv\", index=False)\n",
    "\n",
    "# Report average scores\n",
    "print_string = f\"Pct of Predictions that are valid domains = {results_df['is_valid_domain'].mean():.2%}\"\n",
    "print(print_string)"
   ]
  }
 ],
 "metadata": {
  "kaggle": {
   "accelerator": "none",
   "dataSources": [
    {
     "datasetId": 7943647,
     "sourceId": 12627421,
     "sourceType": "datasetVersion"
    },
    {
     "modelId": 121027,
     "modelInstanceId": 100933,
     "sourceId": 120002,
     "sourceType": "modelInstanceVersion"
    }
   ],
   "dockerImageVersionId": 31089,
   "isGpuEnabled": false,
   "isInternetEnabled": true,
   "language": "python",
   "sourceType": "notebook"
  },
  "kernelspec": {
   "display_name": "Python 3",
   "language": "python",
   "name": "python3"
  },
  "language_info": {
   "codemirror_mode": {
    "name": "ipython",
    "version": 3
   },
   "file_extension": ".py",
   "mimetype": "text/x-python",
   "name": "python",
   "nbconvert_exporter": "python",
   "pygments_lexer": "ipython3",
   "version": "3.11.13"
  },
  "papermill": {
   "default_parameters": {},
   "duration": 233.340153,
   "end_time": "2025-07-31T03:34:30.673148",
   "environment_variables": {},
   "exception": null,
   "input_path": "__notebook__.ipynb",
   "output_path": "__notebook__.ipynb",
   "parameters": {},
   "start_time": "2025-07-31T03:30:37.332995",
   "version": "2.6.0"
  },
  "widgets": {
   "application/vnd.jupyter.widget-state+json": {
    "state": {
     "01d845c70b2f4b06aa5c4b2b6b504bae": {
      "model_module": "@jupyter-widgets/base",
      "model_module_version": "2.0.0",
      "model_name": "LayoutModel",
      "state": {
       "_model_module": "@jupyter-widgets/base",
       "_model_module_version": "2.0.0",
       "_model_name": "LayoutModel",
       "_view_count": null,
       "_view_module": "@jupyter-widgets/base",
       "_view_module_version": "2.0.0",
       "_view_name": "LayoutView",
       "align_content": null,
       "align_items": null,
       "align_self": null,
       "border_bottom": null,
       "border_left": null,
       "border_right": null,
       "border_top": null,
       "bottom": null,
       "display": null,
       "flex": null,
       "flex_flow": null,
       "grid_area": null,
       "grid_auto_columns": null,
       "grid_auto_flow": null,
       "grid_auto_rows": null,
       "grid_column": null,
       "grid_gap": null,
       "grid_row": null,
       "grid_template_areas": null,
       "grid_template_columns": null,
       "grid_template_rows": null,
       "height": null,
       "justify_content": null,
       "justify_items": null,
       "left": null,
       "margin": null,
       "max_height": null,
       "max_width": null,
       "min_height": null,
       "min_width": null,
       "object_fit": null,
       "object_position": null,
       "order": null,
       "overflow": null,
       "padding": null,
       "right": null,
       "top": null,
       "visibility": null,
       "width": null
      }
     },
     "0779c14dd8e14d41b7b62adaa34234f0": {
      "model_module": "@jupyter-widgets/base",
      "model_module_version": "2.0.0",
      "model_name": "LayoutModel",
      "state": {
       "_model_module": "@jupyter-widgets/base",
       "_model_module_version": "2.0.0",
       "_model_name": "LayoutModel",
       "_view_count": null,
       "_view_module": "@jupyter-widgets/base",
       "_view_module_version": "2.0.0",
       "_view_name": "LayoutView",
       "align_content": null,
       "align_items": null,
       "align_self": null,
       "border_bottom": null,
       "border_left": null,
       "border_right": null,
       "border_top": null,
       "bottom": null,
       "display": null,
       "flex": null,
       "flex_flow": null,
       "grid_area": null,
       "grid_auto_columns": null,
       "grid_auto_flow": null,
       "grid_auto_rows": null,
       "grid_column": null,
       "grid_gap": null,
       "grid_row": null,
       "grid_template_areas": null,
       "grid_template_columns": null,
       "grid_template_rows": null,
       "height": null,
       "justify_content": null,
       "justify_items": null,
       "left": null,
       "margin": null,
       "max_height": null,
       "max_width": null,
       "min_height": null,
       "min_width": null,
       "object_fit": null,
       "object_position": null,
       "order": null,
       "overflow": null,
       "padding": null,
       "right": null,
       "top": null,
       "visibility": null,
       "width": null
      }
     },
     "0787143123434df7ac401b29ea37491c": {
      "model_module": "@jupyter-widgets/base",
      "model_module_version": "2.0.0",
      "model_name": "LayoutModel",
      "state": {
       "_model_module": "@jupyter-widgets/base",
       "_model_module_version": "2.0.0",
       "_model_name": "LayoutModel",
       "_view_count": null,
       "_view_module": "@jupyter-widgets/base",
       "_view_module_version": "2.0.0",
       "_view_name": "LayoutView",
       "align_content": null,
       "align_items": null,
       "align_self": null,
       "border_bottom": null,
       "border_left": null,
       "border_right": null,
       "border_top": null,
       "bottom": null,
       "display": null,
       "flex": null,
       "flex_flow": null,
       "grid_area": null,
       "grid_auto_columns": null,
       "grid_auto_flow": null,
       "grid_auto_rows": null,
       "grid_column": null,
       "grid_gap": null,
       "grid_row": null,
       "grid_template_areas": null,
       "grid_template_columns": null,
       "grid_template_rows": null,
       "height": null,
       "justify_content": null,
       "justify_items": null,
       "left": null,
       "margin": null,
       "max_height": null,
       "max_width": null,
       "min_height": null,
       "min_width": null,
       "object_fit": null,
       "object_position": null,
       "order": null,
       "overflow": null,
       "padding": null,
       "right": null,
       "top": null,
       "visibility": null,
       "width": null
      }
     },
     "0878c8914fa8489584a424528358078a": {
      "model_module": "@jupyter-widgets/controls",
      "model_module_version": "2.0.0",
      "model_name": "HTMLModel",
      "state": {
       "_dom_classes": [],
       "_model_module": "@jupyter-widgets/controls",
       "_model_module_version": "2.0.0",
       "_model_name": "HTMLModel",
       "_view_count": null,
       "_view_module": "@jupyter-widgets/controls",
       "_view_module_version": "2.0.0",
       "_view_name": "HTMLView",
       "description": "",
       "description_allow_html": false,
       "layout": "IPY_MODEL_e4e424d1cba045789092eb359fe1ae50",
       "placeholder": "​",
       "style": "IPY_MODEL_5771a77c252041af9fbea536ef8d1ba0",
       "tabbable": null,
       "tooltip": null,
       "value": "Map: 100%"
      }
     },
     "0d9f78d1387f4a6185098a2a60c23c58": {
      "model_module": "@jupyter-widgets/controls",
      "model_module_version": "2.0.0",
      "model_name": "HTMLStyleModel",
      "state": {
       "_model_module": "@jupyter-widgets/controls",
       "_model_module_version": "2.0.0",
       "_model_name": "HTMLStyleModel",
       "_view_count": null,
       "_view_module": "@jupyter-widgets/base",
       "_view_module_version": "2.0.0",
       "_view_name": "StyleView",
       "background": null,
       "description_width": "",
       "font_size": null,
       "text_color": null
      }
     },
     "0fcafbedb68e40f796e4397da6b9da7e": {
      "model_module": "@jupyter-widgets/controls",
      "model_module_version": "2.0.0",
      "model_name": "HTMLStyleModel",
      "state": {
       "_model_module": "@jupyter-widgets/controls",
       "_model_module_version": "2.0.0",
       "_model_name": "HTMLStyleModel",
       "_view_count": null,
       "_view_module": "@jupyter-widgets/base",
       "_view_module_version": "2.0.0",
       "_view_name": "StyleView",
       "background": null,
       "description_width": "",
       "font_size": null,
       "text_color": null
      }
     },
     "18697018a56f457386841b84b2000007": {
      "model_module": "@jupyter-widgets/controls",
      "model_module_version": "2.0.0",
      "model_name": "HBoxModel",
      "state": {
       "_dom_classes": [],
       "_model_module": "@jupyter-widgets/controls",
       "_model_module_version": "2.0.0",
       "_model_name": "HBoxModel",
       "_view_count": null,
       "_view_module": "@jupyter-widgets/controls",
       "_view_module_version": "2.0.0",
       "_view_name": "HBoxView",
       "box_style": "",
       "children": [
        "IPY_MODEL_99e1de8480944392bb74c03aec27f02b",
        "IPY_MODEL_2cb73cd0a0b3423d88ddf710a0442ec7",
        "IPY_MODEL_d6842c95efe64020ac5ade5b5a762ab0"
       ],
       "layout": "IPY_MODEL_0779c14dd8e14d41b7b62adaa34234f0",
       "tabbable": null,
       "tooltip": null
      }
     },
     "1d8f4561a3b24ae8b272ec7632a659d8": {
      "model_module": "@jupyter-widgets/controls",
      "model_module_version": "2.0.0",
      "model_name": "HTMLModel",
      "state": {
       "_dom_classes": [],
       "_model_module": "@jupyter-widgets/controls",
       "_model_module_version": "2.0.0",
       "_model_name": "HTMLModel",
       "_view_count": null,
       "_view_module": "@jupyter-widgets/controls",
       "_view_module_version": "2.0.0",
       "_view_name": "HTMLView",
       "description": "",
       "description_allow_html": false,
       "layout": "IPY_MODEL_5e87f773c6804ca5befb2491473ec3f1",
       "placeholder": "​",
       "style": "IPY_MODEL_48311a6078f7492583abe4977f8c8131",
       "tabbable": null,
       "tooltip": null,
       "value": " 20/20 [00:00&lt;00:00, 1362.69 examples/s]"
      }
     },
     "2022ee17cba04860bcea2b82e44fbcea": {
      "model_module": "@jupyter-widgets/base",
      "model_module_version": "2.0.0",
      "model_name": "LayoutModel",
      "state": {
       "_model_module": "@jupyter-widgets/base",
       "_model_module_version": "2.0.0",
       "_model_name": "LayoutModel",
       "_view_count": null,
       "_view_module": "@jupyter-widgets/base",
       "_view_module_version": "2.0.0",
       "_view_name": "LayoutView",
       "align_content": null,
       "align_items": null,
       "align_self": null,
       "border_bottom": null,
       "border_left": null,
       "border_right": null,
       "border_top": null,
       "bottom": null,
       "display": null,
       "flex": null,
       "flex_flow": null,
       "grid_area": null,
       "grid_auto_columns": null,
       "grid_auto_flow": null,
       "grid_auto_rows": null,
       "grid_column": null,
       "grid_gap": null,
       "grid_row": null,
       "grid_template_areas": null,
       "grid_template_columns": null,
       "grid_template_rows": null,
       "height": null,
       "justify_content": null,
       "justify_items": null,
       "left": null,
       "margin": null,
       "max_height": null,
       "max_width": null,
       "min_height": null,
       "min_width": null,
       "object_fit": null,
       "object_position": null,
       "order": null,
       "overflow": null,
       "padding": null,
       "right": null,
       "top": null,
       "visibility": null,
       "width": null
      }
     },
     "2234ce22880a4c369fd25bbe2d7b39ff": {
      "model_module": "@jupyter-widgets/controls",
      "model_module_version": "2.0.0",
      "model_name": "HTMLStyleModel",
      "state": {
       "_model_module": "@jupyter-widgets/controls",
       "_model_module_version": "2.0.0",
       "_model_name": "HTMLStyleModel",
       "_view_count": null,
       "_view_module": "@jupyter-widgets/base",
       "_view_module_version": "2.0.0",
       "_view_name": "StyleView",
       "background": null,
       "description_width": "",
       "font_size": null,
       "text_color": null
      }
     },
     "2b9a8fd21b1a41e38fed9b9e18e785c2": {
      "model_module": "@jupyter-widgets/controls",
      "model_module_version": "2.0.0",
      "model_name": "ProgressStyleModel",
      "state": {
       "_model_module": "@jupyter-widgets/controls",
       "_model_module_version": "2.0.0",
       "_model_name": "ProgressStyleModel",
       "_view_count": null,
       "_view_module": "@jupyter-widgets/base",
       "_view_module_version": "2.0.0",
       "_view_name": "StyleView",
       "bar_color": null,
       "description_width": ""
      }
     },
     "2cb73cd0a0b3423d88ddf710a0442ec7": {
      "model_module": "@jupyter-widgets/controls",
      "model_module_version": "2.0.0",
      "model_name": "FloatProgressModel",
      "state": {
       "_dom_classes": [],
       "_model_module": "@jupyter-widgets/controls",
       "_model_module_version": "2.0.0",
       "_model_name": "FloatProgressModel",
       "_view_count": null,
       "_view_module": "@jupyter-widgets/controls",
       "_view_module_version": "2.0.0",
       "_view_name": "ProgressView",
       "bar_style": "success",
       "description": "",
       "description_allow_html": false,
       "layout": "IPY_MODEL_3709524004874ba895b0c6c1517c34de",
       "max": 9085657.0,
       "min": 0.0,
       "orientation": "horizontal",
       "style": "IPY_MODEL_a7ba99683d9e4d6aa84cf2e01069b60d",
       "tabbable": null,
       "tooltip": null,
       "value": 9085657.0
      }
     },
     "2d5efb93c8f24dc3b8bf1017e7ce7bb5": {
      "model_module": "@jupyter-widgets/controls",
      "model_module_version": "2.0.0",
      "model_name": "HTMLStyleModel",
      "state": {
       "_model_module": "@jupyter-widgets/controls",
       "_model_module_version": "2.0.0",
       "_model_name": "HTMLStyleModel",
       "_view_count": null,
       "_view_module": "@jupyter-widgets/base",
       "_view_module_version": "2.0.0",
       "_view_name": "StyleView",
       "background": null,
       "description_width": "",
       "font_size": null,
       "text_color": null
      }
     },
     "3709524004874ba895b0c6c1517c34de": {
      "model_module": "@jupyter-widgets/base",
      "model_module_version": "2.0.0",
      "model_name": "LayoutModel",
      "state": {
       "_model_module": "@jupyter-widgets/base",
       "_model_module_version": "2.0.0",
       "_model_name": "LayoutModel",
       "_view_count": null,
       "_view_module": "@jupyter-widgets/base",
       "_view_module_version": "2.0.0",
       "_view_name": "LayoutView",
       "align_content": null,
       "align_items": null,
       "align_self": null,
       "border_bottom": null,
       "border_left": null,
       "border_right": null,
       "border_top": null,
       "bottom": null,
       "display": null,
       "flex": null,
       "flex_flow": null,
       "grid_area": null,
       "grid_auto_columns": null,
       "grid_auto_flow": null,
       "grid_auto_rows": null,
       "grid_column": null,
       "grid_gap": null,
       "grid_row": null,
       "grid_template_areas": null,
       "grid_template_columns": null,
       "grid_template_rows": null,
       "height": null,
       "justify_content": null,
       "justify_items": null,
       "left": null,
       "margin": null,
       "max_height": null,
       "max_width": null,
       "min_height": null,
       "min_width": null,
       "object_fit": null,
       "object_position": null,
       "order": null,
       "overflow": null,
       "padding": null,
       "right": null,
       "top": null,
       "visibility": null,
       "width": null
      }
     },
     "46e7623913ef477fafabe26a45a454a4": {
      "model_module": "@jupyter-widgets/controls",
      "model_module_version": "2.0.0",
      "model_name": "HBoxModel",
      "state": {
       "_dom_classes": [],
       "_model_module": "@jupyter-widgets/controls",
       "_model_module_version": "2.0.0",
       "_model_name": "HBoxModel",
       "_view_count": null,
       "_view_module": "@jupyter-widgets/controls",
       "_view_module_version": "2.0.0",
       "_view_name": "HBoxView",
       "box_style": "",
       "children": [
        "IPY_MODEL_6848c33d492847d795669d5ecc9d3782",
        "IPY_MODEL_ae502ab2537c4b6d852ab56feda5a93e",
        "IPY_MODEL_8e73a2e9341147bf9201171893c074d5"
       ],
       "layout": "IPY_MODEL_f4962d8bd72843aa8ad9f2b055b9f50c",
       "tabbable": null,
       "tooltip": null
      }
     },
     "48311a6078f7492583abe4977f8c8131": {
      "model_module": "@jupyter-widgets/controls",
      "model_module_version": "2.0.0",
      "model_name": "HTMLStyleModel",
      "state": {
       "_model_module": "@jupyter-widgets/controls",
       "_model_module_version": "2.0.0",
       "_model_name": "HTMLStyleModel",
       "_view_count": null,
       "_view_module": "@jupyter-widgets/base",
       "_view_module_version": "2.0.0",
       "_view_name": "StyleView",
       "background": null,
       "description_width": "",
       "font_size": null,
       "text_color": null
      }
     },
     "4ca3c416731149219bf83d5e342e37e4": {
      "model_module": "@jupyter-widgets/base",
      "model_module_version": "2.0.0",
      "model_name": "LayoutModel",
      "state": {
       "_model_module": "@jupyter-widgets/base",
       "_model_module_version": "2.0.0",
       "_model_name": "LayoutModel",
       "_view_count": null,
       "_view_module": "@jupyter-widgets/base",
       "_view_module_version": "2.0.0",
       "_view_name": "LayoutView",
       "align_content": null,
       "align_items": null,
       "align_self": null,
       "border_bottom": null,
       "border_left": null,
       "border_right": null,
       "border_top": null,
       "bottom": null,
       "display": null,
       "flex": null,
       "flex_flow": null,
       "grid_area": null,
       "grid_auto_columns": null,
       "grid_auto_flow": null,
       "grid_auto_rows": null,
       "grid_column": null,
       "grid_gap": null,
       "grid_row": null,
       "grid_template_areas": null,
       "grid_template_columns": null,
       "grid_template_rows": null,
       "height": null,
       "justify_content": null,
       "justify_items": null,
       "left": null,
       "margin": null,
       "max_height": null,
       "max_width": null,
       "min_height": null,
       "min_width": null,
       "object_fit": null,
       "object_position": null,
       "order": null,
       "overflow": null,
       "padding": null,
       "right": null,
       "top": null,
       "visibility": null,
       "width": null
      }
     },
     "5771a77c252041af9fbea536ef8d1ba0": {
      "model_module": "@jupyter-widgets/controls",
      "model_module_version": "2.0.0",
      "model_name": "HTMLStyleModel",
      "state": {
       "_model_module": "@jupyter-widgets/controls",
       "_model_module_version": "2.0.0",
       "_model_name": "HTMLStyleModel",
       "_view_count": null,
       "_view_module": "@jupyter-widgets/base",
       "_view_module_version": "2.0.0",
       "_view_name": "StyleView",
       "background": null,
       "description_width": "",
       "font_size": null,
       "text_color": null
      }
     },
     "5e1c83544e43492dabcec0214ac5c56d": {
      "model_module": "@jupyter-widgets/controls",
      "model_module_version": "2.0.0",
      "model_name": "FloatProgressModel",
      "state": {
       "_dom_classes": [],
       "_model_module": "@jupyter-widgets/controls",
       "_model_module_version": "2.0.0",
       "_model_name": "FloatProgressModel",
       "_view_count": null,
       "_view_module": "@jupyter-widgets/controls",
       "_view_module_version": "2.0.0",
       "_view_name": "ProgressView",
       "bar_style": "success",
       "description": "",
       "description_allow_html": false,
       "layout": "IPY_MODEL_b76bcf281dbe481cb148222d9c8bc87f",
       "max": 54528.0,
       "min": 0.0,
       "orientation": "horizontal",
       "style": "IPY_MODEL_a8130b4f4a5c46559b64452a5c5bd64e",
       "tabbable": null,
       "tooltip": null,
       "value": 54528.0
      }
     },
     "5e87f773c6804ca5befb2491473ec3f1": {
      "model_module": "@jupyter-widgets/base",
      "model_module_version": "2.0.0",
      "model_name": "LayoutModel",
      "state": {
       "_model_module": "@jupyter-widgets/base",
       "_model_module_version": "2.0.0",
       "_model_name": "LayoutModel",
       "_view_count": null,
       "_view_module": "@jupyter-widgets/base",
       "_view_module_version": "2.0.0",
       "_view_name": "LayoutView",
       "align_content": null,
       "align_items": null,
       "align_self": null,
       "border_bottom": null,
       "border_left": null,
       "border_right": null,
       "border_top": null,
       "bottom": null,
       "display": null,
       "flex": null,
       "flex_flow": null,
       "grid_area": null,
       "grid_auto_columns": null,
       "grid_auto_flow": null,
       "grid_auto_rows": null,
       "grid_column": null,
       "grid_gap": null,
       "grid_row": null,
       "grid_template_areas": null,
       "grid_template_columns": null,
       "grid_template_rows": null,
       "height": null,
       "justify_content": null,
       "justify_items": null,
       "left": null,
       "margin": null,
       "max_height": null,
       "max_width": null,
       "min_height": null,
       "min_width": null,
       "object_fit": null,
       "object_position": null,
       "order": null,
       "overflow": null,
       "padding": null,
       "right": null,
       "top": null,
       "visibility": null,
       "width": null
      }
     },
     "64043447cd304db8ad39f69dc030e833": {
      "model_module": "@jupyter-widgets/controls",
      "model_module_version": "2.0.0",
      "model_name": "HTMLModel",
      "state": {
       "_dom_classes": [],
       "_model_module": "@jupyter-widgets/controls",
       "_model_module_version": "2.0.0",
       "_model_name": "HTMLModel",
       "_view_count": null,
       "_view_module": "@jupyter-widgets/controls",
       "_view_module_version": "2.0.0",
       "_view_name": "HTMLView",
       "description": "",
       "description_allow_html": false,
       "layout": "IPY_MODEL_6d4a03512e0948c09343fe1ba1150ec5",
       "placeholder": "​",
       "style": "IPY_MODEL_f7e8b1e7530b4b508b7c22d29a6f882a",
       "tabbable": null,
       "tooltip": null,
       "value": " 296/296 [00:00&lt;00:00, 41.9kB/s]"
      }
     },
     "6848c33d492847d795669d5ecc9d3782": {
      "model_module": "@jupyter-widgets/controls",
      "model_module_version": "2.0.0",
      "model_name": "HTMLModel",
      "state": {
       "_dom_classes": [],
       "_model_module": "@jupyter-widgets/controls",
       "_model_module_version": "2.0.0",
       "_model_name": "HTMLModel",
       "_view_count": null,
       "_view_module": "@jupyter-widgets/controls",
       "_view_module_version": "2.0.0",
       "_view_name": "HTMLView",
       "description": "",
       "description_allow_html": false,
       "layout": "IPY_MODEL_88facede0c544be7968af56e4d73fc63",
       "placeholder": "​",
       "style": "IPY_MODEL_2234ce22880a4c369fd25bbe2d7b39ff",
       "tabbable": null,
       "tooltip": null,
       "value": "Map: 100%"
      }
     },
     "6b8023b7662b4a4881182a3cd1cdc332": {
      "model_module": "@jupyter-widgets/controls",
      "model_module_version": "2.0.0",
      "model_name": "ProgressStyleModel",
      "state": {
       "_model_module": "@jupyter-widgets/controls",
       "_model_module_version": "2.0.0",
       "_model_name": "ProgressStyleModel",
       "_view_count": null,
       "_view_module": "@jupyter-widgets/base",
       "_view_module_version": "2.0.0",
       "_view_name": "StyleView",
       "bar_color": null,
       "description_width": ""
      }
     },
     "6cc400b322884f9e89d6c4008f933067": {
      "model_module": "@jupyter-widgets/controls",
      "model_module_version": "2.0.0",
      "model_name": "HBoxModel",
      "state": {
       "_dom_classes": [],
       "_model_module": "@jupyter-widgets/controls",
       "_model_module_version": "2.0.0",
       "_model_name": "HBoxModel",
       "_view_count": null,
       "_view_module": "@jupyter-widgets/controls",
       "_view_module_version": "2.0.0",
       "_view_name": "HBoxView",
       "box_style": "",
       "children": [
        "IPY_MODEL_0878c8914fa8489584a424528358078a",
        "IPY_MODEL_b2b0a8f40aa8479386ea8b17528d4479",
        "IPY_MODEL_1d8f4561a3b24ae8b272ec7632a659d8"
       ],
       "layout": "IPY_MODEL_da20a951fd5447d8ae35485de81ee7c6",
       "tabbable": null,
       "tooltip": null
      }
     },
     "6d4a03512e0948c09343fe1ba1150ec5": {
      "model_module": "@jupyter-widgets/base",
      "model_module_version": "2.0.0",
      "model_name": "LayoutModel",
      "state": {
       "_model_module": "@jupyter-widgets/base",
       "_model_module_version": "2.0.0",
       "_model_name": "LayoutModel",
       "_view_count": null,
       "_view_module": "@jupyter-widgets/base",
       "_view_module_version": "2.0.0",
       "_view_name": "LayoutView",
       "align_content": null,
       "align_items": null,
       "align_self": null,
       "border_bottom": null,
       "border_left": null,
       "border_right": null,
       "border_top": null,
       "bottom": null,
       "display": null,
       "flex": null,
       "flex_flow": null,
       "grid_area": null,
       "grid_auto_columns": null,
       "grid_auto_flow": null,
       "grid_auto_rows": null,
       "grid_column": null,
       "grid_gap": null,
       "grid_row": null,
       "grid_template_areas": null,
       "grid_template_columns": null,
       "grid_template_rows": null,
       "height": null,
       "justify_content": null,
       "justify_items": null,
       "left": null,
       "margin": null,
       "max_height": null,
       "max_width": null,
       "min_height": null,
       "min_width": null,
       "object_fit": null,
       "object_position": null,
       "order": null,
       "overflow": null,
       "padding": null,
       "right": null,
       "top": null,
       "visibility": null,
       "width": null
      }
     },
     "6da964edfaa0421ba9dcd0d8f0cf8a31": {
      "model_module": "@jupyter-widgets/controls",
      "model_module_version": "2.0.0",
      "model_name": "HTMLStyleModel",
      "state": {
       "_model_module": "@jupyter-widgets/controls",
       "_model_module_version": "2.0.0",
       "_model_name": "HTMLStyleModel",
       "_view_count": null,
       "_view_module": "@jupyter-widgets/base",
       "_view_module_version": "2.0.0",
       "_view_name": "StyleView",
       "background": null,
       "description_width": "",
       "font_size": null,
       "text_color": null
      }
     },
     "76e3d99fde424be1a5ec01db3ef1ebbb": {
      "model_module": "@jupyter-widgets/controls",
      "model_module_version": "2.0.0",
      "model_name": "HTMLStyleModel",
      "state": {
       "_model_module": "@jupyter-widgets/controls",
       "_model_module_version": "2.0.0",
       "_model_name": "HTMLStyleModel",
       "_view_count": null,
       "_view_module": "@jupyter-widgets/base",
       "_view_module_version": "2.0.0",
       "_view_name": "StyleView",
       "background": null,
       "description_width": "",
       "font_size": null,
       "text_color": null
      }
     },
     "7c2935dbbe74412f97843b047b6fa3f6": {
      "model_module": "@jupyter-widgets/controls",
      "model_module_version": "2.0.0",
      "model_name": "HTMLModel",
      "state": {
       "_dom_classes": [],
       "_model_module": "@jupyter-widgets/controls",
       "_model_module_version": "2.0.0",
       "_model_name": "HTMLModel",
       "_view_count": null,
       "_view_module": "@jupyter-widgets/controls",
       "_view_module_version": "2.0.0",
       "_view_name": "HTMLView",
       "description": "",
       "description_allow_html": false,
       "layout": "IPY_MODEL_0787143123434df7ac401b29ea37491c",
       "placeholder": "​",
       "style": "IPY_MODEL_c5b567ec826944cb8e25b8de4ebc0dc0",
       "tabbable": null,
       "tooltip": null,
       "value": "tokenizer_config.json: 100%"
      }
     },
     "88facede0c544be7968af56e4d73fc63": {
      "model_module": "@jupyter-widgets/base",
      "model_module_version": "2.0.0",
      "model_name": "LayoutModel",
      "state": {
       "_model_module": "@jupyter-widgets/base",
       "_model_module_version": "2.0.0",
       "_model_name": "LayoutModel",
       "_view_count": null,
       "_view_module": "@jupyter-widgets/base",
       "_view_module_version": "2.0.0",
       "_view_name": "LayoutView",
       "align_content": null,
       "align_items": null,
       "align_self": null,
       "border_bottom": null,
       "border_left": null,
       "border_right": null,
       "border_top": null,
       "bottom": null,
       "display": null,
       "flex": null,
       "flex_flow": null,
       "grid_area": null,
       "grid_auto_columns": null,
       "grid_auto_flow": null,
       "grid_auto_rows": null,
       "grid_column": null,
       "grid_gap": null,
       "grid_row": null,
       "grid_template_areas": null,
       "grid_template_columns": null,
       "grid_template_rows": null,
       "height": null,
       "justify_content": null,
       "justify_items": null,
       "left": null,
       "margin": null,
       "max_height": null,
       "max_width": null,
       "min_height": null,
       "min_width": null,
       "object_fit": null,
       "object_position": null,
       "order": null,
       "overflow": null,
       "padding": null,
       "right": null,
       "top": null,
       "visibility": null,
       "width": null
      }
     },
     "8bb5c3870c3448ec8bd8ec842a58c0b7": {
      "model_module": "@jupyter-widgets/base",
      "model_module_version": "2.0.0",
      "model_name": "LayoutModel",
      "state": {
       "_model_module": "@jupyter-widgets/base",
       "_model_module_version": "2.0.0",
       "_model_name": "LayoutModel",
       "_view_count": null,
       "_view_module": "@jupyter-widgets/base",
       "_view_module_version": "2.0.0",
       "_view_name": "LayoutView",
       "align_content": null,
       "align_items": null,
       "align_self": null,
       "border_bottom": null,
       "border_left": null,
       "border_right": null,
       "border_top": null,
       "bottom": null,
       "display": null,
       "flex": null,
       "flex_flow": null,
       "grid_area": null,
       "grid_auto_columns": null,
       "grid_auto_flow": null,
       "grid_auto_rows": null,
       "grid_column": null,
       "grid_gap": null,
       "grid_row": null,
       "grid_template_areas": null,
       "grid_template_columns": null,
       "grid_template_rows": null,
       "height": null,
       "justify_content": null,
       "justify_items": null,
       "left": null,
       "margin": null,
       "max_height": null,
       "max_width": null,
       "min_height": null,
       "min_width": null,
       "object_fit": null,
       "object_position": null,
       "order": null,
       "overflow": null,
       "padding": null,
       "right": null,
       "top": null,
       "visibility": null,
       "width": null
      }
     },
     "8e73a2e9341147bf9201171893c074d5": {
      "model_module": "@jupyter-widgets/controls",
      "model_module_version": "2.0.0",
      "model_name": "HTMLModel",
      "state": {
       "_dom_classes": [],
       "_model_module": "@jupyter-widgets/controls",
       "_model_module_version": "2.0.0",
       "_model_name": "HTMLModel",
       "_view_count": null,
       "_view_module": "@jupyter-widgets/controls",
       "_view_module_version": "2.0.0",
       "_view_name": "HTMLView",
       "description": "",
       "description_allow_html": false,
       "layout": "IPY_MODEL_965e67bd51e945ef922bcc2e641ca5d4",
       "placeholder": "​",
       "style": "IPY_MODEL_76e3d99fde424be1a5ec01db3ef1ebbb",
       "tabbable": null,
       "tooltip": null,
       "value": " 180/180 [00:00&lt;00:00, 4568.27 examples/s]"
      }
     },
     "8eaee1a27cf04284b89abfa50b92378d": {
      "model_module": "@jupyter-widgets/controls",
      "model_module_version": "2.0.0",
      "model_name": "HBoxModel",
      "state": {
       "_dom_classes": [],
       "_model_module": "@jupyter-widgets/controls",
       "_model_module_version": "2.0.0",
       "_model_name": "HBoxModel",
       "_view_count": null,
       "_view_module": "@jupyter-widgets/controls",
       "_view_module_version": "2.0.0",
       "_view_name": "HBoxView",
       "box_style": "",
       "children": [
        "IPY_MODEL_da657bbe7f14469d953e03e27f23c962",
        "IPY_MODEL_caeda4ec1c214abf8e1d511de51f8982",
        "IPY_MODEL_64043447cd304db8ad39f69dc030e833"
       ],
       "layout": "IPY_MODEL_c196b48a34834771b01fec885185564e",
       "tabbable": null,
       "tooltip": null
      }
     },
     "8fa9bb1a0d584c74a4d7a71d8e40b4bd": {
      "model_module": "@jupyter-widgets/controls",
      "model_module_version": "2.0.0",
      "model_name": "HBoxModel",
      "state": {
       "_dom_classes": [],
       "_model_module": "@jupyter-widgets/controls",
       "_model_module_version": "2.0.0",
       "_model_name": "HBoxModel",
       "_view_count": null,
       "_view_module": "@jupyter-widgets/controls",
       "_view_module_version": "2.0.0",
       "_view_name": "HBoxView",
       "box_style": "",
       "children": [
        "IPY_MODEL_7c2935dbbe74412f97843b047b6fa3f6",
        "IPY_MODEL_5e1c83544e43492dabcec0214ac5c56d",
        "IPY_MODEL_d7c6628ea1f74bc5b0a32f091730afa3"
       ],
       "layout": "IPY_MODEL_fd4ed255e62440b1a6bec0ffef567716",
       "tabbable": null,
       "tooltip": null
      }
     },
     "965e67bd51e945ef922bcc2e641ca5d4": {
      "model_module": "@jupyter-widgets/base",
      "model_module_version": "2.0.0",
      "model_name": "LayoutModel",
      "state": {
       "_model_module": "@jupyter-widgets/base",
       "_model_module_version": "2.0.0",
       "_model_name": "LayoutModel",
       "_view_count": null,
       "_view_module": "@jupyter-widgets/base",
       "_view_module_version": "2.0.0",
       "_view_name": "LayoutView",
       "align_content": null,
       "align_items": null,
       "align_self": null,
       "border_bottom": null,
       "border_left": null,
       "border_right": null,
       "border_top": null,
       "bottom": null,
       "display": null,
       "flex": null,
       "flex_flow": null,
       "grid_area": null,
       "grid_auto_columns": null,
       "grid_auto_flow": null,
       "grid_auto_rows": null,
       "grid_column": null,
       "grid_gap": null,
       "grid_row": null,
       "grid_template_areas": null,
       "grid_template_columns": null,
       "grid_template_rows": null,
       "height": null,
       "justify_content": null,
       "justify_items": null,
       "left": null,
       "margin": null,
       "max_height": null,
       "max_width": null,
       "min_height": null,
       "min_width": null,
       "object_fit": null,
       "object_position": null,
       "order": null,
       "overflow": null,
       "padding": null,
       "right": null,
       "top": null,
       "visibility": null,
       "width": null
      }
     },
     "99e1de8480944392bb74c03aec27f02b": {
      "model_module": "@jupyter-widgets/controls",
      "model_module_version": "2.0.0",
      "model_name": "HTMLModel",
      "state": {
       "_dom_classes": [],
       "_model_module": "@jupyter-widgets/controls",
       "_model_module_version": "2.0.0",
       "_model_name": "HTMLModel",
       "_view_count": null,
       "_view_module": "@jupyter-widgets/controls",
       "_view_module_version": "2.0.0",
       "_view_name": "HTMLView",
       "description": "",
       "description_allow_html": false,
       "layout": "IPY_MODEL_4ca3c416731149219bf83d5e342e37e4",
       "placeholder": "​",
       "style": "IPY_MODEL_6da964edfaa0421ba9dcd0d8f0cf8a31",
       "tabbable": null,
       "tooltip": null,
       "value": "tokenizer.json: 100%"
      }
     },
     "a19f4d14185b444cb83c03a4ec48200d": {
      "model_module": "@jupyter-widgets/base",
      "model_module_version": "2.0.0",
      "model_name": "LayoutModel",
      "state": {
       "_model_module": "@jupyter-widgets/base",
       "_model_module_version": "2.0.0",
       "_model_name": "LayoutModel",
       "_view_count": null,
       "_view_module": "@jupyter-widgets/base",
       "_view_module_version": "2.0.0",
       "_view_name": "LayoutView",
       "align_content": null,
       "align_items": null,
       "align_self": null,
       "border_bottom": null,
       "border_left": null,
       "border_right": null,
       "border_top": null,
       "bottom": null,
       "display": null,
       "flex": null,
       "flex_flow": null,
       "grid_area": null,
       "grid_auto_columns": null,
       "grid_auto_flow": null,
       "grid_auto_rows": null,
       "grid_column": null,
       "grid_gap": null,
       "grid_row": null,
       "grid_template_areas": null,
       "grid_template_columns": null,
       "grid_template_rows": null,
       "height": null,
       "justify_content": null,
       "justify_items": null,
       "left": null,
       "margin": null,
       "max_height": null,
       "max_width": null,
       "min_height": null,
       "min_width": null,
       "object_fit": null,
       "object_position": null,
       "order": null,
       "overflow": null,
       "padding": null,
       "right": null,
       "top": null,
       "visibility": null,
       "width": null
      }
     },
     "a7ba99683d9e4d6aa84cf2e01069b60d": {
      "model_module": "@jupyter-widgets/controls",
      "model_module_version": "2.0.0",
      "model_name": "ProgressStyleModel",
      "state": {
       "_model_module": "@jupyter-widgets/controls",
       "_model_module_version": "2.0.0",
       "_model_name": "ProgressStyleModel",
       "_view_count": null,
       "_view_module": "@jupyter-widgets/base",
       "_view_module_version": "2.0.0",
       "_view_name": "StyleView",
       "bar_color": null,
       "description_width": ""
      }
     },
     "a8130b4f4a5c46559b64452a5c5bd64e": {
      "model_module": "@jupyter-widgets/controls",
      "model_module_version": "2.0.0",
      "model_name": "ProgressStyleModel",
      "state": {
       "_model_module": "@jupyter-widgets/controls",
       "_model_module_version": "2.0.0",
       "_model_name": "ProgressStyleModel",
       "_view_count": null,
       "_view_module": "@jupyter-widgets/base",
       "_view_module_version": "2.0.0",
       "_view_name": "StyleView",
       "bar_color": null,
       "description_width": ""
      }
     },
     "ae502ab2537c4b6d852ab56feda5a93e": {
      "model_module": "@jupyter-widgets/controls",
      "model_module_version": "2.0.0",
      "model_name": "FloatProgressModel",
      "state": {
       "_dom_classes": [],
       "_model_module": "@jupyter-widgets/controls",
       "_model_module_version": "2.0.0",
       "_model_name": "FloatProgressModel",
       "_view_count": null,
       "_view_module": "@jupyter-widgets/controls",
       "_view_module_version": "2.0.0",
       "_view_name": "ProgressView",
       "bar_style": "success",
       "description": "",
       "description_allow_html": false,
       "layout": "IPY_MODEL_2022ee17cba04860bcea2b82e44fbcea",
       "max": 180.0,
       "min": 0.0,
       "orientation": "horizontal",
       "style": "IPY_MODEL_dba58e8786fb478083cecd7b07b81f84",
       "tabbable": null,
       "tooltip": null,
       "value": 180.0
      }
     },
     "b2b0a8f40aa8479386ea8b17528d4479": {
      "model_module": "@jupyter-widgets/controls",
      "model_module_version": "2.0.0",
      "model_name": "FloatProgressModel",
      "state": {
       "_dom_classes": [],
       "_model_module": "@jupyter-widgets/controls",
       "_model_module_version": "2.0.0",
       "_model_name": "FloatProgressModel",
       "_view_count": null,
       "_view_module": "@jupyter-widgets/controls",
       "_view_module_version": "2.0.0",
       "_view_name": "ProgressView",
       "bar_style": "success",
       "description": "",
       "description_allow_html": false,
       "layout": "IPY_MODEL_bf54fb223684440ba308f3bc4ef7959b",
       "max": 20.0,
       "min": 0.0,
       "orientation": "horizontal",
       "style": "IPY_MODEL_2b9a8fd21b1a41e38fed9b9e18e785c2",
       "tabbable": null,
       "tooltip": null,
       "value": 20.0
      }
     },
     "b76bcf281dbe481cb148222d9c8bc87f": {
      "model_module": "@jupyter-widgets/base",
      "model_module_version": "2.0.0",
      "model_name": "LayoutModel",
      "state": {
       "_model_module": "@jupyter-widgets/base",
       "_model_module_version": "2.0.0",
       "_model_name": "LayoutModel",
       "_view_count": null,
       "_view_module": "@jupyter-widgets/base",
       "_view_module_version": "2.0.0",
       "_view_name": "LayoutView",
       "align_content": null,
       "align_items": null,
       "align_self": null,
       "border_bottom": null,
       "border_left": null,
       "border_right": null,
       "border_top": null,
       "bottom": null,
       "display": null,
       "flex": null,
       "flex_flow": null,
       "grid_area": null,
       "grid_auto_columns": null,
       "grid_auto_flow": null,
       "grid_auto_rows": null,
       "grid_column": null,
       "grid_gap": null,
       "grid_row": null,
       "grid_template_areas": null,
       "grid_template_columns": null,
       "grid_template_rows": null,
       "height": null,
       "justify_content": null,
       "justify_items": null,
       "left": null,
       "margin": null,
       "max_height": null,
       "max_width": null,
       "min_height": null,
       "min_width": null,
       "object_fit": null,
       "object_position": null,
       "order": null,
       "overflow": null,
       "padding": null,
       "right": null,
       "top": null,
       "visibility": null,
       "width": null
      }
     },
     "bf54fb223684440ba308f3bc4ef7959b": {
      "model_module": "@jupyter-widgets/base",
      "model_module_version": "2.0.0",
      "model_name": "LayoutModel",
      "state": {
       "_model_module": "@jupyter-widgets/base",
       "_model_module_version": "2.0.0",
       "_model_name": "LayoutModel",
       "_view_count": null,
       "_view_module": "@jupyter-widgets/base",
       "_view_module_version": "2.0.0",
       "_view_name": "LayoutView",
       "align_content": null,
       "align_items": null,
       "align_self": null,
       "border_bottom": null,
       "border_left": null,
       "border_right": null,
       "border_top": null,
       "bottom": null,
       "display": null,
       "flex": null,
       "flex_flow": null,
       "grid_area": null,
       "grid_auto_columns": null,
       "grid_auto_flow": null,
       "grid_auto_rows": null,
       "grid_column": null,
       "grid_gap": null,
       "grid_row": null,
       "grid_template_areas": null,
       "grid_template_columns": null,
       "grid_template_rows": null,
       "height": null,
       "justify_content": null,
       "justify_items": null,
       "left": null,
       "margin": null,
       "max_height": null,
       "max_width": null,
       "min_height": null,
       "min_width": null,
       "object_fit": null,
       "object_position": null,
       "order": null,
       "overflow": null,
       "padding": null,
       "right": null,
       "top": null,
       "visibility": null,
       "width": null
      }
     },
     "c196b48a34834771b01fec885185564e": {
      "model_module": "@jupyter-widgets/base",
      "model_module_version": "2.0.0",
      "model_name": "LayoutModel",
      "state": {
       "_model_module": "@jupyter-widgets/base",
       "_model_module_version": "2.0.0",
       "_model_name": "LayoutModel",
       "_view_count": null,
       "_view_module": "@jupyter-widgets/base",
       "_view_module_version": "2.0.0",
       "_view_name": "LayoutView",
       "align_content": null,
       "align_items": null,
       "align_self": null,
       "border_bottom": null,
       "border_left": null,
       "border_right": null,
       "border_top": null,
       "bottom": null,
       "display": null,
       "flex": null,
       "flex_flow": null,
       "grid_area": null,
       "grid_auto_columns": null,
       "grid_auto_flow": null,
       "grid_auto_rows": null,
       "grid_column": null,
       "grid_gap": null,
       "grid_row": null,
       "grid_template_areas": null,
       "grid_template_columns": null,
       "grid_template_rows": null,
       "height": null,
       "justify_content": null,
       "justify_items": null,
       "left": null,
       "margin": null,
       "max_height": null,
       "max_width": null,
       "min_height": null,
       "min_width": null,
       "object_fit": null,
       "object_position": null,
       "order": null,
       "overflow": null,
       "padding": null,
       "right": null,
       "top": null,
       "visibility": null,
       "width": null
      }
     },
     "c5b567ec826944cb8e25b8de4ebc0dc0": {
      "model_module": "@jupyter-widgets/controls",
      "model_module_version": "2.0.0",
      "model_name": "HTMLStyleModel",
      "state": {
       "_model_module": "@jupyter-widgets/controls",
       "_model_module_version": "2.0.0",
       "_model_name": "HTMLStyleModel",
       "_view_count": null,
       "_view_module": "@jupyter-widgets/base",
       "_view_module_version": "2.0.0",
       "_view_name": "StyleView",
       "background": null,
       "description_width": "",
       "font_size": null,
       "text_color": null
      }
     },
     "ca8d4cbd70074ebbbb7c5391f0bdd487": {
      "model_module": "@jupyter-widgets/base",
      "model_module_version": "2.0.0",
      "model_name": "LayoutModel",
      "state": {
       "_model_module": "@jupyter-widgets/base",
       "_model_module_version": "2.0.0",
       "_model_name": "LayoutModel",
       "_view_count": null,
       "_view_module": "@jupyter-widgets/base",
       "_view_module_version": "2.0.0",
       "_view_name": "LayoutView",
       "align_content": null,
       "align_items": null,
       "align_self": null,
       "border_bottom": null,
       "border_left": null,
       "border_right": null,
       "border_top": null,
       "bottom": null,
       "display": null,
       "flex": null,
       "flex_flow": null,
       "grid_area": null,
       "grid_auto_columns": null,
       "grid_auto_flow": null,
       "grid_auto_rows": null,
       "grid_column": null,
       "grid_gap": null,
       "grid_row": null,
       "grid_template_areas": null,
       "grid_template_columns": null,
       "grid_template_rows": null,
       "height": null,
       "justify_content": null,
       "justify_items": null,
       "left": null,
       "margin": null,
       "max_height": null,
       "max_width": null,
       "min_height": null,
       "min_width": null,
       "object_fit": null,
       "object_position": null,
       "order": null,
       "overflow": null,
       "padding": null,
       "right": null,
       "top": null,
       "visibility": null,
       "width": null
      }
     },
     "caeda4ec1c214abf8e1d511de51f8982": {
      "model_module": "@jupyter-widgets/controls",
      "model_module_version": "2.0.0",
      "model_name": "FloatProgressModel",
      "state": {
       "_dom_classes": [],
       "_model_module": "@jupyter-widgets/controls",
       "_model_module_version": "2.0.0",
       "_model_name": "FloatProgressModel",
       "_view_count": null,
       "_view_module": "@jupyter-widgets/controls",
       "_view_module_version": "2.0.0",
       "_view_name": "ProgressView",
       "bar_style": "success",
       "description": "",
       "description_allow_html": false,
       "layout": "IPY_MODEL_8bb5c3870c3448ec8bd8ec842a58c0b7",
       "max": 296.0,
       "min": 0.0,
       "orientation": "horizontal",
       "style": "IPY_MODEL_6b8023b7662b4a4881182a3cd1cdc332",
       "tabbable": null,
       "tooltip": null,
       "value": 296.0
      }
     },
     "d6842c95efe64020ac5ade5b5a762ab0": {
      "model_module": "@jupyter-widgets/controls",
      "model_module_version": "2.0.0",
      "model_name": "HTMLModel",
      "state": {
       "_dom_classes": [],
       "_model_module": "@jupyter-widgets/controls",
       "_model_module_version": "2.0.0",
       "_model_name": "HTMLModel",
       "_view_count": null,
       "_view_module": "@jupyter-widgets/controls",
       "_view_module_version": "2.0.0",
       "_view_name": "HTMLView",
       "description": "",
       "description_allow_html": false,
       "layout": "IPY_MODEL_01d845c70b2f4b06aa5c4b2b6b504bae",
       "placeholder": "​",
       "style": "IPY_MODEL_0fcafbedb68e40f796e4397da6b9da7e",
       "tabbable": null,
       "tooltip": null,
       "value": " 9.09M/9.09M [00:00&lt;00:00, 16.8MB/s]"
      }
     },
     "d7c6628ea1f74bc5b0a32f091730afa3": {
      "model_module": "@jupyter-widgets/controls",
      "model_module_version": "2.0.0",
      "model_name": "HTMLModel",
      "state": {
       "_dom_classes": [],
       "_model_module": "@jupyter-widgets/controls",
       "_model_module_version": "2.0.0",
       "_model_name": "HTMLModel",
       "_view_count": null,
       "_view_module": "@jupyter-widgets/controls",
       "_view_module_version": "2.0.0",
       "_view_name": "HTMLView",
       "description": "",
       "description_allow_html": false,
       "layout": "IPY_MODEL_ca8d4cbd70074ebbbb7c5391f0bdd487",
       "placeholder": "​",
       "style": "IPY_MODEL_0d9f78d1387f4a6185098a2a60c23c58",
       "tabbable": null,
       "tooltip": null,
       "value": " 54.5k/54.5k [00:00&lt;00:00, 5.78MB/s]"
      }
     },
     "da20a951fd5447d8ae35485de81ee7c6": {
      "model_module": "@jupyter-widgets/base",
      "model_module_version": "2.0.0",
      "model_name": "LayoutModel",
      "state": {
       "_model_module": "@jupyter-widgets/base",
       "_model_module_version": "2.0.0",
       "_model_name": "LayoutModel",
       "_view_count": null,
       "_view_module": "@jupyter-widgets/base",
       "_view_module_version": "2.0.0",
       "_view_name": "LayoutView",
       "align_content": null,
       "align_items": null,
       "align_self": null,
       "border_bottom": null,
       "border_left": null,
       "border_right": null,
       "border_top": null,
       "bottom": null,
       "display": null,
       "flex": null,
       "flex_flow": null,
       "grid_area": null,
       "grid_auto_columns": null,
       "grid_auto_flow": null,
       "grid_auto_rows": null,
       "grid_column": null,
       "grid_gap": null,
       "grid_row": null,
       "grid_template_areas": null,
       "grid_template_columns": null,
       "grid_template_rows": null,
       "height": null,
       "justify_content": null,
       "justify_items": null,
       "left": null,
       "margin": null,
       "max_height": null,
       "max_width": null,
       "min_height": null,
       "min_width": null,
       "object_fit": null,
       "object_position": null,
       "order": null,
       "overflow": null,
       "padding": null,
       "right": null,
       "top": null,
       "visibility": null,
       "width": null
      }
     },
     "da657bbe7f14469d953e03e27f23c962": {
      "model_module": "@jupyter-widgets/controls",
      "model_module_version": "2.0.0",
      "model_name": "HTMLModel",
      "state": {
       "_dom_classes": [],
       "_model_module": "@jupyter-widgets/controls",
       "_model_module_version": "2.0.0",
       "_model_name": "HTMLModel",
       "_view_count": null,
       "_view_module": "@jupyter-widgets/controls",
       "_view_module_version": "2.0.0",
       "_view_name": "HTMLView",
       "description": "",
       "description_allow_html": false,
       "layout": "IPY_MODEL_a19f4d14185b444cb83c03a4ec48200d",
       "placeholder": "​",
       "style": "IPY_MODEL_2d5efb93c8f24dc3b8bf1017e7ce7bb5",
       "tabbable": null,
       "tooltip": null,
       "value": "special_tokens_map.json: 100%"
      }
     },
     "dba58e8786fb478083cecd7b07b81f84": {
      "model_module": "@jupyter-widgets/controls",
      "model_module_version": "2.0.0",
      "model_name": "ProgressStyleModel",
      "state": {
       "_model_module": "@jupyter-widgets/controls",
       "_model_module_version": "2.0.0",
       "_model_name": "ProgressStyleModel",
       "_view_count": null,
       "_view_module": "@jupyter-widgets/base",
       "_view_module_version": "2.0.0",
       "_view_name": "StyleView",
       "bar_color": null,
       "description_width": ""
      }
     },
     "e4e424d1cba045789092eb359fe1ae50": {
      "model_module": "@jupyter-widgets/base",
      "model_module_version": "2.0.0",
      "model_name": "LayoutModel",
      "state": {
       "_model_module": "@jupyter-widgets/base",
       "_model_module_version": "2.0.0",
       "_model_name": "LayoutModel",
       "_view_count": null,
       "_view_module": "@jupyter-widgets/base",
       "_view_module_version": "2.0.0",
       "_view_name": "LayoutView",
       "align_content": null,
       "align_items": null,
       "align_self": null,
       "border_bottom": null,
       "border_left": null,
       "border_right": null,
       "border_top": null,
       "bottom": null,
       "display": null,
       "flex": null,
       "flex_flow": null,
       "grid_area": null,
       "grid_auto_columns": null,
       "grid_auto_flow": null,
       "grid_auto_rows": null,
       "grid_column": null,
       "grid_gap": null,
       "grid_row": null,
       "grid_template_areas": null,
       "grid_template_columns": null,
       "grid_template_rows": null,
       "height": null,
       "justify_content": null,
       "justify_items": null,
       "left": null,
       "margin": null,
       "max_height": null,
       "max_width": null,
       "min_height": null,
       "min_width": null,
       "object_fit": null,
       "object_position": null,
       "order": null,
       "overflow": null,
       "padding": null,
       "right": null,
       "top": null,
       "visibility": null,
       "width": null
      }
     },
     "f4962d8bd72843aa8ad9f2b055b9f50c": {
      "model_module": "@jupyter-widgets/base",
      "model_module_version": "2.0.0",
      "model_name": "LayoutModel",
      "state": {
       "_model_module": "@jupyter-widgets/base",
       "_model_module_version": "2.0.0",
       "_model_name": "LayoutModel",
       "_view_count": null,
       "_view_module": "@jupyter-widgets/base",
       "_view_module_version": "2.0.0",
       "_view_name": "LayoutView",
       "align_content": null,
       "align_items": null,
       "align_self": null,
       "border_bottom": null,
       "border_left": null,
       "border_right": null,
       "border_top": null,
       "bottom": null,
       "display": null,
       "flex": null,
       "flex_flow": null,
       "grid_area": null,
       "grid_auto_columns": null,
       "grid_auto_flow": null,
       "grid_auto_rows": null,
       "grid_column": null,
       "grid_gap": null,
       "grid_row": null,
       "grid_template_areas": null,
       "grid_template_columns": null,
       "grid_template_rows": null,
       "height": null,
       "justify_content": null,
       "justify_items": null,
       "left": null,
       "margin": null,
       "max_height": null,
       "max_width": null,
       "min_height": null,
       "min_width": null,
       "object_fit": null,
       "object_position": null,
       "order": null,
       "overflow": null,
       "padding": null,
       "right": null,
       "top": null,
       "visibility": null,
       "width": null
      }
     },
     "f7e8b1e7530b4b508b7c22d29a6f882a": {
      "model_module": "@jupyter-widgets/controls",
      "model_module_version": "2.0.0",
      "model_name": "HTMLStyleModel",
      "state": {
       "_model_module": "@jupyter-widgets/controls",
       "_model_module_version": "2.0.0",
       "_model_name": "HTMLStyleModel",
       "_view_count": null,
       "_view_module": "@jupyter-widgets/base",
       "_view_module_version": "2.0.0",
       "_view_name": "StyleView",
       "background": null,
       "description_width": "",
       "font_size": null,
       "text_color": null
      }
     },
     "fd4ed255e62440b1a6bec0ffef567716": {
      "model_module": "@jupyter-widgets/base",
      "model_module_version": "2.0.0",
      "model_name": "LayoutModel",
      "state": {
       "_model_module": "@jupyter-widgets/base",
       "_model_module_version": "2.0.0",
       "_model_name": "LayoutModel",
       "_view_count": null,
       "_view_module": "@jupyter-widgets/base",
       "_view_module_version": "2.0.0",
       "_view_name": "LayoutView",
       "align_content": null,
       "align_items": null,
       "align_self": null,
       "border_bottom": null,
       "border_left": null,
       "border_right": null,
       "border_top": null,
       "bottom": null,
       "display": null,
       "flex": null,
       "flex_flow": null,
       "grid_area": null,
       "grid_auto_columns": null,
       "grid_auto_flow": null,
       "grid_auto_rows": null,
       "grid_column": null,
       "grid_gap": null,
       "grid_row": null,
       "grid_template_areas": null,
       "grid_template_columns": null,
       "grid_template_rows": null,
       "height": null,
       "justify_content": null,
       "justify_items": null,
       "left": null,
       "margin": null,
       "max_height": null,
       "max_width": null,
       "min_height": null,
       "min_width": null,
       "object_fit": null,
       "object_position": null,
       "order": null,
       "overflow": null,
       "padding": null,
       "right": null,
       "top": null,
       "visibility": null,
       "width": null
      }
     }
    },
    "version_major": 2,
    "version_minor": 0
   }
  }
 },
 "nbformat": 4,
 "nbformat_minor": 5
}
