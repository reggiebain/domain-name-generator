{
 "cells": [
  {
   "cell_type": "markdown",
   "id": "5a1165c8",
   "metadata": {
    "papermill": {
     "duration": 0.003331,
     "end_time": "2025-07-27T22:08:33.059996",
     "exception": false,
     "start_time": "2025-07-27T22:08:33.056665",
     "status": "completed"
    },
    "tags": []
   },
   "source": [
    "# Part 2 - Fine Tune LLM\n",
    "- Fine tune LLM on our synthetically generated dataset to generate domain names from descriptions.\n",
    "- Do preliminary evaluation using various standard NLP metrics such as rouge, bleu, levenshtein, etc.\n",
    "- Due to time and Kaggle storage constraints, we'll just run this script changing different hyperparameters by hand as opposed to running a for loop over multiple configs, which would lead to a huge amount of space being used that will exceed the output allowance.\n",
    "- We will ultiamtely vary:\n",
    "    - Batch Size\n",
    "    - Learning Rate\n",
    "    - Switch on/off LoRA and PEFT"
   ]
  },
  {
   "cell_type": "code",
   "execution_count": 1,
   "id": "1d7d695a",
   "metadata": {
    "execution": {
     "iopub.execute_input": "2025-07-27T22:08:33.065915Z",
     "iopub.status.busy": "2025-07-27T22:08:33.065706Z",
     "iopub.status.idle": "2025-07-27T22:08:33.071424Z",
     "shell.execute_reply": "2025-07-27T22:08:33.070724Z"
    },
    "papermill": {
     "duration": 0.009934,
     "end_time": "2025-07-27T22:08:33.072613",
     "exception": false,
     "start_time": "2025-07-27T22:08:33.062679",
     "status": "completed"
    },
    "tags": []
   },
   "outputs": [],
   "source": [
    "VERSION = 'v1'"
   ]
  },
  {
   "cell_type": "code",
   "execution_count": 2,
   "id": "eef5c51e",
   "metadata": {
    "execution": {
     "iopub.execute_input": "2025-07-27T22:08:33.078531Z",
     "iopub.status.busy": "2025-07-27T22:08:33.078330Z",
     "iopub.status.idle": "2025-07-27T22:09:46.852349Z",
     "shell.execute_reply": "2025-07-27T22:09:46.851338Z"
    },
    "papermill": {
     "duration": 73.778665,
     "end_time": "2025-07-27T22:09:46.853972",
     "exception": false,
     "start_time": "2025-07-27T22:08:33.075307",
     "status": "completed"
    },
    "tags": []
   },
   "outputs": [
    {
     "name": "stdout",
     "output_type": "stream",
     "text": [
      "  Preparing metadata (setup.py) ... \u001b[?25l\u001b[?25hdone\r\n",
      "\u001b[2K   \u001b[90m━━━━━━━━━━━━━━━━━━━━━━━━━━━━━━━━━━━━━━━━\u001b[0m \u001b[32m363.4/363.4 MB\u001b[0m \u001b[31m4.7 MB/s\u001b[0m eta \u001b[36m0:00:00\u001b[0m\r\n",
      "\u001b[2K   \u001b[90m━━━━━━━━━━━━━━━━━━━━━━━━━━━━━━━━━━━━━━━━\u001b[0m \u001b[32m13.8/13.8 MB\u001b[0m \u001b[31m102.3 MB/s\u001b[0m eta \u001b[36m0:00:00\u001b[0m\r\n",
      "\u001b[2K   \u001b[90m━━━━━━━━━━━━━━━━━━━━━━━━━━━━━━━━━━━━━━━━\u001b[0m \u001b[32m24.6/24.6 MB\u001b[0m \u001b[31m64.3 MB/s\u001b[0m eta \u001b[36m0:00:00\u001b[0m\r\n",
      "\u001b[2K   \u001b[90m━━━━━━━━━━━━━━━━━━━━━━━━━━━━━━━━━━━━━━━━\u001b[0m \u001b[32m883.7/883.7 kB\u001b[0m \u001b[31m46.7 MB/s\u001b[0m eta \u001b[36m0:00:00\u001b[0m\r\n",
      "\u001b[2K   \u001b[90m━━━━━━━━━━━━━━━━━━━━━━━━━━━━━━━━━━━━━━━━\u001b[0m \u001b[32m664.8/664.8 MB\u001b[0m \u001b[31m2.6 MB/s\u001b[0m eta \u001b[36m0:00:00\u001b[0m\r\n",
      "\u001b[2K   \u001b[90m━━━━━━━━━━━━━━━━━━━━━━━━━━━━━━━━━━━━━━━━\u001b[0m \u001b[32m211.5/211.5 MB\u001b[0m \u001b[31m8.0 MB/s\u001b[0m eta \u001b[36m0:00:00\u001b[0m\r\n",
      "\u001b[2K   \u001b[90m━━━━━━━━━━━━━━━━━━━━━━━━━━━━━━━━━━━━━━━━\u001b[0m \u001b[32m56.3/56.3 MB\u001b[0m \u001b[31m29.8 MB/s\u001b[0m eta \u001b[36m0:00:00\u001b[0m\r\n",
      "\u001b[2K   \u001b[90m━━━━━━━━━━━━━━━━━━━━━━━━━━━━━━━━━━━━━━━━\u001b[0m \u001b[32m127.9/127.9 MB\u001b[0m \u001b[31m8.7 MB/s\u001b[0m eta \u001b[36m0:00:00\u001b[0m\r\n",
      "\u001b[2K   \u001b[90m━━━━━━━━━━━━━━━━━━━━━━━━━━━━━━━━━━━━━━━━\u001b[0m \u001b[32m207.5/207.5 MB\u001b[0m \u001b[31m8.2 MB/s\u001b[0m eta \u001b[36m0:00:00\u001b[0m\r\n",
      "\u001b[2K   \u001b[90m━━━━━━━━━━━━━━━━━━━━━━━━━━━━━━━━━━━━━━━━\u001b[0m \u001b[32m21.1/21.1 MB\u001b[0m \u001b[31m67.0 MB/s\u001b[0m eta \u001b[36m0:00:00\u001b[0m\r\n",
      "\u001b[2K   \u001b[90m━━━━━━━━━━━━━━━━━━━━━━━━━━━━━━━━━━━━━━━━\u001b[0m \u001b[32m161.7/161.7 kB\u001b[0m \u001b[31m11.5 MB/s\u001b[0m eta \u001b[36m0:00:00\u001b[0m\r\n",
      "\u001b[2K   \u001b[90m━━━━━━━━━━━━━━━━━━━━━━━━━━━━━━━━━━━━━━━━\u001b[0m \u001b[32m3.1/3.1 MB\u001b[0m \u001b[31m58.0 MB/s\u001b[0m eta \u001b[36m0:00:00\u001b[0m\r\n",
      "\u001b[?25h  Building wheel for rouge_score (setup.py) ... \u001b[?25l\u001b[?25hdone\r\n"
     ]
    }
   ],
   "source": [
    "!pip install -q transformers torch peft rouge_score levenshtein"
   ]
  },
  {
   "cell_type": "code",
   "execution_count": 3,
   "id": "3f6bbf75",
   "metadata": {
    "execution": {
     "iopub.execute_input": "2025-07-27T22:09:46.894106Z",
     "iopub.status.busy": "2025-07-27T22:09:46.893480Z",
     "iopub.status.idle": "2025-07-27T22:09:48.260636Z",
     "shell.execute_reply": "2025-07-27T22:09:48.260062Z"
    },
    "papermill": {
     "duration": 1.388172,
     "end_time": "2025-07-27T22:09:48.261922",
     "exception": false,
     "start_time": "2025-07-27T22:09:46.873750",
     "status": "completed"
    },
    "tags": []
   },
   "outputs": [],
   "source": [
    "import time\n",
    "import pandas as pd\n",
    "import json"
   ]
  },
  {
   "cell_type": "code",
   "execution_count": 4,
   "id": "60c04b8b",
   "metadata": {
    "execution": {
     "iopub.execute_input": "2025-07-27T22:09:48.299203Z",
     "iopub.status.busy": "2025-07-27T22:09:48.298373Z",
     "iopub.status.idle": "2025-07-27T22:09:48.331981Z",
     "shell.execute_reply": "2025-07-27T22:09:48.331324Z"
    },
    "papermill": {
     "duration": 0.052912,
     "end_time": "2025-07-27T22:09:48.333105",
     "exception": false,
     "start_time": "2025-07-27T22:09:48.280193",
     "status": "completed"
    },
    "tags": []
   },
   "outputs": [
    {
     "data": {
      "text/html": [
       "<div>\n",
       "<style scoped>\n",
       "    .dataframe tbody tr th:only-of-type {\n",
       "        vertical-align: middle;\n",
       "    }\n",
       "\n",
       "    .dataframe tbody tr th {\n",
       "        vertical-align: top;\n",
       "    }\n",
       "\n",
       "    .dataframe thead th {\n",
       "        text-align: right;\n",
       "    }\n",
       "</style>\n",
       "<table border=\"1\" class=\"dataframe\">\n",
       "  <thead>\n",
       "    <tr style=\"text-align: right;\">\n",
       "      <th></th>\n",
       "      <th>business_description</th>\n",
       "      <th>domain_name</th>\n",
       "      <th>category</th>\n",
       "    </tr>\n",
       "  </thead>\n",
       "  <tbody>\n",
       "    <tr>\n",
       "      <th>0</th>\n",
       "      <td>A mobile app that helps people find local farm...</td>\n",
       "      <td>freshfinds.app</td>\n",
       "      <td>NaN</td>\n",
       "    </tr>\n",
       "    <tr>\n",
       "      <th>1</th>\n",
       "      <td>An online subscription service for eco-friendl...</td>\n",
       "      <td>greenbundle.com</td>\n",
       "      <td>NaN</td>\n",
       "    </tr>\n",
       "    <tr>\n",
       "      <th>2</th>\n",
       "      <td>A platform that helps small businesses adverti...</td>\n",
       "      <td>smallbusiness.co</td>\n",
       "      <td>NaN</td>\n",
       "    </tr>\n",
       "    <tr>\n",
       "      <th>3</th>\n",
       "      <td>A website that connects pet owners with local ...</td>\n",
       "      <td>petsitter.com</td>\n",
       "      <td>NaN</td>\n",
       "    </tr>\n",
       "    <tr>\n",
       "      <th>4</th>\n",
       "      <td>A blog platform for creative writers to share ...</td>\n",
       "      <td>writeon.com</td>\n",
       "      <td>NaN</td>\n",
       "    </tr>\n",
       "  </tbody>\n",
       "</table>\n",
       "</div>"
      ],
      "text/plain": [
       "                                business_description       domain_name  \\\n",
       "0  A mobile app that helps people find local farm...    freshfinds.app   \n",
       "1  An online subscription service for eco-friendl...   greenbundle.com   \n",
       "2  A platform that helps small businesses adverti...  smallbusiness.co   \n",
       "3  A website that connects pet owners with local ...     petsitter.com   \n",
       "4  A blog platform for creative writers to share ...       writeon.com   \n",
       "\n",
       "  category  \n",
       "0      NaN  \n",
       "1      NaN  \n",
       "2      NaN  \n",
       "3      NaN  \n",
       "4      NaN  "
      ]
     },
     "execution_count": 4,
     "metadata": {},
     "output_type": "execute_result"
    }
   ],
   "source": [
    "# Load in data\n",
    "df = pd.read_csv('/kaggle/input/domain-name-generator/data/domain_names_with_descriptions.csv')\n",
    "df.head()"
   ]
  },
  {
   "cell_type": "code",
   "execution_count": 5,
   "id": "ae4d497b",
   "metadata": {
    "execution": {
     "iopub.execute_input": "2025-07-27T22:09:48.370430Z",
     "iopub.status.busy": "2025-07-27T22:09:48.370165Z",
     "iopub.status.idle": "2025-07-27T22:10:16.237480Z",
     "shell.execute_reply": "2025-07-27T22:10:16.236634Z"
    },
    "papermill": {
     "duration": 27.888191,
     "end_time": "2025-07-27T22:10:16.238870",
     "exception": false,
     "start_time": "2025-07-27T22:09:48.350679",
     "status": "completed"
    },
    "tags": []
   },
   "outputs": [
    {
     "name": "stderr",
     "output_type": "stream",
     "text": [
      "2025-07-27 22:10:04.173083: E external/local_xla/xla/stream_executor/cuda/cuda_fft.cc:477] Unable to register cuFFT factory: Attempting to register factory for plugin cuFFT when one has already been registered\n",
      "WARNING: All log messages before absl::InitializeLog() is called are written to STDERR\n",
      "E0000 00:00:1753654204.344888      19 cuda_dnn.cc:8310] Unable to register cuDNN factory: Attempting to register factory for plugin cuDNN when one has already been registered\n",
      "E0000 00:00:1753654204.393695      19 cuda_blas.cc:1418] Unable to register cuBLAS factory: Attempting to register factory for plugin cuBLAS when one has already been registered\n"
     ]
    }
   ],
   "source": [
    "# Create dataset object for training\n",
    "from datasets import load_dataset, Dataset, DatasetDict\n",
    "from transformers import AutoTokenizer, AutoModelForCausalLM, TrainingArguments, Trainer, DataCollatorForLanguageModeling\n",
    "from peft import get_peft_model, LoraConfig, TaskType\n",
    "import torch\n",
    "from sklearn.model_selection import train_test_split"
   ]
  },
  {
   "cell_type": "code",
   "execution_count": 6,
   "id": "cacb4d65",
   "metadata": {
    "execution": {
     "iopub.execute_input": "2025-07-27T22:10:16.275585Z",
     "iopub.status.busy": "2025-07-27T22:10:16.275048Z",
     "iopub.status.idle": "2025-07-27T22:10:16.306917Z",
     "shell.execute_reply": "2025-07-27T22:10:16.306439Z"
    },
    "papermill": {
     "duration": 0.051154,
     "end_time": "2025-07-27T22:10:16.308038",
     "exception": false,
     "start_time": "2025-07-27T22:10:16.256884",
     "status": "completed"
    },
    "tags": []
   },
   "outputs": [],
   "source": [
    "# Combine into prompt: \"Business: {description} -> Domain: {domain_name}\" for autoregressie model\n",
    "df[\"text\"] = df.apply(lambda row: f\"Business: {row['business_description']} -> Domain: {row['domain_name']}\", axis=1)\n",
    "\n",
    "# Split data set and turn into data set objects\n",
    "train_df, test_df = train_test_split(df, test_size=0.1, random_state=42)\n",
    "train_df.to_csv('train.csv',index=False)\n",
    "test_df.to_csv('test.csv',index=False)\n",
    "\n",
    "train_dataset = Dataset.from_pandas(train_df[[\"text\"]])\n",
    "test_dataset = Dataset.from_pandas(test_df[[\"text\"]])\n",
    "\n",
    "# Create dict of both training and testing for easy access in Trainer\n",
    "datasets = DatasetDict({\"train\": train_dataset, \"test\": test_dataset})"
   ]
  },
  {
   "cell_type": "code",
   "execution_count": 7,
   "id": "f6426407",
   "metadata": {
    "execution": {
     "iopub.execute_input": "2025-07-27T22:10:16.344795Z",
     "iopub.status.busy": "2025-07-27T22:10:16.344587Z",
     "iopub.status.idle": "2025-07-27T22:10:16.923413Z",
     "shell.execute_reply": "2025-07-27T22:10:16.922808Z"
    },
    "papermill": {
     "duration": 0.598289,
     "end_time": "2025-07-27T22:10:16.924769",
     "exception": false,
     "start_time": "2025-07-27T22:10:16.326480",
     "status": "completed"
    },
    "tags": []
   },
   "outputs": [],
   "source": [
    "model_name_or_path = \"/kaggle/input/llama-3.2/transformers/1b-instruct/1\"\n",
    "tokenizer = AutoTokenizer.from_pretrained(model_name_or_path, trust_remote_code=True)\n",
    "tokenizer.pad_token = tokenizer.eos_token"
   ]
  },
  {
   "cell_type": "code",
   "execution_count": 8,
   "id": "52a66d65",
   "metadata": {
    "execution": {
     "iopub.execute_input": "2025-07-27T22:10:16.971738Z",
     "iopub.status.busy": "2025-07-27T22:10:16.971160Z",
     "iopub.status.idle": "2025-07-27T22:10:33.882180Z",
     "shell.execute_reply": "2025-07-27T22:10:33.881472Z"
    },
    "papermill": {
     "duration": 16.931835,
     "end_time": "2025-07-27T22:10:33.883303",
     "exception": false,
     "start_time": "2025-07-27T22:10:16.951468",
     "status": "completed"
    },
    "tags": []
   },
   "outputs": [
    {
     "data": {
      "application/vnd.jupyter.widget-view+json": {
       "model_id": "99c97fe688184f3fbf04aa7b8722b015",
       "version_major": 2,
       "version_minor": 0
      },
      "text/plain": [
       "Map:   0%|          | 0/175 [00:00<?, ? examples/s]"
      ]
     },
     "metadata": {},
     "output_type": "display_data"
    },
    {
     "data": {
      "application/vnd.jupyter.widget-view+json": {
       "model_id": "7671c82faf314cd8b01051e646ebd064",
       "version_major": 2,
       "version_minor": 0
      },
      "text/plain": [
       "Map:   0%|          | 0/20 [00:00<?, ? examples/s]"
      ]
     },
     "metadata": {},
     "output_type": "display_data"
    }
   ],
   "source": [
    "# Load base model and tokenize\n",
    "model = AutoModelForCausalLM.from_pretrained(\n",
    "    model_name_or_path,\n",
    "    torch_dtype=torch.bfloat16,\n",
    "    device_map=\"auto\" # put onto cuda automatically if available\n",
    ")\n",
    "\n",
    "def tokenize(example):\n",
    "    return tokenizer(example[\"text\"], truncation=True, padding=\"max_length\", max_length=128)\n",
    "\n",
    "tokenized_dataset = datasets.map(tokenize, batched=True)"
   ]
  },
  {
   "cell_type": "code",
   "execution_count": 9,
   "id": "a60ba52e",
   "metadata": {
    "execution": {
     "iopub.execute_input": "2025-07-27T22:10:33.966081Z",
     "iopub.status.busy": "2025-07-27T22:10:33.965818Z",
     "iopub.status.idle": "2025-07-27T22:10:34.044901Z",
     "shell.execute_reply": "2025-07-27T22:10:34.044140Z"
    },
    "papermill": {
     "duration": 0.099251,
     "end_time": "2025-07-27T22:10:34.046163",
     "exception": false,
     "start_time": "2025-07-27T22:10:33.946912",
     "status": "completed"
    },
    "tags": []
   },
   "outputs": [],
   "source": [
    "# Create LoRA (parameter-efficient fine-tuning) and wrap model in it\n",
    "peft_config = LoraConfig(\n",
    "    r=8,\n",
    "    lora_alpha=32,\n",
    "    target_modules=[\"q_proj\", \"v_proj\"],\n",
    "    lora_dropout=0.05,\n",
    "    bias=\"none\",\n",
    "    task_type=TaskType.CAUSAL_LM\n",
    ")\n",
    "\n",
    "model = get_peft_model(model, peft_config)"
   ]
  },
  {
   "cell_type": "code",
   "execution_count": 10,
   "id": "5cbb0a13",
   "metadata": {
    "execution": {
     "iopub.execute_input": "2025-07-27T22:10:34.082763Z",
     "iopub.status.busy": "2025-07-27T22:10:34.082568Z",
     "iopub.status.idle": "2025-07-27T22:10:34.086003Z",
     "shell.execute_reply": "2025-07-27T22:10:34.085337Z"
    },
    "papermill": {
     "duration": 0.022673,
     "end_time": "2025-07-27T22:10:34.087091",
     "exception": false,
     "start_time": "2025-07-27T22:10:34.064418",
     "status": "completed"
    },
    "tags": []
   },
   "outputs": [],
   "source": [
    "# Create data collator to patch, dynamically pad, etc.\n",
    "data_collator = DataCollatorForLanguageModeling(tokenizer, mlm=False)"
   ]
  },
  {
   "cell_type": "code",
   "execution_count": 11,
   "id": "66d4371d",
   "metadata": {
    "execution": {
     "iopub.execute_input": "2025-07-27T22:10:34.123688Z",
     "iopub.status.busy": "2025-07-27T22:10:34.123094Z",
     "iopub.status.idle": "2025-07-27T22:10:34.164879Z",
     "shell.execute_reply": "2025-07-27T22:10:34.164040Z"
    },
    "papermill": {
     "duration": 0.061147,
     "end_time": "2025-07-27T22:10:34.165902",
     "exception": false,
     "start_time": "2025-07-27T22:10:34.104755",
     "status": "completed"
    },
    "tags": []
   },
   "outputs": [
    {
     "name": "stderr",
     "output_type": "stream",
     "text": [
      "/tmp/ipykernel_19/901431318.py:19: FutureWarning: `tokenizer` is deprecated and will be removed in version 5.0.0 for `Trainer.__init__`. Use `processing_class` instead.\n",
      "  trainer = Trainer(\n",
      "No label_names provided for model class `PeftModelForCausalLM`. Since `PeftModel` hides base models input arguments, if label_names is not given, label_names can't be set automatically within `Trainer`. Note that empty label_names list will be used instead.\n"
     ]
    }
   ],
   "source": [
    "# Create training arguments, data-collator ()\n",
    "training_args = TrainingArguments(\n",
    "    output_dir=\"./outputs\",\n",
    "    per_device_train_batch_size=4,\n",
    "    gradient_accumulation_steps=4,\n",
    "    num_train_epochs=3,\n",
    "    learning_rate=2e-4,\n",
    "    fp16=True,\n",
    "    logging_dir=\"./logs\",\n",
    "    logging_steps=10,\n",
    "    save_steps=1000,\n",
    "    save_total_limit=2,\n",
    "    report_to=\"none\"\n",
    ")\n",
    "\n",
    "# Data collator\n",
    "data_collator = DataCollatorForLanguageModeling(tokenizer, mlm=False)\n",
    "\n",
    "trainer = Trainer(\n",
    "    model=model,\n",
    "    args=training_args,\n",
    "    train_dataset=tokenized_dataset[\"train\"],\n",
    "    eval_dataset=tokenized_dataset[\"test\"],\n",
    "    data_collator=data_collator,\n",
    "    tokenizer=tokenizer\n",
    ")"
   ]
  },
  {
   "cell_type": "code",
   "execution_count": 12,
   "id": "6be66937",
   "metadata": {
    "execution": {
     "iopub.execute_input": "2025-07-27T22:10:34.203382Z",
     "iopub.status.busy": "2025-07-27T22:10:34.202753Z",
     "iopub.status.idle": "2025-07-27T22:11:35.272849Z",
     "shell.execute_reply": "2025-07-27T22:11:35.272001Z"
    },
    "papermill": {
     "duration": 61.090348,
     "end_time": "2025-07-27T22:11:35.274654",
     "exception": false,
     "start_time": "2025-07-27T22:10:34.184306",
     "status": "completed"
    },
    "tags": []
   },
   "outputs": [
    {
     "data": {
      "text/html": [
       "\n",
       "    <div>\n",
       "      \n",
       "      <progress value='33' max='33' style='width:300px; height:20px; vertical-align: middle;'></progress>\n",
       "      [33/33 00:57, Epoch 3/3]\n",
       "    </div>\n",
       "    <table border=\"1\" class=\"dataframe\">\n",
       "  <thead>\n",
       " <tr style=\"text-align: left;\">\n",
       "      <th>Step</th>\n",
       "      <th>Training Loss</th>\n",
       "    </tr>\n",
       "  </thead>\n",
       "  <tbody>\n",
       "    <tr>\n",
       "      <td>10</td>\n",
       "      <td>2.908900</td>\n",
       "    </tr>\n",
       "    <tr>\n",
       "      <td>20</td>\n",
       "      <td>1.791000</td>\n",
       "    </tr>\n",
       "    <tr>\n",
       "      <td>30</td>\n",
       "      <td>1.653600</td>\n",
       "    </tr>\n",
       "  </tbody>\n",
       "</table><p>"
      ],
      "text/plain": [
       "<IPython.core.display.HTML object>"
      ]
     },
     "metadata": {},
     "output_type": "display_data"
    },
    {
     "data": {
      "text/plain": [
       "('./fine-tuned-llama-domain-generator-v1/tokenizer_config.json',\n",
       " './fine-tuned-llama-domain-generator-v1/special_tokens_map.json',\n",
       " './fine-tuned-llama-domain-generator-v1/chat_template.jinja',\n",
       " './fine-tuned-llama-domain-generator-v1/tokenizer.json')"
      ]
     },
     "execution_count": 12,
     "metadata": {},
     "output_type": "execute_result"
    }
   ],
   "source": [
    "trainer.train()\n",
    "\n",
    "# Save final model\n",
    "trainer.save_model(f\"./fine-tuned-llama-domain-generator-{VERSION}\")\n",
    "tokenizer.save_pretrained(f\"./fine-tuned-llama-domain-generator-{VERSION}\")"
   ]
  },
  {
   "cell_type": "markdown",
   "id": "573ce179",
   "metadata": {
    "papermill": {
     "duration": 0.017687,
     "end_time": "2025-07-27T22:11:35.311146",
     "exception": false,
     "start_time": "2025-07-27T22:11:35.293459",
     "status": "completed"
    },
    "tags": []
   },
   "source": [
    "## Evaluating model\n",
    "- We do have some eval metrics above that computes \"language model loss\" which measures model's ability to predict the next token, not necessarily how relevant/quality the output is.\n",
    "- Thus, we implement some scoring\n",
    "    - ROUGE (Recall-Oriented Understudy for Gisting Evaluation) is a set of metrics used to evaluate the quality of machine-generated summaries by comparing them to human-written reference summaries.\n",
    "    - In general, a ROUGE score above 0.5 is often considered good, especially for ROUGE-1, while scores below 0.2 are often considered poor.\n",
    "    - A good BLEU (bilingual evaluation understudy) score is above 0.3...however, this isn't the best use case for BLEU since its primarily used for tranlsation.\n",
    "    - A good levenshtein distance is not a fixed thing, but 0 represents identical strings."
   ]
  },
  {
   "cell_type": "code",
   "execution_count": 13,
   "id": "be014085",
   "metadata": {
    "execution": {
     "iopub.execute_input": "2025-07-27T22:11:35.347956Z",
     "iopub.status.busy": "2025-07-27T22:11:35.347744Z",
     "iopub.status.idle": "2025-07-27T22:11:35.807777Z",
     "shell.execute_reply": "2025-07-27T22:11:35.807164Z"
    },
    "papermill": {
     "duration": 0.47995,
     "end_time": "2025-07-27T22:11:35.809139",
     "exception": false,
     "start_time": "2025-07-27T22:11:35.329189",
     "status": "completed"
    },
    "tags": []
   },
   "outputs": [],
   "source": [
    "from rouge_score import rouge_scorer\n",
    "import matplotlib.pyplot as plt\n",
    "from nltk.translate.bleu_score import sentence_bleu, SmoothingFunction\n",
    "import Levenshtein\n",
    "import re"
   ]
  },
  {
   "cell_type": "code",
   "execution_count": 14,
   "id": "988fc075",
   "metadata": {
    "execution": {
     "iopub.execute_input": "2025-07-27T22:11:35.847271Z",
     "iopub.status.busy": "2025-07-27T22:11:35.847049Z",
     "iopub.status.idle": "2025-07-27T22:11:35.851903Z",
     "shell.execute_reply": "2025-07-27T22:11:35.851408Z"
    },
    "papermill": {
     "duration": 0.02465,
     "end_time": "2025-07-27T22:11:35.852866",
     "exception": false,
     "start_time": "2025-07-27T22:11:35.828216",
     "status": "completed"
    },
    "tags": []
   },
   "outputs": [],
   "source": [
    "# Create function to check if domain name is valid domain name\n",
    "VALID_TLDS = ['.com', '.ai', '.io', '.net', '.org', '.co', '.app', '.tech', '.dev']\n",
    "\n",
    "def is_valid_domain(domain: str) -> bool:\n",
    "    domain = domain.strip().lower()\n",
    "\n",
    "    # Basic structure check: must contain a valid TLD\n",
    "    if not any(domain.endswith(tld) for tld in VALID_TLDS):\n",
    "        return False\n",
    "\n",
    "    # No whitespace\n",
    "    if ' ' in domain:\n",
    "        return False\n",
    "\n",
    "    # Length check\n",
    "    if len(domain) > 63 or len(domain) == 0:\n",
    "        return False\n",
    "\n",
    "    # Valid characters (alphanumeric, hyphen, and dot)\n",
    "    pattern = r'^[a-z0-9\\-\\.]+$'\n",
    "    if not re.match(pattern, domain):\n",
    "        return False\n",
    "\n",
    "    # Should not contain multiple dots (e.g., no sentences)\n",
    "    if domain.count('.') > 1:\n",
    "        return False\n",
    "\n",
    "    return True"
   ]
  },
  {
   "cell_type": "code",
   "execution_count": 15,
   "id": "c5d6268f",
   "metadata": {
    "execution": {
     "iopub.execute_input": "2025-07-27T22:11:35.889971Z",
     "iopub.status.busy": "2025-07-27T22:11:35.889758Z",
     "iopub.status.idle": "2025-07-27T22:11:35.893156Z",
     "shell.execute_reply": "2025-07-27T22:11:35.892666Z"
    },
    "papermill": {
     "duration": 0.022995,
     "end_time": "2025-07-27T22:11:35.894086",
     "exception": false,
     "start_time": "2025-07-27T22:11:35.871091",
     "status": "completed"
    },
    "tags": []
   },
   "outputs": [],
   "source": [
    "# get rouge scorer\n",
    "scorer = rouge_scorer.RougeScorer(['rougeL'], use_stemmer=True)\n",
    "scores = []\n",
    "bleu_scores = []\n",
    "levenshtein_distances = []\n",
    "brandability_scores = []\n",
    "predictions = []\n",
    "valid_domains = []"
   ]
  },
  {
   "cell_type": "code",
   "execution_count": 16,
   "id": "5298eca2",
   "metadata": {
    "execution": {
     "iopub.execute_input": "2025-07-27T22:11:35.931324Z",
     "iopub.status.busy": "2025-07-27T22:11:35.931111Z",
     "iopub.status.idle": "2025-07-27T22:11:48.716788Z",
     "shell.execute_reply": "2025-07-27T22:11:48.716030Z"
    },
    "papermill": {
     "duration": 12.805438,
     "end_time": "2025-07-27T22:11:48.717914",
     "exception": false,
     "start_time": "2025-07-27T22:11:35.912476",
     "status": "completed"
    },
    "tags": []
   },
   "outputs": [
    {
     "name": "stderr",
     "output_type": "stream",
     "text": [
      "Setting `pad_token_id` to `eos_token_id`:128001 for open-end generation.\n",
      "Setting `pad_token_id` to `eos_token_id`:128001 for open-end generation.\n",
      "Setting `pad_token_id` to `eos_token_id`:128001 for open-end generation.\n",
      "Setting `pad_token_id` to `eos_token_id`:128001 for open-end generation.\n",
      "Setting `pad_token_id` to `eos_token_id`:128001 for open-end generation.\n",
      "Setting `pad_token_id` to `eos_token_id`:128001 for open-end generation.\n",
      "Setting `pad_token_id` to `eos_token_id`:128001 for open-end generation.\n",
      "Setting `pad_token_id` to `eos_token_id`:128001 for open-end generation.\n",
      "Setting `pad_token_id` to `eos_token_id`:128001 for open-end generation.\n",
      "Setting `pad_token_id` to `eos_token_id`:128001 for open-end generation.\n",
      "Setting `pad_token_id` to `eos_token_id`:128001 for open-end generation.\n",
      "Setting `pad_token_id` to `eos_token_id`:128001 for open-end generation.\n",
      "Setting `pad_token_id` to `eos_token_id`:128001 for open-end generation.\n",
      "Setting `pad_token_id` to `eos_token_id`:128001 for open-end generation.\n",
      "Setting `pad_token_id` to `eos_token_id`:128001 for open-end generation.\n",
      "Setting `pad_token_id` to `eos_token_id`:128001 for open-end generation.\n",
      "Setting `pad_token_id` to `eos_token_id`:128001 for open-end generation.\n",
      "Setting `pad_token_id` to `eos_token_id`:128001 for open-end generation.\n",
      "Setting `pad_token_id` to `eos_token_id`:128001 for open-end generation.\n",
      "Setting `pad_token_id` to `eos_token_id`:128001 for open-end generation.\n"
     ]
    },
    {
     "name": "stdout",
     "output_type": "stream",
     "text": [
      "Pct of Predictions that are valid domains = 5.00%\n"
     ]
    }
   ],
   "source": [
    "# Put pytorch model in eval mode\n",
    "model.eval()\n",
    "\n",
    "# Loop over test data\n",
    "for item in test_dataset:\n",
    "    input_text = item[\"text\"]\n",
    "    if \"-> Domain:\" not in input_text:\n",
    "        continue\n",
    "    description = input_text.split(\"-> Domain:\")[0].replace(\"Business:\", \"\").strip()\n",
    "    true_domain = input_text.split(\"-> Domain:\")[-1].strip()\n",
    "\n",
    "    prompt = f\"Business: {description} -> Domain:\"\n",
    "    inputs = tokenizer(prompt, return_tensors=\"pt\").to(model.device)\n",
    "    with torch.no_grad():\n",
    "        outputs = model.generate(**inputs, max_new_tokens=20, do_sample=True, top_k=50, temperature=0.7)\n",
    "    decoded = tokenizer.decode(outputs[0], skip_special_tokens=True)\n",
    "    pred_domain = decoded.split(\"-> Domain:\")[-1].strip()\n",
    "\n",
    "    # Safety filter\n",
    "    banned_keywords = [\"sex\", \"porn\", \"kill\", \"drugs\", \"hate\", \"murder\"]\n",
    "    if any(bad in pred_domain.lower() for bad in banned_keywords):\n",
    "        pred_domain = \"[REDACTED: Unsafe Output]\"\n",
    "\n",
    "    # Check if valid domain       \n",
    "    valid_domain = is_valid_domain(pred_domain)\n",
    "    valid_domains.append(valid_domain)\n",
    "    \n",
    "    # ROUGE\n",
    "    rouge_score = scorer.score(true_domain, pred_domain)[\"rougeL\"].fmeasure\n",
    "    scores.append(rouge_score)\n",
    "\n",
    "    # BLEU\n",
    "    bleu = sentence_bleu([true_domain.split(\".\")], pred_domain.split(\".\"), smoothing_function=SmoothingFunction().method1)\n",
    "    bleu_scores.append(bleu)\n",
    "\n",
    "    # Levenshtein\n",
    "    lev_distance = Levenshtein.distance(true_domain, pred_domain)\n",
    "    levenshtein_distances.append(lev_distance)\n",
    "\n",
    "    # Brandability heuristic: short, no numbers/symbols, vowel-consonant balance\n",
    "    def brandability(domain):\n",
    "        score = 1.0\n",
    "        if len(domain) > 15: score -= 0.3\n",
    "        if any(char.isdigit() or not char.isalnum() for char in domain): score -= 0.3\n",
    "        vowels = sum(1 for c in domain if c in \"aeiou\")\n",
    "        consonants = sum(1 for c in domain if c.isalpha() and c not in \"aeiou\")\n",
    "        ratio = vowels / (consonants + 1)\n",
    "        if ratio < 0.2 or ratio > 0.8: score -= 0.2\n",
    "        return max(0, round(score, 2))\n",
    "\n",
    "    brandability_score = brandability(pred_domain)\n",
    "    brandability_scores.append(brandability_score)\n",
    "\n",
    "    predictions.append({\n",
    "        \"description\": description,\n",
    "        \"true\": true_domain,\n",
    "        \"pred\": pred_domain,\n",
    "        \"rougeL\": rouge_score,\n",
    "        \"bleu\": bleu,\n",
    "        \"levenshtein\": lev_distance,\n",
    "        \"brandability\": brandability_score,\n",
    "        \"is_valid_domain\": valid_domain,\n",
    "    })\n",
    "\n",
    "# Save predictions\n",
    "results_df = pd.DataFrame(predictions)\n",
    "results_df.to_csv(f\"predictions_eval-{VERSION}.csv\", index=False)\n",
    "\n",
    "# Report average scores\n",
    "print_string = f\"Pct of Predictions that are valid domains = {results_df['is_valid_domain'].mean():.2%}\"\n",
    "print(print_string)"
   ]
  }
 ],
 "metadata": {
  "kaggle": {
   "accelerator": "none",
   "dataSources": [
    {
     "datasetId": 7943647,
     "sourceId": 12594591,
     "sourceType": "datasetVersion"
    },
    {
     "modelId": 121027,
     "modelInstanceId": 100933,
     "sourceId": 120002,
     "sourceType": "modelInstanceVersion"
    }
   ],
   "dockerImageVersionId": 31089,
   "isGpuEnabled": false,
   "isInternetEnabled": true,
   "language": "python",
   "sourceType": "notebook"
  },
  "kernelspec": {
   "display_name": "Python 3",
   "language": "python",
   "name": "python3"
  },
  "language_info": {
   "codemirror_mode": {
    "name": "ipython",
    "version": 3
   },
   "file_extension": ".py",
   "mimetype": "text/x-python",
   "name": "python",
   "nbconvert_exporter": "python",
   "pygments_lexer": "ipython3",
   "version": "3.11.13"
  },
  "papermill": {
   "default_parameters": {},
   "duration": 203.30576,
   "end_time": "2025-07-27T22:11:52.270262",
   "environment_variables": {},
   "exception": null,
   "input_path": "__notebook__.ipynb",
   "output_path": "__notebook__.ipynb",
   "parameters": {},
   "start_time": "2025-07-27T22:08:28.964502",
   "version": "2.6.0"
  },
  "widgets": {
   "application/vnd.jupyter.widget-state+json": {
    "state": {
     "1d8d4ff230194b8eaa6db944172dbfa1": {
      "model_module": "@jupyter-widgets/base",
      "model_module_version": "2.0.0",
      "model_name": "LayoutModel",
      "state": {
       "_model_module": "@jupyter-widgets/base",
       "_model_module_version": "2.0.0",
       "_model_name": "LayoutModel",
       "_view_count": null,
       "_view_module": "@jupyter-widgets/base",
       "_view_module_version": "2.0.0",
       "_view_name": "LayoutView",
       "align_content": null,
       "align_items": null,
       "align_self": null,
       "border_bottom": null,
       "border_left": null,
       "border_right": null,
       "border_top": null,
       "bottom": null,
       "display": null,
       "flex": null,
       "flex_flow": null,
       "grid_area": null,
       "grid_auto_columns": null,
       "grid_auto_flow": null,
       "grid_auto_rows": null,
       "grid_column": null,
       "grid_gap": null,
       "grid_row": null,
       "grid_template_areas": null,
       "grid_template_columns": null,
       "grid_template_rows": null,
       "height": null,
       "justify_content": null,
       "justify_items": null,
       "left": null,
       "margin": null,
       "max_height": null,
       "max_width": null,
       "min_height": null,
       "min_width": null,
       "object_fit": null,
       "object_position": null,
       "order": null,
       "overflow": null,
       "padding": null,
       "right": null,
       "top": null,
       "visibility": null,
       "width": null
      }
     },
     "1f09c41e258447baa9653ff27c12146f": {
      "model_module": "@jupyter-widgets/controls",
      "model_module_version": "2.0.0",
      "model_name": "HTMLStyleModel",
      "state": {
       "_model_module": "@jupyter-widgets/controls",
       "_model_module_version": "2.0.0",
       "_model_name": "HTMLStyleModel",
       "_view_count": null,
       "_view_module": "@jupyter-widgets/base",
       "_view_module_version": "2.0.0",
       "_view_name": "StyleView",
       "background": null,
       "description_width": "",
       "font_size": null,
       "text_color": null
      }
     },
     "2a93490c3ba34bad80246d15bafba6a9": {
      "model_module": "@jupyter-widgets/controls",
      "model_module_version": "2.0.0",
      "model_name": "HTMLStyleModel",
      "state": {
       "_model_module": "@jupyter-widgets/controls",
       "_model_module_version": "2.0.0",
       "_model_name": "HTMLStyleModel",
       "_view_count": null,
       "_view_module": "@jupyter-widgets/base",
       "_view_module_version": "2.0.0",
       "_view_name": "StyleView",
       "background": null,
       "description_width": "",
       "font_size": null,
       "text_color": null
      }
     },
     "2fa8b1dee07541a3b4e1bb9d9c1da50e": {
      "model_module": "@jupyter-widgets/controls",
      "model_module_version": "2.0.0",
      "model_name": "HTMLStyleModel",
      "state": {
       "_model_module": "@jupyter-widgets/controls",
       "_model_module_version": "2.0.0",
       "_model_name": "HTMLStyleModel",
       "_view_count": null,
       "_view_module": "@jupyter-widgets/base",
       "_view_module_version": "2.0.0",
       "_view_name": "StyleView",
       "background": null,
       "description_width": "",
       "font_size": null,
       "text_color": null
      }
     },
     "4199d8a0e4b741f091390f72abcc9f46": {
      "model_module": "@jupyter-widgets/base",
      "model_module_version": "2.0.0",
      "model_name": "LayoutModel",
      "state": {
       "_model_module": "@jupyter-widgets/base",
       "_model_module_version": "2.0.0",
       "_model_name": "LayoutModel",
       "_view_count": null,
       "_view_module": "@jupyter-widgets/base",
       "_view_module_version": "2.0.0",
       "_view_name": "LayoutView",
       "align_content": null,
       "align_items": null,
       "align_self": null,
       "border_bottom": null,
       "border_left": null,
       "border_right": null,
       "border_top": null,
       "bottom": null,
       "display": null,
       "flex": null,
       "flex_flow": null,
       "grid_area": null,
       "grid_auto_columns": null,
       "grid_auto_flow": null,
       "grid_auto_rows": null,
       "grid_column": null,
       "grid_gap": null,
       "grid_row": null,
       "grid_template_areas": null,
       "grid_template_columns": null,
       "grid_template_rows": null,
       "height": null,
       "justify_content": null,
       "justify_items": null,
       "left": null,
       "margin": null,
       "max_height": null,
       "max_width": null,
       "min_height": null,
       "min_width": null,
       "object_fit": null,
       "object_position": null,
       "order": null,
       "overflow": null,
       "padding": null,
       "right": null,
       "top": null,
       "visibility": null,
       "width": null
      }
     },
     "5d95bcd21425430e99d3f6bb399ab83e": {
      "model_module": "@jupyter-widgets/base",
      "model_module_version": "2.0.0",
      "model_name": "LayoutModel",
      "state": {
       "_model_module": "@jupyter-widgets/base",
       "_model_module_version": "2.0.0",
       "_model_name": "LayoutModel",
       "_view_count": null,
       "_view_module": "@jupyter-widgets/base",
       "_view_module_version": "2.0.0",
       "_view_name": "LayoutView",
       "align_content": null,
       "align_items": null,
       "align_self": null,
       "border_bottom": null,
       "border_left": null,
       "border_right": null,
       "border_top": null,
       "bottom": null,
       "display": null,
       "flex": null,
       "flex_flow": null,
       "grid_area": null,
       "grid_auto_columns": null,
       "grid_auto_flow": null,
       "grid_auto_rows": null,
       "grid_column": null,
       "grid_gap": null,
       "grid_row": null,
       "grid_template_areas": null,
       "grid_template_columns": null,
       "grid_template_rows": null,
       "height": null,
       "justify_content": null,
       "justify_items": null,
       "left": null,
       "margin": null,
       "max_height": null,
       "max_width": null,
       "min_height": null,
       "min_width": null,
       "object_fit": null,
       "object_position": null,
       "order": null,
       "overflow": null,
       "padding": null,
       "right": null,
       "top": null,
       "visibility": null,
       "width": null
      }
     },
     "60075c5a4c1d4ca4aceb828cf291936d": {
      "model_module": "@jupyter-widgets/controls",
      "model_module_version": "2.0.0",
      "model_name": "HTMLModel",
      "state": {
       "_dom_classes": [],
       "_model_module": "@jupyter-widgets/controls",
       "_model_module_version": "2.0.0",
       "_model_name": "HTMLModel",
       "_view_count": null,
       "_view_module": "@jupyter-widgets/controls",
       "_view_module_version": "2.0.0",
       "_view_name": "HTMLView",
       "description": "",
       "description_allow_html": false,
       "layout": "IPY_MODEL_5d95bcd21425430e99d3f6bb399ab83e",
       "placeholder": "​",
       "style": "IPY_MODEL_2a93490c3ba34bad80246d15bafba6a9",
       "tabbable": null,
       "tooltip": null,
       "value": " 20/20 [00:00&lt;00:00, 1377.19 examples/s]"
      }
     },
     "7671c82faf314cd8b01051e646ebd064": {
      "model_module": "@jupyter-widgets/controls",
      "model_module_version": "2.0.0",
      "model_name": "HBoxModel",
      "state": {
       "_dom_classes": [],
       "_model_module": "@jupyter-widgets/controls",
       "_model_module_version": "2.0.0",
       "_model_name": "HBoxModel",
       "_view_count": null,
       "_view_module": "@jupyter-widgets/controls",
       "_view_module_version": "2.0.0",
       "_view_name": "HBoxView",
       "box_style": "",
       "children": [
        "IPY_MODEL_b37722b8de5a4c22b6c5f52aa724b803",
        "IPY_MODEL_bd3036db960b4d4b8a98bfa7e2e09320",
        "IPY_MODEL_60075c5a4c1d4ca4aceb828cf291936d"
       ],
       "layout": "IPY_MODEL_cd461e9f493d42c2b670592fec5e4808",
       "tabbable": null,
       "tooltip": null
      }
     },
     "7bd78318d50944e68bfb25d5ab1f9587": {
      "model_module": "@jupyter-widgets/controls",
      "model_module_version": "2.0.0",
      "model_name": "HTMLModel",
      "state": {
       "_dom_classes": [],
       "_model_module": "@jupyter-widgets/controls",
       "_model_module_version": "2.0.0",
       "_model_name": "HTMLModel",
       "_view_count": null,
       "_view_module": "@jupyter-widgets/controls",
       "_view_module_version": "2.0.0",
       "_view_name": "HTMLView",
       "description": "",
       "description_allow_html": false,
       "layout": "IPY_MODEL_4199d8a0e4b741f091390f72abcc9f46",
       "placeholder": "​",
       "style": "IPY_MODEL_1f09c41e258447baa9653ff27c12146f",
       "tabbable": null,
       "tooltip": null,
       "value": "Map: 100%"
      }
     },
     "85c23d724ff94435a5c425d1c4d54cb0": {
      "model_module": "@jupyter-widgets/controls",
      "model_module_version": "2.0.0",
      "model_name": "HTMLStyleModel",
      "state": {
       "_model_module": "@jupyter-widgets/controls",
       "_model_module_version": "2.0.0",
       "_model_name": "HTMLStyleModel",
       "_view_count": null,
       "_view_module": "@jupyter-widgets/base",
       "_view_module_version": "2.0.0",
       "_view_name": "StyleView",
       "background": null,
       "description_width": "",
       "font_size": null,
       "text_color": null
      }
     },
     "99c97fe688184f3fbf04aa7b8722b015": {
      "model_module": "@jupyter-widgets/controls",
      "model_module_version": "2.0.0",
      "model_name": "HBoxModel",
      "state": {
       "_dom_classes": [],
       "_model_module": "@jupyter-widgets/controls",
       "_model_module_version": "2.0.0",
       "_model_name": "HBoxModel",
       "_view_count": null,
       "_view_module": "@jupyter-widgets/controls",
       "_view_module_version": "2.0.0",
       "_view_name": "HBoxView",
       "box_style": "",
       "children": [
        "IPY_MODEL_7bd78318d50944e68bfb25d5ab1f9587",
        "IPY_MODEL_fb79617274c647458cd10c65a2b42ad8",
        "IPY_MODEL_eae9399885a146108a99f152c373336a"
       ],
       "layout": "IPY_MODEL_1d8d4ff230194b8eaa6db944172dbfa1",
       "tabbable": null,
       "tooltip": null
      }
     },
     "a4197cdf839c45e4804708c0d92b3cbe": {
      "model_module": "@jupyter-widgets/controls",
      "model_module_version": "2.0.0",
      "model_name": "ProgressStyleModel",
      "state": {
       "_model_module": "@jupyter-widgets/controls",
       "_model_module_version": "2.0.0",
       "_model_name": "ProgressStyleModel",
       "_view_count": null,
       "_view_module": "@jupyter-widgets/base",
       "_view_module_version": "2.0.0",
       "_view_name": "StyleView",
       "bar_color": null,
       "description_width": ""
      }
     },
     "b37722b8de5a4c22b6c5f52aa724b803": {
      "model_module": "@jupyter-widgets/controls",
      "model_module_version": "2.0.0",
      "model_name": "HTMLModel",
      "state": {
       "_dom_classes": [],
       "_model_module": "@jupyter-widgets/controls",
       "_model_module_version": "2.0.0",
       "_model_name": "HTMLModel",
       "_view_count": null,
       "_view_module": "@jupyter-widgets/controls",
       "_view_module_version": "2.0.0",
       "_view_name": "HTMLView",
       "description": "",
       "description_allow_html": false,
       "layout": "IPY_MODEL_bf1530792275454bb0f64bcb9dd53145",
       "placeholder": "​",
       "style": "IPY_MODEL_85c23d724ff94435a5c425d1c4d54cb0",
       "tabbable": null,
       "tooltip": null,
       "value": "Map: 100%"
      }
     },
     "b3f6f141f55d48989bbd32496f410f25": {
      "model_module": "@jupyter-widgets/base",
      "model_module_version": "2.0.0",
      "model_name": "LayoutModel",
      "state": {
       "_model_module": "@jupyter-widgets/base",
       "_model_module_version": "2.0.0",
       "_model_name": "LayoutModel",
       "_view_count": null,
       "_view_module": "@jupyter-widgets/base",
       "_view_module_version": "2.0.0",
       "_view_name": "LayoutView",
       "align_content": null,
       "align_items": null,
       "align_self": null,
       "border_bottom": null,
       "border_left": null,
       "border_right": null,
       "border_top": null,
       "bottom": null,
       "display": null,
       "flex": null,
       "flex_flow": null,
       "grid_area": null,
       "grid_auto_columns": null,
       "grid_auto_flow": null,
       "grid_auto_rows": null,
       "grid_column": null,
       "grid_gap": null,
       "grid_row": null,
       "grid_template_areas": null,
       "grid_template_columns": null,
       "grid_template_rows": null,
       "height": null,
       "justify_content": null,
       "justify_items": null,
       "left": null,
       "margin": null,
       "max_height": null,
       "max_width": null,
       "min_height": null,
       "min_width": null,
       "object_fit": null,
       "object_position": null,
       "order": null,
       "overflow": null,
       "padding": null,
       "right": null,
       "top": null,
       "visibility": null,
       "width": null
      }
     },
     "bd3036db960b4d4b8a98bfa7e2e09320": {
      "model_module": "@jupyter-widgets/controls",
      "model_module_version": "2.0.0",
      "model_name": "FloatProgressModel",
      "state": {
       "_dom_classes": [],
       "_model_module": "@jupyter-widgets/controls",
       "_model_module_version": "2.0.0",
       "_model_name": "FloatProgressModel",
       "_view_count": null,
       "_view_module": "@jupyter-widgets/controls",
       "_view_module_version": "2.0.0",
       "_view_name": "ProgressView",
       "bar_style": "success",
       "description": "",
       "description_allow_html": false,
       "layout": "IPY_MODEL_f605a1575863447bbba4963ac4597a28",
       "max": 20.0,
       "min": 0.0,
       "orientation": "horizontal",
       "style": "IPY_MODEL_a4197cdf839c45e4804708c0d92b3cbe",
       "tabbable": null,
       "tooltip": null,
       "value": 20.0
      }
     },
     "bf1530792275454bb0f64bcb9dd53145": {
      "model_module": "@jupyter-widgets/base",
      "model_module_version": "2.0.0",
      "model_name": "LayoutModel",
      "state": {
       "_model_module": "@jupyter-widgets/base",
       "_model_module_version": "2.0.0",
       "_model_name": "LayoutModel",
       "_view_count": null,
       "_view_module": "@jupyter-widgets/base",
       "_view_module_version": "2.0.0",
       "_view_name": "LayoutView",
       "align_content": null,
       "align_items": null,
       "align_self": null,
       "border_bottom": null,
       "border_left": null,
       "border_right": null,
       "border_top": null,
       "bottom": null,
       "display": null,
       "flex": null,
       "flex_flow": null,
       "grid_area": null,
       "grid_auto_columns": null,
       "grid_auto_flow": null,
       "grid_auto_rows": null,
       "grid_column": null,
       "grid_gap": null,
       "grid_row": null,
       "grid_template_areas": null,
       "grid_template_columns": null,
       "grid_template_rows": null,
       "height": null,
       "justify_content": null,
       "justify_items": null,
       "left": null,
       "margin": null,
       "max_height": null,
       "max_width": null,
       "min_height": null,
       "min_width": null,
       "object_fit": null,
       "object_position": null,
       "order": null,
       "overflow": null,
       "padding": null,
       "right": null,
       "top": null,
       "visibility": null,
       "width": null
      }
     },
     "cd461e9f493d42c2b670592fec5e4808": {
      "model_module": "@jupyter-widgets/base",
      "model_module_version": "2.0.0",
      "model_name": "LayoutModel",
      "state": {
       "_model_module": "@jupyter-widgets/base",
       "_model_module_version": "2.0.0",
       "_model_name": "LayoutModel",
       "_view_count": null,
       "_view_module": "@jupyter-widgets/base",
       "_view_module_version": "2.0.0",
       "_view_name": "LayoutView",
       "align_content": null,
       "align_items": null,
       "align_self": null,
       "border_bottom": null,
       "border_left": null,
       "border_right": null,
       "border_top": null,
       "bottom": null,
       "display": null,
       "flex": null,
       "flex_flow": null,
       "grid_area": null,
       "grid_auto_columns": null,
       "grid_auto_flow": null,
       "grid_auto_rows": null,
       "grid_column": null,
       "grid_gap": null,
       "grid_row": null,
       "grid_template_areas": null,
       "grid_template_columns": null,
       "grid_template_rows": null,
       "height": null,
       "justify_content": null,
       "justify_items": null,
       "left": null,
       "margin": null,
       "max_height": null,
       "max_width": null,
       "min_height": null,
       "min_width": null,
       "object_fit": null,
       "object_position": null,
       "order": null,
       "overflow": null,
       "padding": null,
       "right": null,
       "top": null,
       "visibility": null,
       "width": null
      }
     },
     "eae9399885a146108a99f152c373336a": {
      "model_module": "@jupyter-widgets/controls",
      "model_module_version": "2.0.0",
      "model_name": "HTMLModel",
      "state": {
       "_dom_classes": [],
       "_model_module": "@jupyter-widgets/controls",
       "_model_module_version": "2.0.0",
       "_model_name": "HTMLModel",
       "_view_count": null,
       "_view_module": "@jupyter-widgets/controls",
       "_view_module_version": "2.0.0",
       "_view_name": "HTMLView",
       "description": "",
       "description_allow_html": false,
       "layout": "IPY_MODEL_b3f6f141f55d48989bbd32496f410f25",
       "placeholder": "​",
       "style": "IPY_MODEL_2fa8b1dee07541a3b4e1bb9d9c1da50e",
       "tabbable": null,
       "tooltip": null,
       "value": " 175/175 [00:00&lt;00:00, 3760.74 examples/s]"
      }
     },
     "f605a1575863447bbba4963ac4597a28": {
      "model_module": "@jupyter-widgets/base",
      "model_module_version": "2.0.0",
      "model_name": "LayoutModel",
      "state": {
       "_model_module": "@jupyter-widgets/base",
       "_model_module_version": "2.0.0",
       "_model_name": "LayoutModel",
       "_view_count": null,
       "_view_module": "@jupyter-widgets/base",
       "_view_module_version": "2.0.0",
       "_view_name": "LayoutView",
       "align_content": null,
       "align_items": null,
       "align_self": null,
       "border_bottom": null,
       "border_left": null,
       "border_right": null,
       "border_top": null,
       "bottom": null,
       "display": null,
       "flex": null,
       "flex_flow": null,
       "grid_area": null,
       "grid_auto_columns": null,
       "grid_auto_flow": null,
       "grid_auto_rows": null,
       "grid_column": null,
       "grid_gap": null,
       "grid_row": null,
       "grid_template_areas": null,
       "grid_template_columns": null,
       "grid_template_rows": null,
       "height": null,
       "justify_content": null,
       "justify_items": null,
       "left": null,
       "margin": null,
       "max_height": null,
       "max_width": null,
       "min_height": null,
       "min_width": null,
       "object_fit": null,
       "object_position": null,
       "order": null,
       "overflow": null,
       "padding": null,
       "right": null,
       "top": null,
       "visibility": null,
       "width": null
      }
     },
     "fa4fc21c563f4afdbc27cd096958b698": {
      "model_module": "@jupyter-widgets/base",
      "model_module_version": "2.0.0",
      "model_name": "LayoutModel",
      "state": {
       "_model_module": "@jupyter-widgets/base",
       "_model_module_version": "2.0.0",
       "_model_name": "LayoutModel",
       "_view_count": null,
       "_view_module": "@jupyter-widgets/base",
       "_view_module_version": "2.0.0",
       "_view_name": "LayoutView",
       "align_content": null,
       "align_items": null,
       "align_self": null,
       "border_bottom": null,
       "border_left": null,
       "border_right": null,
       "border_top": null,
       "bottom": null,
       "display": null,
       "flex": null,
       "flex_flow": null,
       "grid_area": null,
       "grid_auto_columns": null,
       "grid_auto_flow": null,
       "grid_auto_rows": null,
       "grid_column": null,
       "grid_gap": null,
       "grid_row": null,
       "grid_template_areas": null,
       "grid_template_columns": null,
       "grid_template_rows": null,
       "height": null,
       "justify_content": null,
       "justify_items": null,
       "left": null,
       "margin": null,
       "max_height": null,
       "max_width": null,
       "min_height": null,
       "min_width": null,
       "object_fit": null,
       "object_position": null,
       "order": null,
       "overflow": null,
       "padding": null,
       "right": null,
       "top": null,
       "visibility": null,
       "width": null
      }
     },
     "fb79617274c647458cd10c65a2b42ad8": {
      "model_module": "@jupyter-widgets/controls",
      "model_module_version": "2.0.0",
      "model_name": "FloatProgressModel",
      "state": {
       "_dom_classes": [],
       "_model_module": "@jupyter-widgets/controls",
       "_model_module_version": "2.0.0",
       "_model_name": "FloatProgressModel",
       "_view_count": null,
       "_view_module": "@jupyter-widgets/controls",
       "_view_module_version": "2.0.0",
       "_view_name": "ProgressView",
       "bar_style": "success",
       "description": "",
       "description_allow_html": false,
       "layout": "IPY_MODEL_fa4fc21c563f4afdbc27cd096958b698",
       "max": 175.0,
       "min": 0.0,
       "orientation": "horizontal",
       "style": "IPY_MODEL_fd6975f922694180ad1af05d68222a88",
       "tabbable": null,
       "tooltip": null,
       "value": 175.0
      }
     },
     "fd6975f922694180ad1af05d68222a88": {
      "model_module": "@jupyter-widgets/controls",
      "model_module_version": "2.0.0",
      "model_name": "ProgressStyleModel",
      "state": {
       "_model_module": "@jupyter-widgets/controls",
       "_model_module_version": "2.0.0",
       "_model_name": "ProgressStyleModel",
       "_view_count": null,
       "_view_module": "@jupyter-widgets/base",
       "_view_module_version": "2.0.0",
       "_view_name": "StyleView",
       "bar_color": null,
       "description_width": ""
      }
     }
    },
    "version_major": 2,
    "version_minor": 0
   }
  }
 },
 "nbformat": 4,
 "nbformat_minor": 5
}
