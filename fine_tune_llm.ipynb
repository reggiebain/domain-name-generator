{
 "cells": [
  {
   "cell_type": "markdown",
   "id": "d78044b4",
   "metadata": {
    "papermill": {
     "duration": 0.004574,
     "end_time": "2025-07-26T20:29:51.258816",
     "exception": false,
     "start_time": "2025-07-26T20:29:51.254242",
     "status": "completed"
    },
    "tags": []
   },
   "source": [
    "# Part 2 - Fine Tune LLM\n",
    "- Fine tune LLM on our synthetically generated dataset to generate domain names from descriptions."
   ]
  },
  {
   "cell_type": "code",
   "execution_count": 1,
   "id": "2f39a976",
   "metadata": {
    "execution": {
     "iopub.execute_input": "2025-07-26T20:29:51.267377Z",
     "iopub.status.busy": "2025-07-26T20:29:51.267094Z",
     "iopub.status.idle": "2025-07-26T20:31:13.084065Z",
     "shell.execute_reply": "2025-07-26T20:31:13.083083Z"
    },
    "papermill": {
     "duration": 81.823069,
     "end_time": "2025-07-26T20:31:13.085767",
     "exception": false,
     "start_time": "2025-07-26T20:29:51.262698",
     "status": "completed"
    },
    "tags": []
   },
   "outputs": [
    {
     "name": "stdout",
     "output_type": "stream",
     "text": [
      "  Preparing metadata (setup.py) ... \u001b[?25l\u001b[?25hdone\r\n",
      "\u001b[2K   \u001b[90m━━━━━━━━━━━━━━━━━━━━━━━━━━━━━━━━━━━━━━━━\u001b[0m \u001b[32m363.4/363.4 MB\u001b[0m \u001b[31m4.5 MB/s\u001b[0m eta \u001b[36m0:00:00\u001b[0m\r\n",
      "\u001b[2K   \u001b[90m━━━━━━━━━━━━━━━━━━━━━━━━━━━━━━━━━━━━━━━━\u001b[0m \u001b[32m13.8/13.8 MB\u001b[0m \u001b[31m93.8 MB/s\u001b[0m eta \u001b[36m0:00:00\u001b[0m\r\n",
      "\u001b[2K   \u001b[90m━━━━━━━━━━━━━━━━━━━━━━━━━━━━━━━━━━━━━━━━\u001b[0m \u001b[32m24.6/24.6 MB\u001b[0m \u001b[31m76.6 MB/s\u001b[0m eta \u001b[36m0:00:00\u001b[0m\r\n",
      "\u001b[2K   \u001b[90m━━━━━━━━━━━━━━━━━━━━━━━━━━━━━━━━━━━━━━━━\u001b[0m \u001b[32m883.7/883.7 kB\u001b[0m \u001b[31m37.6 MB/s\u001b[0m eta \u001b[36m0:00:00\u001b[0m\r\n",
      "\u001b[2K   \u001b[90m━━━━━━━━━━━━━━━━━━━━━━━━━━━━━━━━━━━━━━━━\u001b[0m \u001b[32m664.8/664.8 MB\u001b[0m \u001b[31m2.4 MB/s\u001b[0m eta \u001b[36m0:00:00\u001b[0m\r\n",
      "\u001b[2K   \u001b[90m━━━━━━━━━━━━━━━━━━━━━━━━━━━━━━━━━━━━━━━━\u001b[0m \u001b[32m211.5/211.5 MB\u001b[0m \u001b[31m7.8 MB/s\u001b[0m eta \u001b[36m0:00:00\u001b[0m\r\n",
      "\u001b[2K   \u001b[90m━━━━━━━━━━━━━━━━━━━━━━━━━━━━━━━━━━━━━━━━\u001b[0m \u001b[32m56.3/56.3 MB\u001b[0m \u001b[31m29.1 MB/s\u001b[0m eta \u001b[36m0:00:00\u001b[0m\r\n",
      "\u001b[2K   \u001b[90m━━━━━━━━━━━━━━━━━━━━━━━━━━━━━━━━━━━━━━━━\u001b[0m \u001b[32m127.9/127.9 MB\u001b[0m \u001b[31m8.9 MB/s\u001b[0m eta \u001b[36m0:00:00\u001b[0m\r\n",
      "\u001b[2K   \u001b[90m━━━━━━━━━━━━━━━━━━━━━━━━━━━━━━━━━━━━━━━━\u001b[0m \u001b[32m207.5/207.5 MB\u001b[0m \u001b[31m8.0 MB/s\u001b[0m eta \u001b[36m0:00:00\u001b[0m\r\n",
      "\u001b[2K   \u001b[90m━━━━━━━━━━━━━━━━━━━━━━━━━━━━━━━━━━━━━━━━\u001b[0m \u001b[32m21.1/21.1 MB\u001b[0m \u001b[31m79.5 MB/s\u001b[0m eta \u001b[36m0:00:00\u001b[0m\r\n",
      "\u001b[?25h  Building wheel for rouge_score (setup.py) ... \u001b[?25l\u001b[?25hdone\r\n"
     ]
    }
   ],
   "source": [
    "!pip install -q transformers torch peft rouge_score"
   ]
  },
  {
   "cell_type": "code",
   "execution_count": 2,
   "id": "051ef758",
   "metadata": {
    "execution": {
     "iopub.execute_input": "2025-07-26T20:31:13.131983Z",
     "iopub.status.busy": "2025-07-26T20:31:13.131138Z",
     "iopub.status.idle": "2025-07-26T20:31:14.737061Z",
     "shell.execute_reply": "2025-07-26T20:31:14.736376Z"
    },
    "papermill": {
     "duration": 1.630091,
     "end_time": "2025-07-26T20:31:14.738537",
     "exception": false,
     "start_time": "2025-07-26T20:31:13.108446",
     "status": "completed"
    },
    "tags": []
   },
   "outputs": [],
   "source": [
    "import time\n",
    "import pandas as pd\n",
    "import json"
   ]
  },
  {
   "cell_type": "code",
   "execution_count": 3,
   "id": "17fad7a5",
   "metadata": {
    "execution": {
     "iopub.execute_input": "2025-07-26T20:31:14.784047Z",
     "iopub.status.busy": "2025-07-26T20:31:14.783170Z",
     "iopub.status.idle": "2025-07-26T20:31:14.819369Z",
     "shell.execute_reply": "2025-07-26T20:31:14.818501Z"
    },
    "papermill": {
     "duration": 0.060217,
     "end_time": "2025-07-26T20:31:14.820685",
     "exception": false,
     "start_time": "2025-07-26T20:31:14.760468",
     "status": "completed"
    },
    "tags": []
   },
   "outputs": [
    {
     "data": {
      "text/html": [
       "<div>\n",
       "<style scoped>\n",
       "    .dataframe tbody tr th:only-of-type {\n",
       "        vertical-align: middle;\n",
       "    }\n",
       "\n",
       "    .dataframe tbody tr th {\n",
       "        vertical-align: top;\n",
       "    }\n",
       "\n",
       "    .dataframe thead th {\n",
       "        text-align: right;\n",
       "    }\n",
       "</style>\n",
       "<table border=\"1\" class=\"dataframe\">\n",
       "  <thead>\n",
       "    <tr style=\"text-align: right;\">\n",
       "      <th></th>\n",
       "      <th>business_description</th>\n",
       "      <th>domain_name</th>\n",
       "    </tr>\n",
       "  </thead>\n",
       "  <tbody>\n",
       "    <tr>\n",
       "      <th>0</th>\n",
       "      <td>A mobile app that helps people find local farm...</td>\n",
       "      <td>freshfinds.app</td>\n",
       "    </tr>\n",
       "    <tr>\n",
       "      <th>1</th>\n",
       "      <td>An online subscription service for eco-friendl...</td>\n",
       "      <td>greenbundle.com</td>\n",
       "    </tr>\n",
       "    <tr>\n",
       "      <th>2</th>\n",
       "      <td>A platform that connects freelance graphic des...</td>\n",
       "      <td>designsbydesigners.com</td>\n",
       "    </tr>\n",
       "    <tr>\n",
       "      <th>3</th>\n",
       "      <td>A subscription service that delivers fresh, or...</td>\n",
       "      <td>farm2table.com</td>\n",
       "    </tr>\n",
       "    <tr>\n",
       "      <th>4</th>\n",
       "      <td>A website that helps users find and book pet-f...</td>\n",
       "      <td>pawlovelovers.com</td>\n",
       "    </tr>\n",
       "  </tbody>\n",
       "</table>\n",
       "</div>"
      ],
      "text/plain": [
       "                                business_description             domain_name\n",
       "0  A mobile app that helps people find local farm...          freshfinds.app\n",
       "1  An online subscription service for eco-friendl...         greenbundle.com\n",
       "2  A platform that connects freelance graphic des...  designsbydesigners.com\n",
       "3  A subscription service that delivers fresh, or...          farm2table.com\n",
       "4  A website that helps users find and book pet-f...       pawlovelovers.com"
      ]
     },
     "execution_count": 3,
     "metadata": {},
     "output_type": "execute_result"
    }
   ],
   "source": [
    "# Load in data\n",
    "df = pd.read_csv('/kaggle/input/domain-name-generator/data/domain_names_with_descriptions.csv')\n",
    "df.head()"
   ]
  },
  {
   "cell_type": "code",
   "execution_count": 4,
   "id": "408cfcf9",
   "metadata": {
    "execution": {
     "iopub.execute_input": "2025-07-26T20:31:14.866641Z",
     "iopub.status.busy": "2025-07-26T20:31:14.865913Z",
     "iopub.status.idle": "2025-07-26T20:31:47.816551Z",
     "shell.execute_reply": "2025-07-26T20:31:47.815620Z"
    },
    "papermill": {
     "duration": 32.975415,
     "end_time": "2025-07-26T20:31:47.818149",
     "exception": false,
     "start_time": "2025-07-26T20:31:14.842734",
     "status": "completed"
    },
    "tags": []
   },
   "outputs": [
    {
     "name": "stderr",
     "output_type": "stream",
     "text": [
      "2025-07-26 20:31:33.481672: E external/local_xla/xla/stream_executor/cuda/cuda_fft.cc:477] Unable to register cuFFT factory: Attempting to register factory for plugin cuFFT when one has already been registered\n",
      "WARNING: All log messages before absl::InitializeLog() is called are written to STDERR\n",
      "E0000 00:00:1753561893.684008      19 cuda_dnn.cc:8310] Unable to register cuDNN factory: Attempting to register factory for plugin cuDNN when one has already been registered\n",
      "E0000 00:00:1753561893.742682      19 cuda_blas.cc:1418] Unable to register cuBLAS factory: Attempting to register factory for plugin cuBLAS when one has already been registered\n"
     ]
    }
   ],
   "source": [
    "# Create dataset object for training\n",
    "from datasets import load_dataset, Dataset, DatasetDict\n",
    "from transformers import AutoTokenizer, AutoModelForCausalLM, TrainingArguments, Trainer, DataCollatorForLanguageModeling\n",
    "from peft import get_peft_model, LoraConfig, TaskType\n",
    "import torch\n",
    "from sklearn.model_selection import train_test_split"
   ]
  },
  {
   "cell_type": "code",
   "execution_count": 5,
   "id": "4ba84fda",
   "metadata": {
    "execution": {
     "iopub.execute_input": "2025-07-26T20:31:47.862716Z",
     "iopub.status.busy": "2025-07-26T20:31:47.862066Z",
     "iopub.status.idle": "2025-07-26T20:31:47.901024Z",
     "shell.execute_reply": "2025-07-26T20:31:47.900328Z"
    },
    "papermill": {
     "duration": 0.062749,
     "end_time": "2025-07-26T20:31:47.902543",
     "exception": false,
     "start_time": "2025-07-26T20:31:47.839794",
     "status": "completed"
    },
    "tags": []
   },
   "outputs": [],
   "source": [
    "# Combine into prompt: \"Business: {description} -> Domain: {domain_name}\" for autoregressie model\n",
    "df[\"text\"] = df.apply(lambda row: f\"Business: {row['business_description']} -> Domain: {row['domain_name']}\", axis=1)\n",
    "\n",
    "# Split data set and turn into data set objects\n",
    "train_df, test_df = train_test_split(df, test_size=0.1, random_state=42)\n",
    "train_df.to_csv('train.csv',index=False)\n",
    "test_df.to_csv('test.csv',index=False)\n",
    "\n",
    "train_dataset = Dataset.from_pandas(train_df[[\"text\"]])\n",
    "test_dataset = Dataset.from_pandas(test_df[[\"text\"]])\n",
    "\n",
    "# Create dict of both training and testing for easy access in Trainer\n",
    "datasets = DatasetDict({\"train\": train_dataset, \"test\": test_dataset})"
   ]
  },
  {
   "cell_type": "code",
   "execution_count": 6,
   "id": "fbad8cfe",
   "metadata": {
    "execution": {
     "iopub.execute_input": "2025-07-26T20:31:47.945595Z",
     "iopub.status.busy": "2025-07-26T20:31:47.944969Z",
     "iopub.status.idle": "2025-07-26T20:31:48.562941Z",
     "shell.execute_reply": "2025-07-26T20:31:48.562206Z"
    },
    "papermill": {
     "duration": 0.640716,
     "end_time": "2025-07-26T20:31:48.564476",
     "exception": false,
     "start_time": "2025-07-26T20:31:47.923760",
     "status": "completed"
    },
    "tags": []
   },
   "outputs": [],
   "source": [
    "model_name_or_path = \"/kaggle/input/llama-3.2/transformers/1b-instruct/1\"\n",
    "tokenizer = AutoTokenizer.from_pretrained(model_name_or_path, trust_remote_code=True)\n",
    "tokenizer.pad_token = tokenizer.eos_token"
   ]
  },
  {
   "cell_type": "code",
   "execution_count": 7,
   "id": "2dcfe4f2",
   "metadata": {
    "execution": {
     "iopub.execute_input": "2025-07-26T20:31:48.606698Z",
     "iopub.status.busy": "2025-07-26T20:31:48.606058Z",
     "iopub.status.idle": "2025-07-26T20:32:08.044236Z",
     "shell.execute_reply": "2025-07-26T20:32:08.043522Z"
    },
    "papermill": {
     "duration": 19.460026,
     "end_time": "2025-07-26T20:32:08.045496",
     "exception": false,
     "start_time": "2025-07-26T20:31:48.585470",
     "status": "completed"
    },
    "tags": []
   },
   "outputs": [
    {
     "data": {
      "application/vnd.jupyter.widget-view+json": {
       "model_id": "02f3f118e409474f881fb3890754348d",
       "version_major": 2,
       "version_minor": 0
      },
      "text/plain": [
       "Map:   0%|          | 0/4 [00:00<?, ? examples/s]"
      ]
     },
     "metadata": {},
     "output_type": "display_data"
    },
    {
     "data": {
      "application/vnd.jupyter.widget-view+json": {
       "model_id": "3cc3b72e4ef648ffa066e3eb4420ca0f",
       "version_major": 2,
       "version_minor": 0
      },
      "text/plain": [
       "Map:   0%|          | 0/1 [00:00<?, ? examples/s]"
      ]
     },
     "metadata": {},
     "output_type": "display_data"
    }
   ],
   "source": [
    "# Load base model and tokenize\n",
    "model = AutoModelForCausalLM.from_pretrained(\n",
    "    model_name_or_path,\n",
    "    torch_dtype=torch.bfloat16,\n",
    "    device_map=\"auto\" # put onto cuda automatically if available\n",
    ")\n",
    "\n",
    "def tokenize(example):\n",
    "    return tokenizer(example[\"text\"], truncation=True, padding=\"max_length\", max_length=128)\n",
    "\n",
    "tokenized_dataset = datasets.map(tokenize, batched=True)"
   ]
  },
  {
   "cell_type": "code",
   "execution_count": 8,
   "id": "88b5f0ec",
   "metadata": {
    "execution": {
     "iopub.execute_input": "2025-07-26T20:32:08.150514Z",
     "iopub.status.busy": "2025-07-26T20:32:08.149808Z",
     "iopub.status.idle": "2025-07-26T20:32:08.245261Z",
     "shell.execute_reply": "2025-07-26T20:32:08.244551Z"
    },
    "papermill": {
     "duration": 0.120112,
     "end_time": "2025-07-26T20:32:08.246743",
     "exception": false,
     "start_time": "2025-07-26T20:32:08.126631",
     "status": "completed"
    },
    "tags": []
   },
   "outputs": [],
   "source": [
    "# Create LoRA (parameter-efficient fine-tuning) and wrap model in it\n",
    "peft_config = LoraConfig(\n",
    "    r=8,\n",
    "    lora_alpha=32,\n",
    "    target_modules=[\"q_proj\", \"v_proj\"],\n",
    "    lora_dropout=0.05,\n",
    "    bias=\"none\",\n",
    "    task_type=TaskType.CAUSAL_LM\n",
    ")\n",
    "\n",
    "model = get_peft_model(model, peft_config)"
   ]
  },
  {
   "cell_type": "code",
   "execution_count": 9,
   "id": "9d11c019",
   "metadata": {
    "execution": {
     "iopub.execute_input": "2025-07-26T20:32:08.290681Z",
     "iopub.status.busy": "2025-07-26T20:32:08.290395Z",
     "iopub.status.idle": "2025-07-26T20:32:08.294146Z",
     "shell.execute_reply": "2025-07-26T20:32:08.293468Z"
    },
    "papermill": {
     "duration": 0.02698,
     "end_time": "2025-07-26T20:32:08.295399",
     "exception": false,
     "start_time": "2025-07-26T20:32:08.268419",
     "status": "completed"
    },
    "tags": []
   },
   "outputs": [],
   "source": [
    "# Create data collator to patch, dynamically pad, etc.\n",
    "data_collator = DataCollatorForLanguageModeling(tokenizer, mlm=False)"
   ]
  },
  {
   "cell_type": "code",
   "execution_count": 10,
   "id": "69fff194",
   "metadata": {
    "execution": {
     "iopub.execute_input": "2025-07-26T20:32:08.340587Z",
     "iopub.status.busy": "2025-07-26T20:32:08.339955Z",
     "iopub.status.idle": "2025-07-26T20:32:08.345675Z",
     "shell.execute_reply": "2025-07-26T20:32:08.344986Z"
    },
    "papermill": {
     "duration": 0.029612,
     "end_time": "2025-07-26T20:32:08.346965",
     "exception": false,
     "start_time": "2025-07-26T20:32:08.317353",
     "status": "completed"
    },
    "tags": []
   },
   "outputs": [
    {
     "data": {
      "text/plain": [
       "'\\n# Create loop over hyperparameter space for a few basic params\\n#learning_rates = [5e-5, 2e-4, 1e-3]\\nlearning_rates = [2e-4]\\n#batch_sizes = [2, 4]\\nbatch_sizes = [4]\\n\\nfor lr in learning_rates:\\n    for bs in batch_sizes:\\n        training_args = TrainingArguments(\\n            output_dir=f\"./outputs/lr{lr}_bs{bs}\",\\n            per_device_train_batch_size=bs,\\n            num_train_epochs=1,\\n            learning_rate=lr,\\n            save_total_limit=2,\\n            save_strategy=\"epoch\",\\n            logging_dir=f\"./logs/lr{lr}_bs{bs}\",\\n            report_to=\"none\"\\n        )\\n\\n        trainer = Trainer(\\n            model=model,\\n            args=training_args,\\n            train_dataset=tokenized_dataset[\"train\"],\\n            eval_dataset=tokenized_dataset[\"test\"],\\n            data_collator=data_collator,\\n            tokenizer=tokenizer\\n        )\\n\\n        # Run training and save model\\n        trainer.train()\\n        #trainer.save_model(f\"./outputs/lr{lr}_bs{bs}/checkpoint\")\\n\\n        # Do versioning/logging and record some json metat data\\n        output_dir = f\"./checkpoints/llama-lr{lr}-bs{bs}\"\\n        trainer.save_model(output_dir)\\n        tokenizer.save_pretrained(output_dir)\\n\\n        meta = {\\n            \"model\": \"llama-3.2-1b-instruct\",\\n            \"lr\": lr,\\n            \"batch_size\": bs,\\n            \"description\": \"LoRA fine-tuned on augmented business data\",\\n        }\\n        with open(f\"{output_dir}/metadata.json\", \"w\") as f:\\n            json.dump(meta, f, indent=4)\\n'"
      ]
     },
     "execution_count": 10,
     "metadata": {},
     "output_type": "execute_result"
    }
   ],
   "source": [
    "'''\n",
    "# Create loop over hyperparameter space for a few basic params\n",
    "#learning_rates = [5e-5, 2e-4, 1e-3]\n",
    "learning_rates = [2e-4]\n",
    "#batch_sizes = [2, 4]\n",
    "batch_sizes = [4]\n",
    "\n",
    "for lr in learning_rates:\n",
    "    for bs in batch_sizes:\n",
    "        training_args = TrainingArguments(\n",
    "            output_dir=f\"./outputs/lr{lr}_bs{bs}\",\n",
    "            per_device_train_batch_size=bs,\n",
    "            num_train_epochs=1,\n",
    "            learning_rate=lr,\n",
    "            save_total_limit=2,\n",
    "            save_strategy=\"epoch\",\n",
    "            logging_dir=f\"./logs/lr{lr}_bs{bs}\",\n",
    "            report_to=\"none\"\n",
    "        )\n",
    "\n",
    "        trainer = Trainer(\n",
    "            model=model,\n",
    "            args=training_args,\n",
    "            train_dataset=tokenized_dataset[\"train\"],\n",
    "            eval_dataset=tokenized_dataset[\"test\"],\n",
    "            data_collator=data_collator,\n",
    "            tokenizer=tokenizer\n",
    "        )\n",
    "\n",
    "        # Run training and save model\n",
    "        trainer.train()\n",
    "        #trainer.save_model(f\"./outputs/lr{lr}_bs{bs}/checkpoint\")\n",
    "\n",
    "        # Do versioning/logging and record some json metat data\n",
    "        output_dir = f\"./checkpoints/llama-lr{lr}-bs{bs}\"\n",
    "        trainer.save_model(output_dir)\n",
    "        tokenizer.save_pretrained(output_dir)\n",
    "\n",
    "        meta = {\n",
    "            \"model\": \"llama-3.2-1b-instruct\",\n",
    "            \"lr\": lr,\n",
    "            \"batch_size\": bs,\n",
    "            \"description\": \"LoRA fine-tuned on augmented business data\",\n",
    "        }\n",
    "        with open(f\"{output_dir}/metadata.json\", \"w\") as f:\n",
    "            json.dump(meta, f, indent=4)\n",
    "'''"
   ]
  },
  {
   "cell_type": "code",
   "execution_count": 11,
   "id": "19f55b5b",
   "metadata": {
    "execution": {
     "iopub.execute_input": "2025-07-26T20:32:08.393519Z",
     "iopub.status.busy": "2025-07-26T20:32:08.393221Z",
     "iopub.status.idle": "2025-07-26T20:32:08.441400Z",
     "shell.execute_reply": "2025-07-26T20:32:08.440538Z"
    },
    "papermill": {
     "duration": 0.072959,
     "end_time": "2025-07-26T20:32:08.442779",
     "exception": false,
     "start_time": "2025-07-26T20:32:08.369820",
     "status": "completed"
    },
    "tags": []
   },
   "outputs": [
    {
     "name": "stderr",
     "output_type": "stream",
     "text": [
      "/tmp/ipykernel_19/2426235538.py:19: FutureWarning: `tokenizer` is deprecated and will be removed in version 5.0.0 for `Trainer.__init__`. Use `processing_class` instead.\n",
      "  trainer = Trainer(\n",
      "No label_names provided for model class `PeftModelForCausalLM`. Since `PeftModel` hides base models input arguments, if label_names is not given, label_names can't be set automatically within `Trainer`. Note that empty label_names list will be used instead.\n"
     ]
    }
   ],
   "source": [
    "# Create training arguments, data-collator ()\n",
    "training_args = TrainingArguments(\n",
    "    output_dir=\"./outputs\",\n",
    "    per_device_train_batch_size=4,\n",
    "    gradient_accumulation_steps=4,\n",
    "    num_train_epochs=1,\n",
    "    learning_rate=2e-4,\n",
    "    fp16=True,\n",
    "    logging_dir=\"./logs\",\n",
    "    logging_steps=10,\n",
    "    save_steps=1000,\n",
    "    save_total_limit=2,\n",
    "    report_to=\"none\"\n",
    ")\n",
    "\n",
    "# Data collator\n",
    "data_collator = DataCollatorForLanguageModeling(tokenizer, mlm=False)\n",
    "\n",
    "trainer = Trainer(\n",
    "    model=model,\n",
    "    args=training_args,\n",
    "    train_dataset=tokenized_dataset[\"train\"],\n",
    "    eval_dataset=tokenized_dataset[\"test\"],\n",
    "    data_collator=data_collator,\n",
    "    tokenizer=tokenizer\n",
    ")"
   ]
  },
  {
   "cell_type": "code",
   "execution_count": 12,
   "id": "9f0f0059",
   "metadata": {
    "execution": {
     "iopub.execute_input": "2025-07-26T20:32:08.488287Z",
     "iopub.status.busy": "2025-07-26T20:32:08.487726Z",
     "iopub.status.idle": "2025-07-26T20:32:11.020149Z",
     "shell.execute_reply": "2025-07-26T20:32:11.019255Z"
    },
    "papermill": {
     "duration": 2.556981,
     "end_time": "2025-07-26T20:32:11.021906",
     "exception": false,
     "start_time": "2025-07-26T20:32:08.464925",
     "status": "completed"
    },
    "tags": []
   },
   "outputs": [
    {
     "data": {
      "text/html": [
       "\n",
       "    <div>\n",
       "      \n",
       "      <progress value='1' max='1' style='width:300px; height:20px; vertical-align: middle;'></progress>\n",
       "      [1/1 00:00, Epoch 1/1]\n",
       "    </div>\n",
       "    <table border=\"1\" class=\"dataframe\">\n",
       "  <thead>\n",
       " <tr style=\"text-align: left;\">\n",
       "      <th>Step</th>\n",
       "      <th>Training Loss</th>\n",
       "    </tr>\n",
       "  </thead>\n",
       "  <tbody>\n",
       "  </tbody>\n",
       "</table><p>"
      ],
      "text/plain": [
       "<IPython.core.display.HTML object>"
      ]
     },
     "metadata": {},
     "output_type": "display_data"
    },
    {
     "data": {
      "text/plain": [
       "('./fine-tuned-llama-domain-generator/tokenizer_config.json',\n",
       " './fine-tuned-llama-domain-generator/special_tokens_map.json',\n",
       " './fine-tuned-llama-domain-generator/chat_template.jinja',\n",
       " './fine-tuned-llama-domain-generator/tokenizer.json')"
      ]
     },
     "execution_count": 12,
     "metadata": {},
     "output_type": "execute_result"
    }
   ],
   "source": [
    "trainer.train()\n",
    "\n",
    "# Save final model\n",
    "trainer.save_model(\"./fine-tuned-llama-domain-generator\")\n",
    "tokenizer.save_pretrained(\"./fine-tuned-llama-domain-generator\")"
   ]
  },
  {
   "cell_type": "markdown",
   "id": "b945881b",
   "metadata": {
    "papermill": {
     "duration": 0.022533,
     "end_time": "2025-07-26T20:32:11.067144",
     "exception": false,
     "start_time": "2025-07-26T20:32:11.044611",
     "status": "completed"
    },
    "tags": []
   },
   "source": [
    "## Evaluating model\n",
    "- We do have some eval metrics above that computes \"language model loss\" which measures model's ability to predict the next token, not necessarily how relevant/quality the output is.\n",
    "- Thus, we implement some rouge scoring\n",
    "    - ROUGE (Recall-Oriented Understudy for Gisting Evaluation) is a set of metrics used to evaluate the quality of machine-generated summaries by comparing them to human-written reference summaries. "
   ]
  },
  {
   "cell_type": "code",
   "execution_count": 13,
   "id": "75ac42c9",
   "metadata": {
    "execution": {
     "iopub.execute_input": "2025-07-26T20:32:11.112120Z",
     "iopub.status.busy": "2025-07-26T20:32:11.111786Z",
     "iopub.status.idle": "2025-07-26T20:32:11.689880Z",
     "shell.execute_reply": "2025-07-26T20:32:11.688903Z"
    },
    "papermill": {
     "duration": 0.603071,
     "end_time": "2025-07-26T20:32:11.691976",
     "exception": false,
     "start_time": "2025-07-26T20:32:11.088905",
     "status": "completed"
    },
    "tags": []
   },
   "outputs": [],
   "source": [
    "from rouge_score import rouge_scorer\n",
    "import matplotlib.pyplot as plt"
   ]
  },
  {
   "cell_type": "code",
   "execution_count": 14,
   "id": "0e67dd68",
   "metadata": {
    "execution": {
     "iopub.execute_input": "2025-07-26T20:32:11.740188Z",
     "iopub.status.busy": "2025-07-26T20:32:11.739571Z",
     "iopub.status.idle": "2025-07-26T20:32:11.743500Z",
     "shell.execute_reply": "2025-07-26T20:32:11.742855Z"
    },
    "papermill": {
     "duration": 0.028516,
     "end_time": "2025-07-26T20:32:11.744777",
     "exception": false,
     "start_time": "2025-07-26T20:32:11.716261",
     "status": "completed"
    },
    "tags": []
   },
   "outputs": [],
   "source": [
    "# get rouge scorer\n",
    "scorer = rouge_scorer.RougeScorer(['rougeL'], use_stemmer=True)"
   ]
  },
  {
   "cell_type": "code",
   "execution_count": 15,
   "id": "f2c3bf46",
   "metadata": {
    "execution": {
     "iopub.execute_input": "2025-07-26T20:32:11.790765Z",
     "iopub.status.busy": "2025-07-26T20:32:11.790093Z",
     "iopub.status.idle": "2025-07-26T20:32:12.880779Z",
     "shell.execute_reply": "2025-07-26T20:32:12.879951Z"
    },
    "papermill": {
     "duration": 1.115443,
     "end_time": "2025-07-26T20:32:12.882668",
     "exception": false,
     "start_time": "2025-07-26T20:32:11.767225",
     "status": "completed"
    },
    "tags": []
   },
   "outputs": [
    {
     "name": "stderr",
     "output_type": "stream",
     "text": [
      "Setting `pad_token_id` to `eos_token_id`:128001 for open-end generation.\n"
     ]
    }
   ],
   "source": [
    "# Put pytorch model in eval mode\n",
    "model.eval()\n",
    "\n",
    "scores = []\n",
    "predictions = []\n",
    "\n",
    "# Loop over test data\n",
    "for item in test_dataset:\n",
    "    # Grab formatted text input to llama\n",
    "    input_text = item[\"text\"]\n",
    "    if \"-> Domain:\" not in input_text:\n",
    "        continue\n",
    "    # Split the texts into the descriptions and the website names\n",
    "    description = input_text.split(\"-> Domain:\")[0].replace(\"Business:\", \"\").strip()\n",
    "    true_domain = input_text.split(\"-> Domain:\")[-1].strip()\n",
    "    # Now re format into a prompt without the website name and re tokenize\n",
    "    prompt = f\"Business: {description} -> Domain:\"\n",
    "    inputs = tokenizer(prompt, return_tensors=\"pt\").to(model.device)\n",
    "    \n",
    "    # Have the model output stuff given \n",
    "    with torch.no_grad():\n",
    "        outputs = model.generate(**inputs, max_new_tokens=20, do_sample=True, top_k=50, temperature=0.7)\n",
    "    decoded = tokenizer.decode(outputs[0], skip_special_tokens=True)\n",
    "    pred_domain = decoded.split(\"-> Domain:\")[-1].strip()\n",
    "\n",
    "    # Safety filter\n",
    "    banned_keywords = [\"sex\", \"porn\", \"kill\", \"drugs\", \"hate\", \"murder\"]\n",
    "    if any(bad in pred_domain.lower() for bad in banned_keywords):\n",
    "        pred_domain = \"[REDACTED: Unsafe Output]\"\n",
    "\n",
    "    score = scorer.score(true_domain, pred_domain)[\"rougeL\"].fmeasure\n",
    "    predictions.append({\"description\": description, \"true\": true_domain, \"pred\": pred_domain, \"rougeL\": score})\n",
    "    scores.append(score)"
   ]
  },
  {
   "cell_type": "code",
   "execution_count": 16,
   "id": "61dce9ee",
   "metadata": {
    "execution": {
     "iopub.execute_input": "2025-07-26T20:32:12.940676Z",
     "iopub.status.busy": "2025-07-26T20:32:12.940217Z",
     "iopub.status.idle": "2025-07-26T20:32:13.220466Z",
     "shell.execute_reply": "2025-07-26T20:32:13.219471Z"
    },
    "papermill": {
     "duration": 0.305179,
     "end_time": "2025-07-26T20:32:13.221931",
     "exception": false,
     "start_time": "2025-07-26T20:32:12.916752",
     "status": "completed"
    },
    "tags": []
   },
   "outputs": [
    {
     "name": "stdout",
     "output_type": "stream",
     "text": [
      "Average ROUGE-L score: 0.1333\n"
     ]
    }
   ],
   "source": [
    "# Save predictions\n",
    "results_df = pd.DataFrame(predictions)\n",
    "results_df.to_csv(\"predictions_with_rouge.csv\", index=False)\n",
    "\n",
    "# Plot\n",
    "plt.figure(figsize=(8, 4))\n",
    "plt.hist(scores, bins=20, color=\"skyblue\", edgecolor=\"black\")\n",
    "plt.title(\"ROUGE-L Score Distribution\")\n",
    "plt.xlabel(\"ROUGE-L F1 Score\")\n",
    "plt.ylabel(\"Frequency\")\n",
    "plt.grid(True)\n",
    "plt.tight_layout()\n",
    "plt.savefig(\"rouge_score_histogram.png\")\n",
    "plt.close()\n",
    "\n",
    "print(f\"Average ROUGE-L score: {sum(scores)/len(scores):.4f}\")"
   ]
  }
 ],
 "metadata": {
  "kaggle": {
   "accelerator": "none",
   "dataSources": [
    {
     "datasetId": 7943647,
     "sourceId": 12577983,
     "sourceType": "datasetVersion"
    },
    {
     "isSourceIdPinned": true,
     "modelId": 121027,
     "modelInstanceId": 100933,
     "sourceId": 120002,
     "sourceType": "modelInstanceVersion"
    }
   ],
   "dockerImageVersionId": 31089,
   "isGpuEnabled": false,
   "isInternetEnabled": true,
   "language": "python",
   "sourceType": "notebook"
  },
  "kernelspec": {
   "display_name": "Python 3",
   "language": "python",
   "name": "python3"
  },
  "language_info": {
   "codemirror_mode": {
    "name": "ipython",
    "version": 3
   },
   "file_extension": ".py",
   "mimetype": "text/x-python",
   "name": "python",
   "nbconvert_exporter": "python",
   "pygments_lexer": "ipython3",
   "version": "3.11.13"
  },
  "papermill": {
   "default_parameters": {},
   "duration": 150.496068,
   "end_time": "2025-07-26T20:32:17.010767",
   "environment_variables": {},
   "exception": null,
   "input_path": "__notebook__.ipynb",
   "output_path": "__notebook__.ipynb",
   "parameters": {},
   "start_time": "2025-07-26T20:29:46.514699",
   "version": "2.6.0"
  },
  "widgets": {
   "application/vnd.jupyter.widget-state+json": {
    "state": {
     "02f3f118e409474f881fb3890754348d": {
      "model_module": "@jupyter-widgets/controls",
      "model_module_version": "2.0.0",
      "model_name": "HBoxModel",
      "state": {
       "_dom_classes": [],
       "_model_module": "@jupyter-widgets/controls",
       "_model_module_version": "2.0.0",
       "_model_name": "HBoxModel",
       "_view_count": null,
       "_view_module": "@jupyter-widgets/controls",
       "_view_module_version": "2.0.0",
       "_view_name": "HBoxView",
       "box_style": "",
       "children": [
        "IPY_MODEL_34a037960fe04863823a477824965f6c",
        "IPY_MODEL_64fc60d082b5412ca98c00f34dd1778d",
        "IPY_MODEL_b1d095b9147840c1a4df7af8a7bf7e53"
       ],
       "layout": "IPY_MODEL_3b568e4de93747f8a98989047275c4f8",
       "tabbable": null,
       "tooltip": null
      }
     },
     "0c09a4700b21439286e78e8867ef09a9": {
      "model_module": "@jupyter-widgets/controls",
      "model_module_version": "2.0.0",
      "model_name": "ProgressStyleModel",
      "state": {
       "_model_module": "@jupyter-widgets/controls",
       "_model_module_version": "2.0.0",
       "_model_name": "ProgressStyleModel",
       "_view_count": null,
       "_view_module": "@jupyter-widgets/base",
       "_view_module_version": "2.0.0",
       "_view_name": "StyleView",
       "bar_color": null,
       "description_width": ""
      }
     },
     "23251775bd4b4c1aac77f4cd83c710e4": {
      "model_module": "@jupyter-widgets/controls",
      "model_module_version": "2.0.0",
      "model_name": "HTMLStyleModel",
      "state": {
       "_model_module": "@jupyter-widgets/controls",
       "_model_module_version": "2.0.0",
       "_model_name": "HTMLStyleModel",
       "_view_count": null,
       "_view_module": "@jupyter-widgets/base",
       "_view_module_version": "2.0.0",
       "_view_name": "StyleView",
       "background": null,
       "description_width": "",
       "font_size": null,
       "text_color": null
      }
     },
     "29fbfb8d27a4401a8b0dab8c568e9586": {
      "model_module": "@jupyter-widgets/controls",
      "model_module_version": "2.0.0",
      "model_name": "HTMLStyleModel",
      "state": {
       "_model_module": "@jupyter-widgets/controls",
       "_model_module_version": "2.0.0",
       "_model_name": "HTMLStyleModel",
       "_view_count": null,
       "_view_module": "@jupyter-widgets/base",
       "_view_module_version": "2.0.0",
       "_view_name": "StyleView",
       "background": null,
       "description_width": "",
       "font_size": null,
       "text_color": null
      }
     },
     "34a037960fe04863823a477824965f6c": {
      "model_module": "@jupyter-widgets/controls",
      "model_module_version": "2.0.0",
      "model_name": "HTMLModel",
      "state": {
       "_dom_classes": [],
       "_model_module": "@jupyter-widgets/controls",
       "_model_module_version": "2.0.0",
       "_model_name": "HTMLModel",
       "_view_count": null,
       "_view_module": "@jupyter-widgets/controls",
       "_view_module_version": "2.0.0",
       "_view_name": "HTMLView",
       "description": "",
       "description_allow_html": false,
       "layout": "IPY_MODEL_efd1f117430b4a5ba8c790fc195242d7",
       "placeholder": "​",
       "style": "IPY_MODEL_23251775bd4b4c1aac77f4cd83c710e4",
       "tabbable": null,
       "tooltip": null,
       "value": "Map: 100%"
      }
     },
     "3b568e4de93747f8a98989047275c4f8": {
      "model_module": "@jupyter-widgets/base",
      "model_module_version": "2.0.0",
      "model_name": "LayoutModel",
      "state": {
       "_model_module": "@jupyter-widgets/base",
       "_model_module_version": "2.0.0",
       "_model_name": "LayoutModel",
       "_view_count": null,
       "_view_module": "@jupyter-widgets/base",
       "_view_module_version": "2.0.0",
       "_view_name": "LayoutView",
       "align_content": null,
       "align_items": null,
       "align_self": null,
       "border_bottom": null,
       "border_left": null,
       "border_right": null,
       "border_top": null,
       "bottom": null,
       "display": null,
       "flex": null,
       "flex_flow": null,
       "grid_area": null,
       "grid_auto_columns": null,
       "grid_auto_flow": null,
       "grid_auto_rows": null,
       "grid_column": null,
       "grid_gap": null,
       "grid_row": null,
       "grid_template_areas": null,
       "grid_template_columns": null,
       "grid_template_rows": null,
       "height": null,
       "justify_content": null,
       "justify_items": null,
       "left": null,
       "margin": null,
       "max_height": null,
       "max_width": null,
       "min_height": null,
       "min_width": null,
       "object_fit": null,
       "object_position": null,
       "order": null,
       "overflow": null,
       "padding": null,
       "right": null,
       "top": null,
       "visibility": null,
       "width": null
      }
     },
     "3cc3b72e4ef648ffa066e3eb4420ca0f": {
      "model_module": "@jupyter-widgets/controls",
      "model_module_version": "2.0.0",
      "model_name": "HBoxModel",
      "state": {
       "_dom_classes": [],
       "_model_module": "@jupyter-widgets/controls",
       "_model_module_version": "2.0.0",
       "_model_name": "HBoxModel",
       "_view_count": null,
       "_view_module": "@jupyter-widgets/controls",
       "_view_module_version": "2.0.0",
       "_view_name": "HBoxView",
       "box_style": "",
       "children": [
        "IPY_MODEL_e6dd2974e6774f59b0bab1535143318d",
        "IPY_MODEL_b12ec6cb1bda4903aa204dc78766de71",
        "IPY_MODEL_416658b88e394f2289b4733743af3e03"
       ],
       "layout": "IPY_MODEL_7777438523e546ada248d2b251e4fdd9",
       "tabbable": null,
       "tooltip": null
      }
     },
     "416658b88e394f2289b4733743af3e03": {
      "model_module": "@jupyter-widgets/controls",
      "model_module_version": "2.0.0",
      "model_name": "HTMLModel",
      "state": {
       "_dom_classes": [],
       "_model_module": "@jupyter-widgets/controls",
       "_model_module_version": "2.0.0",
       "_model_name": "HTMLModel",
       "_view_count": null,
       "_view_module": "@jupyter-widgets/controls",
       "_view_module_version": "2.0.0",
       "_view_name": "HTMLView",
       "description": "",
       "description_allow_html": false,
       "layout": "IPY_MODEL_e8ca949e756f4a7aa4c4c1b3d38f32e4",
       "placeholder": "​",
       "style": "IPY_MODEL_c518559ca1c44f3687c960ce31bceff7",
       "tabbable": null,
       "tooltip": null,
       "value": " 1/1 [00:00&lt;00:00, 66.03 examples/s]"
      }
     },
     "522ccf3e748841ce859c8eed95206ad3": {
      "model_module": "@jupyter-widgets/controls",
      "model_module_version": "2.0.0",
      "model_name": "HTMLStyleModel",
      "state": {
       "_model_module": "@jupyter-widgets/controls",
       "_model_module_version": "2.0.0",
       "_model_name": "HTMLStyleModel",
       "_view_count": null,
       "_view_module": "@jupyter-widgets/base",
       "_view_module_version": "2.0.0",
       "_view_name": "StyleView",
       "background": null,
       "description_width": "",
       "font_size": null,
       "text_color": null
      }
     },
     "64fc60d082b5412ca98c00f34dd1778d": {
      "model_module": "@jupyter-widgets/controls",
      "model_module_version": "2.0.0",
      "model_name": "FloatProgressModel",
      "state": {
       "_dom_classes": [],
       "_model_module": "@jupyter-widgets/controls",
       "_model_module_version": "2.0.0",
       "_model_name": "FloatProgressModel",
       "_view_count": null,
       "_view_module": "@jupyter-widgets/controls",
       "_view_module_version": "2.0.0",
       "_view_name": "ProgressView",
       "bar_style": "success",
       "description": "",
       "description_allow_html": false,
       "layout": "IPY_MODEL_be6646de6cd1434f98061c33c8ef7854",
       "max": 4.0,
       "min": 0.0,
       "orientation": "horizontal",
       "style": "IPY_MODEL_0c09a4700b21439286e78e8867ef09a9",
       "tabbable": null,
       "tooltip": null,
       "value": 4.0
      }
     },
     "7777438523e546ada248d2b251e4fdd9": {
      "model_module": "@jupyter-widgets/base",
      "model_module_version": "2.0.0",
      "model_name": "LayoutModel",
      "state": {
       "_model_module": "@jupyter-widgets/base",
       "_model_module_version": "2.0.0",
       "_model_name": "LayoutModel",
       "_view_count": null,
       "_view_module": "@jupyter-widgets/base",
       "_view_module_version": "2.0.0",
       "_view_name": "LayoutView",
       "align_content": null,
       "align_items": null,
       "align_self": null,
       "border_bottom": null,
       "border_left": null,
       "border_right": null,
       "border_top": null,
       "bottom": null,
       "display": null,
       "flex": null,
       "flex_flow": null,
       "grid_area": null,
       "grid_auto_columns": null,
       "grid_auto_flow": null,
       "grid_auto_rows": null,
       "grid_column": null,
       "grid_gap": null,
       "grid_row": null,
       "grid_template_areas": null,
       "grid_template_columns": null,
       "grid_template_rows": null,
       "height": null,
       "justify_content": null,
       "justify_items": null,
       "left": null,
       "margin": null,
       "max_height": null,
       "max_width": null,
       "min_height": null,
       "min_width": null,
       "object_fit": null,
       "object_position": null,
       "order": null,
       "overflow": null,
       "padding": null,
       "right": null,
       "top": null,
       "visibility": null,
       "width": null
      }
     },
     "7f825ec426a847d58838b39cf59cc39a": {
      "model_module": "@jupyter-widgets/base",
      "model_module_version": "2.0.0",
      "model_name": "LayoutModel",
      "state": {
       "_model_module": "@jupyter-widgets/base",
       "_model_module_version": "2.0.0",
       "_model_name": "LayoutModel",
       "_view_count": null,
       "_view_module": "@jupyter-widgets/base",
       "_view_module_version": "2.0.0",
       "_view_name": "LayoutView",
       "align_content": null,
       "align_items": null,
       "align_self": null,
       "border_bottom": null,
       "border_left": null,
       "border_right": null,
       "border_top": null,
       "bottom": null,
       "display": null,
       "flex": null,
       "flex_flow": null,
       "grid_area": null,
       "grid_auto_columns": null,
       "grid_auto_flow": null,
       "grid_auto_rows": null,
       "grid_column": null,
       "grid_gap": null,
       "grid_row": null,
       "grid_template_areas": null,
       "grid_template_columns": null,
       "grid_template_rows": null,
       "height": null,
       "justify_content": null,
       "justify_items": null,
       "left": null,
       "margin": null,
       "max_height": null,
       "max_width": null,
       "min_height": null,
       "min_width": null,
       "object_fit": null,
       "object_position": null,
       "order": null,
       "overflow": null,
       "padding": null,
       "right": null,
       "top": null,
       "visibility": null,
       "width": null
      }
     },
     "b12ec6cb1bda4903aa204dc78766de71": {
      "model_module": "@jupyter-widgets/controls",
      "model_module_version": "2.0.0",
      "model_name": "FloatProgressModel",
      "state": {
       "_dom_classes": [],
       "_model_module": "@jupyter-widgets/controls",
       "_model_module_version": "2.0.0",
       "_model_name": "FloatProgressModel",
       "_view_count": null,
       "_view_module": "@jupyter-widgets/controls",
       "_view_module_version": "2.0.0",
       "_view_name": "ProgressView",
       "bar_style": "success",
       "description": "",
       "description_allow_html": false,
       "layout": "IPY_MODEL_d478cd94a6de4c909945ba2ec1716cc3",
       "max": 1.0,
       "min": 0.0,
       "orientation": "horizontal",
       "style": "IPY_MODEL_b60fd13f55884719acbe3bf2865e20db",
       "tabbable": null,
       "tooltip": null,
       "value": 1.0
      }
     },
     "b1d095b9147840c1a4df7af8a7bf7e53": {
      "model_module": "@jupyter-widgets/controls",
      "model_module_version": "2.0.0",
      "model_name": "HTMLModel",
      "state": {
       "_dom_classes": [],
       "_model_module": "@jupyter-widgets/controls",
       "_model_module_version": "2.0.0",
       "_model_name": "HTMLModel",
       "_view_count": null,
       "_view_module": "@jupyter-widgets/controls",
       "_view_module_version": "2.0.0",
       "_view_name": "HTMLView",
       "description": "",
       "description_allow_html": false,
       "layout": "IPY_MODEL_b3107bb4200f4a37aa50a8c8935134c8",
       "placeholder": "​",
       "style": "IPY_MODEL_522ccf3e748841ce859c8eed95206ad3",
       "tabbable": null,
       "tooltip": null,
       "value": " 4/4 [00:00&lt;00:00, 108.40 examples/s]"
      }
     },
     "b3107bb4200f4a37aa50a8c8935134c8": {
      "model_module": "@jupyter-widgets/base",
      "model_module_version": "2.0.0",
      "model_name": "LayoutModel",
      "state": {
       "_model_module": "@jupyter-widgets/base",
       "_model_module_version": "2.0.0",
       "_model_name": "LayoutModel",
       "_view_count": null,
       "_view_module": "@jupyter-widgets/base",
       "_view_module_version": "2.0.0",
       "_view_name": "LayoutView",
       "align_content": null,
       "align_items": null,
       "align_self": null,
       "border_bottom": null,
       "border_left": null,
       "border_right": null,
       "border_top": null,
       "bottom": null,
       "display": null,
       "flex": null,
       "flex_flow": null,
       "grid_area": null,
       "grid_auto_columns": null,
       "grid_auto_flow": null,
       "grid_auto_rows": null,
       "grid_column": null,
       "grid_gap": null,
       "grid_row": null,
       "grid_template_areas": null,
       "grid_template_columns": null,
       "grid_template_rows": null,
       "height": null,
       "justify_content": null,
       "justify_items": null,
       "left": null,
       "margin": null,
       "max_height": null,
       "max_width": null,
       "min_height": null,
       "min_width": null,
       "object_fit": null,
       "object_position": null,
       "order": null,
       "overflow": null,
       "padding": null,
       "right": null,
       "top": null,
       "visibility": null,
       "width": null
      }
     },
     "b60fd13f55884719acbe3bf2865e20db": {
      "model_module": "@jupyter-widgets/controls",
      "model_module_version": "2.0.0",
      "model_name": "ProgressStyleModel",
      "state": {
       "_model_module": "@jupyter-widgets/controls",
       "_model_module_version": "2.0.0",
       "_model_name": "ProgressStyleModel",
       "_view_count": null,
       "_view_module": "@jupyter-widgets/base",
       "_view_module_version": "2.0.0",
       "_view_name": "StyleView",
       "bar_color": null,
       "description_width": ""
      }
     },
     "be6646de6cd1434f98061c33c8ef7854": {
      "model_module": "@jupyter-widgets/base",
      "model_module_version": "2.0.0",
      "model_name": "LayoutModel",
      "state": {
       "_model_module": "@jupyter-widgets/base",
       "_model_module_version": "2.0.0",
       "_model_name": "LayoutModel",
       "_view_count": null,
       "_view_module": "@jupyter-widgets/base",
       "_view_module_version": "2.0.0",
       "_view_name": "LayoutView",
       "align_content": null,
       "align_items": null,
       "align_self": null,
       "border_bottom": null,
       "border_left": null,
       "border_right": null,
       "border_top": null,
       "bottom": null,
       "display": null,
       "flex": null,
       "flex_flow": null,
       "grid_area": null,
       "grid_auto_columns": null,
       "grid_auto_flow": null,
       "grid_auto_rows": null,
       "grid_column": null,
       "grid_gap": null,
       "grid_row": null,
       "grid_template_areas": null,
       "grid_template_columns": null,
       "grid_template_rows": null,
       "height": null,
       "justify_content": null,
       "justify_items": null,
       "left": null,
       "margin": null,
       "max_height": null,
       "max_width": null,
       "min_height": null,
       "min_width": null,
       "object_fit": null,
       "object_position": null,
       "order": null,
       "overflow": null,
       "padding": null,
       "right": null,
       "top": null,
       "visibility": null,
       "width": null
      }
     },
     "c518559ca1c44f3687c960ce31bceff7": {
      "model_module": "@jupyter-widgets/controls",
      "model_module_version": "2.0.0",
      "model_name": "HTMLStyleModel",
      "state": {
       "_model_module": "@jupyter-widgets/controls",
       "_model_module_version": "2.0.0",
       "_model_name": "HTMLStyleModel",
       "_view_count": null,
       "_view_module": "@jupyter-widgets/base",
       "_view_module_version": "2.0.0",
       "_view_name": "StyleView",
       "background": null,
       "description_width": "",
       "font_size": null,
       "text_color": null
      }
     },
     "d478cd94a6de4c909945ba2ec1716cc3": {
      "model_module": "@jupyter-widgets/base",
      "model_module_version": "2.0.0",
      "model_name": "LayoutModel",
      "state": {
       "_model_module": "@jupyter-widgets/base",
       "_model_module_version": "2.0.0",
       "_model_name": "LayoutModel",
       "_view_count": null,
       "_view_module": "@jupyter-widgets/base",
       "_view_module_version": "2.0.0",
       "_view_name": "LayoutView",
       "align_content": null,
       "align_items": null,
       "align_self": null,
       "border_bottom": null,
       "border_left": null,
       "border_right": null,
       "border_top": null,
       "bottom": null,
       "display": null,
       "flex": null,
       "flex_flow": null,
       "grid_area": null,
       "grid_auto_columns": null,
       "grid_auto_flow": null,
       "grid_auto_rows": null,
       "grid_column": null,
       "grid_gap": null,
       "grid_row": null,
       "grid_template_areas": null,
       "grid_template_columns": null,
       "grid_template_rows": null,
       "height": null,
       "justify_content": null,
       "justify_items": null,
       "left": null,
       "margin": null,
       "max_height": null,
       "max_width": null,
       "min_height": null,
       "min_width": null,
       "object_fit": null,
       "object_position": null,
       "order": null,
       "overflow": null,
       "padding": null,
       "right": null,
       "top": null,
       "visibility": null,
       "width": null
      }
     },
     "e6dd2974e6774f59b0bab1535143318d": {
      "model_module": "@jupyter-widgets/controls",
      "model_module_version": "2.0.0",
      "model_name": "HTMLModel",
      "state": {
       "_dom_classes": [],
       "_model_module": "@jupyter-widgets/controls",
       "_model_module_version": "2.0.0",
       "_model_name": "HTMLModel",
       "_view_count": null,
       "_view_module": "@jupyter-widgets/controls",
       "_view_module_version": "2.0.0",
       "_view_name": "HTMLView",
       "description": "",
       "description_allow_html": false,
       "layout": "IPY_MODEL_7f825ec426a847d58838b39cf59cc39a",
       "placeholder": "​",
       "style": "IPY_MODEL_29fbfb8d27a4401a8b0dab8c568e9586",
       "tabbable": null,
       "tooltip": null,
       "value": "Map: 100%"
      }
     },
     "e8ca949e756f4a7aa4c4c1b3d38f32e4": {
      "model_module": "@jupyter-widgets/base",
      "model_module_version": "2.0.0",
      "model_name": "LayoutModel",
      "state": {
       "_model_module": "@jupyter-widgets/base",
       "_model_module_version": "2.0.0",
       "_model_name": "LayoutModel",
       "_view_count": null,
       "_view_module": "@jupyter-widgets/base",
       "_view_module_version": "2.0.0",
       "_view_name": "LayoutView",
       "align_content": null,
       "align_items": null,
       "align_self": null,
       "border_bottom": null,
       "border_left": null,
       "border_right": null,
       "border_top": null,
       "bottom": null,
       "display": null,
       "flex": null,
       "flex_flow": null,
       "grid_area": null,
       "grid_auto_columns": null,
       "grid_auto_flow": null,
       "grid_auto_rows": null,
       "grid_column": null,
       "grid_gap": null,
       "grid_row": null,
       "grid_template_areas": null,
       "grid_template_columns": null,
       "grid_template_rows": null,
       "height": null,
       "justify_content": null,
       "justify_items": null,
       "left": null,
       "margin": null,
       "max_height": null,
       "max_width": null,
       "min_height": null,
       "min_width": null,
       "object_fit": null,
       "object_position": null,
       "order": null,
       "overflow": null,
       "padding": null,
       "right": null,
       "top": null,
       "visibility": null,
       "width": null
      }
     },
     "efd1f117430b4a5ba8c790fc195242d7": {
      "model_module": "@jupyter-widgets/base",
      "model_module_version": "2.0.0",
      "model_name": "LayoutModel",
      "state": {
       "_model_module": "@jupyter-widgets/base",
       "_model_module_version": "2.0.0",
       "_model_name": "LayoutModel",
       "_view_count": null,
       "_view_module": "@jupyter-widgets/base",
       "_view_module_version": "2.0.0",
       "_view_name": "LayoutView",
       "align_content": null,
       "align_items": null,
       "align_self": null,
       "border_bottom": null,
       "border_left": null,
       "border_right": null,
       "border_top": null,
       "bottom": null,
       "display": null,
       "flex": null,
       "flex_flow": null,
       "grid_area": null,
       "grid_auto_columns": null,
       "grid_auto_flow": null,
       "grid_auto_rows": null,
       "grid_column": null,
       "grid_gap": null,
       "grid_row": null,
       "grid_template_areas": null,
       "grid_template_columns": null,
       "grid_template_rows": null,
       "height": null,
       "justify_content": null,
       "justify_items": null,
       "left": null,
       "margin": null,
       "max_height": null,
       "max_width": null,
       "min_height": null,
       "min_width": null,
       "object_fit": null,
       "object_position": null,
       "order": null,
       "overflow": null,
       "padding": null,
       "right": null,
       "top": null,
       "visibility": null,
       "width": null
      }
     }
    },
    "version_major": 2,
    "version_minor": 0
   }
  }
 },
 "nbformat": 4,
 "nbformat_minor": 5
}
