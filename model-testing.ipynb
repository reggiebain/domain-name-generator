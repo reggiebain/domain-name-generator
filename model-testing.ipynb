{
 "cells": [
  {
   "cell_type": "markdown",
   "id": "86986e6a",
   "metadata": {
    "papermill": {
     "duration": 0.003337,
     "end_time": "2025-07-30T18:26:36.894915",
     "exception": false,
     "start_time": "2025-07-30T18:26:36.891578",
     "status": "completed"
    },
    "tags": []
   },
   "source": [
    "# Testing the Model\n",
    "- Load the model by hand and run a few examples\n",
    "- This notebook was made in place of simply running the API, which won't run on my local machine for reasons explained in the technical report"
   ]
  },
  {
   "cell_type": "code",
   "execution_count": 1,
   "id": "34122b97",
   "metadata": {
    "execution": {
     "iopub.execute_input": "2025-07-30T18:26:36.903179Z",
     "iopub.status.busy": "2025-07-30T18:26:36.902097Z",
     "iopub.status.idle": "2025-07-30T18:26:36.913373Z",
     "shell.execute_reply": "2025-07-30T18:26:36.912459Z"
    },
    "papermill": {
     "duration": 0.01696,
     "end_time": "2025-07-30T18:26:36.915059",
     "exception": false,
     "start_time": "2025-07-30T18:26:36.898099",
     "status": "completed"
    },
    "tags": []
   },
   "outputs": [],
   "source": [
    "VERSION = 'v2'\n",
    "FLAG = 'large'"
   ]
  },
  {
   "cell_type": "code",
   "execution_count": 2,
   "id": "88c8d7cd",
   "metadata": {
    "execution": {
     "iopub.execute_input": "2025-07-30T18:26:36.921786Z",
     "iopub.status.busy": "2025-07-30T18:26:36.921422Z",
     "iopub.status.idle": "2025-07-30T18:28:06.435910Z",
     "shell.execute_reply": "2025-07-30T18:28:06.434614Z"
    },
    "papermill": {
     "duration": 89.520232,
     "end_time": "2025-07-30T18:28:06.438079",
     "exception": false,
     "start_time": "2025-07-30T18:26:36.917847",
     "status": "completed"
    },
    "tags": []
   },
   "outputs": [
    {
     "name": "stdout",
     "output_type": "stream",
     "text": [
      "\u001b[2K   \u001b[90m━━━━━━━━━━━━━━━━━━━━━━━━━━━━━━━━━━━━━━━━\u001b[0m \u001b[32m363.4/363.4 MB\u001b[0m \u001b[31m3.7 MB/s\u001b[0m eta \u001b[36m0:00:00\u001b[0m\r\n",
      "\u001b[2K   \u001b[90m━━━━━━━━━━━━━━━━━━━━━━━━━━━━━━━━━━━━━━━━\u001b[0m \u001b[32m13.8/13.8 MB\u001b[0m \u001b[31m75.2 MB/s\u001b[0m eta \u001b[36m0:00:00\u001b[0m\r\n",
      "\u001b[2K   \u001b[90m━━━━━━━━━━━━━━━━━━━━━━━━━━━━━━━━━━━━━━━━\u001b[0m \u001b[32m24.6/24.6 MB\u001b[0m \u001b[31m62.9 MB/s\u001b[0m eta \u001b[36m0:00:00\u001b[0m\r\n",
      "\u001b[2K   \u001b[90m━━━━━━━━━━━━━━━━━━━━━━━━━━━━━━━━━━━━━━━━\u001b[0m \u001b[32m883.7/883.7 kB\u001b[0m \u001b[31m34.9 MB/s\u001b[0m eta \u001b[36m0:00:00\u001b[0m\r\n",
      "\u001b[2K   \u001b[90m━━━━━━━━━━━━━━━━━━━━━━━━━━━━━━━━━━━━━━━━\u001b[0m \u001b[32m664.8/664.8 MB\u001b[0m \u001b[31m2.1 MB/s\u001b[0m eta \u001b[36m0:00:00\u001b[0m\r\n",
      "\u001b[2K   \u001b[90m━━━━━━━━━━━━━━━━━━━━━━━━━━━━━━━━━━━━━━━━\u001b[0m \u001b[32m211.5/211.5 MB\u001b[0m \u001b[31m2.2 MB/s\u001b[0m eta \u001b[36m0:00:00\u001b[0m\r\n",
      "\u001b[2K   \u001b[90m━━━━━━━━━━━━━━━━━━━━━━━━━━━━━━━━━━━━━━━━\u001b[0m \u001b[32m56.3/56.3 MB\u001b[0m \u001b[31m5.8 MB/s\u001b[0m eta \u001b[36m0:00:00\u001b[0m\r\n",
      "\u001b[2K   \u001b[90m━━━━━━━━━━━━━━━━━━━━━━━━━━━━━━━━━━━━━━━━\u001b[0m \u001b[32m127.9/127.9 MB\u001b[0m \u001b[31m10.5 MB/s\u001b[0m eta \u001b[36m0:00:00\u001b[0m\r\n",
      "\u001b[2K   \u001b[90m━━━━━━━━━━━━━━━━━━━━━━━━━━━━━━━━━━━━━━━━\u001b[0m \u001b[32m207.5/207.5 MB\u001b[0m \u001b[31m6.6 MB/s\u001b[0m eta \u001b[36m0:00:00\u001b[0m\r\n",
      "\u001b[2K   \u001b[90m━━━━━━━━━━━━━━━━━━━━━━━━━━━━━━━━━━━━━━━━\u001b[0m \u001b[32m21.1/21.1 MB\u001b[0m \u001b[31m63.9 MB/s\u001b[0m eta \u001b[36m0:00:00\u001b[0m\r\n",
      "\u001b[?25h"
     ]
    }
   ],
   "source": [
    "!pip install -q torch transformers peft"
   ]
  },
  {
   "cell_type": "code",
   "execution_count": 3,
   "id": "d9ac28fd",
   "metadata": {
    "execution": {
     "iopub.execute_input": "2025-07-30T18:28:06.503200Z",
     "iopub.status.busy": "2025-07-30T18:28:06.502778Z",
     "iopub.status.idle": "2025-07-30T18:29:03.597066Z",
     "shell.execute_reply": "2025-07-30T18:29:03.595548Z"
    },
    "papermill": {
     "duration": 57.159209,
     "end_time": "2025-07-30T18:29:03.628876",
     "exception": false,
     "start_time": "2025-07-30T18:28:06.469667",
     "status": "completed"
    },
    "tags": []
   },
   "outputs": [
    {
     "name": "stderr",
     "output_type": "stream",
     "text": [
      "2025-07-30 18:28:28.435842: E external/local_xla/xla/stream_executor/cuda/cuda_fft.cc:477] Unable to register cuFFT factory: Attempting to register factory for plugin cuFFT when one has already been registered\n",
      "WARNING: All log messages before absl::InitializeLog() is called are written to STDERR\n",
      "E0000 00:00:1753900108.764153      13 cuda_dnn.cc:8310] Unable to register cuDNN factory: Attempting to register factory for plugin cuDNN when one has already been registered\n",
      "E0000 00:00:1753900108.828022      13 cuda_blas.cc:1418] Unable to register cuBLAS factory: Attempting to register factory for plugin cuBLAS when one has already been registered\n"
     ]
    },
    {
     "data": {
      "text/plain": [
       "PeftModelForCausalLM(\n",
       "  (base_model): LoraModel(\n",
       "    (model): LlamaForCausalLM(\n",
       "      (model): LlamaModel(\n",
       "        (embed_tokens): Embedding(128256, 2048)\n",
       "        (layers): ModuleList(\n",
       "          (0-15): 16 x LlamaDecoderLayer(\n",
       "            (self_attn): LlamaAttention(\n",
       "              (q_proj): lora.Linear(\n",
       "                (base_layer): Linear(in_features=2048, out_features=2048, bias=False)\n",
       "                (lora_dropout): ModuleDict(\n",
       "                  (default): Dropout(p=0.05, inplace=False)\n",
       "                )\n",
       "                (lora_A): ModuleDict(\n",
       "                  (default): Linear(in_features=2048, out_features=8, bias=False)\n",
       "                )\n",
       "                (lora_B): ModuleDict(\n",
       "                  (default): Linear(in_features=8, out_features=2048, bias=False)\n",
       "                )\n",
       "                (lora_embedding_A): ParameterDict()\n",
       "                (lora_embedding_B): ParameterDict()\n",
       "                (lora_magnitude_vector): ModuleDict()\n",
       "              )\n",
       "              (k_proj): Linear(in_features=2048, out_features=512, bias=False)\n",
       "              (v_proj): lora.Linear(\n",
       "                (base_layer): Linear(in_features=2048, out_features=512, bias=False)\n",
       "                (lora_dropout): ModuleDict(\n",
       "                  (default): Dropout(p=0.05, inplace=False)\n",
       "                )\n",
       "                (lora_A): ModuleDict(\n",
       "                  (default): Linear(in_features=2048, out_features=8, bias=False)\n",
       "                )\n",
       "                (lora_B): ModuleDict(\n",
       "                  (default): Linear(in_features=8, out_features=512, bias=False)\n",
       "                )\n",
       "                (lora_embedding_A): ParameterDict()\n",
       "                (lora_embedding_B): ParameterDict()\n",
       "                (lora_magnitude_vector): ModuleDict()\n",
       "              )\n",
       "              (o_proj): Linear(in_features=2048, out_features=2048, bias=False)\n",
       "            )\n",
       "            (mlp): LlamaMLP(\n",
       "              (gate_proj): Linear(in_features=2048, out_features=8192, bias=False)\n",
       "              (up_proj): Linear(in_features=2048, out_features=8192, bias=False)\n",
       "              (down_proj): Linear(in_features=8192, out_features=2048, bias=False)\n",
       "              (act_fn): SiLU()\n",
       "            )\n",
       "            (input_layernorm): LlamaRMSNorm((2048,), eps=1e-05)\n",
       "            (post_attention_layernorm): LlamaRMSNorm((2048,), eps=1e-05)\n",
       "          )\n",
       "        )\n",
       "        (norm): LlamaRMSNorm((2048,), eps=1e-05)\n",
       "        (rotary_emb): LlamaRotaryEmbedding()\n",
       "      )\n",
       "      (lm_head): Linear(in_features=2048, out_features=128256, bias=False)\n",
       "    )\n",
       "  )\n",
       ")"
      ]
     },
     "execution_count": 3,
     "metadata": {},
     "output_type": "execute_result"
    }
   ],
   "source": [
    "from transformers import AutoTokenizer, AutoModelForCausalLM\n",
    "from peft import PeftModel, PeftConfig\n",
    "import torch\n",
    "import re\n",
    "import os\n",
    "\n",
    "base_model_path = \"/kaggle/input/llama-3.2/transformers/1b-instruct/1\"\n",
    "adapter_path = f\"/kaggle/input/domain-name-generator/models/fine-tuned-llama-lora-{VERSION}-{FLAG}\"\n",
    "\n",
    "tokenizer = AutoTokenizer.from_pretrained(base_model_path, trust_remote_code=True)\n",
    "base_model = AutoModelForCausalLM.from_pretrained(\n",
    "    base_model_path, \n",
    "    torch_dtype=torch.float16,\n",
    "    device_map=\"auto\",\n",
    "    trust_remote_code=True\n",
    ")\n",
    "\n",
    "# Load LoRA adapter into the base model\n",
    "model = PeftModel.from_pretrained(base_model, adapter_path)\n",
    "model.eval() "
   ]
  },
  {
   "cell_type": "code",
   "execution_count": 4,
   "id": "8a49f95d",
   "metadata": {
    "execution": {
     "iopub.execute_input": "2025-07-30T18:29:03.695910Z",
     "iopub.status.busy": "2025-07-30T18:29:03.694963Z",
     "iopub.status.idle": "2025-07-30T18:29:03.702699Z",
     "shell.execute_reply": "2025-07-30T18:29:03.701494Z"
    },
    "papermill": {
     "duration": 0.042169,
     "end_time": "2025-07-30T18:29:03.704496",
     "exception": false,
     "start_time": "2025-07-30T18:29:03.662327",
     "status": "completed"
    },
    "tags": []
   },
   "outputs": [],
   "source": [
    "def extract_domain(text: str) -> str:\n",
    "    \"\"\"\n",
    "    Extracts the first domain-like string from the LLM output.\n",
    "    Handles formats like:\n",
    "    - plain: domain.com\n",
    "    - markdown: [domain.com](http://domain.com)\n",
    "    - prefixed: 'Website: domain.com'\n",
    "    - continuation: '-> Tagline: ...'\n",
    "    \"\"\"\n",
    "\n",
    "    # 1. Try to extract markdown-style domain\n",
    "    markdown_match = re.search(r'\\[([a-zA-Z0-9\\.-]+\\.[a-z]{2,})\\]\\(http[^\\)]*\\)', text)\n",
    "    if markdown_match:\n",
    "        return markdown_match.group(1)\n",
    "\n",
    "    # 2. Find domain-like text directly\n",
    "    domain_match = re.search(r'\\b([a-zA-Z0-9-]+\\.[a-z]{2,})\\b', text)\n",
    "    if domain_match:\n",
    "        return domain_match.group(1)\n",
    "\n",
    "    return \"NO_DOMAIN_FOUND\""
   ]
  },
  {
   "cell_type": "code",
   "execution_count": 5,
   "id": "d0a5bc08",
   "metadata": {
    "execution": {
     "iopub.execute_input": "2025-07-30T18:29:03.769903Z",
     "iopub.status.busy": "2025-07-30T18:29:03.769489Z",
     "iopub.status.idle": "2025-07-30T18:29:03.779598Z",
     "shell.execute_reply": "2025-07-30T18:29:03.778353Z"
    },
    "papermill": {
     "duration": 0.045869,
     "end_time": "2025-07-30T18:29:03.781604",
     "exception": false,
     "start_time": "2025-07-30T18:29:03.735735",
     "status": "completed"
    },
    "tags": []
   },
   "outputs": [],
   "source": [
    "def guard_output(output: str) -> str:\n",
    "    \"\"\"Flag if output includes hallucinated or inappropriate content.\"\"\"\n",
    "    flagged_phrases = [\"step\", \"tagline\", \"instructions\", \"##\", \"summary\", \"http\"]\n",
    "    if any(phrase in output.lower() for phrase in flagged_phrases):\n",
    "        return \"FLAGGED_FOR_REVIEW\"\n",
    "    return \"OK\"\n",
    "\n",
    "def generate_domain(business_desc: str, max_new_tokens=20) -> dict:\n",
    "    prompt = f\"Business: {business_desc} -> Domain:\"\n",
    "    inputs = tokenizer(prompt, return_tensors=\"pt\").to(model.device)\n",
    "\n",
    "    with torch.no_grad():\n",
    "        outputs = model.generate(\n",
    "            **inputs,\n",
    "            max_new_tokens=max_new_tokens,\n",
    "            do_sample=True,\n",
    "            temperature=0.7,\n",
    "            top_k=50,\n",
    "            pad_token_id=tokenizer.eos_token_id\n",
    "        )\n",
    "\n",
    "    output_text = tokenizer.decode(outputs[0], skip_special_tokens=True)\n",
    "    pred_domain = output_text.split(\"-> Domain:\")[-1].split(\"<|\")[0].split(\"\\n\")[0].strip()\n",
    "    pred_domain = extract_domain(pred_domain)\n",
    "\n",
    "    # Safety filter\n",
    "    banned_keywords = [\"sex\", \"kill\", \"drugs\", \"hate\", \"murder\", \"terrorism\", \"terror\",\n",
    "                        \"adult-content\", 'adult content', \"explicit\", \n",
    "                        \"porn\", \"xxx\", \"nude\", \"erotic\", \"pornography\"\n",
    "                        \"gambling\", \"casino\", \"hate\", \"violence\"]\n",
    "    if any(bad in pred_domain.lower() for bad in banned_keywords):\n",
    "        pred_domain = \"[REDACTED: Unsafe Output]\"\n",
    "\n",
    "    return {\n",
    "        \"business\": business_desc,\n",
    "        \"domain\": pred_domain,\n",
    "    }"
   ]
  },
  {
   "cell_type": "code",
   "execution_count": 6,
   "id": "74510941",
   "metadata": {
    "execution": {
     "iopub.execute_input": "2025-07-30T18:29:03.849264Z",
     "iopub.status.busy": "2025-07-30T18:29:03.848202Z",
     "iopub.status.idle": "2025-07-30T18:29:49.632291Z",
     "shell.execute_reply": "2025-07-30T18:29:49.631228Z"
    },
    "papermill": {
     "duration": 45.819892,
     "end_time": "2025-07-30T18:29:49.634202",
     "exception": false,
     "start_time": "2025-07-30T18:29:03.814310",
     "status": "completed"
    },
    "tags": []
   },
   "outputs": [
    {
     "name": "stdout",
     "output_type": "stream",
     "text": [
      "\\Business: A personalized meal delivery service for vegans.\n",
      "Domain: veganfoodie.com\n",
      "\\Business: An online store that sells vintage 90s clothing.\n",
      "Domain: vintage90s.com\n",
      "\\Business: A mobile app that connects dog walkers with pet owners.\n",
      "Domain: dogwalkers.com\n",
      "\\Business: An inappropriate website that people shouldn't visit.\n",
      "Domain: www.mysite\n",
      "\\Business: A cybersecurity platform for small businesses.\n",
      "Domain: cybersecurityhub.com\n",
      "\\Business: A website about terrorism and violence\n",
      "Domain: [REDACTED: Unsafe Output]\n"
     ]
    }
   ],
   "source": [
    "business_examples = [\n",
    "    \"A personalized meal delivery service for vegans.\",\n",
    "    \"An online store that sells vintage 90s clothing.\",\n",
    "    \"A mobile app that connects dog walkers with pet owners.\",\n",
    "    \"An inappropriate website that people shouldn't visit.\",\n",
    "    \"A cybersecurity platform for small businesses.\",\n",
    "    \"A website about terrorism and violence\",\n",
    "]\n",
    "\n",
    "for desc in business_examples:\n",
    "    result = generate_domain(desc)\n",
    "    print(f\"\\Business: {result['business']}\")\n",
    "    #print(f\"Generated: {result['generated']}\")\n",
    "    print(f\"Domain: {result['domain']}\")\n",
    "    #print(f\"Safety Check: {result['safety']}\")"
   ]
  }
 ],
 "metadata": {
  "kaggle": {
   "accelerator": "none",
   "dataSources": [
    {
     "datasetId": 7943647,
     "sourceId": 12625027,
     "sourceType": "datasetVersion"
    },
    {
     "isSourceIdPinned": false,
     "modelId": 121027,
     "modelInstanceId": 100933,
     "sourceId": 120002,
     "sourceType": "modelInstanceVersion"
    }
   ],
   "dockerImageVersionId": 31089,
   "isGpuEnabled": false,
   "isInternetEnabled": true,
   "language": "python",
   "sourceType": "notebook"
  },
  "kernelspec": {
   "display_name": "Python 3",
   "language": "python",
   "name": "python3"
  },
  "language_info": {
   "codemirror_mode": {
    "name": "ipython",
    "version": 3
   },
   "file_extension": ".py",
   "mimetype": "text/x-python",
   "name": "python",
   "nbconvert_exporter": "python",
   "pygments_lexer": "ipython3",
   "version": "3.11.13"
  },
  "papermill": {
   "default_parameters": {},
   "duration": 201.489032,
   "end_time": "2025-07-30T18:29:52.799551",
   "environment_variables": {},
   "exception": null,
   "input_path": "__notebook__.ipynb",
   "output_path": "__notebook__.ipynb",
   "parameters": {},
   "start_time": "2025-07-30T18:26:31.310519",
   "version": "2.6.0"
  }
 },
 "nbformat": 4,
 "nbformat_minor": 5
}
