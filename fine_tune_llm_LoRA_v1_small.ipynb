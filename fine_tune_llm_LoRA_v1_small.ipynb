{
 "cells": [
  {
   "cell_type": "markdown",
   "id": "7d179abb",
   "metadata": {
    "papermill": {
     "duration": 0.004894,
     "end_time": "2025-07-30T14:35:46.197037",
     "exception": false,
     "start_time": "2025-07-30T14:35:46.192143",
     "status": "completed"
    },
    "tags": []
   },
   "source": [
    "# Part 2 - Fine Tune LLM\n",
    "- Fine tune LLM on our synthetically generated dataset to generate domain names from descriptions.\n",
    "- Do preliminary evaluation using various standard NLP metrics such as rouge, bleu, levenshtein, etc.\n",
    "- Due to time and Kaggle storage constraints, we'll just run this script changing different hyperparameters by hand as opposed to running a for loop over multiple configs, which would lead to a huge amount of space being used that will exceed the output allowance.\n",
    "- We will ultiamtely vary:\n",
    "    - Batch Size\n",
    "    - Learning Rate\n",
    "    - Switch on/off LoRA and PEFT"
   ]
  },
  {
   "cell_type": "code",
   "execution_count": 1,
   "id": "7c0fe23e",
   "metadata": {
    "execution": {
     "iopub.execute_input": "2025-07-30T14:35:46.206351Z",
     "iopub.status.busy": "2025-07-30T14:35:46.206138Z",
     "iopub.status.idle": "2025-07-30T14:35:46.211885Z",
     "shell.execute_reply": "2025-07-30T14:35:46.211199Z"
    },
    "papermill": {
     "duration": 0.0114,
     "end_time": "2025-07-30T14:35:46.212991",
     "exception": false,
     "start_time": "2025-07-30T14:35:46.201591",
     "status": "completed"
    },
    "tags": []
   },
   "outputs": [],
   "source": [
    "VERSION = 'v1'\n",
    "FLAG = 'small'"
   ]
  },
  {
   "cell_type": "code",
   "execution_count": 2,
   "id": "7c4de1a4",
   "metadata": {
    "execution": {
     "iopub.execute_input": "2025-07-30T14:35:46.221503Z",
     "iopub.status.busy": "2025-07-30T14:35:46.221335Z",
     "iopub.status.idle": "2025-07-30T14:37:02.283262Z",
     "shell.execute_reply": "2025-07-30T14:37:02.282220Z"
    },
    "papermill": {
     "duration": 76.067924,
     "end_time": "2025-07-30T14:37:02.284798",
     "exception": false,
     "start_time": "2025-07-30T14:35:46.216874",
     "status": "completed"
    },
    "tags": []
   },
   "outputs": [
    {
     "name": "stdout",
     "output_type": "stream",
     "text": [
      "  Preparing metadata (setup.py) ... \u001b[?25l\u001b[?25hdone\r\n",
      "\u001b[2K   \u001b[90m━━━━━━━━━━━━━━━━━━━━━━━━━━━━━━━━━━━━━━━━\u001b[0m \u001b[32m363.4/363.4 MB\u001b[0m \u001b[31m4.7 MB/s\u001b[0m eta \u001b[36m0:00:00\u001b[0m\r\n",
      "\u001b[2K   \u001b[90m━━━━━━━━━━━━━━━━━━━━━━━━━━━━━━━━━━━━━━━━\u001b[0m \u001b[32m13.8/13.8 MB\u001b[0m \u001b[31m114.8 MB/s\u001b[0m eta \u001b[36m0:00:00\u001b[0m\r\n",
      "\u001b[2K   \u001b[90m━━━━━━━━━━━━━━━━━━━━━━━━━━━━━━━━━━━━━━━━\u001b[0m \u001b[32m24.6/24.6 MB\u001b[0m \u001b[31m67.6 MB/s\u001b[0m eta \u001b[36m0:00:00\u001b[0m\r\n",
      "\u001b[2K   \u001b[90m━━━━━━━━━━━━━━━━━━━━━━━━━━━━━━━━━━━━━━━━\u001b[0m \u001b[32m883.7/883.7 kB\u001b[0m \u001b[31m42.8 MB/s\u001b[0m eta \u001b[36m0:00:00\u001b[0m\r\n",
      "\u001b[2K   \u001b[90m━━━━━━━━━━━━━━━━━━━━━━━━━━━━━━━━━━━━━━━━\u001b[0m \u001b[32m664.8/664.8 MB\u001b[0m \u001b[31m2.5 MB/s\u001b[0m eta \u001b[36m0:00:00\u001b[0m\r\n",
      "\u001b[2K   \u001b[90m━━━━━━━━━━━━━━━━━━━━━━━━━━━━━━━━━━━━━━━━\u001b[0m \u001b[32m211.5/211.5 MB\u001b[0m \u001b[31m6.0 MB/s\u001b[0m eta \u001b[36m0:00:00\u001b[0m\r\n",
      "\u001b[2K   \u001b[90m━━━━━━━━━━━━━━━━━━━━━━━━━━━━━━━━━━━━━━━━\u001b[0m \u001b[32m56.3/56.3 MB\u001b[0m \u001b[31m31.6 MB/s\u001b[0m eta \u001b[36m0:00:00\u001b[0m\r\n",
      "\u001b[2K   \u001b[90m━━━━━━━━━━━━━━━━━━━━━━━━━━━━━━━━━━━━━━━━\u001b[0m \u001b[32m127.9/127.9 MB\u001b[0m \u001b[31m13.6 MB/s\u001b[0m eta \u001b[36m0:00:00\u001b[0m\r\n",
      "\u001b[2K   \u001b[90m━━━━━━━━━━━━━━━━━━━━━━━━━━━━━━━━━━━━━━━━\u001b[0m \u001b[32m207.5/207.5 MB\u001b[0m \u001b[31m2.1 MB/s\u001b[0m eta \u001b[36m0:00:00\u001b[0m\r\n",
      "\u001b[2K   \u001b[90m━━━━━━━━━━━━━━━━━━━━━━━━━━━━━━━━━━━━━━━━\u001b[0m \u001b[32m21.1/21.1 MB\u001b[0m \u001b[31m81.2 MB/s\u001b[0m eta \u001b[36m0:00:00\u001b[0m\r\n",
      "\u001b[2K   \u001b[90m━━━━━━━━━━━━━━━━━━━━━━━━━━━━━━━━━━━━━━━━\u001b[0m \u001b[32m161.7/161.7 kB\u001b[0m \u001b[31m12.6 MB/s\u001b[0m eta \u001b[36m0:00:00\u001b[0m\r\n",
      "\u001b[2K   \u001b[90m━━━━━━━━━━━━━━━━━━━━━━━━━━━━━━━━━━━━━━━━\u001b[0m \u001b[32m3.1/3.1 MB\u001b[0m \u001b[31m85.4 MB/s\u001b[0m eta \u001b[36m0:00:00\u001b[0m\r\n",
      "\u001b[?25h  Building wheel for rouge_score (setup.py) ... \u001b[?25l\u001b[?25hdone\r\n"
     ]
    }
   ],
   "source": [
    "!pip install -q transformers torch peft rouge_score levenshtein"
   ]
  },
  {
   "cell_type": "code",
   "execution_count": 3,
   "id": "d1595b6d",
   "metadata": {
    "execution": {
     "iopub.execute_input": "2025-07-30T14:37:02.331808Z",
     "iopub.status.busy": "2025-07-30T14:37:02.331554Z",
     "iopub.status.idle": "2025-07-30T14:37:03.727779Z",
     "shell.execute_reply": "2025-07-30T14:37:03.727031Z"
    },
    "papermill": {
     "duration": 1.421013,
     "end_time": "2025-07-30T14:37:03.729258",
     "exception": false,
     "start_time": "2025-07-30T14:37:02.308245",
     "status": "completed"
    },
    "tags": []
   },
   "outputs": [],
   "source": [
    "import time\n",
    "import pandas as pd\n",
    "import json"
   ]
  },
  {
   "cell_type": "code",
   "execution_count": 4,
   "id": "ca2f43e3",
   "metadata": {
    "execution": {
     "iopub.execute_input": "2025-07-30T14:37:03.775865Z",
     "iopub.status.busy": "2025-07-30T14:37:03.775480Z",
     "iopub.status.idle": "2025-07-30T14:37:03.812875Z",
     "shell.execute_reply": "2025-07-30T14:37:03.812264Z"
    },
    "papermill": {
     "duration": 0.061381,
     "end_time": "2025-07-30T14:37:03.813913",
     "exception": false,
     "start_time": "2025-07-30T14:37:03.752532",
     "status": "completed"
    },
    "tags": []
   },
   "outputs": [
    {
     "data": {
      "text/html": [
       "<div>\n",
       "<style scoped>\n",
       "    .dataframe tbody tr th:only-of-type {\n",
       "        vertical-align: middle;\n",
       "    }\n",
       "\n",
       "    .dataframe tbody tr th {\n",
       "        vertical-align: top;\n",
       "    }\n",
       "\n",
       "    .dataframe thead th {\n",
       "        text-align: right;\n",
       "    }\n",
       "</style>\n",
       "<table border=\"1\" class=\"dataframe\">\n",
       "  <thead>\n",
       "    <tr style=\"text-align: right;\">\n",
       "      <th></th>\n",
       "      <th>business_description</th>\n",
       "      <th>domain_name</th>\n",
       "      <th>category</th>\n",
       "    </tr>\n",
       "  </thead>\n",
       "  <tbody>\n",
       "    <tr>\n",
       "      <th>0</th>\n",
       "      <td>A mobile app that helps people find local farm...</td>\n",
       "      <td>freshfinds.app</td>\n",
       "      <td>NaN</td>\n",
       "    </tr>\n",
       "    <tr>\n",
       "      <th>1</th>\n",
       "      <td>An online subscription service for eco-friendl...</td>\n",
       "      <td>greenbundle.com</td>\n",
       "      <td>NaN</td>\n",
       "    </tr>\n",
       "    <tr>\n",
       "      <th>2</th>\n",
       "      <td>A platform that helps small businesses adverti...</td>\n",
       "      <td>smallbusiness.co</td>\n",
       "      <td>NaN</td>\n",
       "    </tr>\n",
       "    <tr>\n",
       "      <th>3</th>\n",
       "      <td>A website that connects pet owners with local ...</td>\n",
       "      <td>petsitter.com</td>\n",
       "      <td>NaN</td>\n",
       "    </tr>\n",
       "    <tr>\n",
       "      <th>4</th>\n",
       "      <td>A blog platform for creative writers to share ...</td>\n",
       "      <td>writeon.com</td>\n",
       "      <td>NaN</td>\n",
       "    </tr>\n",
       "  </tbody>\n",
       "</table>\n",
       "</div>"
      ],
      "text/plain": [
       "                                business_description       domain_name  \\\n",
       "0  A mobile app that helps people find local farm...    freshfinds.app   \n",
       "1  An online subscription service for eco-friendl...   greenbundle.com   \n",
       "2  A platform that helps small businesses adverti...  smallbusiness.co   \n",
       "3  A website that connects pet owners with local ...     petsitter.com   \n",
       "4  A blog platform for creative writers to share ...       writeon.com   \n",
       "\n",
       "  category  \n",
       "0      NaN  \n",
       "1      NaN  \n",
       "2      NaN  \n",
       "3      NaN  \n",
       "4      NaN  "
      ]
     },
     "execution_count": 4,
     "metadata": {},
     "output_type": "execute_result"
    }
   ],
   "source": [
    "# Load in data\n",
    "df = pd.read_csv('/kaggle/input/domain-name-generator/data/synthetic_data-small.csv')\n",
    "df.head()"
   ]
  },
  {
   "cell_type": "code",
   "execution_count": 5,
   "id": "77292da9",
   "metadata": {
    "execution": {
     "iopub.execute_input": "2025-07-30T14:37:03.860895Z",
     "iopub.status.busy": "2025-07-30T14:37:03.860700Z",
     "iopub.status.idle": "2025-07-30T14:37:31.859794Z",
     "shell.execute_reply": "2025-07-30T14:37:31.858969Z"
    },
    "papermill": {
     "duration": 28.023648,
     "end_time": "2025-07-30T14:37:31.861370",
     "exception": false,
     "start_time": "2025-07-30T14:37:03.837722",
     "status": "completed"
    },
    "tags": []
   },
   "outputs": [
    {
     "name": "stderr",
     "output_type": "stream",
     "text": [
      "2025-07-30 14:37:20.138660: E external/local_xla/xla/stream_executor/cuda/cuda_fft.cc:477] Unable to register cuFFT factory: Attempting to register factory for plugin cuFFT when one has already been registered\n",
      "WARNING: All log messages before absl::InitializeLog() is called are written to STDERR\n",
      "E0000 00:00:1753886240.314806      19 cuda_dnn.cc:8310] Unable to register cuDNN factory: Attempting to register factory for plugin cuDNN when one has already been registered\n",
      "E0000 00:00:1753886240.367378      19 cuda_blas.cc:1418] Unable to register cuBLAS factory: Attempting to register factory for plugin cuBLAS when one has already been registered\n"
     ]
    }
   ],
   "source": [
    "# Create dataset object for training\n",
    "from datasets import load_dataset, Dataset, DatasetDict\n",
    "from transformers import AutoTokenizer, AutoModelForCausalLM, TrainingArguments, Trainer, DataCollatorForLanguageModeling\n",
    "from peft import get_peft_model, LoraConfig, TaskType\n",
    "import torch\n",
    "from sklearn.model_selection import train_test_split"
   ]
  },
  {
   "cell_type": "code",
   "execution_count": 6,
   "id": "6e557b4e",
   "metadata": {
    "execution": {
     "iopub.execute_input": "2025-07-30T14:37:31.909138Z",
     "iopub.status.busy": "2025-07-30T14:37:31.908591Z",
     "iopub.status.idle": "2025-07-30T14:37:31.940645Z",
     "shell.execute_reply": "2025-07-30T14:37:31.940116Z"
    },
    "papermill": {
     "duration": 0.056338,
     "end_time": "2025-07-30T14:37:31.941651",
     "exception": false,
     "start_time": "2025-07-30T14:37:31.885313",
     "status": "completed"
    },
    "tags": []
   },
   "outputs": [],
   "source": [
    "# Combine into prompt: \"Business: {description} -> Domain: {domain_name}\" for autoregressie model\n",
    "df[\"text\"] = df.apply(lambda row: f\"Business: {row['business_description']} -> Domain: {row['domain_name']}\", axis=1)\n",
    "\n",
    "# Split data set and turn into data set objects\n",
    "train_df, test_df = train_test_split(df, test_size=0.1, random_state=42)\n",
    "train_df.to_csv('train.csv',index=False)\n",
    "test_df.to_csv('test.csv',index=False)\n",
    "\n",
    "# Add a stop tag to the text column\n",
    "#train_df['text'] = train_df['text'] + '<|eot_id|>'\n",
    "#test_df['text'] = test_df['text'] + '<|eot_id|>'\n",
    "\n",
    "train_dataset = Dataset.from_pandas(train_df[[\"text\"]])\n",
    "test_dataset = Dataset.from_pandas(test_df[[\"text\"]])\n",
    "\n",
    "# Create dict of both training and testing for easy access in Trainer\n",
    "datasets = DatasetDict({\"train\": train_dataset, \"test\": test_dataset})"
   ]
  },
  {
   "cell_type": "code",
   "execution_count": 7,
   "id": "98c3b556",
   "metadata": {
    "execution": {
     "iopub.execute_input": "2025-07-30T14:37:31.987645Z",
     "iopub.status.busy": "2025-07-30T14:37:31.987420Z",
     "iopub.status.idle": "2025-07-30T14:37:31.994257Z",
     "shell.execute_reply": "2025-07-30T14:37:31.993529Z"
    },
    "papermill": {
     "duration": 0.031009,
     "end_time": "2025-07-30T14:37:31.995416",
     "exception": false,
     "start_time": "2025-07-30T14:37:31.964407",
     "status": "completed"
    },
    "tags": []
   },
   "outputs": [
    {
     "name": "stdout",
     "output_type": "stream",
     "text": [
      "Business: A subscription box service that delivers healthy snacks and wellness products to your home. -> Domain: wellnessbox.com\n"
     ]
    }
   ],
   "source": [
    "# Explore a piece of dataset as sanity check\n",
    "print(datasets['train'][0]['text'])"
   ]
  },
  {
   "cell_type": "code",
   "execution_count": 8,
   "id": "de9ba395",
   "metadata": {
    "execution": {
     "iopub.execute_input": "2025-07-30T14:37:32.087835Z",
     "iopub.status.busy": "2025-07-30T14:37:32.087587Z",
     "iopub.status.idle": "2025-07-30T14:37:32.393653Z",
     "shell.execute_reply": "2025-07-30T14:37:32.392897Z"
    },
    "papermill": {
     "duration": 0.376563,
     "end_time": "2025-07-30T14:37:32.394893",
     "exception": false,
     "start_time": "2025-07-30T14:37:32.018330",
     "status": "completed"
    },
    "tags": []
   },
   "outputs": [],
   "source": [
    "from kaggle_secrets import UserSecretsClient\n",
    "user_secrets = UserSecretsClient()\n",
    "hf_token = user_secrets.get_secret(\"HF_TOKEN\")"
   ]
  },
  {
   "cell_type": "code",
   "execution_count": 9,
   "id": "74b1a09f",
   "metadata": {
    "execution": {
     "iopub.execute_input": "2025-07-30T14:37:32.450921Z",
     "iopub.status.busy": "2025-07-30T14:37:32.450301Z",
     "iopub.status.idle": "2025-07-30T14:37:36.979856Z",
     "shell.execute_reply": "2025-07-30T14:37:36.978961Z"
    },
    "papermill": {
     "duration": 4.556314,
     "end_time": "2025-07-30T14:37:36.981367",
     "exception": false,
     "start_time": "2025-07-30T14:37:32.425053",
     "status": "completed"
    },
    "tags": []
   },
   "outputs": [
    {
     "name": "stderr",
     "output_type": "stream",
     "text": [
      "/usr/local/lib/python3.11/dist-packages/transformers/models/auto/tokenization_auto.py:902: FutureWarning: The `use_auth_token` argument is deprecated and will be removed in v5 of Transformers. Please use `token` instead.\n",
      "  warnings.warn(\n"
     ]
    },
    {
     "data": {
      "application/vnd.jupyter.widget-view+json": {
       "model_id": "5b30951a8d1c4db68db3c2238e02f636",
       "version_major": 2,
       "version_minor": 0
      },
      "text/plain": [
       "tokenizer_config.json:   0%|          | 0.00/54.5k [00:00<?, ?B/s]"
      ]
     },
     "metadata": {},
     "output_type": "display_data"
    },
    {
     "data": {
      "application/vnd.jupyter.widget-view+json": {
       "model_id": "ef4cd4a10153476e8ce2eedc2651adc4",
       "version_major": 2,
       "version_minor": 0
      },
      "text/plain": [
       "tokenizer.json:   0%|          | 0.00/9.09M [00:00<?, ?B/s]"
      ]
     },
     "metadata": {},
     "output_type": "display_data"
    },
    {
     "data": {
      "application/vnd.jupyter.widget-view+json": {
       "model_id": "8629e42126534dd8be6b731560979355",
       "version_major": 2,
       "version_minor": 0
      },
      "text/plain": [
       "special_tokens_map.json:   0%|          | 0.00/296 [00:00<?, ?B/s]"
      ]
     },
     "metadata": {},
     "output_type": "display_data"
    }
   ],
   "source": [
    "model_name_or_path = \"/kaggle/input/llama-3.2/transformers/1b-instruct/1\"\n",
    "#tokenizer = AutoTokenizer.from_pretrained(model_name_or_path, trust_remote_code=True)\n",
    "tokenizer = AutoTokenizer.from_pretrained(\n",
    "    \"meta-llama/Llama-3.2-1B-Instruct\", \n",
    "    trust_remote_code=True,\n",
    "    use_auth_token=hf_token)\n",
    "\n",
    "#tokenizer.pad_token = tokenizer.eos_token\n",
    "#tokenizer.add_special_tokens({'pad_token': '[PAD]'})  # Add a safe pad token\n",
    "tokenizer.pad_token = \"<|eot_id|>\"  # if not already set\n",
    "tokenizer.eos_token = \"<|eot_id|>\""
   ]
  },
  {
   "cell_type": "code",
   "execution_count": 10,
   "id": "842edaf4",
   "metadata": {
    "execution": {
     "iopub.execute_input": "2025-07-30T14:37:37.034629Z",
     "iopub.status.busy": "2025-07-30T14:37:37.034120Z",
     "iopub.status.idle": "2025-07-30T14:38:07.481145Z",
     "shell.execute_reply": "2025-07-30T14:38:07.480417Z"
    },
    "papermill": {
     "duration": 30.473463,
     "end_time": "2025-07-30T14:38:07.482377",
     "exception": false,
     "start_time": "2025-07-30T14:37:37.008914",
     "status": "completed"
    },
    "tags": []
   },
   "outputs": [
    {
     "data": {
      "application/vnd.jupyter.widget-view+json": {
       "model_id": "a605d306ec0d4e5aa8b334165806cc7c",
       "version_major": 2,
       "version_minor": 0
      },
      "text/plain": [
       "Map:   0%|          | 0/175 [00:00<?, ? examples/s]"
      ]
     },
     "metadata": {},
     "output_type": "display_data"
    },
    {
     "data": {
      "application/vnd.jupyter.widget-view+json": {
       "model_id": "01b6bc73bcab4aa1b938bdbc3d02c37f",
       "version_major": 2,
       "version_minor": 0
      },
      "text/plain": [
       "Map:   0%|          | 0/20 [00:00<?, ? examples/s]"
      ]
     },
     "metadata": {},
     "output_type": "display_data"
    }
   ],
   "source": [
    "# Load base model and tokenize\n",
    "model = AutoModelForCausalLM.from_pretrained(\n",
    "    model_name_or_path,\n",
    "    #torch_dtype=torch.bfloat16,\n",
    "    #torch_dtype=torch.float16,\n",
    "    device_map=\"auto\" # put onto cuda automatically if available\n",
    ")\n",
    "model.resize_token_embeddings(len(tokenizer))         # Resize embedding to include [PAD]\n",
    "model.config.eos_token_id = tokenizer.eos_token_id\n",
    "\n",
    "def tokenize(example):\n",
    "    result = tokenizer(\n",
    "        example[\"text\"], \n",
    "        truncation=True, \n",
    "        padding=True,\n",
    "        #padding=\"max_length\", \n",
    "        max_length=128\n",
    "    )\n",
    "    result['labels'] = result['input_ids'].copy()\n",
    "    return result\n",
    "\n",
    "tokenized_dataset = datasets.map(tokenize, batched=True)"
   ]
  },
  {
   "cell_type": "code",
   "execution_count": 11,
   "id": "1c72ae2c",
   "metadata": {
    "execution": {
     "iopub.execute_input": "2025-07-30T14:38:07.531043Z",
     "iopub.status.busy": "2025-07-30T14:38:07.530694Z",
     "iopub.status.idle": "2025-07-30T14:38:07.534700Z",
     "shell.execute_reply": "2025-07-30T14:38:07.534037Z"
    },
    "papermill": {
     "duration": 0.029293,
     "end_time": "2025-07-30T14:38:07.535790",
     "exception": false,
     "start_time": "2025-07-30T14:38:07.506497",
     "status": "completed"
    },
    "tags": []
   },
   "outputs": [
    {
     "name": "stdout",
     "output_type": "stream",
     "text": [
      "{'bos_token': '<|begin_of_text|>', 'eos_token': '<|eot_id|>', 'pad_token': '<|eot_id|>'}\n"
     ]
    }
   ],
   "source": [
    "# Check one input after tokenizing\n",
    "print(tokenizer.special_tokens_map)"
   ]
  },
  {
   "cell_type": "code",
   "execution_count": 12,
   "id": "03906b2d",
   "metadata": {
    "execution": {
     "iopub.execute_input": "2025-07-30T14:38:07.583741Z",
     "iopub.status.busy": "2025-07-30T14:38:07.583205Z",
     "iopub.status.idle": "2025-07-30T14:38:08.019424Z",
     "shell.execute_reply": "2025-07-30T14:38:08.018844Z"
    },
    "papermill": {
     "duration": 0.461666,
     "end_time": "2025-07-30T14:38:08.020769",
     "exception": false,
     "start_time": "2025-07-30T14:38:07.559103",
     "status": "completed"
    },
    "tags": []
   },
   "outputs": [],
   "source": [
    "# Create LoRA (parameter-efficient fine-tuning) and wrap model in it\n",
    "peft_config = LoraConfig(\n",
    "    r=8,\n",
    "    lora_alpha=32,\n",
    "    target_modules=[\"q_proj\", \"v_proj\"],\n",
    "    lora_dropout=0.05,\n",
    "    bias=\"none\",\n",
    "    task_type=TaskType.CAUSAL_LM\n",
    ")\n",
    "\n",
    "# Commenting out removes peft and does full fine tuning\n",
    "model = get_peft_model(model, peft_config)"
   ]
  },
  {
   "cell_type": "code",
   "execution_count": 13,
   "id": "22e71ce2",
   "metadata": {
    "execution": {
     "iopub.execute_input": "2025-07-30T14:38:08.069791Z",
     "iopub.status.busy": "2025-07-30T14:38:08.069551Z",
     "iopub.status.idle": "2025-07-30T14:38:08.073475Z",
     "shell.execute_reply": "2025-07-30T14:38:08.072760Z"
    },
    "papermill": {
     "duration": 0.029056,
     "end_time": "2025-07-30T14:38:08.074577",
     "exception": false,
     "start_time": "2025-07-30T14:38:08.045521",
     "status": "completed"
    },
    "tags": []
   },
   "outputs": [],
   "source": [
    "# Create data collator to patch, dynamically pad, etc.\n",
    "data_collator = DataCollatorForLanguageModeling(\n",
    "    tokenizer, \n",
    "    mlm=False\n",
    ")\n",
    "\n",
    "if tokenizer.pad_token is None:\n",
    "    tokenizer.add_special_tokens({'pad_token': '[PAD]'})\n",
    "    model.resize_token_embeddings(len(tokenizer))"
   ]
  },
  {
   "cell_type": "code",
   "execution_count": 14,
   "id": "bfde1e55",
   "metadata": {
    "execution": {
     "iopub.execute_input": "2025-07-30T14:38:08.121559Z",
     "iopub.status.busy": "2025-07-30T14:38:08.121358Z",
     "iopub.status.idle": "2025-07-30T14:38:08.162443Z",
     "shell.execute_reply": "2025-07-30T14:38:08.161750Z"
    },
    "papermill": {
     "duration": 0.065651,
     "end_time": "2025-07-30T14:38:08.163487",
     "exception": false,
     "start_time": "2025-07-30T14:38:08.097836",
     "status": "completed"
    },
    "tags": []
   },
   "outputs": [
    {
     "name": "stderr",
     "output_type": "stream",
     "text": [
      "/tmp/ipykernel_19/3942653682.py:18: FutureWarning: `tokenizer` is deprecated and will be removed in version 5.0.0 for `Trainer.__init__`. Use `processing_class` instead.\n",
      "  trainer = Trainer(\n",
      "No label_names provided for model class `PeftModelForCausalLM`. Since `PeftModel` hides base models input arguments, if label_names is not given, label_names can't be set automatically within `Trainer`. Note that empty label_names list will be used instead.\n"
     ]
    }
   ],
   "source": [
    "# Create training arguments, data-collator ()\n",
    "\n",
    "training_args = TrainingArguments(\n",
    "    output_dir=\"./outputs\",\n",
    "    per_device_train_batch_size=4,\n",
    "    gradient_accumulation_steps=4,\n",
    "    num_train_epochs=3,\n",
    "    learning_rate=5e-5,\n",
    "    #fp16=True,\n",
    "    logging_dir=\"./logs\",\n",
    "    logging_steps=10,\n",
    "    save_steps=1000,\n",
    "    save_total_limit=2,\n",
    "    report_to=\"none\",\n",
    "    max_grad_norm=1.0,\n",
    ")\n",
    "\n",
    "trainer = Trainer(\n",
    "    model=model,\n",
    "    args=training_args,\n",
    "    train_dataset=tokenized_dataset[\"train\"],\n",
    "    eval_dataset=tokenized_dataset[\"test\"],\n",
    "    data_collator=data_collator,\n",
    "    tokenizer=tokenizer\n",
    ")"
   ]
  },
  {
   "cell_type": "code",
   "execution_count": 15,
   "id": "bc86376c",
   "metadata": {
    "execution": {
     "iopub.execute_input": "2025-07-30T14:38:08.210639Z",
     "iopub.status.busy": "2025-07-30T14:38:08.210436Z",
     "iopub.status.idle": "2025-07-30T14:38:08.216025Z",
     "shell.execute_reply": "2025-07-30T14:38:08.215373Z"
    },
    "papermill": {
     "duration": 0.030274,
     "end_time": "2025-07-30T14:38:08.217185",
     "exception": false,
     "start_time": "2025-07-30T14:38:08.186911",
     "status": "completed"
    },
    "tags": []
   },
   "outputs": [
    {
     "name": "stdout",
     "output_type": "stream",
     "text": [
      "<|begin_of_text|>Business: A subscription box service that delivers healthy snacks and wellness products to your home. -> Domain: wellnessbox.com<|eot_id|><|eot_id|><|eot_id|><|eot_id|><|eot_id|><|eot_id|>\n"
     ]
    }
   ],
   "source": [
    "# Look at a few inputs pre training\n",
    "for i in range(1):\n",
    "    print(tokenizer.decode(tokenized_dataset[\"train\"][i][\"input_ids\"]))"
   ]
  },
  {
   "cell_type": "code",
   "execution_count": 16,
   "id": "723b7fff",
   "metadata": {
    "execution": {
     "iopub.execute_input": "2025-07-30T14:38:08.264611Z",
     "iopub.status.busy": "2025-07-30T14:38:08.264432Z",
     "iopub.status.idle": "2025-07-30T14:38:26.572478Z",
     "shell.execute_reply": "2025-07-30T14:38:26.571724Z"
    },
    "papermill": {
     "duration": 18.333462,
     "end_time": "2025-07-30T14:38:26.574188",
     "exception": false,
     "start_time": "2025-07-30T14:38:08.240726",
     "status": "completed"
    },
    "tags": []
   },
   "outputs": [
    {
     "data": {
      "text/html": [
       "\n",
       "    <div>\n",
       "      \n",
       "      <progress value='33' max='33' style='width:300px; height:20px; vertical-align: middle;'></progress>\n",
       "      [33/33 00:16, Epoch 3/3]\n",
       "    </div>\n",
       "    <table border=\"1\" class=\"dataframe\">\n",
       "  <thead>\n",
       " <tr style=\"text-align: left;\">\n",
       "      <th>Step</th>\n",
       "      <th>Training Loss</th>\n",
       "    </tr>\n",
       "  </thead>\n",
       "  <tbody>\n",
       "    <tr>\n",
       "      <td>10</td>\n",
       "      <td>3.846000</td>\n",
       "    </tr>\n",
       "    <tr>\n",
       "      <td>20</td>\n",
       "      <td>3.488400</td>\n",
       "    </tr>\n",
       "    <tr>\n",
       "      <td>30</td>\n",
       "      <td>3.235100</td>\n",
       "    </tr>\n",
       "  </tbody>\n",
       "</table><p>"
      ],
      "text/plain": [
       "<IPython.core.display.HTML object>"
      ]
     },
     "metadata": {},
     "output_type": "display_data"
    },
    {
     "data": {
      "text/plain": [
       "('./fine-tuned-llama-domain-generator-v1/tokenizer_config.json',\n",
       " './fine-tuned-llama-domain-generator-v1/special_tokens_map.json',\n",
       " './fine-tuned-llama-domain-generator-v1/chat_template.jinja',\n",
       " './fine-tuned-llama-domain-generator-v1/tokenizer.json')"
      ]
     },
     "execution_count": 16,
     "metadata": {},
     "output_type": "execute_result"
    }
   ],
   "source": [
    "trainer.train()\n",
    "\n",
    "# Save final model\n",
    "trainer.save_model(f\"./fine-tuned-llama-domain-generator-{VERSION}\")\n",
    "tokenizer.save_pretrained(f\"./fine-tuned-llama-domain-generator-{VERSION}\")"
   ]
  },
  {
   "cell_type": "markdown",
   "id": "af815b32",
   "metadata": {
    "papermill": {
     "duration": 0.023654,
     "end_time": "2025-07-30T14:38:26.628785",
     "exception": false,
     "start_time": "2025-07-30T14:38:26.605131",
     "status": "completed"
    },
    "tags": []
   },
   "source": [
    "#### Checks Before Eval"
   ]
  },
  {
   "cell_type": "code",
   "execution_count": 17,
   "id": "133d2c37",
   "metadata": {
    "execution": {
     "iopub.execute_input": "2025-07-30T14:38:26.677204Z",
     "iopub.status.busy": "2025-07-30T14:38:26.676323Z",
     "iopub.status.idle": "2025-07-30T14:38:26.682334Z",
     "shell.execute_reply": "2025-07-30T14:38:26.681727Z"
    },
    "papermill": {
     "duration": 0.031162,
     "end_time": "2025-07-30T14:38:26.683353",
     "exception": false,
     "start_time": "2025-07-30T14:38:26.652191",
     "status": "completed"
    },
    "tags": []
   },
   "outputs": [
    {
     "data": {
      "text/plain": [
       "'A subscription box service for unique, handmade jewelry.'"
      ]
     },
     "execution_count": 17,
     "metadata": {},
     "output_type": "execute_result"
    }
   ],
   "source": [
    "# Generate a sample prompt from the test set\n",
    "sample_prompt = datasets['test'][0]['text'].split(\"-> Domain:\")[0].replace(\"Business:\", \"\").strip()\n",
    "sample_true_domain = datasets['test'][0]['text'].split(\"-> Domain:\")[-1].strip()\n",
    "sample_prompt"
   ]
  },
  {
   "cell_type": "code",
   "execution_count": 18,
   "id": "969b4567",
   "metadata": {
    "execution": {
     "iopub.execute_input": "2025-07-30T14:38:26.731260Z",
     "iopub.status.busy": "2025-07-30T14:38:26.731048Z",
     "iopub.status.idle": "2025-07-30T14:38:26.735507Z",
     "shell.execute_reply": "2025-07-30T14:38:26.734977Z"
    },
    "papermill": {
     "duration": 0.029751,
     "end_time": "2025-07-30T14:38:26.736543",
     "exception": false,
     "start_time": "2025-07-30T14:38:26.706792",
     "status": "completed"
    },
    "tags": []
   },
   "outputs": [
    {
     "data": {
      "text/plain": [
       "'Business: A subscription box service for unique, handmade jewelry. -> Domain: handmadebox.com'"
      ]
     },
     "execution_count": 18,
     "metadata": {},
     "output_type": "execute_result"
    }
   ],
   "source": [
    "datasets['test'][0]['text']"
   ]
  },
  {
   "cell_type": "code",
   "execution_count": 19,
   "id": "e3831b42",
   "metadata": {
    "execution": {
     "iopub.execute_input": "2025-07-30T14:38:26.785220Z",
     "iopub.status.busy": "2025-07-30T14:38:26.784591Z",
     "iopub.status.idle": "2025-07-30T14:38:26.811452Z",
     "shell.execute_reply": "2025-07-30T14:38:26.810720Z"
    },
    "papermill": {
     "duration": 0.052424,
     "end_time": "2025-07-30T14:38:26.812532",
     "exception": false,
     "start_time": "2025-07-30T14:38:26.760108",
     "status": "completed"
    },
    "tags": []
   },
   "outputs": [
    {
     "name": "stdout",
     "output_type": "stream",
     "text": [
      "Max token ID: 128000\n",
      "Model vocab size: 128256\n",
      "{'input_ids': tensor([[128000,     32,  15493,   3830,   2532,    369,   5016,     11,  52786,\n",
      "          31817,     13]], device='cuda:0'), 'attention_mask': tensor([[1, 1, 1, 1, 1, 1, 1, 1, 1, 1, 1]], device='cuda:0')}\n"
     ]
    }
   ],
   "source": [
    "# Put into tokenizer\n",
    "inputs = tokenizer(sample_prompt, return_tensors=\"pt\").to(model.device)\n",
    "print(\"Max token ID:\", inputs[\"input_ids\"].max().item())\n",
    "print(\"Model vocab size:\", model.config.vocab_size)\n",
    "print(inputs)"
   ]
  },
  {
   "cell_type": "code",
   "execution_count": 20,
   "id": "0c114fd4",
   "metadata": {
    "execution": {
     "iopub.execute_input": "2025-07-30T14:38:26.860639Z",
     "iopub.status.busy": "2025-07-30T14:38:26.860105Z",
     "iopub.status.idle": "2025-07-30T14:38:26.864361Z",
     "shell.execute_reply": "2025-07-30T14:38:26.863683Z"
    },
    "papermill": {
     "duration": 0.029209,
     "end_time": "2025-07-30T14:38:26.865391",
     "exception": false,
     "start_time": "2025-07-30T14:38:26.836182",
     "status": "completed"
    },
    "tags": []
   },
   "outputs": [
    {
     "name": "stdout",
     "output_type": "stream",
     "text": [
      "pad_token_id: 128009\n",
      "eos_token_id: 128009\n",
      "vocab size: 128256\n"
     ]
    }
   ],
   "source": [
    "# Check to make sure we're not having token id mis matches\n",
    "print(\"pad_token_id:\", tokenizer.pad_token_id)\n",
    "print(\"eos_token_id:\", tokenizer.eos_token_id)\n",
    "print(\"vocab size:\", model.config.vocab_size)"
   ]
  },
  {
   "cell_type": "code",
   "execution_count": 21,
   "id": "b54c123b",
   "metadata": {
    "execution": {
     "iopub.execute_input": "2025-07-30T14:38:26.913565Z",
     "iopub.status.busy": "2025-07-30T14:38:26.913387Z",
     "iopub.status.idle": "2025-07-30T14:38:26.917551Z",
     "shell.execute_reply": "2025-07-30T14:38:26.917076Z"
    },
    "papermill": {
     "duration": 0.029496,
     "end_time": "2025-07-30T14:38:26.918610",
     "exception": false,
     "start_time": "2025-07-30T14:38:26.889114",
     "status": "completed"
    },
    "tags": []
   },
   "outputs": [
    {
     "data": {
      "text/plain": [
       "'\\nmodel_id = \"/kaggle/input/llama-3.2/transformers/1b-instruct/1\"\\nmodel = AutoModelForCausalLM.from_pretrained(model_id, device_map=\"auto\", torch_dtype=torch.float16)\\ntokenizer = AutoTokenizer.from_pretrained(\\n    \"meta-llama/Llama-3.2-1B-Instruct\", \\n    trust_remote_code=True,\\n    use_auth_token=hf_token)\\n\\nprompt = \"Business: dog walking service -> Domain:\"\\ninputs = tokenizer(sample_prompt, return_tensors=\"pt\")\\ninputs = {k: v.to(model.device) for k, v in inputs.items()}\\n\\nmodel.eval()\\nwith torch.no_grad():\\n    outputs = model.generate(\\n        **inputs,\\n        max_new_tokens=10,\\n        do_sample=False,\\n        pad_token_id=tokenizer.pad_token_id or tokenizer.eos_token_id,\\n        eos_token_id=tokenizer.eos_token_id,\\n    )\\nprint(tokenizer.decode(outputs[0]))\\n'"
      ]
     },
     "execution_count": 21,
     "metadata": {},
     "output_type": "execute_result"
    }
   ],
   "source": [
    "'''\n",
    "model_id = \"/kaggle/input/llama-3.2/transformers/1b-instruct/1\"\n",
    "model = AutoModelForCausalLM.from_pretrained(model_id, device_map=\"auto\", torch_dtype=torch.float16)\n",
    "tokenizer = AutoTokenizer.from_pretrained(\n",
    "    \"meta-llama/Llama-3.2-1B-Instruct\", \n",
    "    trust_remote_code=True,\n",
    "    use_auth_token=hf_token)\n",
    "\n",
    "prompt = \"Business: dog walking service -> Domain:\"\n",
    "inputs = tokenizer(sample_prompt, return_tensors=\"pt\")\n",
    "inputs = {k: v.to(model.device) for k, v in inputs.items()}\n",
    "\n",
    "model.eval()\n",
    "with torch.no_grad():\n",
    "    outputs = model.generate(\n",
    "        **inputs,\n",
    "        max_new_tokens=10,\n",
    "        do_sample=False,\n",
    "        pad_token_id=tokenizer.pad_token_id or tokenizer.eos_token_id,\n",
    "        eos_token_id=tokenizer.eos_token_id,\n",
    "    )\n",
    "print(tokenizer.decode(outputs[0]))\n",
    "'''"
   ]
  },
  {
   "cell_type": "markdown",
   "id": "6879e357",
   "metadata": {
    "papermill": {
     "duration": 0.023357,
     "end_time": "2025-07-30T14:38:26.965610",
     "exception": false,
     "start_time": "2025-07-30T14:38:26.942253",
     "status": "completed"
    },
    "tags": []
   },
   "source": [
    "## Evaluating model\n",
    "- We do have some eval metrics above that computes \"language model loss\" which measures model's ability to predict the next token, not necessarily how relevant/quality the output is.\n",
    "- Thus, we implement some scoring\n",
    "    - ROUGE (Recall-Oriented Understudy for Gisting Evaluation) is a set of metrics used to evaluate the quality of machine-generated summaries by comparing them to human-written reference summaries.\n",
    "    - In general, a ROUGE score above 0.5 is often considered good, especially for ROUGE-1, while scores below 0.2 are often considered poor.\n",
    "    - A good BLEU (bilingual evaluation understudy) score is above 0.3...however, this isn't the best use case for BLEU since its primarily used for tranlsation.\n",
    "    - A good levenshtein distance is not a fixed thing, but 0 represents identical strings."
   ]
  },
  {
   "cell_type": "code",
   "execution_count": 22,
   "id": "da1c756b",
   "metadata": {
    "execution": {
     "iopub.execute_input": "2025-07-30T14:38:27.013413Z",
     "iopub.status.busy": "2025-07-30T14:38:27.013215Z",
     "iopub.status.idle": "2025-07-30T14:38:27.496624Z",
     "shell.execute_reply": "2025-07-30T14:38:27.496055Z"
    },
    "papermill": {
     "duration": 0.508657,
     "end_time": "2025-07-30T14:38:27.497887",
     "exception": false,
     "start_time": "2025-07-30T14:38:26.989230",
     "status": "completed"
    },
    "tags": []
   },
   "outputs": [],
   "source": [
    "from rouge_score import rouge_scorer\n",
    "import matplotlib.pyplot as plt\n",
    "from nltk.translate.bleu_score import sentence_bleu, SmoothingFunction\n",
    "import Levenshtein\n",
    "import re"
   ]
  },
  {
   "cell_type": "code",
   "execution_count": 23,
   "id": "d6ff5ad0",
   "metadata": {
    "execution": {
     "iopub.execute_input": "2025-07-30T14:38:27.547569Z",
     "iopub.status.busy": "2025-07-30T14:38:27.546890Z",
     "iopub.status.idle": "2025-07-30T14:38:27.550999Z",
     "shell.execute_reply": "2025-07-30T14:38:27.550534Z"
    },
    "papermill": {
     "duration": 0.02965,
     "end_time": "2025-07-30T14:38:27.552091",
     "exception": false,
     "start_time": "2025-07-30T14:38:27.522441",
     "status": "completed"
    },
    "tags": []
   },
   "outputs": [],
   "source": [
    "def extract_domain(text: str) -> str:\n",
    "    \"\"\"\n",
    "    Extracts the first domain-like string from the LLM output.\n",
    "    Handles formats like:\n",
    "    - plain: domain.com\n",
    "    - markdown: [domain.com](http://domain.com)\n",
    "    - prefixed: 'Website: domain.com'\n",
    "    - continuation: '-> Tagline: ...'\n",
    "    \"\"\"\n",
    "\n",
    "    # 1. Try to extract markdown-style domain\n",
    "    markdown_match = re.search(r'\\[([a-zA-Z0-9\\.-]+\\.[a-z]{2,})\\]\\(http[^\\)]*\\)', text)\n",
    "    if markdown_match:\n",
    "        return markdown_match.group(1)\n",
    "\n",
    "    # 2. Find domain-like text directly\n",
    "    domain_match = re.search(r'\\b([a-zA-Z0-9-]+\\.[a-z]{2,})\\b', text)\n",
    "    if domain_match:\n",
    "        return domain_match.group(1)\n",
    "\n",
    "    return \"NO_DOMAIN_FOUND\""
   ]
  },
  {
   "cell_type": "code",
   "execution_count": 24,
   "id": "29d55d6a",
   "metadata": {
    "execution": {
     "iopub.execute_input": "2025-07-30T14:38:27.601687Z",
     "iopub.status.busy": "2025-07-30T14:38:27.601504Z",
     "iopub.status.idle": "2025-07-30T14:38:27.606022Z",
     "shell.execute_reply": "2025-07-30T14:38:27.605500Z"
    },
    "papermill": {
     "duration": 0.031254,
     "end_time": "2025-07-30T14:38:27.606989",
     "exception": false,
     "start_time": "2025-07-30T14:38:27.575735",
     "status": "completed"
    },
    "tags": []
   },
   "outputs": [],
   "source": [
    "# Create function to check if domain name is valid domain name\n",
    "VALID_TLDS = ['.com', '.ai', '.io', '.net', '.org', '.co', '.app', '.tech', '.dev']\n",
    "\n",
    "def is_valid_domain(domain: str) -> bool:\n",
    "    domain = domain.strip().lower()\n",
    "\n",
    "    # Basic structure check: must contain a valid TLD\n",
    "    if not any(domain.endswith(tld) for tld in VALID_TLDS):\n",
    "        return False\n",
    "\n",
    "    # No whitespace\n",
    "    if ' ' in domain:\n",
    "        return False\n",
    "\n",
    "    # Length check\n",
    "    if len(domain) > 63 or len(domain) == 0:\n",
    "        return False\n",
    "\n",
    "    # Valid characters (alphanumeric, hyphen, and dot)\n",
    "    pattern = r'^[a-z0-9\\-\\.]+$'\n",
    "    if not re.match(pattern, domain):\n",
    "        return False\n",
    "\n",
    "    # Should not contain multiple dots (e.g., no sentences)\n",
    "    if domain.count('.') > 1:\n",
    "        return False\n",
    "\n",
    "    return True"
   ]
  },
  {
   "cell_type": "code",
   "execution_count": 25,
   "id": "a66a3542",
   "metadata": {
    "execution": {
     "iopub.execute_input": "2025-07-30T14:38:27.655192Z",
     "iopub.status.busy": "2025-07-30T14:38:27.654988Z",
     "iopub.status.idle": "2025-07-30T14:38:27.658449Z",
     "shell.execute_reply": "2025-07-30T14:38:27.657922Z"
    },
    "papermill": {
     "duration": 0.028667,
     "end_time": "2025-07-30T14:38:27.659510",
     "exception": false,
     "start_time": "2025-07-30T14:38:27.630843",
     "status": "completed"
    },
    "tags": []
   },
   "outputs": [],
   "source": [
    "# get rouge scorer\n",
    "scorer = rouge_scorer.RougeScorer(['rougeL'], use_stemmer=True)\n",
    "scores = []\n",
    "bleu_scores = []\n",
    "levenshtein_distances = []\n",
    "brandability_scores = []\n",
    "predictions = []\n",
    "valid_domains = []"
   ]
  },
  {
   "cell_type": "code",
   "execution_count": 26,
   "id": "3da0c6cd",
   "metadata": {
    "execution": {
     "iopub.execute_input": "2025-07-30T14:38:27.708132Z",
     "iopub.status.busy": "2025-07-30T14:38:27.707711Z",
     "iopub.status.idle": "2025-07-30T14:38:37.356579Z",
     "shell.execute_reply": "2025-07-30T14:38:37.355821Z"
    },
    "papermill": {
     "duration": 9.674622,
     "end_time": "2025-07-30T14:38:37.357948",
     "exception": false,
     "start_time": "2025-07-30T14:38:27.683326",
     "status": "completed"
    },
    "tags": []
   },
   "outputs": [
    {
     "name": "stdout",
     "output_type": "stream",
     "text": [
      "Pct of Predictions that are valid domains = 0.00%\n"
     ]
    }
   ],
   "source": [
    "# Put pytorch model in eval mode\n",
    "model.eval()\n",
    "\n",
    "# Loop over test data\n",
    "for item in test_dataset:\n",
    "    input_text = item[\"text\"]\n",
    "    if \"-> Domain:\" not in input_text:\n",
    "        continue\n",
    "    description = input_text.split(\"-> Domain:\")[0].replace(\"Business:\", \"\").strip()\n",
    "    true_domain = input_text.split(\"-> Domain:\")[-1].strip()\n",
    "\n",
    "    prompt = f\"Business: {description} -> Domain:\"\n",
    "    inputs = tokenizer(prompt, return_tensors=\"pt\").to(model.device)\n",
    "    \n",
    "    with torch.no_grad():\n",
    "        outputs = model.generate(\n",
    "            **inputs, \n",
    "            max_new_tokens=20, \n",
    "            do_sample=True, \n",
    "            top_k=50, \n",
    "            temperature=0.7,\n",
    "            pad_token_id=tokenizer.pad_token_id,\n",
    "            eos_token_id=tokenizer.eos_token_id)\n",
    "    \n",
    "    decoded = tokenizer.decode(outputs[0], skip_special_tokens=True)\n",
    "    output_text = tokenizer.decode(outputs[0], skip_special_tokens=False)\n",
    "    #pred_domain = output_text.split(\"-> Domain:\")[-1].split(\"<|\")[0].split(\"\\n\")[0].strip()\n",
    "    #pred_domain = extract_domain(pred_domain)\n",
    "    pred_domain = decoded.split(\"-> Domain:\")[-1].strip()\n",
    "\n",
    "    # Safety filter\n",
    "    banned_keywords = [\"sex\", \"kill\", \"drugs\", \"hate\", \"murder\",\n",
    "                        \"adult-content\", 'adult content', \"explicit\", \n",
    "                        \"porn\", \"xxx\", \"nude\", \"erotic\", \"pornography\"\n",
    "                        \"gambling\", \"casino\", \"hate\", \"violence\"]\n",
    "    if any(bad in pred_domain.lower() for bad in banned_keywords):\n",
    "        pred_domain = \"[REDACTED: Unsafe Output]\"\n",
    "\n",
    "    # Check if valid domain       \n",
    "    valid_domain = is_valid_domain(pred_domain)\n",
    "    valid_domains.append(valid_domain)\n",
    "    \n",
    "    # ROUGE\n",
    "    rouge_score = scorer.score(true_domain, pred_domain)[\"rougeL\"].fmeasure\n",
    "    scores.append(rouge_score)\n",
    "\n",
    "    # BLEU\n",
    "    bleu = sentence_bleu([true_domain.split(\".\")], pred_domain.split(\".\"), smoothing_function=SmoothingFunction().method1)\n",
    "    bleu_scores.append(bleu)\n",
    "\n",
    "    # Levenshtein\n",
    "    lev_distance = Levenshtein.distance(true_domain, pred_domain)\n",
    "    levenshtein_distances.append(lev_distance)\n",
    "\n",
    "    # Brandability heuristic: short, no numbers/symbols, vowel-consonant balance\n",
    "    def brandability(domain):\n",
    "        score = 1.0\n",
    "        if len(domain) > 15: score -= 0.3\n",
    "        if any(char.isdigit() or not char.isalnum() for char in domain): score -= 0.3\n",
    "        vowels = sum(1 for c in domain if c in \"aeiou\")\n",
    "        consonants = sum(1 for c in domain if c.isalpha() and c not in \"aeiou\")\n",
    "        ratio = vowels / (consonants + 1)\n",
    "        if ratio < 0.2 or ratio > 0.8: score -= 0.2\n",
    "        return max(0, round(score, 2))\n",
    "\n",
    "    brandability_score = brandability(pred_domain)\n",
    "    brandability_scores.append(brandability_score)\n",
    "\n",
    "    predictions.append({\n",
    "        \"description\": description,\n",
    "        \"true\": true_domain,\n",
    "        \"pred\": pred_domain,\n",
    "        \"rougeL\": rouge_score,\n",
    "        \"bleu\": bleu,\n",
    "        \"levenshtein\": lev_distance,\n",
    "        \"brandability\": brandability_score,\n",
    "        \"is_valid_domain\": valid_domain,\n",
    "    })\n",
    "\n",
    "# Save predictions\n",
    "results_df = pd.DataFrame(predictions)\n",
    "results_df.to_csv(f\"predictions_eval-{VERSION}-{FLAG}.csv\", index=False)\n",
    "\n",
    "# Report average scores\n",
    "print_string = f\"Pct of Predictions that are valid domains = {results_df['is_valid_domain'].mean():.2%}\"\n",
    "print(print_string)"
   ]
  }
 ],
 "metadata": {
  "kaggle": {
   "accelerator": "none",
   "dataSources": [
    {
     "datasetId": 7943647,
     "sourceId": 12623278,
     "sourceType": "datasetVersion"
    },
    {
     "modelId": 121027,
     "modelInstanceId": 100933,
     "sourceId": 120002,
     "sourceType": "modelInstanceVersion"
    }
   ],
   "dockerImageVersionId": 31089,
   "isGpuEnabled": false,
   "isInternetEnabled": true,
   "language": "python",
   "sourceType": "notebook"
  },
  "kernelspec": {
   "display_name": "Python 3",
   "language": "python",
   "name": "python3"
  },
  "language_info": {
   "codemirror_mode": {
    "name": "ipython",
    "version": 3
   },
   "file_extension": ".py",
   "mimetype": "text/x-python",
   "name": "python",
   "nbconvert_exporter": "python",
   "pygments_lexer": "ipython3",
   "version": "3.11.13"
  },
  "papermill": {
   "default_parameters": {},
   "duration": 178.297788,
   "end_time": "2025-07-30T14:38:40.384663",
   "environment_variables": {},
   "exception": null,
   "input_path": "__notebook__.ipynb",
   "output_path": "__notebook__.ipynb",
   "parameters": {},
   "start_time": "2025-07-30T14:35:42.086875",
   "version": "2.6.0"
  },
  "widgets": {
   "application/vnd.jupyter.widget-state+json": {
    "state": {
     "004a23c96b9f457299606f59cca51303": {
      "model_module": "@jupyter-widgets/controls",
      "model_module_version": "2.0.0",
      "model_name": "HTMLStyleModel",
      "state": {
       "_model_module": "@jupyter-widgets/controls",
       "_model_module_version": "2.0.0",
       "_model_name": "HTMLStyleModel",
       "_view_count": null,
       "_view_module": "@jupyter-widgets/base",
       "_view_module_version": "2.0.0",
       "_view_name": "StyleView",
       "background": null,
       "description_width": "",
       "font_size": null,
       "text_color": null
      }
     },
     "01b6bc73bcab4aa1b938bdbc3d02c37f": {
      "model_module": "@jupyter-widgets/controls",
      "model_module_version": "2.0.0",
      "model_name": "HBoxModel",
      "state": {
       "_dom_classes": [],
       "_model_module": "@jupyter-widgets/controls",
       "_model_module_version": "2.0.0",
       "_model_name": "HBoxModel",
       "_view_count": null,
       "_view_module": "@jupyter-widgets/controls",
       "_view_module_version": "2.0.0",
       "_view_name": "HBoxView",
       "box_style": "",
       "children": [
        "IPY_MODEL_1fe88809cfc042bd835ec97f71e91e1c",
        "IPY_MODEL_09307961cb1c4a9b9387940698f50b98",
        "IPY_MODEL_fa0dda5cfae04d14bb4835045bb7fedf"
       ],
       "layout": "IPY_MODEL_33991318fff6446ca0ec9eb04bf01ad3",
       "tabbable": null,
       "tooltip": null
      }
     },
     "03390dea638c4832b2542b51e9a83dc3": {
      "model_module": "@jupyter-widgets/base",
      "model_module_version": "2.0.0",
      "model_name": "LayoutModel",
      "state": {
       "_model_module": "@jupyter-widgets/base",
       "_model_module_version": "2.0.0",
       "_model_name": "LayoutModel",
       "_view_count": null,
       "_view_module": "@jupyter-widgets/base",
       "_view_module_version": "2.0.0",
       "_view_name": "LayoutView",
       "align_content": null,
       "align_items": null,
       "align_self": null,
       "border_bottom": null,
       "border_left": null,
       "border_right": null,
       "border_top": null,
       "bottom": null,
       "display": null,
       "flex": null,
       "flex_flow": null,
       "grid_area": null,
       "grid_auto_columns": null,
       "grid_auto_flow": null,
       "grid_auto_rows": null,
       "grid_column": null,
       "grid_gap": null,
       "grid_row": null,
       "grid_template_areas": null,
       "grid_template_columns": null,
       "grid_template_rows": null,
       "height": null,
       "justify_content": null,
       "justify_items": null,
       "left": null,
       "margin": null,
       "max_height": null,
       "max_width": null,
       "min_height": null,
       "min_width": null,
       "object_fit": null,
       "object_position": null,
       "order": null,
       "overflow": null,
       "padding": null,
       "right": null,
       "top": null,
       "visibility": null,
       "width": null
      }
     },
     "078c447d572b498fb2ea75e9a206fb3b": {
      "model_module": "@jupyter-widgets/base",
      "model_module_version": "2.0.0",
      "model_name": "LayoutModel",
      "state": {
       "_model_module": "@jupyter-widgets/base",
       "_model_module_version": "2.0.0",
       "_model_name": "LayoutModel",
       "_view_count": null,
       "_view_module": "@jupyter-widgets/base",
       "_view_module_version": "2.0.0",
       "_view_name": "LayoutView",
       "align_content": null,
       "align_items": null,
       "align_self": null,
       "border_bottom": null,
       "border_left": null,
       "border_right": null,
       "border_top": null,
       "bottom": null,
       "display": null,
       "flex": null,
       "flex_flow": null,
       "grid_area": null,
       "grid_auto_columns": null,
       "grid_auto_flow": null,
       "grid_auto_rows": null,
       "grid_column": null,
       "grid_gap": null,
       "grid_row": null,
       "grid_template_areas": null,
       "grid_template_columns": null,
       "grid_template_rows": null,
       "height": null,
       "justify_content": null,
       "justify_items": null,
       "left": null,
       "margin": null,
       "max_height": null,
       "max_width": null,
       "min_height": null,
       "min_width": null,
       "object_fit": null,
       "object_position": null,
       "order": null,
       "overflow": null,
       "padding": null,
       "right": null,
       "top": null,
       "visibility": null,
       "width": null
      }
     },
     "09307961cb1c4a9b9387940698f50b98": {
      "model_module": "@jupyter-widgets/controls",
      "model_module_version": "2.0.0",
      "model_name": "FloatProgressModel",
      "state": {
       "_dom_classes": [],
       "_model_module": "@jupyter-widgets/controls",
       "_model_module_version": "2.0.0",
       "_model_name": "FloatProgressModel",
       "_view_count": null,
       "_view_module": "@jupyter-widgets/controls",
       "_view_module_version": "2.0.0",
       "_view_name": "ProgressView",
       "bar_style": "success",
       "description": "",
       "description_allow_html": false,
       "layout": "IPY_MODEL_274e159e911e4905b65312eb7d89fcb2",
       "max": 20.0,
       "min": 0.0,
       "orientation": "horizontal",
       "style": "IPY_MODEL_7eb9914b18a14311b3699512f951fcdb",
       "tabbable": null,
       "tooltip": null,
       "value": 20.0
      }
     },
     "09e5e90fac504373b618f1ee58d6db0f": {
      "model_module": "@jupyter-widgets/controls",
      "model_module_version": "2.0.0",
      "model_name": "HTMLModel",
      "state": {
       "_dom_classes": [],
       "_model_module": "@jupyter-widgets/controls",
       "_model_module_version": "2.0.0",
       "_model_name": "HTMLModel",
       "_view_count": null,
       "_view_module": "@jupyter-widgets/controls",
       "_view_module_version": "2.0.0",
       "_view_name": "HTMLView",
       "description": "",
       "description_allow_html": false,
       "layout": "IPY_MODEL_9f59657864134100a32d6485f448a398",
       "placeholder": "​",
       "style": "IPY_MODEL_473b79fe7b1247e392b5d6db29132cc6",
       "tabbable": null,
       "tooltip": null,
       "value": " 175/175 [00:00&lt;00:00, 4128.83 examples/s]"
      }
     },
     "12e2f8588fee45f49d9ba301e7911078": {
      "model_module": "@jupyter-widgets/controls",
      "model_module_version": "2.0.0",
      "model_name": "FloatProgressModel",
      "state": {
       "_dom_classes": [],
       "_model_module": "@jupyter-widgets/controls",
       "_model_module_version": "2.0.0",
       "_model_name": "FloatProgressModel",
       "_view_count": null,
       "_view_module": "@jupyter-widgets/controls",
       "_view_module_version": "2.0.0",
       "_view_name": "ProgressView",
       "bar_style": "success",
       "description": "",
       "description_allow_html": false,
       "layout": "IPY_MODEL_e8c2211f351640d987964e23f1f0a699",
       "max": 9085657.0,
       "min": 0.0,
       "orientation": "horizontal",
       "style": "IPY_MODEL_7ec7986f5ac54fc89152b8087212fba0",
       "tabbable": null,
       "tooltip": null,
       "value": 9085657.0
      }
     },
     "17c495a19b3340378efd00b8637e8066": {
      "model_module": "@jupyter-widgets/base",
      "model_module_version": "2.0.0",
      "model_name": "LayoutModel",
      "state": {
       "_model_module": "@jupyter-widgets/base",
       "_model_module_version": "2.0.0",
       "_model_name": "LayoutModel",
       "_view_count": null,
       "_view_module": "@jupyter-widgets/base",
       "_view_module_version": "2.0.0",
       "_view_name": "LayoutView",
       "align_content": null,
       "align_items": null,
       "align_self": null,
       "border_bottom": null,
       "border_left": null,
       "border_right": null,
       "border_top": null,
       "bottom": null,
       "display": null,
       "flex": null,
       "flex_flow": null,
       "grid_area": null,
       "grid_auto_columns": null,
       "grid_auto_flow": null,
       "grid_auto_rows": null,
       "grid_column": null,
       "grid_gap": null,
       "grid_row": null,
       "grid_template_areas": null,
       "grid_template_columns": null,
       "grid_template_rows": null,
       "height": null,
       "justify_content": null,
       "justify_items": null,
       "left": null,
       "margin": null,
       "max_height": null,
       "max_width": null,
       "min_height": null,
       "min_width": null,
       "object_fit": null,
       "object_position": null,
       "order": null,
       "overflow": null,
       "padding": null,
       "right": null,
       "top": null,
       "visibility": null,
       "width": null
      }
     },
     "1ccd4d3fba5e463c83043a0efb317fbb": {
      "model_module": "@jupyter-widgets/controls",
      "model_module_version": "2.0.0",
      "model_name": "ProgressStyleModel",
      "state": {
       "_model_module": "@jupyter-widgets/controls",
       "_model_module_version": "2.0.0",
       "_model_name": "ProgressStyleModel",
       "_view_count": null,
       "_view_module": "@jupyter-widgets/base",
       "_view_module_version": "2.0.0",
       "_view_name": "StyleView",
       "bar_color": null,
       "description_width": ""
      }
     },
     "1db9e54020b74df88df43215b0ab5c8b": {
      "model_module": "@jupyter-widgets/controls",
      "model_module_version": "2.0.0",
      "model_name": "FloatProgressModel",
      "state": {
       "_dom_classes": [],
       "_model_module": "@jupyter-widgets/controls",
       "_model_module_version": "2.0.0",
       "_model_name": "FloatProgressModel",
       "_view_count": null,
       "_view_module": "@jupyter-widgets/controls",
       "_view_module_version": "2.0.0",
       "_view_name": "ProgressView",
       "bar_style": "success",
       "description": "",
       "description_allow_html": false,
       "layout": "IPY_MODEL_17c495a19b3340378efd00b8637e8066",
       "max": 296.0,
       "min": 0.0,
       "orientation": "horizontal",
       "style": "IPY_MODEL_dcdb072808584a0c993be0ca849880fa",
       "tabbable": null,
       "tooltip": null,
       "value": 296.0
      }
     },
     "1fe88809cfc042bd835ec97f71e91e1c": {
      "model_module": "@jupyter-widgets/controls",
      "model_module_version": "2.0.0",
      "model_name": "HTMLModel",
      "state": {
       "_dom_classes": [],
       "_model_module": "@jupyter-widgets/controls",
       "_model_module_version": "2.0.0",
       "_model_name": "HTMLModel",
       "_view_count": null,
       "_view_module": "@jupyter-widgets/controls",
       "_view_module_version": "2.0.0",
       "_view_name": "HTMLView",
       "description": "",
       "description_allow_html": false,
       "layout": "IPY_MODEL_84ec9eafd516464cac4da31c485f6e2a",
       "placeholder": "​",
       "style": "IPY_MODEL_921eed8bced94e7784eb362014979fb2",
       "tabbable": null,
       "tooltip": null,
       "value": "Map: 100%"
      }
     },
     "274e159e911e4905b65312eb7d89fcb2": {
      "model_module": "@jupyter-widgets/base",
      "model_module_version": "2.0.0",
      "model_name": "LayoutModel",
      "state": {
       "_model_module": "@jupyter-widgets/base",
       "_model_module_version": "2.0.0",
       "_model_name": "LayoutModel",
       "_view_count": null,
       "_view_module": "@jupyter-widgets/base",
       "_view_module_version": "2.0.0",
       "_view_name": "LayoutView",
       "align_content": null,
       "align_items": null,
       "align_self": null,
       "border_bottom": null,
       "border_left": null,
       "border_right": null,
       "border_top": null,
       "bottom": null,
       "display": null,
       "flex": null,
       "flex_flow": null,
       "grid_area": null,
       "grid_auto_columns": null,
       "grid_auto_flow": null,
       "grid_auto_rows": null,
       "grid_column": null,
       "grid_gap": null,
       "grid_row": null,
       "grid_template_areas": null,
       "grid_template_columns": null,
       "grid_template_rows": null,
       "height": null,
       "justify_content": null,
       "justify_items": null,
       "left": null,
       "margin": null,
       "max_height": null,
       "max_width": null,
       "min_height": null,
       "min_width": null,
       "object_fit": null,
       "object_position": null,
       "order": null,
       "overflow": null,
       "padding": null,
       "right": null,
       "top": null,
       "visibility": null,
       "width": null
      }
     },
     "33991318fff6446ca0ec9eb04bf01ad3": {
      "model_module": "@jupyter-widgets/base",
      "model_module_version": "2.0.0",
      "model_name": "LayoutModel",
      "state": {
       "_model_module": "@jupyter-widgets/base",
       "_model_module_version": "2.0.0",
       "_model_name": "LayoutModel",
       "_view_count": null,
       "_view_module": "@jupyter-widgets/base",
       "_view_module_version": "2.0.0",
       "_view_name": "LayoutView",
       "align_content": null,
       "align_items": null,
       "align_self": null,
       "border_bottom": null,
       "border_left": null,
       "border_right": null,
       "border_top": null,
       "bottom": null,
       "display": null,
       "flex": null,
       "flex_flow": null,
       "grid_area": null,
       "grid_auto_columns": null,
       "grid_auto_flow": null,
       "grid_auto_rows": null,
       "grid_column": null,
       "grid_gap": null,
       "grid_row": null,
       "grid_template_areas": null,
       "grid_template_columns": null,
       "grid_template_rows": null,
       "height": null,
       "justify_content": null,
       "justify_items": null,
       "left": null,
       "margin": null,
       "max_height": null,
       "max_width": null,
       "min_height": null,
       "min_width": null,
       "object_fit": null,
       "object_position": null,
       "order": null,
       "overflow": null,
       "padding": null,
       "right": null,
       "top": null,
       "visibility": null,
       "width": null
      }
     },
     "3afdd67b32464ffc8faf18fd9ee29b16": {
      "model_module": "@jupyter-widgets/base",
      "model_module_version": "2.0.0",
      "model_name": "LayoutModel",
      "state": {
       "_model_module": "@jupyter-widgets/base",
       "_model_module_version": "2.0.0",
       "_model_name": "LayoutModel",
       "_view_count": null,
       "_view_module": "@jupyter-widgets/base",
       "_view_module_version": "2.0.0",
       "_view_name": "LayoutView",
       "align_content": null,
       "align_items": null,
       "align_self": null,
       "border_bottom": null,
       "border_left": null,
       "border_right": null,
       "border_top": null,
       "bottom": null,
       "display": null,
       "flex": null,
       "flex_flow": null,
       "grid_area": null,
       "grid_auto_columns": null,
       "grid_auto_flow": null,
       "grid_auto_rows": null,
       "grid_column": null,
       "grid_gap": null,
       "grid_row": null,
       "grid_template_areas": null,
       "grid_template_columns": null,
       "grid_template_rows": null,
       "height": null,
       "justify_content": null,
       "justify_items": null,
       "left": null,
       "margin": null,
       "max_height": null,
       "max_width": null,
       "min_height": null,
       "min_width": null,
       "object_fit": null,
       "object_position": null,
       "order": null,
       "overflow": null,
       "padding": null,
       "right": null,
       "top": null,
       "visibility": null,
       "width": null
      }
     },
     "3cc983261d984ae98e0aff2b42dd932d": {
      "model_module": "@jupyter-widgets/controls",
      "model_module_version": "2.0.0",
      "model_name": "HTMLModel",
      "state": {
       "_dom_classes": [],
       "_model_module": "@jupyter-widgets/controls",
       "_model_module_version": "2.0.0",
       "_model_name": "HTMLModel",
       "_view_count": null,
       "_view_module": "@jupyter-widgets/controls",
       "_view_module_version": "2.0.0",
       "_view_name": "HTMLView",
       "description": "",
       "description_allow_html": false,
       "layout": "IPY_MODEL_4e654ec2875246a3adb90d12036a592b",
       "placeholder": "​",
       "style": "IPY_MODEL_f075a1e19f3b406297c57e274a1778df",
       "tabbable": null,
       "tooltip": null,
       "value": "special_tokens_map.json: 100%"
      }
     },
     "40213c4f9294412594eeef5aa9b034db": {
      "model_module": "@jupyter-widgets/controls",
      "model_module_version": "2.0.0",
      "model_name": "HTMLStyleModel",
      "state": {
       "_model_module": "@jupyter-widgets/controls",
       "_model_module_version": "2.0.0",
       "_model_name": "HTMLStyleModel",
       "_view_count": null,
       "_view_module": "@jupyter-widgets/base",
       "_view_module_version": "2.0.0",
       "_view_name": "StyleView",
       "background": null,
       "description_width": "",
       "font_size": null,
       "text_color": null
      }
     },
     "415753a348ca4ec0a4768b18bc65d2f0": {
      "model_module": "@jupyter-widgets/base",
      "model_module_version": "2.0.0",
      "model_name": "LayoutModel",
      "state": {
       "_model_module": "@jupyter-widgets/base",
       "_model_module_version": "2.0.0",
       "_model_name": "LayoutModel",
       "_view_count": null,
       "_view_module": "@jupyter-widgets/base",
       "_view_module_version": "2.0.0",
       "_view_name": "LayoutView",
       "align_content": null,
       "align_items": null,
       "align_self": null,
       "border_bottom": null,
       "border_left": null,
       "border_right": null,
       "border_top": null,
       "bottom": null,
       "display": null,
       "flex": null,
       "flex_flow": null,
       "grid_area": null,
       "grid_auto_columns": null,
       "grid_auto_flow": null,
       "grid_auto_rows": null,
       "grid_column": null,
       "grid_gap": null,
       "grid_row": null,
       "grid_template_areas": null,
       "grid_template_columns": null,
       "grid_template_rows": null,
       "height": null,
       "justify_content": null,
       "justify_items": null,
       "left": null,
       "margin": null,
       "max_height": null,
       "max_width": null,
       "min_height": null,
       "min_width": null,
       "object_fit": null,
       "object_position": null,
       "order": null,
       "overflow": null,
       "padding": null,
       "right": null,
       "top": null,
       "visibility": null,
       "width": null
      }
     },
     "45c7762929dd472c8ae892ea46874ec0": {
      "model_module": "@jupyter-widgets/base",
      "model_module_version": "2.0.0",
      "model_name": "LayoutModel",
      "state": {
       "_model_module": "@jupyter-widgets/base",
       "_model_module_version": "2.0.0",
       "_model_name": "LayoutModel",
       "_view_count": null,
       "_view_module": "@jupyter-widgets/base",
       "_view_module_version": "2.0.0",
       "_view_name": "LayoutView",
       "align_content": null,
       "align_items": null,
       "align_self": null,
       "border_bottom": null,
       "border_left": null,
       "border_right": null,
       "border_top": null,
       "bottom": null,
       "display": null,
       "flex": null,
       "flex_flow": null,
       "grid_area": null,
       "grid_auto_columns": null,
       "grid_auto_flow": null,
       "grid_auto_rows": null,
       "grid_column": null,
       "grid_gap": null,
       "grid_row": null,
       "grid_template_areas": null,
       "grid_template_columns": null,
       "grid_template_rows": null,
       "height": null,
       "justify_content": null,
       "justify_items": null,
       "left": null,
       "margin": null,
       "max_height": null,
       "max_width": null,
       "min_height": null,
       "min_width": null,
       "object_fit": null,
       "object_position": null,
       "order": null,
       "overflow": null,
       "padding": null,
       "right": null,
       "top": null,
       "visibility": null,
       "width": null
      }
     },
     "473b79fe7b1247e392b5d6db29132cc6": {
      "model_module": "@jupyter-widgets/controls",
      "model_module_version": "2.0.0",
      "model_name": "HTMLStyleModel",
      "state": {
       "_model_module": "@jupyter-widgets/controls",
       "_model_module_version": "2.0.0",
       "_model_name": "HTMLStyleModel",
       "_view_count": null,
       "_view_module": "@jupyter-widgets/base",
       "_view_module_version": "2.0.0",
       "_view_name": "StyleView",
       "background": null,
       "description_width": "",
       "font_size": null,
       "text_color": null
      }
     },
     "4c3c9972fcb94681a1ad2d26b197366a": {
      "model_module": "@jupyter-widgets/controls",
      "model_module_version": "2.0.0",
      "model_name": "ProgressStyleModel",
      "state": {
       "_model_module": "@jupyter-widgets/controls",
       "_model_module_version": "2.0.0",
       "_model_name": "ProgressStyleModel",
       "_view_count": null,
       "_view_module": "@jupyter-widgets/base",
       "_view_module_version": "2.0.0",
       "_view_name": "StyleView",
       "bar_color": null,
       "description_width": ""
      }
     },
     "4e165052a73841a1bc162049e7c28e1d": {
      "model_module": "@jupyter-widgets/controls",
      "model_module_version": "2.0.0",
      "model_name": "HTMLModel",
      "state": {
       "_dom_classes": [],
       "_model_module": "@jupyter-widgets/controls",
       "_model_module_version": "2.0.0",
       "_model_name": "HTMLModel",
       "_view_count": null,
       "_view_module": "@jupyter-widgets/controls",
       "_view_module_version": "2.0.0",
       "_view_name": "HTMLView",
       "description": "",
       "description_allow_html": false,
       "layout": "IPY_MODEL_9c22e19ee4a441ba83e18268a65a11d2",
       "placeholder": "​",
       "style": "IPY_MODEL_5a1198edac4b4bf8b751b3286b712028",
       "tabbable": null,
       "tooltip": null,
       "value": "tokenizer.json: 100%"
      }
     },
     "4e654ec2875246a3adb90d12036a592b": {
      "model_module": "@jupyter-widgets/base",
      "model_module_version": "2.0.0",
      "model_name": "LayoutModel",
      "state": {
       "_model_module": "@jupyter-widgets/base",
       "_model_module_version": "2.0.0",
       "_model_name": "LayoutModel",
       "_view_count": null,
       "_view_module": "@jupyter-widgets/base",
       "_view_module_version": "2.0.0",
       "_view_name": "LayoutView",
       "align_content": null,
       "align_items": null,
       "align_self": null,
       "border_bottom": null,
       "border_left": null,
       "border_right": null,
       "border_top": null,
       "bottom": null,
       "display": null,
       "flex": null,
       "flex_flow": null,
       "grid_area": null,
       "grid_auto_columns": null,
       "grid_auto_flow": null,
       "grid_auto_rows": null,
       "grid_column": null,
       "grid_gap": null,
       "grid_row": null,
       "grid_template_areas": null,
       "grid_template_columns": null,
       "grid_template_rows": null,
       "height": null,
       "justify_content": null,
       "justify_items": null,
       "left": null,
       "margin": null,
       "max_height": null,
       "max_width": null,
       "min_height": null,
       "min_width": null,
       "object_fit": null,
       "object_position": null,
       "order": null,
       "overflow": null,
       "padding": null,
       "right": null,
       "top": null,
       "visibility": null,
       "width": null
      }
     },
     "5a1198edac4b4bf8b751b3286b712028": {
      "model_module": "@jupyter-widgets/controls",
      "model_module_version": "2.0.0",
      "model_name": "HTMLStyleModel",
      "state": {
       "_model_module": "@jupyter-widgets/controls",
       "_model_module_version": "2.0.0",
       "_model_name": "HTMLStyleModel",
       "_view_count": null,
       "_view_module": "@jupyter-widgets/base",
       "_view_module_version": "2.0.0",
       "_view_name": "StyleView",
       "background": null,
       "description_width": "",
       "font_size": null,
       "text_color": null
      }
     },
     "5b30951a8d1c4db68db3c2238e02f636": {
      "model_module": "@jupyter-widgets/controls",
      "model_module_version": "2.0.0",
      "model_name": "HBoxModel",
      "state": {
       "_dom_classes": [],
       "_model_module": "@jupyter-widgets/controls",
       "_model_module_version": "2.0.0",
       "_model_name": "HBoxModel",
       "_view_count": null,
       "_view_module": "@jupyter-widgets/controls",
       "_view_module_version": "2.0.0",
       "_view_name": "HBoxView",
       "box_style": "",
       "children": [
        "IPY_MODEL_8b7de5fa28c64f5193dc4fe5fc19a608",
        "IPY_MODEL_b8cad929fdd546a19b52c202d23dc57b",
        "IPY_MODEL_d39a9f6989164c898b0d126a1670242a"
       ],
       "layout": "IPY_MODEL_415753a348ca4ec0a4768b18bc65d2f0",
       "tabbable": null,
       "tooltip": null
      }
     },
     "6d165fd83ed44f2a8e781c3479a1bd7c": {
      "model_module": "@jupyter-widgets/controls",
      "model_module_version": "2.0.0",
      "model_name": "HTMLModel",
      "state": {
       "_dom_classes": [],
       "_model_module": "@jupyter-widgets/controls",
       "_model_module_version": "2.0.0",
       "_model_name": "HTMLModel",
       "_view_count": null,
       "_view_module": "@jupyter-widgets/controls",
       "_view_module_version": "2.0.0",
       "_view_name": "HTMLView",
       "description": "",
       "description_allow_html": false,
       "layout": "IPY_MODEL_a79b33aad17a412886df5d25aab376de",
       "placeholder": "​",
       "style": "IPY_MODEL_b534bf212cb74c13a7b79e5884e7b929",
       "tabbable": null,
       "tooltip": null,
       "value": " 9.09M/9.09M [00:01&lt;00:00, 6.49MB/s]"
      }
     },
     "71a79557502a46a8b812101400c4a59f": {
      "model_module": "@jupyter-widgets/base",
      "model_module_version": "2.0.0",
      "model_name": "LayoutModel",
      "state": {
       "_model_module": "@jupyter-widgets/base",
       "_model_module_version": "2.0.0",
       "_model_name": "LayoutModel",
       "_view_count": null,
       "_view_module": "@jupyter-widgets/base",
       "_view_module_version": "2.0.0",
       "_view_name": "LayoutView",
       "align_content": null,
       "align_items": null,
       "align_self": null,
       "border_bottom": null,
       "border_left": null,
       "border_right": null,
       "border_top": null,
       "bottom": null,
       "display": null,
       "flex": null,
       "flex_flow": null,
       "grid_area": null,
       "grid_auto_columns": null,
       "grid_auto_flow": null,
       "grid_auto_rows": null,
       "grid_column": null,
       "grid_gap": null,
       "grid_row": null,
       "grid_template_areas": null,
       "grid_template_columns": null,
       "grid_template_rows": null,
       "height": null,
       "justify_content": null,
       "justify_items": null,
       "left": null,
       "margin": null,
       "max_height": null,
       "max_width": null,
       "min_height": null,
       "min_width": null,
       "object_fit": null,
       "object_position": null,
       "order": null,
       "overflow": null,
       "padding": null,
       "right": null,
       "top": null,
       "visibility": null,
       "width": null
      }
     },
     "76ece8edc17f46b594b99477da1572dd": {
      "model_module": "@jupyter-widgets/base",
      "model_module_version": "2.0.0",
      "model_name": "LayoutModel",
      "state": {
       "_model_module": "@jupyter-widgets/base",
       "_model_module_version": "2.0.0",
       "_model_name": "LayoutModel",
       "_view_count": null,
       "_view_module": "@jupyter-widgets/base",
       "_view_module_version": "2.0.0",
       "_view_name": "LayoutView",
       "align_content": null,
       "align_items": null,
       "align_self": null,
       "border_bottom": null,
       "border_left": null,
       "border_right": null,
       "border_top": null,
       "bottom": null,
       "display": null,
       "flex": null,
       "flex_flow": null,
       "grid_area": null,
       "grid_auto_columns": null,
       "grid_auto_flow": null,
       "grid_auto_rows": null,
       "grid_column": null,
       "grid_gap": null,
       "grid_row": null,
       "grid_template_areas": null,
       "grid_template_columns": null,
       "grid_template_rows": null,
       "height": null,
       "justify_content": null,
       "justify_items": null,
       "left": null,
       "margin": null,
       "max_height": null,
       "max_width": null,
       "min_height": null,
       "min_width": null,
       "object_fit": null,
       "object_position": null,
       "order": null,
       "overflow": null,
       "padding": null,
       "right": null,
       "top": null,
       "visibility": null,
       "width": null
      }
     },
     "7eb9914b18a14311b3699512f951fcdb": {
      "model_module": "@jupyter-widgets/controls",
      "model_module_version": "2.0.0",
      "model_name": "ProgressStyleModel",
      "state": {
       "_model_module": "@jupyter-widgets/controls",
       "_model_module_version": "2.0.0",
       "_model_name": "ProgressStyleModel",
       "_view_count": null,
       "_view_module": "@jupyter-widgets/base",
       "_view_module_version": "2.0.0",
       "_view_name": "StyleView",
       "bar_color": null,
       "description_width": ""
      }
     },
     "7ec7986f5ac54fc89152b8087212fba0": {
      "model_module": "@jupyter-widgets/controls",
      "model_module_version": "2.0.0",
      "model_name": "ProgressStyleModel",
      "state": {
       "_model_module": "@jupyter-widgets/controls",
       "_model_module_version": "2.0.0",
       "_model_name": "ProgressStyleModel",
       "_view_count": null,
       "_view_module": "@jupyter-widgets/base",
       "_view_module_version": "2.0.0",
       "_view_name": "StyleView",
       "bar_color": null,
       "description_width": ""
      }
     },
     "84117a08215e45fcb76075f56713df47": {
      "model_module": "@jupyter-widgets/controls",
      "model_module_version": "2.0.0",
      "model_name": "HTMLStyleModel",
      "state": {
       "_model_module": "@jupyter-widgets/controls",
       "_model_module_version": "2.0.0",
       "_model_name": "HTMLStyleModel",
       "_view_count": null,
       "_view_module": "@jupyter-widgets/base",
       "_view_module_version": "2.0.0",
       "_view_name": "StyleView",
       "background": null,
       "description_width": "",
       "font_size": null,
       "text_color": null
      }
     },
     "84ec9eafd516464cac4da31c485f6e2a": {
      "model_module": "@jupyter-widgets/base",
      "model_module_version": "2.0.0",
      "model_name": "LayoutModel",
      "state": {
       "_model_module": "@jupyter-widgets/base",
       "_model_module_version": "2.0.0",
       "_model_name": "LayoutModel",
       "_view_count": null,
       "_view_module": "@jupyter-widgets/base",
       "_view_module_version": "2.0.0",
       "_view_name": "LayoutView",
       "align_content": null,
       "align_items": null,
       "align_self": null,
       "border_bottom": null,
       "border_left": null,
       "border_right": null,
       "border_top": null,
       "bottom": null,
       "display": null,
       "flex": null,
       "flex_flow": null,
       "grid_area": null,
       "grid_auto_columns": null,
       "grid_auto_flow": null,
       "grid_auto_rows": null,
       "grid_column": null,
       "grid_gap": null,
       "grid_row": null,
       "grid_template_areas": null,
       "grid_template_columns": null,
       "grid_template_rows": null,
       "height": null,
       "justify_content": null,
       "justify_items": null,
       "left": null,
       "margin": null,
       "max_height": null,
       "max_width": null,
       "min_height": null,
       "min_width": null,
       "object_fit": null,
       "object_position": null,
       "order": null,
       "overflow": null,
       "padding": null,
       "right": null,
       "top": null,
       "visibility": null,
       "width": null
      }
     },
     "8629e42126534dd8be6b731560979355": {
      "model_module": "@jupyter-widgets/controls",
      "model_module_version": "2.0.0",
      "model_name": "HBoxModel",
      "state": {
       "_dom_classes": [],
       "_model_module": "@jupyter-widgets/controls",
       "_model_module_version": "2.0.0",
       "_model_name": "HBoxModel",
       "_view_count": null,
       "_view_module": "@jupyter-widgets/controls",
       "_view_module_version": "2.0.0",
       "_view_name": "HBoxView",
       "box_style": "",
       "children": [
        "IPY_MODEL_3cc983261d984ae98e0aff2b42dd932d",
        "IPY_MODEL_1db9e54020b74df88df43215b0ab5c8b",
        "IPY_MODEL_e209576731014042be14025860039284"
       ],
       "layout": "IPY_MODEL_b440ac6848c6467d8070396b1703ce43",
       "tabbable": null,
       "tooltip": null
      }
     },
     "89524aa1b80b462bad2ff085bb524065": {
      "model_module": "@jupyter-widgets/controls",
      "model_module_version": "2.0.0",
      "model_name": "HTMLStyleModel",
      "state": {
       "_model_module": "@jupyter-widgets/controls",
       "_model_module_version": "2.0.0",
       "_model_name": "HTMLStyleModel",
       "_view_count": null,
       "_view_module": "@jupyter-widgets/base",
       "_view_module_version": "2.0.0",
       "_view_name": "StyleView",
       "background": null,
       "description_width": "",
       "font_size": null,
       "text_color": null
      }
     },
     "8b7de5fa28c64f5193dc4fe5fc19a608": {
      "model_module": "@jupyter-widgets/controls",
      "model_module_version": "2.0.0",
      "model_name": "HTMLModel",
      "state": {
       "_dom_classes": [],
       "_model_module": "@jupyter-widgets/controls",
       "_model_module_version": "2.0.0",
       "_model_name": "HTMLModel",
       "_view_count": null,
       "_view_module": "@jupyter-widgets/controls",
       "_view_module_version": "2.0.0",
       "_view_name": "HTMLView",
       "description": "",
       "description_allow_html": false,
       "layout": "IPY_MODEL_bd46a4b552ab41abb74a7f13496a35ca",
       "placeholder": "​",
       "style": "IPY_MODEL_40213c4f9294412594eeef5aa9b034db",
       "tabbable": null,
       "tooltip": null,
       "value": "tokenizer_config.json: 100%"
      }
     },
     "921eed8bced94e7784eb362014979fb2": {
      "model_module": "@jupyter-widgets/controls",
      "model_module_version": "2.0.0",
      "model_name": "HTMLStyleModel",
      "state": {
       "_model_module": "@jupyter-widgets/controls",
       "_model_module_version": "2.0.0",
       "_model_name": "HTMLStyleModel",
       "_view_count": null,
       "_view_module": "@jupyter-widgets/base",
       "_view_module_version": "2.0.0",
       "_view_name": "StyleView",
       "background": null,
       "description_width": "",
       "font_size": null,
       "text_color": null
      }
     },
     "93434f429ad549d98633e99d7011e4f5": {
      "model_module": "@jupyter-widgets/base",
      "model_module_version": "2.0.0",
      "model_name": "LayoutModel",
      "state": {
       "_model_module": "@jupyter-widgets/base",
       "_model_module_version": "2.0.0",
       "_model_name": "LayoutModel",
       "_view_count": null,
       "_view_module": "@jupyter-widgets/base",
       "_view_module_version": "2.0.0",
       "_view_name": "LayoutView",
       "align_content": null,
       "align_items": null,
       "align_self": null,
       "border_bottom": null,
       "border_left": null,
       "border_right": null,
       "border_top": null,
       "bottom": null,
       "display": null,
       "flex": null,
       "flex_flow": null,
       "grid_area": null,
       "grid_auto_columns": null,
       "grid_auto_flow": null,
       "grid_auto_rows": null,
       "grid_column": null,
       "grid_gap": null,
       "grid_row": null,
       "grid_template_areas": null,
       "grid_template_columns": null,
       "grid_template_rows": null,
       "height": null,
       "justify_content": null,
       "justify_items": null,
       "left": null,
       "margin": null,
       "max_height": null,
       "max_width": null,
       "min_height": null,
       "min_width": null,
       "object_fit": null,
       "object_position": null,
       "order": null,
       "overflow": null,
       "padding": null,
       "right": null,
       "top": null,
       "visibility": null,
       "width": null
      }
     },
     "9c22e19ee4a441ba83e18268a65a11d2": {
      "model_module": "@jupyter-widgets/base",
      "model_module_version": "2.0.0",
      "model_name": "LayoutModel",
      "state": {
       "_model_module": "@jupyter-widgets/base",
       "_model_module_version": "2.0.0",
       "_model_name": "LayoutModel",
       "_view_count": null,
       "_view_module": "@jupyter-widgets/base",
       "_view_module_version": "2.0.0",
       "_view_name": "LayoutView",
       "align_content": null,
       "align_items": null,
       "align_self": null,
       "border_bottom": null,
       "border_left": null,
       "border_right": null,
       "border_top": null,
       "bottom": null,
       "display": null,
       "flex": null,
       "flex_flow": null,
       "grid_area": null,
       "grid_auto_columns": null,
       "grid_auto_flow": null,
       "grid_auto_rows": null,
       "grid_column": null,
       "grid_gap": null,
       "grid_row": null,
       "grid_template_areas": null,
       "grid_template_columns": null,
       "grid_template_rows": null,
       "height": null,
       "justify_content": null,
       "justify_items": null,
       "left": null,
       "margin": null,
       "max_height": null,
       "max_width": null,
       "min_height": null,
       "min_width": null,
       "object_fit": null,
       "object_position": null,
       "order": null,
       "overflow": null,
       "padding": null,
       "right": null,
       "top": null,
       "visibility": null,
       "width": null
      }
     },
     "9d0027a287c349acaaee2a85dbd23f12": {
      "model_module": "@jupyter-widgets/base",
      "model_module_version": "2.0.0",
      "model_name": "LayoutModel",
      "state": {
       "_model_module": "@jupyter-widgets/base",
       "_model_module_version": "2.0.0",
       "_model_name": "LayoutModel",
       "_view_count": null,
       "_view_module": "@jupyter-widgets/base",
       "_view_module_version": "2.0.0",
       "_view_name": "LayoutView",
       "align_content": null,
       "align_items": null,
       "align_self": null,
       "border_bottom": null,
       "border_left": null,
       "border_right": null,
       "border_top": null,
       "bottom": null,
       "display": null,
       "flex": null,
       "flex_flow": null,
       "grid_area": null,
       "grid_auto_columns": null,
       "grid_auto_flow": null,
       "grid_auto_rows": null,
       "grid_column": null,
       "grid_gap": null,
       "grid_row": null,
       "grid_template_areas": null,
       "grid_template_columns": null,
       "grid_template_rows": null,
       "height": null,
       "justify_content": null,
       "justify_items": null,
       "left": null,
       "margin": null,
       "max_height": null,
       "max_width": null,
       "min_height": null,
       "min_width": null,
       "object_fit": null,
       "object_position": null,
       "order": null,
       "overflow": null,
       "padding": null,
       "right": null,
       "top": null,
       "visibility": null,
       "width": null
      }
     },
     "9f59657864134100a32d6485f448a398": {
      "model_module": "@jupyter-widgets/base",
      "model_module_version": "2.0.0",
      "model_name": "LayoutModel",
      "state": {
       "_model_module": "@jupyter-widgets/base",
       "_model_module_version": "2.0.0",
       "_model_name": "LayoutModel",
       "_view_count": null,
       "_view_module": "@jupyter-widgets/base",
       "_view_module_version": "2.0.0",
       "_view_name": "LayoutView",
       "align_content": null,
       "align_items": null,
       "align_self": null,
       "border_bottom": null,
       "border_left": null,
       "border_right": null,
       "border_top": null,
       "bottom": null,
       "display": null,
       "flex": null,
       "flex_flow": null,
       "grid_area": null,
       "grid_auto_columns": null,
       "grid_auto_flow": null,
       "grid_auto_rows": null,
       "grid_column": null,
       "grid_gap": null,
       "grid_row": null,
       "grid_template_areas": null,
       "grid_template_columns": null,
       "grid_template_rows": null,
       "height": null,
       "justify_content": null,
       "justify_items": null,
       "left": null,
       "margin": null,
       "max_height": null,
       "max_width": null,
       "min_height": null,
       "min_width": null,
       "object_fit": null,
       "object_position": null,
       "order": null,
       "overflow": null,
       "padding": null,
       "right": null,
       "top": null,
       "visibility": null,
       "width": null
      }
     },
     "a605d306ec0d4e5aa8b334165806cc7c": {
      "model_module": "@jupyter-widgets/controls",
      "model_module_version": "2.0.0",
      "model_name": "HBoxModel",
      "state": {
       "_dom_classes": [],
       "_model_module": "@jupyter-widgets/controls",
       "_model_module_version": "2.0.0",
       "_model_name": "HBoxModel",
       "_view_count": null,
       "_view_module": "@jupyter-widgets/controls",
       "_view_module_version": "2.0.0",
       "_view_name": "HBoxView",
       "box_style": "",
       "children": [
        "IPY_MODEL_d2f541196c474bf4a6152737e49b99bb",
        "IPY_MODEL_e04cb362ac5a410dbd47cb85bdeca09b",
        "IPY_MODEL_09e5e90fac504373b618f1ee58d6db0f"
       ],
       "layout": "IPY_MODEL_3afdd67b32464ffc8faf18fd9ee29b16",
       "tabbable": null,
       "tooltip": null
      }
     },
     "a79b33aad17a412886df5d25aab376de": {
      "model_module": "@jupyter-widgets/base",
      "model_module_version": "2.0.0",
      "model_name": "LayoutModel",
      "state": {
       "_model_module": "@jupyter-widgets/base",
       "_model_module_version": "2.0.0",
       "_model_name": "LayoutModel",
       "_view_count": null,
       "_view_module": "@jupyter-widgets/base",
       "_view_module_version": "2.0.0",
       "_view_name": "LayoutView",
       "align_content": null,
       "align_items": null,
       "align_self": null,
       "border_bottom": null,
       "border_left": null,
       "border_right": null,
       "border_top": null,
       "bottom": null,
       "display": null,
       "flex": null,
       "flex_flow": null,
       "grid_area": null,
       "grid_auto_columns": null,
       "grid_auto_flow": null,
       "grid_auto_rows": null,
       "grid_column": null,
       "grid_gap": null,
       "grid_row": null,
       "grid_template_areas": null,
       "grid_template_columns": null,
       "grid_template_rows": null,
       "height": null,
       "justify_content": null,
       "justify_items": null,
       "left": null,
       "margin": null,
       "max_height": null,
       "max_width": null,
       "min_height": null,
       "min_width": null,
       "object_fit": null,
       "object_position": null,
       "order": null,
       "overflow": null,
       "padding": null,
       "right": null,
       "top": null,
       "visibility": null,
       "width": null
      }
     },
     "b440ac6848c6467d8070396b1703ce43": {
      "model_module": "@jupyter-widgets/base",
      "model_module_version": "2.0.0",
      "model_name": "LayoutModel",
      "state": {
       "_model_module": "@jupyter-widgets/base",
       "_model_module_version": "2.0.0",
       "_model_name": "LayoutModel",
       "_view_count": null,
       "_view_module": "@jupyter-widgets/base",
       "_view_module_version": "2.0.0",
       "_view_name": "LayoutView",
       "align_content": null,
       "align_items": null,
       "align_self": null,
       "border_bottom": null,
       "border_left": null,
       "border_right": null,
       "border_top": null,
       "bottom": null,
       "display": null,
       "flex": null,
       "flex_flow": null,
       "grid_area": null,
       "grid_auto_columns": null,
       "grid_auto_flow": null,
       "grid_auto_rows": null,
       "grid_column": null,
       "grid_gap": null,
       "grid_row": null,
       "grid_template_areas": null,
       "grid_template_columns": null,
       "grid_template_rows": null,
       "height": null,
       "justify_content": null,
       "justify_items": null,
       "left": null,
       "margin": null,
       "max_height": null,
       "max_width": null,
       "min_height": null,
       "min_width": null,
       "object_fit": null,
       "object_position": null,
       "order": null,
       "overflow": null,
       "padding": null,
       "right": null,
       "top": null,
       "visibility": null,
       "width": null
      }
     },
     "b534bf212cb74c13a7b79e5884e7b929": {
      "model_module": "@jupyter-widgets/controls",
      "model_module_version": "2.0.0",
      "model_name": "HTMLStyleModel",
      "state": {
       "_model_module": "@jupyter-widgets/controls",
       "_model_module_version": "2.0.0",
       "_model_name": "HTMLStyleModel",
       "_view_count": null,
       "_view_module": "@jupyter-widgets/base",
       "_view_module_version": "2.0.0",
       "_view_name": "StyleView",
       "background": null,
       "description_width": "",
       "font_size": null,
       "text_color": null
      }
     },
     "b8cad929fdd546a19b52c202d23dc57b": {
      "model_module": "@jupyter-widgets/controls",
      "model_module_version": "2.0.0",
      "model_name": "FloatProgressModel",
      "state": {
       "_dom_classes": [],
       "_model_module": "@jupyter-widgets/controls",
       "_model_module_version": "2.0.0",
       "_model_name": "FloatProgressModel",
       "_view_count": null,
       "_view_module": "@jupyter-widgets/controls",
       "_view_module_version": "2.0.0",
       "_view_name": "ProgressView",
       "bar_style": "success",
       "description": "",
       "description_allow_html": false,
       "layout": "IPY_MODEL_71a79557502a46a8b812101400c4a59f",
       "max": 54528.0,
       "min": 0.0,
       "orientation": "horizontal",
       "style": "IPY_MODEL_1ccd4d3fba5e463c83043a0efb317fbb",
       "tabbable": null,
       "tooltip": null,
       "value": 54528.0
      }
     },
     "bd46a4b552ab41abb74a7f13496a35ca": {
      "model_module": "@jupyter-widgets/base",
      "model_module_version": "2.0.0",
      "model_name": "LayoutModel",
      "state": {
       "_model_module": "@jupyter-widgets/base",
       "_model_module_version": "2.0.0",
       "_model_name": "LayoutModel",
       "_view_count": null,
       "_view_module": "@jupyter-widgets/base",
       "_view_module_version": "2.0.0",
       "_view_name": "LayoutView",
       "align_content": null,
       "align_items": null,
       "align_self": null,
       "border_bottom": null,
       "border_left": null,
       "border_right": null,
       "border_top": null,
       "bottom": null,
       "display": null,
       "flex": null,
       "flex_flow": null,
       "grid_area": null,
       "grid_auto_columns": null,
       "grid_auto_flow": null,
       "grid_auto_rows": null,
       "grid_column": null,
       "grid_gap": null,
       "grid_row": null,
       "grid_template_areas": null,
       "grid_template_columns": null,
       "grid_template_rows": null,
       "height": null,
       "justify_content": null,
       "justify_items": null,
       "left": null,
       "margin": null,
       "max_height": null,
       "max_width": null,
       "min_height": null,
       "min_width": null,
       "object_fit": null,
       "object_position": null,
       "order": null,
       "overflow": null,
       "padding": null,
       "right": null,
       "top": null,
       "visibility": null,
       "width": null
      }
     },
     "d2f541196c474bf4a6152737e49b99bb": {
      "model_module": "@jupyter-widgets/controls",
      "model_module_version": "2.0.0",
      "model_name": "HTMLModel",
      "state": {
       "_dom_classes": [],
       "_model_module": "@jupyter-widgets/controls",
       "_model_module_version": "2.0.0",
       "_model_name": "HTMLModel",
       "_view_count": null,
       "_view_module": "@jupyter-widgets/controls",
       "_view_module_version": "2.0.0",
       "_view_name": "HTMLView",
       "description": "",
       "description_allow_html": false,
       "layout": "IPY_MODEL_76ece8edc17f46b594b99477da1572dd",
       "placeholder": "​",
       "style": "IPY_MODEL_ee6eef00d6f1464eb9e38c4ec447d360",
       "tabbable": null,
       "tooltip": null,
       "value": "Map: 100%"
      }
     },
     "d39a9f6989164c898b0d126a1670242a": {
      "model_module": "@jupyter-widgets/controls",
      "model_module_version": "2.0.0",
      "model_name": "HTMLModel",
      "state": {
       "_dom_classes": [],
       "_model_module": "@jupyter-widgets/controls",
       "_model_module_version": "2.0.0",
       "_model_name": "HTMLModel",
       "_view_count": null,
       "_view_module": "@jupyter-widgets/controls",
       "_view_module_version": "2.0.0",
       "_view_name": "HTMLView",
       "description": "",
       "description_allow_html": false,
       "layout": "IPY_MODEL_45c7762929dd472c8ae892ea46874ec0",
       "placeholder": "​",
       "style": "IPY_MODEL_004a23c96b9f457299606f59cca51303",
       "tabbable": null,
       "tooltip": null,
       "value": " 54.5k/54.5k [00:00&lt;00:00, 6.56MB/s]"
      }
     },
     "dcdb072808584a0c993be0ca849880fa": {
      "model_module": "@jupyter-widgets/controls",
      "model_module_version": "2.0.0",
      "model_name": "ProgressStyleModel",
      "state": {
       "_model_module": "@jupyter-widgets/controls",
       "_model_module_version": "2.0.0",
       "_model_name": "ProgressStyleModel",
       "_view_count": null,
       "_view_module": "@jupyter-widgets/base",
       "_view_module_version": "2.0.0",
       "_view_name": "StyleView",
       "bar_color": null,
       "description_width": ""
      }
     },
     "e04cb362ac5a410dbd47cb85bdeca09b": {
      "model_module": "@jupyter-widgets/controls",
      "model_module_version": "2.0.0",
      "model_name": "FloatProgressModel",
      "state": {
       "_dom_classes": [],
       "_model_module": "@jupyter-widgets/controls",
       "_model_module_version": "2.0.0",
       "_model_name": "FloatProgressModel",
       "_view_count": null,
       "_view_module": "@jupyter-widgets/controls",
       "_view_module_version": "2.0.0",
       "_view_name": "ProgressView",
       "bar_style": "success",
       "description": "",
       "description_allow_html": false,
       "layout": "IPY_MODEL_93434f429ad549d98633e99d7011e4f5",
       "max": 175.0,
       "min": 0.0,
       "orientation": "horizontal",
       "style": "IPY_MODEL_4c3c9972fcb94681a1ad2d26b197366a",
       "tabbable": null,
       "tooltip": null,
       "value": 175.0
      }
     },
     "e209576731014042be14025860039284": {
      "model_module": "@jupyter-widgets/controls",
      "model_module_version": "2.0.0",
      "model_name": "HTMLModel",
      "state": {
       "_dom_classes": [],
       "_model_module": "@jupyter-widgets/controls",
       "_model_module_version": "2.0.0",
       "_model_name": "HTMLModel",
       "_view_count": null,
       "_view_module": "@jupyter-widgets/controls",
       "_view_module_version": "2.0.0",
       "_view_name": "HTMLView",
       "description": "",
       "description_allow_html": false,
       "layout": "IPY_MODEL_9d0027a287c349acaaee2a85dbd23f12",
       "placeholder": "​",
       "style": "IPY_MODEL_89524aa1b80b462bad2ff085bb524065",
       "tabbable": null,
       "tooltip": null,
       "value": " 296/296 [00:00&lt;00:00, 34.6kB/s]"
      }
     },
     "e8c2211f351640d987964e23f1f0a699": {
      "model_module": "@jupyter-widgets/base",
      "model_module_version": "2.0.0",
      "model_name": "LayoutModel",
      "state": {
       "_model_module": "@jupyter-widgets/base",
       "_model_module_version": "2.0.0",
       "_model_name": "LayoutModel",
       "_view_count": null,
       "_view_module": "@jupyter-widgets/base",
       "_view_module_version": "2.0.0",
       "_view_name": "LayoutView",
       "align_content": null,
       "align_items": null,
       "align_self": null,
       "border_bottom": null,
       "border_left": null,
       "border_right": null,
       "border_top": null,
       "bottom": null,
       "display": null,
       "flex": null,
       "flex_flow": null,
       "grid_area": null,
       "grid_auto_columns": null,
       "grid_auto_flow": null,
       "grid_auto_rows": null,
       "grid_column": null,
       "grid_gap": null,
       "grid_row": null,
       "grid_template_areas": null,
       "grid_template_columns": null,
       "grid_template_rows": null,
       "height": null,
       "justify_content": null,
       "justify_items": null,
       "left": null,
       "margin": null,
       "max_height": null,
       "max_width": null,
       "min_height": null,
       "min_width": null,
       "object_fit": null,
       "object_position": null,
       "order": null,
       "overflow": null,
       "padding": null,
       "right": null,
       "top": null,
       "visibility": null,
       "width": null
      }
     },
     "ee6eef00d6f1464eb9e38c4ec447d360": {
      "model_module": "@jupyter-widgets/controls",
      "model_module_version": "2.0.0",
      "model_name": "HTMLStyleModel",
      "state": {
       "_model_module": "@jupyter-widgets/controls",
       "_model_module_version": "2.0.0",
       "_model_name": "HTMLStyleModel",
       "_view_count": null,
       "_view_module": "@jupyter-widgets/base",
       "_view_module_version": "2.0.0",
       "_view_name": "StyleView",
       "background": null,
       "description_width": "",
       "font_size": null,
       "text_color": null
      }
     },
     "ef4cd4a10153476e8ce2eedc2651adc4": {
      "model_module": "@jupyter-widgets/controls",
      "model_module_version": "2.0.0",
      "model_name": "HBoxModel",
      "state": {
       "_dom_classes": [],
       "_model_module": "@jupyter-widgets/controls",
       "_model_module_version": "2.0.0",
       "_model_name": "HBoxModel",
       "_view_count": null,
       "_view_module": "@jupyter-widgets/controls",
       "_view_module_version": "2.0.0",
       "_view_name": "HBoxView",
       "box_style": "",
       "children": [
        "IPY_MODEL_4e165052a73841a1bc162049e7c28e1d",
        "IPY_MODEL_12e2f8588fee45f49d9ba301e7911078",
        "IPY_MODEL_6d165fd83ed44f2a8e781c3479a1bd7c"
       ],
       "layout": "IPY_MODEL_078c447d572b498fb2ea75e9a206fb3b",
       "tabbable": null,
       "tooltip": null
      }
     },
     "f075a1e19f3b406297c57e274a1778df": {
      "model_module": "@jupyter-widgets/controls",
      "model_module_version": "2.0.0",
      "model_name": "HTMLStyleModel",
      "state": {
       "_model_module": "@jupyter-widgets/controls",
       "_model_module_version": "2.0.0",
       "_model_name": "HTMLStyleModel",
       "_view_count": null,
       "_view_module": "@jupyter-widgets/base",
       "_view_module_version": "2.0.0",
       "_view_name": "StyleView",
       "background": null,
       "description_width": "",
       "font_size": null,
       "text_color": null
      }
     },
     "fa0dda5cfae04d14bb4835045bb7fedf": {
      "model_module": "@jupyter-widgets/controls",
      "model_module_version": "2.0.0",
      "model_name": "HTMLModel",
      "state": {
       "_dom_classes": [],
       "_model_module": "@jupyter-widgets/controls",
       "_model_module_version": "2.0.0",
       "_model_name": "HTMLModel",
       "_view_count": null,
       "_view_module": "@jupyter-widgets/controls",
       "_view_module_version": "2.0.0",
       "_view_name": "HTMLView",
       "description": "",
       "description_allow_html": false,
       "layout": "IPY_MODEL_03390dea638c4832b2542b51e9a83dc3",
       "placeholder": "​",
       "style": "IPY_MODEL_84117a08215e45fcb76075f56713df47",
       "tabbable": null,
       "tooltip": null,
       "value": " 20/20 [00:00&lt;00:00, 1437.29 examples/s]"
      }
     }
    },
    "version_major": 2,
    "version_minor": 0
   }
  }
 },
 "nbformat": 4,
 "nbformat_minor": 5
}
