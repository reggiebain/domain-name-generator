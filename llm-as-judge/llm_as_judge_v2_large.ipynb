{
 "cells": [
  {
   "cell_type": "markdown",
   "id": "aab78aa6",
   "metadata": {
    "papermill": {
     "duration": 0.00197,
     "end_time": "2025-07-30T18:24:20.649586",
     "exception": false,
     "start_time": "2025-07-30T18:24:20.647616",
     "status": "completed"
    },
    "tags": []
   },
   "source": [
    "# Part 3 - LLM as Judge\n",
    "- Use proprietary LLM to assess domain names created by fine tuned llm\n",
    "- This finishes off the pipeline and utlizes a rubric to assess the names (in addition to the BLEU/ROUGE metrics we used already)"
   ]
  },
  {
   "cell_type": "code",
   "execution_count": 1,
   "id": "0072cab6",
   "metadata": {
    "execution": {
     "iopub.execute_input": "2025-07-30T18:24:20.654253Z",
     "iopub.status.busy": "2025-07-30T18:24:20.653628Z",
     "iopub.status.idle": "2025-07-30T18:24:24.617611Z",
     "shell.execute_reply": "2025-07-30T18:24:24.616745Z"
    },
    "papermill": {
     "duration": 3.968392,
     "end_time": "2025-07-30T18:24:24.619633",
     "exception": false,
     "start_time": "2025-07-30T18:24:20.651241",
     "status": "completed"
    },
    "tags": []
   },
   "outputs": [],
   "source": [
    "!pip install -q openai"
   ]
  },
  {
   "cell_type": "code",
   "execution_count": 2,
   "id": "9a63c8ad",
   "metadata": {
    "execution": {
     "iopub.execute_input": "2025-07-30T18:24:24.624111Z",
     "iopub.status.busy": "2025-07-30T18:24:24.623848Z",
     "iopub.status.idle": "2025-07-30T18:24:27.495461Z",
     "shell.execute_reply": "2025-07-30T18:24:27.494829Z"
    },
    "papermill": {
     "duration": 2.875365,
     "end_time": "2025-07-30T18:24:27.496761",
     "exception": false,
     "start_time": "2025-07-30T18:24:24.621396",
     "status": "completed"
    },
    "tags": []
   },
   "outputs": [],
   "source": [
    "import os\n",
    "import openai\n",
    "from openai import OpenAI\n",
    "import json\n",
    "import pandas as pd\n",
    "from tqdm import tqdm\n",
    "\n",
    "from kaggle_secrets import UserSecretsClient\n",
    "user_secrets = UserSecretsClient()\n",
    "#openai.api_key = user_secrets.get_secret(\"openai_api_key\")\n",
    "api_key = user_secrets.get_secret(\"openai_api_key\")"
   ]
  },
  {
   "cell_type": "code",
   "execution_count": 3,
   "id": "a83a6158",
   "metadata": {
    "execution": {
     "iopub.execute_input": "2025-07-30T18:24:27.501336Z",
     "iopub.status.busy": "2025-07-30T18:24:27.500576Z",
     "iopub.status.idle": "2025-07-30T18:24:27.504873Z",
     "shell.execute_reply": "2025-07-30T18:24:27.504224Z"
    },
    "papermill": {
     "duration": 0.00743,
     "end_time": "2025-07-30T18:24:27.505958",
     "exception": false,
     "start_time": "2025-07-30T18:24:27.498528",
     "status": "completed"
    },
    "tags": []
   },
   "outputs": [],
   "source": [
    "def format_prompt(description: str, domain_name: dict) -> str:\n",
    "    return f\"\"\"\n",
    "You are an expert branding consultant. Your task is to evaluate the quality of a proposed domain name for a business.\n",
    "\n",
    "Business Description:\n",
    "\\\"\\\"\\\"{description}\\\"\\\"\\\"\n",
    "\n",
    "Proposed Domain Name:\n",
    "\\\"\\\"\\\"{domain_name}\\\"\\\"\\\"\n",
    "\n",
    "Evaluate the domain on the following criteria, providing scores from 0-5 for each criteria:\n",
    "1. **Relevance**: Does the domain name relate well to the business?\n",
    "2. **Creativity**: Is the name original and imaginative?\n",
    "3. **Brandability**: Is it catchy, easy to remember, and easy to spell?\n",
    "4. **Safety**: Is the name appropriate and free of offensive language?\n",
    "\n",
    "Provide a JSON response like:\n",
    "{{\n",
    "  \"relevance\": 4,\n",
    "  \"creativity\": 5,\n",
    "  \"brandability\": 4,\n",
    "  \"safety\": 5,\n",
    "  \"comments\": \"Creative and brandable. Slightly generic but safe and relevant.\"\n",
    "}}\n",
    "\n",
    "ONLY respond with the JSON and nothing else.\n",
    "\"\"\""
   ]
  },
  {
   "cell_type": "code",
   "execution_count": 4,
   "id": "dfa33cde",
   "metadata": {
    "execution": {
     "iopub.execute_input": "2025-07-30T18:24:27.509466Z",
     "iopub.status.busy": "2025-07-30T18:24:27.509271Z",
     "iopub.status.idle": "2025-07-30T18:24:27.761064Z",
     "shell.execute_reply": "2025-07-30T18:24:27.760275Z"
    },
    "papermill": {
     "duration": 0.255148,
     "end_time": "2025-07-30T18:24:27.762528",
     "exception": false,
     "start_time": "2025-07-30T18:24:27.507380",
     "status": "completed"
    },
    "tags": []
   },
   "outputs": [],
   "source": [
    "# Initialize OpenAI client\n",
    "client = OpenAI(api_key=api_key)\n",
    "\n",
    "def call_judge(prompt):\n",
    "    #prompt = format_prompt(description, domain_name)\n",
    "\n",
    "    response = client.chat.completions.create(\n",
    "        model=\"gpt-4\",\n",
    "        messages=[{\"role\": \"user\", \"content\": prompt}],\n",
    "        temperature=0.3,\n",
    "    )\n",
    "\n",
    "    content = response.choices[0].message.content.strip()\n",
    "    try:\n",
    "        parsed = json.loads(content)\n",
    "    except json.JSONDecodeError:\n",
    "        parsed = eval(content)  # fallback (not recommended)\n",
    "        return None\n",
    "    return parsed"
   ]
  },
  {
   "cell_type": "code",
   "execution_count": 5,
   "id": "e27ffce2",
   "metadata": {
    "execution": {
     "iopub.execute_input": "2025-07-30T18:24:27.767062Z",
     "iopub.status.busy": "2025-07-30T18:24:27.766594Z",
     "iopub.status.idle": "2025-07-30T18:24:27.771655Z",
     "shell.execute_reply": "2025-07-30T18:24:27.771002Z"
    },
    "papermill": {
     "duration": 0.008306,
     "end_time": "2025-07-30T18:24:27.772726",
     "exception": false,
     "start_time": "2025-07-30T18:24:27.764420",
     "status": "completed"
    },
    "tags": []
   },
   "outputs": [],
   "source": [
    "def evaluate_domains(pred_csv_path, output_path):\n",
    "    df = pd.read_csv(pred_csv_path)\n",
    "    evaluations = []\n",
    "\n",
    "    for _, row in tqdm(df.iterrows(), total=len(df)):\n",
    "        if not row['is_valid_domain']:\n",
    "            continue\n",
    "        prompt = format_prompt(row[\"description\"], row[\"pred\"])\n",
    "        result = call_judge(prompt)\n",
    "\n",
    "        if result:\n",
    "            evaluations.append({**row, **result})\n",
    "        else:\n",
    "            evaluations.append({**row, \"relevance\": None, \"creativity\": None, \n",
    "                                \"brandability\": None, \"safety\": None, \"comments\": \"Failed to evaluate\"})\n",
    "\n",
    "    pd.DataFrame(evaluations).to_csv(output_path, index=False)\n",
    "    print(f\"Saved evaluations to {output_path}\")"
   ]
  },
  {
   "cell_type": "code",
   "execution_count": 6,
   "id": "97aec9d9",
   "metadata": {
    "execution": {
     "iopub.execute_input": "2025-07-30T18:24:27.776751Z",
     "iopub.status.busy": "2025-07-30T18:24:27.776246Z",
     "iopub.status.idle": "2025-07-30T18:27:26.338697Z",
     "shell.execute_reply": "2025-07-30T18:27:26.337733Z"
    },
    "papermill": {
     "duration": 178.565674,
     "end_time": "2025-07-30T18:27:26.339960",
     "exception": false,
     "start_time": "2025-07-30T18:24:27.774286",
     "status": "completed"
    },
    "tags": []
   },
   "outputs": [
    {
     "name": "stderr",
     "output_type": "stream",
     "text": [
      "100%|██████████| 46/46 [02:58<00:00,  3.88s/it]"
     ]
    },
    {
     "name": "stdout",
     "output_type": "stream",
     "text": [
      "Saved evaluations to judged_domains-large-v2.csv\n"
     ]
    },
    {
     "name": "stderr",
     "output_type": "stream",
     "text": [
      "\n"
     ]
    }
   ],
   "source": [
    "# Run the evaluations \n",
    "version = 'v2'\n",
    "flag = 'large'\n",
    "input_file = f'/kaggle/input/domain-name-generator/data/predictions_eval-{version}-{flag}.csv'\n",
    "output_file = f'judged_domains-{flag}-{version}.csv'\n",
    "evaluate_domains(input_file, output_file)"
   ]
  }
 ],
 "metadata": {
  "kaggle": {
   "accelerator": "none",
   "dataSources": [
    {
     "datasetId": 7943647,
     "sourceId": 12625027,
     "sourceType": "datasetVersion"
    }
   ],
   "dockerImageVersionId": 31090,
   "isGpuEnabled": false,
   "isInternetEnabled": true,
   "language": "python",
   "sourceType": "notebook"
  },
  "kernelspec": {
   "display_name": "Python 3",
   "language": "python",
   "name": "python3"
  },
  "language_info": {
   "codemirror_mode": {
    "name": "ipython",
    "version": 3
   },
   "file_extension": ".py",
   "mimetype": "text/x-python",
   "name": "python",
   "nbconvert_exporter": "python",
   "pygments_lexer": "ipython3",
   "version": "3.11.13"
  },
  "papermill": {
   "default_parameters": {},
   "duration": 190.468746,
   "end_time": "2025-07-30T18:27:26.961442",
   "environment_variables": {},
   "exception": null,
   "input_path": "__notebook__.ipynb",
   "output_path": "__notebook__.ipynb",
   "parameters": {},
   "start_time": "2025-07-30T18:24:16.492696",
   "version": "2.6.0"
  }
 },
 "nbformat": 4,
 "nbformat_minor": 5
}
