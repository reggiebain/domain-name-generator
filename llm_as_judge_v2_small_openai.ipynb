{
 "cells": [
  {
   "cell_type": "markdown",
   "id": "52bbe1ad",
   "metadata": {
    "papermill": {
     "duration": 0.002155,
     "end_time": "2025-07-31T14:24:09.169190",
     "exception": false,
     "start_time": "2025-07-31T14:24:09.167035",
     "status": "completed"
    },
    "tags": []
   },
   "source": [
    "# Part 3 - LLM as Judge\n",
    "- Use proprietary LLM to assess domain names created by fine tuned llm using OpenAI API\n",
    "- This finishes off the pipeline and utlizes a rubric to assess the names (in addition to the BLEU/ROUGE metrics we used already)\n",
    "- Note that we only consider valid domain names (which we pruned when fine tuning)"
   ]
  },
  {
   "cell_type": "code",
   "execution_count": 1,
   "id": "c69b4753",
   "metadata": {
    "execution": {
     "iopub.execute_input": "2025-07-31T14:24:09.173960Z",
     "iopub.status.busy": "2025-07-31T14:24:09.173679Z",
     "iopub.status.idle": "2025-07-31T14:24:13.533673Z",
     "shell.execute_reply": "2025-07-31T14:24:13.532765Z"
    },
    "papermill": {
     "duration": 4.364532,
     "end_time": "2025-07-31T14:24:13.535754",
     "exception": false,
     "start_time": "2025-07-31T14:24:09.171222",
     "status": "completed"
    },
    "tags": []
   },
   "outputs": [],
   "source": [
    "!pip install -q openai"
   ]
  },
  {
   "cell_type": "code",
   "execution_count": 2,
   "id": "5391529c",
   "metadata": {
    "execution": {
     "iopub.execute_input": "2025-07-31T14:24:13.540591Z",
     "iopub.status.busy": "2025-07-31T14:24:13.540292Z",
     "iopub.status.idle": "2025-07-31T14:24:16.809055Z",
     "shell.execute_reply": "2025-07-31T14:24:16.808251Z"
    },
    "papermill": {
     "duration": 3.27288,
     "end_time": "2025-07-31T14:24:16.810613",
     "exception": false,
     "start_time": "2025-07-31T14:24:13.537733",
     "status": "completed"
    },
    "tags": []
   },
   "outputs": [],
   "source": [
    "import os\n",
    "import openai\n",
    "from openai import OpenAI\n",
    "import json\n",
    "import pandas as pd\n",
    "from tqdm import tqdm\n",
    "\n",
    "from kaggle_secrets import UserSecretsClient\n",
    "user_secrets = UserSecretsClient()\n",
    "#openai.api_key = user_secrets.get_secret(\"openai_api_key\")\n",
    "api_key = user_secrets.get_secret(\"openai_api_key\")"
   ]
  },
  {
   "cell_type": "code",
   "execution_count": 3,
   "id": "5d3782ae",
   "metadata": {
    "execution": {
     "iopub.execute_input": "2025-07-31T14:24:16.815585Z",
     "iopub.status.busy": "2025-07-31T14:24:16.814961Z",
     "iopub.status.idle": "2025-07-31T14:24:16.819158Z",
     "shell.execute_reply": "2025-07-31T14:24:16.818615Z"
    },
    "papermill": {
     "duration": 0.007717,
     "end_time": "2025-07-31T14:24:16.820237",
     "exception": false,
     "start_time": "2025-07-31T14:24:16.812520",
     "status": "completed"
    },
    "tags": []
   },
   "outputs": [],
   "source": [
    "def format_prompt(description: str, domain_name: dict) -> str:\n",
    "    return f\"\"\"\n",
    "You are an expert branding consultant. Your task is to evaluate the quality of a proposed domain name for a business.\n",
    "\n",
    "Business Description:\n",
    "\\\"\\\"\\\"{description}\\\"\\\"\\\"\n",
    "\n",
    "Proposed Domain Name:\n",
    "\\\"\\\"\\\"{domain_name}\\\"\\\"\\\"\n",
    "\n",
    "Evaluate the domain on the following criteria, providing scores from 0-5 for each criteria:\n",
    "1. **Relevance**: Does the domain name relate well to the business?\n",
    "2. **Creativity**: Is the name original and imaginative?\n",
    "3. **Brandability**: Is it catchy, easy to remember, and easy to spell?\n",
    "4. **Safety**: Is the name appropriate and free of offensive language?\n",
    "\n",
    "Provide a JSON response like:\n",
    "{{\n",
    "  \"relevance\": 4,\n",
    "  \"creativity\": 5,\n",
    "  \"brandability\": 4,\n",
    "  \"safety\": 5,\n",
    "  \"comments\": \"Creative and brandable. Slightly generic but safe and relevant.\"\n",
    "}}\n",
    "\n",
    "ONLY respond with the JSON and nothing else.\n",
    "\"\"\""
   ]
  },
  {
   "cell_type": "code",
   "execution_count": 4,
   "id": "144e86fb",
   "metadata": {
    "execution": {
     "iopub.execute_input": "2025-07-31T14:24:16.824936Z",
     "iopub.status.busy": "2025-07-31T14:24:16.824333Z",
     "iopub.status.idle": "2025-07-31T14:24:17.086286Z",
     "shell.execute_reply": "2025-07-31T14:24:17.085699Z"
    },
    "papermill": {
     "duration": 0.265775,
     "end_time": "2025-07-31T14:24:17.087773",
     "exception": false,
     "start_time": "2025-07-31T14:24:16.821998",
     "status": "completed"
    },
    "tags": []
   },
   "outputs": [],
   "source": [
    "# Initialize OpenAI client\n",
    "client = OpenAI(api_key=api_key)\n",
    "\n",
    "def call_judge(prompt):\n",
    "    #prompt = format_prompt(description, domain_name)\n",
    "\n",
    "    response = client.chat.completions.create(\n",
    "        model=\"gpt-4\",\n",
    "        messages=[{\"role\": \"user\", \"content\": prompt}],\n",
    "        temperature=0.3,\n",
    "    )\n",
    "\n",
    "    content = response.choices[0].message.content.strip()\n",
    "    try:\n",
    "        parsed = json.loads(content)\n",
    "    except json.JSONDecodeError:\n",
    "        parsed = eval(content)  # fallback (not recommended)\n",
    "        return None\n",
    "    return parsed"
   ]
  },
  {
   "cell_type": "code",
   "execution_count": 5,
   "id": "c39a0206",
   "metadata": {
    "execution": {
     "iopub.execute_input": "2025-07-31T14:24:17.092764Z",
     "iopub.status.busy": "2025-07-31T14:24:17.092000Z",
     "iopub.status.idle": "2025-07-31T14:24:17.096464Z",
     "shell.execute_reply": "2025-07-31T14:24:17.095932Z"
    },
    "papermill": {
     "duration": 0.007833,
     "end_time": "2025-07-31T14:24:17.097517",
     "exception": false,
     "start_time": "2025-07-31T14:24:17.089684",
     "status": "completed"
    },
    "tags": []
   },
   "outputs": [],
   "source": [
    "def run_moderation_check(prompt):\n",
    "    try:\n",
    "        response = client.moderations.create(\n",
    "            model=\"omni-moderation-latest\",\n",
    "            input=prompt\n",
    "        )\n",
    "        result = response.results[0]\n",
    "        flagged = result.flagged\n",
    "        categories = {k: v for k, v in result.categories.items() if v}\n",
    "        return flagged, categories\n",
    "    except Exception as e:\n",
    "        print(f\"Moderation check failed: {e}\")\n",
    "        return False, {}"
   ]
  },
  {
   "cell_type": "code",
   "execution_count": 6,
   "id": "46347c0f",
   "metadata": {
    "execution": {
     "iopub.execute_input": "2025-07-31T14:24:17.101656Z",
     "iopub.status.busy": "2025-07-31T14:24:17.101413Z",
     "iopub.status.idle": "2025-07-31T14:24:17.107036Z",
     "shell.execute_reply": "2025-07-31T14:24:17.106345Z"
    },
    "papermill": {
     "duration": 0.008918,
     "end_time": "2025-07-31T14:24:17.108158",
     "exception": false,
     "start_time": "2025-07-31T14:24:17.099240",
     "status": "completed"
    },
    "tags": []
   },
   "outputs": [],
   "source": [
    "def evaluate_domains(pred_csv_path, output_path):\n",
    "    df = pd.read_csv(pred_csv_path)\n",
    "    evaluations = []\n",
    "\n",
    "    for _, row in tqdm(df.iterrows(), total=len(df)):\n",
    "        if not row['is_valid_domain']:\n",
    "            continue\n",
    "        prompt = format_prompt(row[\"description\"], row[\"pred\"])\n",
    "        result = call_judge(prompt)\n",
    "\n",
    "        eval_data = {**row}\n",
    "        if result:\n",
    "            eval_data.update(result)\n",
    "        else:\n",
    "            eval_data.update({\n",
    "                \"relevance\": None,\n",
    "                \"creativity\": None,\n",
    "                \"brandability\": None,\n",
    "                \"safety\": None,\n",
    "                \"comments\": \"Failed to evaluate\"\n",
    "            })\n",
    "\n",
    "        # Run safety check using Moderation API\n",
    "        flagged, categories = run_moderation_check(prompt)\n",
    "        eval_data.update({\n",
    "            \"moderation_flagged\": flagged,\n",
    "            \"moderation_categories\": \"; \".join(categories.keys()) if flagged else \"\"\n",
    "        })\n",
    "\n",
    "        evaluations.append(eval_data)\n",
    "\n",
    "    \n",
    "    pd.DataFrame(evaluations).to_csv(output_path, index=False)\n",
    "    print(f\"Saved evaluations to {output_path}\")"
   ]
  },
  {
   "cell_type": "code",
   "execution_count": 7,
   "id": "513bb2f5",
   "metadata": {
    "execution": {
     "iopub.execute_input": "2025-07-31T14:24:17.112406Z",
     "iopub.status.busy": "2025-07-31T14:24:17.112182Z",
     "iopub.status.idle": "2025-07-31T14:25:28.128509Z",
     "shell.execute_reply": "2025-07-31T14:25:28.127594Z"
    },
    "papermill": {
     "duration": 71.019891,
     "end_time": "2025-07-31T14:25:28.129860",
     "exception": false,
     "start_time": "2025-07-31T14:24:17.109969",
     "status": "completed"
    },
    "tags": []
   },
   "outputs": [
    {
     "name": "stderr",
     "output_type": "stream",
     "text": [
      "  5%|▌         | 1/20 [00:05<01:39,  5.23s/it]"
     ]
    },
    {
     "name": "stdout",
     "output_type": "stream",
     "text": [
      "Moderation check failed: 'Categories' object has no attribute 'items'\n"
     ]
    },
    {
     "name": "stderr",
     "output_type": "stream",
     "text": [
      " 10%|█         | 2/20 [00:11<01:48,  6.05s/it]"
     ]
    },
    {
     "name": "stdout",
     "output_type": "stream",
     "text": [
      "Moderation check failed: 'Categories' object has no attribute 'items'\n"
     ]
    },
    {
     "name": "stderr",
     "output_type": "stream",
     "text": [
      " 15%|█▌        | 3/20 [00:15<01:27,  5.16s/it]"
     ]
    },
    {
     "name": "stdout",
     "output_type": "stream",
     "text": [
      "Moderation check failed: 'Categories' object has no attribute 'items'\n"
     ]
    },
    {
     "name": "stderr",
     "output_type": "stream",
     "text": [
      " 20%|██        | 4/20 [00:20<01:17,  4.82s/it]"
     ]
    },
    {
     "name": "stdout",
     "output_type": "stream",
     "text": [
      "Moderation check failed: 'Categories' object has no attribute 'items'\n"
     ]
    },
    {
     "name": "stderr",
     "output_type": "stream",
     "text": [
      " 25%|██▌       | 5/20 [00:24<01:11,  4.77s/it]"
     ]
    },
    {
     "name": "stdout",
     "output_type": "stream",
     "text": [
      "Moderation check failed: 'Categories' object has no attribute 'items'\n"
     ]
    },
    {
     "name": "stderr",
     "output_type": "stream",
     "text": [
      " 35%|███▌      | 7/20 [00:28<00:42,  3.28s/it]"
     ]
    },
    {
     "name": "stdout",
     "output_type": "stream",
     "text": [
      "Moderation check failed: 'Categories' object has no attribute 'items'\n"
     ]
    },
    {
     "name": "stderr",
     "output_type": "stream",
     "text": [
      " 40%|████      | 8/20 [00:32<00:42,  3.51s/it]"
     ]
    },
    {
     "name": "stdout",
     "output_type": "stream",
     "text": [
      "Moderation check failed: 'Categories' object has no attribute 'items'\n"
     ]
    },
    {
     "name": "stderr",
     "output_type": "stream",
     "text": [
      " 50%|█████     | 10/20 [00:36<00:27,  2.78s/it]"
     ]
    },
    {
     "name": "stdout",
     "output_type": "stream",
     "text": [
      "Moderation check failed: 'Categories' object has no attribute 'items'\n"
     ]
    },
    {
     "name": "stderr",
     "output_type": "stream",
     "text": [
      " 55%|█████▌    | 11/20 [00:39<00:26,  2.92s/it]"
     ]
    },
    {
     "name": "stdout",
     "output_type": "stream",
     "text": [
      "Moderation check failed: 'Categories' object has no attribute 'items'\n"
     ]
    },
    {
     "name": "stderr",
     "output_type": "stream",
     "text": [
      " 60%|██████    | 12/20 [00:44<00:26,  3.27s/it]"
     ]
    },
    {
     "name": "stdout",
     "output_type": "stream",
     "text": [
      "Moderation check failed: 'Categories' object has no attribute 'items'\n"
     ]
    },
    {
     "name": "stderr",
     "output_type": "stream",
     "text": [
      " 75%|███████▌  | 15/20 [00:48<00:11,  2.32s/it]"
     ]
    },
    {
     "name": "stdout",
     "output_type": "stream",
     "text": [
      "Moderation check failed: 'Categories' object has no attribute 'items'\n"
     ]
    },
    {
     "name": "stderr",
     "output_type": "stream",
     "text": [
      " 80%|████████  | 16/20 [00:52<00:10,  2.65s/it]"
     ]
    },
    {
     "name": "stdout",
     "output_type": "stream",
     "text": [
      "Moderation check failed: 'Categories' object has no attribute 'items'\n"
     ]
    },
    {
     "name": "stderr",
     "output_type": "stream",
     "text": [
      " 85%|████████▌ | 17/20 [00:57<00:09,  3.19s/it]"
     ]
    },
    {
     "name": "stdout",
     "output_type": "stream",
     "text": [
      "Moderation check failed: 'Categories' object has no attribute 'items'\n"
     ]
    },
    {
     "name": "stderr",
     "output_type": "stream",
     "text": [
      " 90%|█████████ | 18/20 [01:00<00:06,  3.25s/it]"
     ]
    },
    {
     "name": "stdout",
     "output_type": "stream",
     "text": [
      "Moderation check failed: 'Categories' object has no attribute 'items'\n"
     ]
    },
    {
     "name": "stderr",
     "output_type": "stream",
     "text": [
      " 95%|█████████▌| 19/20 [01:05<00:03,  3.59s/it]"
     ]
    },
    {
     "name": "stdout",
     "output_type": "stream",
     "text": [
      "Moderation check failed: 'Categories' object has no attribute 'items'\n"
     ]
    },
    {
     "name": "stderr",
     "output_type": "stream",
     "text": [
      "100%|██████████| 20/20 [01:10<00:00,  3.55s/it]"
     ]
    },
    {
     "name": "stdout",
     "output_type": "stream",
     "text": [
      "Moderation check failed: 'Categories' object has no attribute 'items'\n",
      "Saved evaluations to judged_domains-small-v2.csv\n"
     ]
    },
    {
     "name": "stderr",
     "output_type": "stream",
     "text": [
      "\n"
     ]
    }
   ],
   "source": [
    "# Run the evaluations \n",
    "version = 'v2'\n",
    "flag = 'small'\n",
    "input_file = f'/kaggle/input/domain-name-generator/data/predictions_eval-{version}-{flag}.csv'\n",
    "output_file = f'judged_domains-{flag}-{version}.csv'\n",
    "evaluate_domains(input_file, output_file)"
   ]
  }
 ],
 "metadata": {
  "kaggle": {
   "accelerator": "none",
   "dataSources": [
    {
     "datasetId": 7943647,
     "sourceId": 12627791,
     "sourceType": "datasetVersion"
    }
   ],
   "dockerImageVersionId": 31090,
   "isGpuEnabled": false,
   "isInternetEnabled": true,
   "language": "python",
   "sourceType": "notebook"
  },
  "kernelspec": {
   "display_name": "Python 3",
   "language": "python",
   "name": "python3"
  },
  "language_info": {
   "codemirror_mode": {
    "name": "ipython",
    "version": 3
   },
   "file_extension": ".py",
   "mimetype": "text/x-python",
   "name": "python",
   "nbconvert_exporter": "python",
   "pygments_lexer": "ipython3",
   "version": "3.11.13"
  },
  "papermill": {
   "default_parameters": {},
   "duration": 84.38505,
   "end_time": "2025-07-31T14:25:28.851973",
   "environment_variables": {},
   "exception": null,
   "input_path": "__notebook__.ipynb",
   "output_path": "__notebook__.ipynb",
   "parameters": {},
   "start_time": "2025-07-31T14:24:04.466923",
   "version": "2.6.0"
  }
 },
 "nbformat": 4,
 "nbformat_minor": 5
}
