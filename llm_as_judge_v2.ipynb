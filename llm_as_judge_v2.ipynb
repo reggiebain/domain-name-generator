{
 "cells": [
  {
   "cell_type": "markdown",
   "id": "3ec7f1bc",
   "metadata": {
    "papermill": {
     "duration": 0.001937,
     "end_time": "2025-07-30T14:03:20.793029",
     "exception": false,
     "start_time": "2025-07-30T14:03:20.791092",
     "status": "completed"
    },
    "tags": []
   },
   "source": [
    "# Part 3 - LLM as Judge\n",
    "- Use proprietary LLM to assess domain names created by fine tuned llm\n",
    "- This finishes off the pipeline and utlizes a rubric to assess the names (in addition to the BLEU/ROUGE metrics we used already)"
   ]
  },
  {
   "cell_type": "code",
   "execution_count": 1,
   "id": "623f51ff",
   "metadata": {
    "execution": {
     "iopub.execute_input": "2025-07-30T14:03:20.796991Z",
     "iopub.status.busy": "2025-07-30T14:03:20.796795Z",
     "iopub.status.idle": "2025-07-30T14:03:24.721119Z",
     "shell.execute_reply": "2025-07-30T14:03:24.720264Z"
    },
    "papermill": {
     "duration": 3.928004,
     "end_time": "2025-07-30T14:03:24.722706",
     "exception": false,
     "start_time": "2025-07-30T14:03:20.794702",
     "status": "completed"
    },
    "tags": []
   },
   "outputs": [],
   "source": [
    "!pip install -q openai"
   ]
  },
  {
   "cell_type": "code",
   "execution_count": 2,
   "id": "324d2e07",
   "metadata": {
    "execution": {
     "iopub.execute_input": "2025-07-30T14:03:24.727225Z",
     "iopub.status.busy": "2025-07-30T14:03:24.726753Z",
     "iopub.status.idle": "2025-07-30T14:03:27.698358Z",
     "shell.execute_reply": "2025-07-30T14:03:27.697760Z"
    },
    "papermill": {
     "duration": 2.975269,
     "end_time": "2025-07-30T14:03:27.699771",
     "exception": false,
     "start_time": "2025-07-30T14:03:24.724502",
     "status": "completed"
    },
    "tags": []
   },
   "outputs": [],
   "source": [
    "import os\n",
    "import openai\n",
    "from openai import OpenAI\n",
    "import json\n",
    "import pandas as pd\n",
    "from tqdm import tqdm\n",
    "\n",
    "from kaggle_secrets import UserSecretsClient\n",
    "user_secrets = UserSecretsClient()\n",
    "#openai.api_key = user_secrets.get_secret(\"openai_api_key\")\n",
    "api_key = user_secrets.get_secret(\"openai_api_key\")"
   ]
  },
  {
   "cell_type": "code",
   "execution_count": 3,
   "id": "f5e79db7",
   "metadata": {
    "execution": {
     "iopub.execute_input": "2025-07-30T14:03:27.703986Z",
     "iopub.status.busy": "2025-07-30T14:03:27.703681Z",
     "iopub.status.idle": "2025-07-30T14:03:27.707704Z",
     "shell.execute_reply": "2025-07-30T14:03:27.707185Z"
    },
    "papermill": {
     "duration": 0.007214,
     "end_time": "2025-07-30T14:03:27.708722",
     "exception": false,
     "start_time": "2025-07-30T14:03:27.701508",
     "status": "completed"
    },
    "tags": []
   },
   "outputs": [],
   "source": [
    "def format_prompt(description: str, domain_name: dict) -> str:\n",
    "    return f\"\"\"\n",
    "You are an expert branding consultant. Your task is to evaluate the quality of a proposed domain name for a business.\n",
    "\n",
    "Business Description:\n",
    "\\\"\\\"\\\"{description}\\\"\\\"\\\"\n",
    "\n",
    "Proposed Domain Name:\n",
    "\\\"\\\"\\\"{domain_name}\\\"\\\"\\\"\n",
    "\n",
    "Evaluate the domain on the following criteria:\n",
    "1. **Relevance**: Does the domain name relate well to the business?\n",
    "2. **Creativity**: Is the name original and imaginative?\n",
    "3. **Brandability**: Is it catchy, easy to remember, and easy to spell?\n",
    "4. **Safety**: Is the name appropriate and free of offensive language?\n",
    "\n",
    "Provide a JSON response like:\n",
    "{{\n",
    "  \"relevance\": 4,\n",
    "  \"creativity\": 5,\n",
    "  \"brandability\": 4,\n",
    "  \"safety\": 5,\n",
    "  \"comments\": \"Creative and brandable. Slightly generic but safe and relevant.\"\n",
    "}}\n",
    "\n",
    "ONLY respond with the JSON and nothing else.\n",
    "\"\"\""
   ]
  },
  {
   "cell_type": "code",
   "execution_count": 4,
   "id": "3e91a98d",
   "metadata": {
    "execution": {
     "iopub.execute_input": "2025-07-30T14:03:27.712278Z",
     "iopub.status.busy": "2025-07-30T14:03:27.712069Z",
     "iopub.status.idle": "2025-07-30T14:03:27.945757Z",
     "shell.execute_reply": "2025-07-30T14:03:27.945217Z"
    },
    "papermill": {
     "duration": 0.236736,
     "end_time": "2025-07-30T14:03:27.946901",
     "exception": false,
     "start_time": "2025-07-30T14:03:27.710165",
     "status": "completed"
    },
    "tags": []
   },
   "outputs": [],
   "source": [
    "# Initialize OpenAI client\n",
    "client = OpenAI(api_key=api_key)\n",
    "\n",
    "def call_judge(prompt):\n",
    "    #prompt = format_prompt(description, domain_name)\n",
    "\n",
    "    response = client.chat.completions.create(\n",
    "        model=\"gpt-4\",\n",
    "        messages=[{\"role\": \"user\", \"content\": prompt}],\n",
    "        temperature=0.3,\n",
    "    )\n",
    "\n",
    "    content = response.choices[0].message.content.strip()\n",
    "    try:\n",
    "        parsed = json.loads(content)\n",
    "    except json.JSONDecodeError:\n",
    "        parsed = eval(content)  # fallback (not recommended)\n",
    "        return None\n",
    "    return parsed"
   ]
  },
  {
   "cell_type": "code",
   "execution_count": 5,
   "id": "2c812d64",
   "metadata": {
    "execution": {
     "iopub.execute_input": "2025-07-30T14:03:27.950900Z",
     "iopub.status.busy": "2025-07-30T14:03:27.950691Z",
     "iopub.status.idle": "2025-07-30T14:03:27.955217Z",
     "shell.execute_reply": "2025-07-30T14:03:27.954705Z"
    },
    "papermill": {
     "duration": 0.007629,
     "end_time": "2025-07-30T14:03:27.956264",
     "exception": false,
     "start_time": "2025-07-30T14:03:27.948635",
     "status": "completed"
    },
    "tags": []
   },
   "outputs": [],
   "source": [
    "def evaluate_domains(pred_csv_path, output_path):\n",
    "    df = pd.read_csv(pred_csv_path)\n",
    "    evaluations = []\n",
    "\n",
    "    for _, row in tqdm(df.iterrows(), total=len(df)):\n",
    "        if not row['is_valid_domain']:\n",
    "            continue\n",
    "        prompt = format_prompt(row[\"description\"], row[\"pred\"])\n",
    "        result = call_judge(prompt)\n",
    "\n",
    "        if result:\n",
    "            evaluations.append({**row, **result})\n",
    "        else:\n",
    "            evaluations.append({**row, \"relevance\": None, \"creativity\": None, \n",
    "                                \"brandability\": None, \"safety\": None, \"comments\": \"Failed to evaluate\"})\n",
    "\n",
    "    pd.DataFrame(evaluations).to_csv(output_path, index=False)\n",
    "    print(f\"Saved evaluations to {output_path}\")"
   ]
  },
  {
   "cell_type": "code",
   "execution_count": 6,
   "id": "afb6ac8b",
   "metadata": {
    "execution": {
     "iopub.execute_input": "2025-07-30T14:03:27.959822Z",
     "iopub.status.busy": "2025-07-30T14:03:27.959630Z",
     "iopub.status.idle": "2025-07-30T14:04:47.272487Z",
     "shell.execute_reply": "2025-07-30T14:04:47.271673Z"
    },
    "papermill": {
     "duration": 79.315833,
     "end_time": "2025-07-30T14:04:47.273540",
     "exception": false,
     "start_time": "2025-07-30T14:03:27.957707",
     "status": "completed"
    },
    "tags": []
   },
   "outputs": [
    {
     "name": "stderr",
     "output_type": "stream",
     "text": [
      "100%|██████████| 20/20 [01:19<00:00,  3.96s/it]"
     ]
    },
    {
     "name": "stdout",
     "output_type": "stream",
     "text": [
      "Saved evaluations to judged_domains-small-v2.csv\n"
     ]
    },
    {
     "name": "stderr",
     "output_type": "stream",
     "text": [
      "\n"
     ]
    }
   ],
   "source": [
    "# Run the evaluations \n",
    "version = 'v2'\n",
    "flag = 'small'\n",
    "input_file = f'/kaggle/input/domain-name-generator/data-{flag}/predictions_eval-{version}.csv'\n",
    "output_file = f'judged_domains-{flag}-{version}.csv'\n",
    "evaluate_domains(input_file, output_file)"
   ]
  }
 ],
 "metadata": {
  "kaggle": {
   "accelerator": "none",
   "dataSources": [
    {
     "datasetId": 7943647,
     "sourceId": 12622934,
     "sourceType": "datasetVersion"
    }
   ],
   "dockerImageVersionId": 31090,
   "isGpuEnabled": false,
   "isInternetEnabled": true,
   "language": "python",
   "sourceType": "notebook"
  },
  "kernelspec": {
   "display_name": "Python 3",
   "language": "python",
   "name": "python3"
  },
  "language_info": {
   "codemirror_mode": {
    "name": "ipython",
    "version": 3
   },
   "file_extension": ".py",
   "mimetype": "text/x-python",
   "name": "python",
   "nbconvert_exporter": "python",
   "pygments_lexer": "ipython3",
   "version": "3.11.13"
  },
  "papermill": {
   "default_parameters": {},
   "duration": 91.059477,
   "end_time": "2025-07-30T14:04:47.793288",
   "environment_variables": {},
   "exception": null,
   "input_path": "__notebook__.ipynb",
   "output_path": "__notebook__.ipynb",
   "parameters": {},
   "start_time": "2025-07-30T14:03:16.733811",
   "version": "2.6.0"
  }
 },
 "nbformat": 4,
 "nbformat_minor": 5
}
