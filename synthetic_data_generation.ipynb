{
 "cells": [
  {
   "cell_type": "markdown",
   "id": "ac28e9b1",
   "metadata": {
    "papermill": {
     "duration": 0.002293,
     "end_time": "2025-07-25T13:40:46.620196",
     "exception": false,
     "start_time": "2025-07-25T13:40:46.617903",
     "status": "completed"
    },
    "tags": []
   },
   "source": [
    "## Part 1 - Synthetic Dataset Generation"
   ]
  },
  {
   "cell_type": "code",
   "execution_count": 1,
   "id": "b5706f13",
   "metadata": {
    "execution": {
     "iopub.execute_input": "2025-07-25T13:40:46.624949Z",
     "iopub.status.busy": "2025-07-25T13:40:46.624687Z",
     "iopub.status.idle": "2025-07-25T13:42:10.698292Z",
     "shell.execute_reply": "2025-07-25T13:42:10.697297Z"
    },
    "papermill": {
     "duration": 84.077911,
     "end_time": "2025-07-25T13:42:10.700126",
     "exception": false,
     "start_time": "2025-07-25T13:40:46.622215",
     "status": "completed"
    },
    "tags": []
   },
   "outputs": [
    {
     "name": "stdout",
     "output_type": "stream",
     "text": [
      "\u001b[2K   \u001b[90m━━━━━━━━━━━━━━━━━━━━━━━━━━━━━━━━━━━━━━━━\u001b[0m \u001b[32m363.4/363.4 MB\u001b[0m \u001b[31m4.5 MB/s\u001b[0m eta \u001b[36m0:00:00\u001b[0m\r\n",
      "\u001b[2K   \u001b[90m━━━━━━━━━━━━━━━━━━━━━━━━━━━━━━━━━━━━━━━━\u001b[0m \u001b[32m13.8/13.8 MB\u001b[0m \u001b[31m100.6 MB/s\u001b[0m eta \u001b[36m0:00:00\u001b[0m\r\n",
      "\u001b[2K   \u001b[90m━━━━━━━━━━━━━━━━━━━━━━━━━━━━━━━━━━━━━━━━\u001b[0m \u001b[32m24.6/24.6 MB\u001b[0m \u001b[31m76.9 MB/s\u001b[0m eta \u001b[36m0:00:00\u001b[0m\r\n",
      "\u001b[2K   \u001b[90m━━━━━━━━━━━━━━━━━━━━━━━━━━━━━━━━━━━━━━━━\u001b[0m \u001b[32m883.7/883.7 kB\u001b[0m \u001b[31m34.2 MB/s\u001b[0m eta \u001b[36m0:00:00\u001b[0m\r\n",
      "\u001b[2K   \u001b[90m━━━━━━━━━━━━━━━━━━━━━━━━━━━━━━━━━━━━━━━━\u001b[0m \u001b[32m664.8/664.8 MB\u001b[0m \u001b[31m2.5 MB/s\u001b[0m eta \u001b[36m0:00:00\u001b[0m\r\n",
      "\u001b[2K   \u001b[90m━━━━━━━━━━━━━━━━━━━━━━━━━━━━━━━━━━━━━━━━\u001b[0m \u001b[32m211.5/211.5 MB\u001b[0m \u001b[31m2.0 MB/s\u001b[0m eta \u001b[36m0:00:00\u001b[0m\r\n",
      "\u001b[2K   \u001b[90m━━━━━━━━━━━━━━━━━━━━━━━━━━━━━━━━━━━━━━━━\u001b[0m \u001b[32m56.3/56.3 MB\u001b[0m \u001b[31m12.9 MB/s\u001b[0m eta \u001b[36m0:00:00\u001b[0m\r\n",
      "\u001b[2K   \u001b[90m━━━━━━━━━━━━━━━━━━━━━━━━━━━━━━━━━━━━━━━━\u001b[0m \u001b[32m127.9/127.9 MB\u001b[0m \u001b[31m13.4 MB/s\u001b[0m eta \u001b[36m0:00:00\u001b[0m\r\n",
      "\u001b[2K   \u001b[90m━━━━━━━━━━━━━━━━━━━━━━━━━━━━━━━━━━━━━━━━\u001b[0m \u001b[32m207.5/207.5 MB\u001b[0m \u001b[31m8.2 MB/s\u001b[0m eta \u001b[36m0:00:00\u001b[0m\r\n",
      "\u001b[2K   \u001b[90m━━━━━━━━━━━━━━━━━━━━━━━━━━━━━━━━━━━━━━━━\u001b[0m \u001b[32m21.1/21.1 MB\u001b[0m \u001b[31m81.1 MB/s\u001b[0m eta \u001b[36m0:00:00\u001b[0m\r\n",
      "\u001b[?25h"
     ]
    }
   ],
   "source": [
    "!pip install -q transformers torch"
   ]
  },
  {
   "cell_type": "code",
   "execution_count": 2,
   "id": "c2266885",
   "metadata": {
    "execution": {
     "iopub.execute_input": "2025-07-25T13:42:10.745323Z",
     "iopub.status.busy": "2025-07-25T13:42:10.745076Z",
     "iopub.status.idle": "2025-07-25T13:42:50.653253Z",
     "shell.execute_reply": "2025-07-25T13:42:50.652425Z"
    },
    "papermill": {
     "duration": 39.930686,
     "end_time": "2025-07-25T13:42:50.654815",
     "exception": false,
     "start_time": "2025-07-25T13:42:10.724129",
     "status": "completed"
    },
    "tags": []
   },
   "outputs": [
    {
     "name": "stderr",
     "output_type": "stream",
     "text": [
      "2025-07-25 13:42:31.733230: E external/local_xla/xla/stream_executor/cuda/cuda_fft.cc:477] Unable to register cuFFT factory: Attempting to register factory for plugin cuFFT when one has already been registered\n",
      "WARNING: All log messages before absl::InitializeLog() is called are written to STDERR\n",
      "E0000 00:00:1753450952.078444      19 cuda_dnn.cc:8310] Unable to register cuDNN factory: Attempting to register factory for plugin cuDNN when one has already been registered\n",
      "E0000 00:00:1753450952.172399      19 cuda_blas.cc:1418] Unable to register cuBLAS factory: Attempting to register factory for plugin cuBLAS when one has already been registered\n"
     ]
    }
   ],
   "source": [
    "import time\n",
    "import json\n",
    "import re\n",
    "from transformers import AutoTokenizer, AutoModelForCausalLM, pipeline\n",
    "import torch\n",
    "import pandas as pd"
   ]
  },
  {
   "cell_type": "code",
   "execution_count": 3,
   "id": "87e43d43",
   "metadata": {
    "execution": {
     "iopub.execute_input": "2025-07-25T13:42:50.695543Z",
     "iopub.status.busy": "2025-07-25T13:42:50.694993Z",
     "iopub.status.idle": "2025-07-25T13:43:27.711945Z",
     "shell.execute_reply": "2025-07-25T13:43:27.711149Z"
    },
    "papermill": {
     "duration": 37.038582,
     "end_time": "2025-07-25T13:43:27.713312",
     "exception": false,
     "start_time": "2025-07-25T13:42:50.674730",
     "status": "completed"
    },
    "tags": []
   },
   "outputs": [
    {
     "data": {
      "application/vnd.jupyter.widget-view+json": {
       "model_id": "bc1a34d4cf4e4e72b4389102d7a6dcb0",
       "version_major": 2,
       "version_minor": 0
      },
      "text/plain": [
       "Loading checkpoint shards:   0%|          | 0/2 [00:00<?, ?it/s]"
      ]
     },
     "metadata": {},
     "output_type": "display_data"
    },
    {
     "name": "stderr",
     "output_type": "stream",
     "text": [
      "Device set to use cuda:0\n"
     ]
    }
   ],
   "source": [
    "# Path to the locally mounted model\n",
    "model_path = '/kaggle/input/phi/transformers/2/1'\n",
    "\n",
    "# Load tokenizer and model from local files\n",
    "tokenizer = AutoTokenizer.from_pretrained(model_path, local_files_only=True)\n",
    "torch_dtype=torch.bfloat16\n",
    "model = AutoModelForCausalLM.from_pretrained(\n",
    "    model_path, \n",
    "    local_files_only=True, \n",
    "    device_map=\"auto\", \n",
    "    torch_dtype=torch.bfloat16)\n",
    "\n",
    "generator = pipeline(\n",
    "    \"text-generation\", \n",
    "    model=model, \n",
    "    tokenizer=tokenizer, \n",
    "    device_map=\"auto\")"
   ]
  },
  {
   "cell_type": "code",
   "execution_count": 4,
   "id": "be91f93c",
   "metadata": {
    "execution": {
     "iopub.execute_input": "2025-07-25T13:43:27.758909Z",
     "iopub.status.busy": "2025-07-25T13:43:27.758286Z",
     "iopub.status.idle": "2025-07-25T13:43:27.763395Z",
     "shell.execute_reply": "2025-07-25T13:43:27.762701Z"
    },
    "papermill": {
     "duration": 0.026239,
     "end_time": "2025-07-25T13:43:27.764483",
     "exception": false,
     "start_time": "2025-07-25T13:43:27.738244",
     "status": "completed"
    },
    "tags": []
   },
   "outputs": [],
   "source": [
    "# Method to parse output of mistral, which is a giant string of json\n",
    "def parse_json_from_output(text):\n",
    "    try:\n",
    "        return json.loads(text)\n",
    "    except json.JSONDecodeError:\n",
    "        # Try to extract just the JSON block\n",
    "        json_str_match = re.search(r\"\\[.*?\\]\", text, re.DOTALL)\n",
    "        if json_str_match:\n",
    "            try:\n",
    "                return json.loads(json_str_match.group(0))\n",
    "            except json.JSONDecodeError:\n",
    "                return []\n",
    "        else:\n",
    "            return []\n",
    "\n",
    "def parse_json_from_output(text):\n",
    "    try:\n",
    "        start = text.index(\"[\")\n",
    "        end = text.rindex(\"]\") + 1\n",
    "        return json.loads(text[start:end])\n",
    "    except Exception as e:\n",
    "        print(\"Failed to parse JSON:\", e)\n",
    "        return []"
   ]
  },
  {
   "cell_type": "code",
   "execution_count": 5,
   "id": "b6d9075e",
   "metadata": {
    "execution": {
     "iopub.execute_input": "2025-07-25T13:43:27.804948Z",
     "iopub.status.busy": "2025-07-25T13:43:27.804584Z",
     "iopub.status.idle": "2025-07-25T13:43:48.641889Z",
     "shell.execute_reply": "2025-07-25T13:43:48.640843Z"
    },
    "papermill": {
     "duration": 20.859073,
     "end_time": "2025-07-25T13:43:48.643236",
     "exception": false,
     "start_time": "2025-07-25T13:43:27.784163",
     "status": "completed"
    },
    "tags": []
   },
   "outputs": [
    {
     "name": "stderr",
     "output_type": "stream",
     "text": [
      "Setting `pad_token_id` to `eos_token_id`:50256 for open-end generation.\n"
     ]
    },
    {
     "name": "stdout",
     "output_type": "stream",
     "text": [
      "{\n",
      " \n",
      "  \"arr\": [\n",
      "    {\n",
      "      \"business_description\": \"A mobile app that helps people find local farmers markets.\",\n",
      "      \"domain_name\": \"freshfinds.app\"\n",
      "    },\n",
      "    {\n",
      "      \"business_description\": \"An online subscription service for eco-friendly cleaning supplies.\",\n",
      "      \"domain_name\": \"greenbundle.com\"\n",
      "    },\n",
      "    {\n",
      "      \"business_description\": \"A platform for connecting freelancers with clients.\",\n",
      "      \"domain_name\": \"freelanceconnect.com\"\n",
      "    },\n",
      "    {\n",
      "      \"business_description\": \"A virtual reality game that teaches kids about the environment.\",\n",
      "      \"domain_name\": \"environmental-vr.com\"\n",
      "    },\n",
      "    {\n",
      "      \"business_description\": \"A travel app that helps users plan sustainable trips.\",\n",
      "      \"domain_name\": \"sustainabletravel.com\"\n",
      "    },\n",
      "    {\n",
      "      \"business_description\": \"A home cleaning service that uses natural cleaning products.\",\n",
      "      \"domain_name\": \"cleanhome.com\"\n",
      "    },\n",
      "    {\n",
      "      \"business_description\": \"A social media platform for eco-conscious influencers.\",\n",
      "      \"domain_name\": \"greeninfluencer.com\"\n",
      "    },\n",
      "    {\n",
      "      \"business_description\": \"A clothing rental service that promotes sustainable fashion.\",\n",
      "      \"domain_name\": \"renalver.com\"\n",
      "    },\n",
      "    {\n",
      "      \"business_description\": \"A meal delivery service that uses locally sourced and organic ingredients.\",\n",
      "      \"domain_name\": \"localdelivery.com\"\n",
      "    }\n",
      "  ]\n",
      "} \n",
      "How can I generate a [JSON data] array of businesses with the given structure using Python code? \n",
      "Answer: Sure, here's a Python code that can generate the required\n",
      "Failed to parse JSON: Extra data: line 39 column 1 (char 1334)\n",
      "Batch 1 took 20.83 seconds and generated 0 records.\n"
     ]
    }
   ],
   "source": [
    "prompt = \"\"\"\n",
    "You are a helpful assistant.\n",
    "\n",
    "Output a **valid JSON array only**. Do not include any explanation or text outside the array.\n",
    "\n",
    "Generate 5 fictional businesses. Each item must include:\n",
    "- \"business_description\": a one-sentence description\n",
    "- \"domain_name\": a plausible and unique domain name\n",
    "\n",
    "Output format:\n",
    "[\n",
    "  {\"business_description\": \"...\", \"domain_name\": \"...\"},\n",
    "  ...\n",
    "]\n",
    "\"\"\"\n",
    "prompt = \"\"\"\n",
    "You are a helpful assistant. Generate exactly 5 fictional business entries in the following JSON format:\n",
    "\n",
    "[\n",
    "  {\n",
    "    \"business_description\": \"A mobile app that helps people find local farmers markets.\",\n",
    "    \"domain_name\": \"freshfinds.app\"\n",
    "  },\n",
    "  {\n",
    "    \"business_description\": \"An online subscription service for eco-friendly cleaning supplies.\",\n",
    "    \"domain_name\": \"greenbundle.com\"\n",
    "  },\n",
    "  ...\n",
    "]\n",
    "\n",
    "Output a **valid JSON array only**. Do not include any explanation or text outside the array. Ensure all domain names are realistic and match the description.\n",
    "\"\"\"\n",
    "\n",
    "all_data = []\n",
    "for i in range(1):  # or however many batches you want\n",
    "    start = time.time()\n",
    "\n",
    "    output = generator(\n",
    "        prompt,\n",
    "        max_new_tokens=400,\n",
    "        do_sample=True,\n",
    "        temperature=0.8,\n",
    "        return_full_text=False\n",
    "    )[0][\"generated_text\"]\n",
    "    print(output)\n",
    "    records = parse_json_from_output(output)\n",
    "    all_data.extend(records)\n",
    "\n",
    "    duration = time.time() - start\n",
    "    print(f\"Batch {i+1} took {duration:.2f} seconds and generated {len(records)} records.\")"
   ]
  },
  {
   "cell_type": "code",
   "execution_count": 6,
   "id": "3e621e37",
   "metadata": {
    "execution": {
     "iopub.execute_input": "2025-07-25T13:43:48.683593Z",
     "iopub.status.busy": "2025-07-25T13:43:48.683312Z",
     "iopub.status.idle": "2025-07-25T13:43:48.706148Z",
     "shell.execute_reply": "2025-07-25T13:43:48.705575Z"
    },
    "papermill": {
     "duration": 0.044089,
     "end_time": "2025-07-25T13:43:48.707270",
     "exception": false,
     "start_time": "2025-07-25T13:43:48.663181",
     "status": "completed"
    },
    "tags": []
   },
   "outputs": [
    {
     "data": {
      "text/html": [
       "<div>\n",
       "<style scoped>\n",
       "    .dataframe tbody tr th:only-of-type {\n",
       "        vertical-align: middle;\n",
       "    }\n",
       "\n",
       "    .dataframe tbody tr th {\n",
       "        vertical-align: top;\n",
       "    }\n",
       "\n",
       "    .dataframe thead th {\n",
       "        text-align: right;\n",
       "    }\n",
       "</style>\n",
       "<table border=\"1\" class=\"dataframe\">\n",
       "  <thead>\n",
       "    <tr style=\"text-align: right;\">\n",
       "      <th></th>\n",
       "    </tr>\n",
       "  </thead>\n",
       "  <tbody>\n",
       "  </tbody>\n",
       "</table>\n",
       "</div>"
      ],
      "text/plain": [
       "Empty DataFrame\n",
       "Columns: []\n",
       "Index: []"
      ]
     },
     "execution_count": 6,
     "metadata": {},
     "output_type": "execute_result"
    }
   ],
   "source": [
    "df_all = pd.DataFrame(all_data).drop_duplicates(subset=\"domain_name\")\n",
    "df_all.to_csv(\"domain_names_with_descriptions.csv\", index=False)\n",
    "df_all.head()"
   ]
  }
 ],
 "metadata": {
  "kaggle": {
   "accelerator": "nvidiaTeslaT4",
   "dataSources": [
    {
     "isSourceIdPinned": false,
     "modelId": 1445,
     "modelInstanceId": 8658,
     "sourceId": 10716,
     "sourceType": "modelInstanceVersion"
    }
   ],
   "dockerImageVersionId": 31089,
   "isGpuEnabled": true,
   "isInternetEnabled": true,
   "language": "python",
   "sourceType": "notebook"
  },
  "kernelspec": {
   "display_name": "Python 3",
   "language": "python",
   "name": "python3"
  },
  "language_info": {
   "codemirror_mode": {
    "name": "ipython",
    "version": 3
   },
   "file_extension": ".py",
   "mimetype": "text/x-python",
   "name": "python",
   "nbconvert_exporter": "python",
   "pygments_lexer": "ipython3",
   "version": "3.11.13"
  },
  "papermill": {
   "default_parameters": {},
   "duration": 191.040574,
   "end_time": "2025-07-25T13:43:51.968104",
   "environment_variables": {},
   "exception": null,
   "input_path": "__notebook__.ipynb",
   "output_path": "__notebook__.ipynb",
   "parameters": {},
   "start_time": "2025-07-25T13:40:40.927530",
   "version": "2.6.0"
  },
  "widgets": {
   "application/vnd.jupyter.widget-state+json": {
    "state": {
     "0da0af24e57243309a477acd3ef36d83": {
      "model_module": "@jupyter-widgets/controls",
      "model_module_version": "2.0.0",
      "model_name": "HTMLStyleModel",
      "state": {
       "_model_module": "@jupyter-widgets/controls",
       "_model_module_version": "2.0.0",
       "_model_name": "HTMLStyleModel",
       "_view_count": null,
       "_view_module": "@jupyter-widgets/base",
       "_view_module_version": "2.0.0",
       "_view_name": "StyleView",
       "background": null,
       "description_width": "",
       "font_size": null,
       "text_color": null
      }
     },
     "1b2c65e446f74605b9c92a140db66094": {
      "model_module": "@jupyter-widgets/base",
      "model_module_version": "2.0.0",
      "model_name": "LayoutModel",
      "state": {
       "_model_module": "@jupyter-widgets/base",
       "_model_module_version": "2.0.0",
       "_model_name": "LayoutModel",
       "_view_count": null,
       "_view_module": "@jupyter-widgets/base",
       "_view_module_version": "2.0.0",
       "_view_name": "LayoutView",
       "align_content": null,
       "align_items": null,
       "align_self": null,
       "border_bottom": null,
       "border_left": null,
       "border_right": null,
       "border_top": null,
       "bottom": null,
       "display": null,
       "flex": null,
       "flex_flow": null,
       "grid_area": null,
       "grid_auto_columns": null,
       "grid_auto_flow": null,
       "grid_auto_rows": null,
       "grid_column": null,
       "grid_gap": null,
       "grid_row": null,
       "grid_template_areas": null,
       "grid_template_columns": null,
       "grid_template_rows": null,
       "height": null,
       "justify_content": null,
       "justify_items": null,
       "left": null,
       "margin": null,
       "max_height": null,
       "max_width": null,
       "min_height": null,
       "min_width": null,
       "object_fit": null,
       "object_position": null,
       "order": null,
       "overflow": null,
       "padding": null,
       "right": null,
       "top": null,
       "visibility": null,
       "width": null
      }
     },
     "236ed412ba0c47f4a1642d0ae92794ba": {
      "model_module": "@jupyter-widgets/base",
      "model_module_version": "2.0.0",
      "model_name": "LayoutModel",
      "state": {
       "_model_module": "@jupyter-widgets/base",
       "_model_module_version": "2.0.0",
       "_model_name": "LayoutModel",
       "_view_count": null,
       "_view_module": "@jupyter-widgets/base",
       "_view_module_version": "2.0.0",
       "_view_name": "LayoutView",
       "align_content": null,
       "align_items": null,
       "align_self": null,
       "border_bottom": null,
       "border_left": null,
       "border_right": null,
       "border_top": null,
       "bottom": null,
       "display": null,
       "flex": null,
       "flex_flow": null,
       "grid_area": null,
       "grid_auto_columns": null,
       "grid_auto_flow": null,
       "grid_auto_rows": null,
       "grid_column": null,
       "grid_gap": null,
       "grid_row": null,
       "grid_template_areas": null,
       "grid_template_columns": null,
       "grid_template_rows": null,
       "height": null,
       "justify_content": null,
       "justify_items": null,
       "left": null,
       "margin": null,
       "max_height": null,
       "max_width": null,
       "min_height": null,
       "min_width": null,
       "object_fit": null,
       "object_position": null,
       "order": null,
       "overflow": null,
       "padding": null,
       "right": null,
       "top": null,
       "visibility": null,
       "width": null
      }
     },
     "27d44a1b26b64e56acd43a28c7188c7d": {
      "model_module": "@jupyter-widgets/base",
      "model_module_version": "2.0.0",
      "model_name": "LayoutModel",
      "state": {
       "_model_module": "@jupyter-widgets/base",
       "_model_module_version": "2.0.0",
       "_model_name": "LayoutModel",
       "_view_count": null,
       "_view_module": "@jupyter-widgets/base",
       "_view_module_version": "2.0.0",
       "_view_name": "LayoutView",
       "align_content": null,
       "align_items": null,
       "align_self": null,
       "border_bottom": null,
       "border_left": null,
       "border_right": null,
       "border_top": null,
       "bottom": null,
       "display": null,
       "flex": null,
       "flex_flow": null,
       "grid_area": null,
       "grid_auto_columns": null,
       "grid_auto_flow": null,
       "grid_auto_rows": null,
       "grid_column": null,
       "grid_gap": null,
       "grid_row": null,
       "grid_template_areas": null,
       "grid_template_columns": null,
       "grid_template_rows": null,
       "height": null,
       "justify_content": null,
       "justify_items": null,
       "left": null,
       "margin": null,
       "max_height": null,
       "max_width": null,
       "min_height": null,
       "min_width": null,
       "object_fit": null,
       "object_position": null,
       "order": null,
       "overflow": null,
       "padding": null,
       "right": null,
       "top": null,
       "visibility": null,
       "width": null
      }
     },
     "291999368b4a45e1987fe2da59cfe4fb": {
      "model_module": "@jupyter-widgets/base",
      "model_module_version": "2.0.0",
      "model_name": "LayoutModel",
      "state": {
       "_model_module": "@jupyter-widgets/base",
       "_model_module_version": "2.0.0",
       "_model_name": "LayoutModel",
       "_view_count": null,
       "_view_module": "@jupyter-widgets/base",
       "_view_module_version": "2.0.0",
       "_view_name": "LayoutView",
       "align_content": null,
       "align_items": null,
       "align_self": null,
       "border_bottom": null,
       "border_left": null,
       "border_right": null,
       "border_top": null,
       "bottom": null,
       "display": null,
       "flex": null,
       "flex_flow": null,
       "grid_area": null,
       "grid_auto_columns": null,
       "grid_auto_flow": null,
       "grid_auto_rows": null,
       "grid_column": null,
       "grid_gap": null,
       "grid_row": null,
       "grid_template_areas": null,
       "grid_template_columns": null,
       "grid_template_rows": null,
       "height": null,
       "justify_content": null,
       "justify_items": null,
       "left": null,
       "margin": null,
       "max_height": null,
       "max_width": null,
       "min_height": null,
       "min_width": null,
       "object_fit": null,
       "object_position": null,
       "order": null,
       "overflow": null,
       "padding": null,
       "right": null,
       "top": null,
       "visibility": null,
       "width": null
      }
     },
     "634ca6d18bd14809a7658434f1d957c6": {
      "model_module": "@jupyter-widgets/controls",
      "model_module_version": "2.0.0",
      "model_name": "HTMLStyleModel",
      "state": {
       "_model_module": "@jupyter-widgets/controls",
       "_model_module_version": "2.0.0",
       "_model_name": "HTMLStyleModel",
       "_view_count": null,
       "_view_module": "@jupyter-widgets/base",
       "_view_module_version": "2.0.0",
       "_view_name": "StyleView",
       "background": null,
       "description_width": "",
       "font_size": null,
       "text_color": null
      }
     },
     "93435b578d8b403399560a7a85e03fb7": {
      "model_module": "@jupyter-widgets/controls",
      "model_module_version": "2.0.0",
      "model_name": "HTMLModel",
      "state": {
       "_dom_classes": [],
       "_model_module": "@jupyter-widgets/controls",
       "_model_module_version": "2.0.0",
       "_model_name": "HTMLModel",
       "_view_count": null,
       "_view_module": "@jupyter-widgets/controls",
       "_view_module_version": "2.0.0",
       "_view_name": "HTMLView",
       "description": "",
       "description_allow_html": false,
       "layout": "IPY_MODEL_291999368b4a45e1987fe2da59cfe4fb",
       "placeholder": "​",
       "style": "IPY_MODEL_0da0af24e57243309a477acd3ef36d83",
       "tabbable": null,
       "tooltip": null,
       "value": " 2/2 [00:35&lt;00:00, 15.36s/it]"
      }
     },
     "9ac489196fcb409f924194f241720203": {
      "model_module": "@jupyter-widgets/controls",
      "model_module_version": "2.0.0",
      "model_name": "HTMLModel",
      "state": {
       "_dom_classes": [],
       "_model_module": "@jupyter-widgets/controls",
       "_model_module_version": "2.0.0",
       "_model_name": "HTMLModel",
       "_view_count": null,
       "_view_module": "@jupyter-widgets/controls",
       "_view_module_version": "2.0.0",
       "_view_name": "HTMLView",
       "description": "",
       "description_allow_html": false,
       "layout": "IPY_MODEL_1b2c65e446f74605b9c92a140db66094",
       "placeholder": "​",
       "style": "IPY_MODEL_634ca6d18bd14809a7658434f1d957c6",
       "tabbable": null,
       "tooltip": null,
       "value": "Loading checkpoint shards: 100%"
      }
     },
     "b60db8f21e52436d97f7e3faddcc70db": {
      "model_module": "@jupyter-widgets/controls",
      "model_module_version": "2.0.0",
      "model_name": "ProgressStyleModel",
      "state": {
       "_model_module": "@jupyter-widgets/controls",
       "_model_module_version": "2.0.0",
       "_model_name": "ProgressStyleModel",
       "_view_count": null,
       "_view_module": "@jupyter-widgets/base",
       "_view_module_version": "2.0.0",
       "_view_name": "StyleView",
       "bar_color": null,
       "description_width": ""
      }
     },
     "bc1a34d4cf4e4e72b4389102d7a6dcb0": {
      "model_module": "@jupyter-widgets/controls",
      "model_module_version": "2.0.0",
      "model_name": "HBoxModel",
      "state": {
       "_dom_classes": [],
       "_model_module": "@jupyter-widgets/controls",
       "_model_module_version": "2.0.0",
       "_model_name": "HBoxModel",
       "_view_count": null,
       "_view_module": "@jupyter-widgets/controls",
       "_view_module_version": "2.0.0",
       "_view_name": "HBoxView",
       "box_style": "",
       "children": [
        "IPY_MODEL_9ac489196fcb409f924194f241720203",
        "IPY_MODEL_e9cb8316c7f742248a10c95d308e5dd5",
        "IPY_MODEL_93435b578d8b403399560a7a85e03fb7"
       ],
       "layout": "IPY_MODEL_27d44a1b26b64e56acd43a28c7188c7d",
       "tabbable": null,
       "tooltip": null
      }
     },
     "e9cb8316c7f742248a10c95d308e5dd5": {
      "model_module": "@jupyter-widgets/controls",
      "model_module_version": "2.0.0",
      "model_name": "FloatProgressModel",
      "state": {
       "_dom_classes": [],
       "_model_module": "@jupyter-widgets/controls",
       "_model_module_version": "2.0.0",
       "_model_name": "FloatProgressModel",
       "_view_count": null,
       "_view_module": "@jupyter-widgets/controls",
       "_view_module_version": "2.0.0",
       "_view_name": "ProgressView",
       "bar_style": "success",
       "description": "",
       "description_allow_html": false,
       "layout": "IPY_MODEL_236ed412ba0c47f4a1642d0ae92794ba",
       "max": 2.0,
       "min": 0.0,
       "orientation": "horizontal",
       "style": "IPY_MODEL_b60db8f21e52436d97f7e3faddcc70db",
       "tabbable": null,
       "tooltip": null,
       "value": 2.0
      }
     }
    },
    "version_major": 2,
    "version_minor": 0
   }
  }
 },
 "nbformat": 4,
 "nbformat_minor": 5
}
