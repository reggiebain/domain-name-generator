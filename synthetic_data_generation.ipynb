{
 "cells": [
  {
   "cell_type": "markdown",
   "id": "38ee8b4f",
   "metadata": {
    "papermill": {
     "duration": 0.002075,
     "end_time": "2025-07-25T19:44:55.280028",
     "exception": false,
     "start_time": "2025-07-25T19:44:55.277953",
     "status": "completed"
    },
    "tags": []
   },
   "source": [
    "## Part 1 - Synthetic Dataset Generation"
   ]
  },
  {
   "cell_type": "code",
   "execution_count": 1,
   "id": "a1ce4d89",
   "metadata": {
    "execution": {
     "iopub.execute_input": "2025-07-25T19:44:55.284820Z",
     "iopub.status.busy": "2025-07-25T19:44:55.284165Z",
     "iopub.status.idle": "2025-07-25T19:46:18.606778Z",
     "shell.execute_reply": "2025-07-25T19:46:18.605793Z"
    },
    "papermill": {
     "duration": 83.326468,
     "end_time": "2025-07-25T19:46:18.608390",
     "exception": false,
     "start_time": "2025-07-25T19:44:55.281922",
     "status": "completed"
    },
    "tags": []
   },
   "outputs": [
    {
     "name": "stdout",
     "output_type": "stream",
     "text": [
      "\u001b[2K   \u001b[90m━━━━━━━━━━━━━━━━━━━━━━━━━━━━━━━━━━━━━━━━\u001b[0m \u001b[32m363.4/363.4 MB\u001b[0m \u001b[31m4.7 MB/s\u001b[0m eta \u001b[36m0:00:00\u001b[0m\r\n",
      "\u001b[2K   \u001b[90m━━━━━━━━━━━━━━━━━━━━━━━━━━━━━━━━━━━━━━━━\u001b[0m \u001b[32m13.8/13.8 MB\u001b[0m \u001b[31m98.0 MB/s\u001b[0m eta \u001b[36m0:00:00\u001b[0m\r\n",
      "\u001b[2K   \u001b[90m━━━━━━━━━━━━━━━━━━━━━━━━━━━━━━━━━━━━━━━━\u001b[0m \u001b[32m24.6/24.6 MB\u001b[0m \u001b[31m76.1 MB/s\u001b[0m eta \u001b[36m0:00:00\u001b[0m\r\n",
      "\u001b[2K   \u001b[90m━━━━━━━━━━━━━━━━━━━━━━━━━━━━━━━━━━━━━━━━\u001b[0m \u001b[32m883.7/883.7 kB\u001b[0m \u001b[31m33.4 MB/s\u001b[0m eta \u001b[36m0:00:00\u001b[0m\r\n",
      "\u001b[2K   \u001b[90m━━━━━━━━━━━━━━━━━━━━━━━━━━━━━━━━━━━━━━━━\u001b[0m \u001b[32m664.8/664.8 MB\u001b[0m \u001b[31m2.1 MB/s\u001b[0m eta \u001b[36m0:00:00\u001b[0m\r\n",
      "\u001b[2K   \u001b[90m━━━━━━━━━━━━━━━━━━━━━━━━━━━━━━━━━━━━━━━━\u001b[0m \u001b[32m211.5/211.5 MB\u001b[0m \u001b[31m2.9 MB/s\u001b[0m eta \u001b[36m0:00:00\u001b[0m\r\n",
      "\u001b[2K   \u001b[90m━━━━━━━━━━━━━━━━━━━━━━━━━━━━━━━━━━━━━━━━\u001b[0m \u001b[32m56.3/56.3 MB\u001b[0m \u001b[31m4.9 MB/s\u001b[0m eta \u001b[36m0:00:00\u001b[0m\r\n",
      "\u001b[2K   \u001b[90m━━━━━━━━━━━━━━━━━━━━━━━━━━━━━━━━━━━━━━━━\u001b[0m \u001b[32m127.9/127.9 MB\u001b[0m \u001b[31m13.6 MB/s\u001b[0m eta \u001b[36m0:00:00\u001b[0m\r\n",
      "\u001b[2K   \u001b[90m━━━━━━━━━━━━━━━━━━━━━━━━━━━━━━━━━━━━━━━━\u001b[0m \u001b[32m207.5/207.5 MB\u001b[0m \u001b[31m8.3 MB/s\u001b[0m eta \u001b[36m0:00:00\u001b[0m\r\n",
      "\u001b[2K   \u001b[90m━━━━━━━━━━━━━━━━━━━━━━━━━━━━━━━━━━━━━━━━\u001b[0m \u001b[32m21.1/21.1 MB\u001b[0m \u001b[31m86.7 MB/s\u001b[0m eta \u001b[36m0:00:00\u001b[0m\r\n",
      "\u001b[?25h"
     ]
    }
   ],
   "source": [
    "!pip install -q transformers torch"
   ]
  },
  {
   "cell_type": "code",
   "execution_count": 2,
   "id": "b2ff57e0",
   "metadata": {
    "execution": {
     "iopub.execute_input": "2025-07-25T19:46:18.653988Z",
     "iopub.status.busy": "2025-07-25T19:46:18.653682Z",
     "iopub.status.idle": "2025-07-25T19:46:59.752664Z",
     "shell.execute_reply": "2025-07-25T19:46:59.752018Z"
    },
    "papermill": {
     "duration": 41.12274,
     "end_time": "2025-07-25T19:46:59.754012",
     "exception": false,
     "start_time": "2025-07-25T19:46:18.631272",
     "status": "completed"
    },
    "tags": []
   },
   "outputs": [
    {
     "name": "stderr",
     "output_type": "stream",
     "text": [
      "2025-07-25 19:46:39.825036: E external/local_xla/xla/stream_executor/cuda/cuda_fft.cc:477] Unable to register cuFFT factory: Attempting to register factory for plugin cuFFT when one has already been registered\n",
      "WARNING: All log messages before absl::InitializeLog() is called are written to STDERR\n",
      "E0000 00:00:1753472800.207114      19 cuda_dnn.cc:8310] Unable to register cuDNN factory: Attempting to register factory for plugin cuDNN when one has already been registered\n",
      "E0000 00:00:1753472800.315634      19 cuda_blas.cc:1418] Unable to register cuBLAS factory: Attempting to register factory for plugin cuBLAS when one has already been registered\n"
     ]
    }
   ],
   "source": [
    "import time\n",
    "import json\n",
    "import re\n",
    "from transformers import AutoTokenizer, AutoModelForCausalLM, pipeline\n",
    "import torch\n",
    "import pandas as pd"
   ]
  },
  {
   "cell_type": "code",
   "execution_count": 3,
   "id": "5c6acb31",
   "metadata": {
    "execution": {
     "iopub.execute_input": "2025-07-25T19:46:59.794395Z",
     "iopub.status.busy": "2025-07-25T19:46:59.793879Z",
     "iopub.status.idle": "2025-07-25T19:47:32.623170Z",
     "shell.execute_reply": "2025-07-25T19:47:32.622548Z"
    },
    "papermill": {
     "duration": 32.850292,
     "end_time": "2025-07-25T19:47:32.624233",
     "exception": false,
     "start_time": "2025-07-25T19:46:59.773941",
     "status": "completed"
    },
    "tags": []
   },
   "outputs": [
    {
     "data": {
      "application/vnd.jupyter.widget-view+json": {
       "model_id": "4ac70c2033924a01bd5cd9a317cf2612",
       "version_major": 2,
       "version_minor": 0
      },
      "text/plain": [
       "Loading checkpoint shards:   0%|          | 0/2 [00:00<?, ?it/s]"
      ]
     },
     "metadata": {},
     "output_type": "display_data"
    },
    {
     "name": "stderr",
     "output_type": "stream",
     "text": [
      "Device set to use cuda:0\n"
     ]
    }
   ],
   "source": [
    "# Path to the locally mounted model\n",
    "model_path = '/kaggle/input/phi/transformers/2/1'\n",
    "\n",
    "# Load tokenizer and model from local files\n",
    "tokenizer = AutoTokenizer.from_pretrained(model_path, local_files_only=True)\n",
    "torch_dtype=torch.bfloat16\n",
    "model = AutoModelForCausalLM.from_pretrained(\n",
    "    model_path, \n",
    "    local_files_only=True, \n",
    "    device_map=\"auto\", \n",
    "    torch_dtype=torch.bfloat16)\n",
    "\n",
    "generator = pipeline(\n",
    "    \"text-generation\", \n",
    "    model=model, \n",
    "    tokenizer=tokenizer, \n",
    "    device_map=\"auto\")"
   ]
  },
  {
   "cell_type": "code",
   "execution_count": 4,
   "id": "67e3d78f",
   "metadata": {
    "execution": {
     "iopub.execute_input": "2025-07-25T19:47:32.665289Z",
     "iopub.status.busy": "2025-07-25T19:47:32.664802Z",
     "iopub.status.idle": "2025-07-25T19:47:32.670048Z",
     "shell.execute_reply": "2025-07-25T19:47:32.669382Z"
    },
    "papermill": {
     "duration": 0.026473,
     "end_time": "2025-07-25T19:47:32.671090",
     "exception": false,
     "start_time": "2025-07-25T19:47:32.644617",
     "status": "completed"
    },
    "tags": []
   },
   "outputs": [],
   "source": [
    "# Method to parse output of mistral, which is a giant string of json\n",
    "def parse_json_from_output(text):\n",
    "    try:\n",
    "        return json.loads(text)\n",
    "    except json.JSONDecodeError:\n",
    "        # Try to extract just the JSON block\n",
    "        json_str_match = re.search(r\"\\[.*?\\]\", text, re.DOTALL)\n",
    "        if json_str_match:\n",
    "            try:\n",
    "                return json.loads(json_str_match.group(0))\n",
    "            except json.JSONDecodeError:\n",
    "                return []\n",
    "        else:\n",
    "            return []\n",
    "\n",
    "def parse_json_from_output(text):\n",
    "    try:\n",
    "        start = text.index(\"[\")\n",
    "        end = text.rindex(\"]\") + 1\n",
    "        return json.loads(text[start:end])\n",
    "    except Exception as e:\n",
    "        print(\"Failed to parse JSON:\", e)\n",
    "        return []"
   ]
  },
  {
   "cell_type": "code",
   "execution_count": 5,
   "id": "cba785e7",
   "metadata": {
    "execution": {
     "iopub.execute_input": "2025-07-25T19:47:32.711279Z",
     "iopub.status.busy": "2025-07-25T19:47:32.711055Z",
     "iopub.status.idle": "2025-07-25T19:47:45.270651Z",
     "shell.execute_reply": "2025-07-25T19:47:45.269676Z"
    },
    "papermill": {
     "duration": 12.581132,
     "end_time": "2025-07-25T19:47:45.271856",
     "exception": false,
     "start_time": "2025-07-25T19:47:32.690724",
     "status": "completed"
    },
    "tags": []
   },
   "outputs": [
    {
     "name": "stderr",
     "output_type": "stream",
     "text": [
      "Setting `pad_token_id` to `eos_token_id`:50256 for open-end generation.\n"
     ]
    },
    {
     "name": "stdout",
     "output_type": "stream",
     "text": [
      "## INPUT\n",
      "\n",
      "##OUTPUT\n",
      "[\n",
      "  {\n",
      "    \"business_description\": \"A mobile app that helps people find local farmers markets.\",\n",
      "    \"domain_name\": \"freshfinds.app\"\n",
      "  },\n",
      "  {\n",
      "    \"business_description\": \"An online subscription service for eco-friendly cleaning supplies.\",\n",
      "    \"domain_name\": \"greenbundle.com\"\n",
      "  },\n",
      "  {\n",
      "    \"business_description\": \"A platform that connects freelance graphic designers with small business owners.\",\n",
      "    \"domain_name\": \"designsbydesigners.com\"\n",
      "  },\n",
      "  {\n",
      "    \"business_description\": \"A subscription service that delivers fresh, organic produce to your doorstep every week.\",\n",
      "    \"domain_name\": \"farm2table.com\"\n",
      "  },\n",
      "  {\n",
      "    \"business_description\": \"A website that helps users find and book pet-friendly accommodations while traveling.\",\n",
      "    \"domain_name\": \"pawlovelovers.com\"\n",
      "  }\n",
      "]\n",
      "\n",
      "Batch 1 took 12.55 seconds and generated 5 records.\n"
     ]
    }
   ],
   "source": [
    "prompt = \"\"\"\n",
    "You are a helpful assistant.\n",
    "\n",
    "Output a **valid JSON array only**. Do not include any explanation or text outside the array.\n",
    "\n",
    "Generate 5 fictional businesses. Each item must include:\n",
    "- \"business_description\": a one-sentence description\n",
    "- \"domain_name\": a plausible and unique domain name\n",
    "\n",
    "Output format:\n",
    "[\n",
    "  {\"business_description\": \"...\", \"domain_name\": \"...\"},\n",
    "  ...\n",
    "]\n",
    "\"\"\"\n",
    "prompt = \"\"\"\n",
    "You are a helpful assistant. Generate exactly 5 fictional business entries in the following JSON format:\n",
    "\n",
    "[\n",
    "  {\n",
    "    \"business_description\": \"A mobile app that helps people find local farmers markets.\",\n",
    "    \"domain_name\": \"freshfinds.app\"\n",
    "  },\n",
    "  {\n",
    "    \"business_description\": \"An online subscription service for eco-friendly cleaning supplies.\",\n",
    "    \"domain_name\": \"greenbundle.com\"\n",
    "  },\n",
    "  ...\n",
    "]\n",
    "\n",
    "ONLY output a **valid JSON array and nothing else.**. Do not include any explanation or text outside the array. Ensure all domain names are realistic and match the description.\n",
    "\"\"\"\n",
    "\n",
    "all_data = []\n",
    "for i in range(1):  # or however many batches you want\n",
    "    start = time.time()\n",
    "\n",
    "    output = generator(\n",
    "        prompt,\n",
    "        max_new_tokens=400,\n",
    "        do_sample=True,\n",
    "        temperature=0.8,\n",
    "        return_full_text=False\n",
    "    )[0][\"generated_text\"]\n",
    "    print(output)\n",
    "    records = parse_json_from_output(output)\n",
    "    all_data.extend(records)\n",
    "\n",
    "    duration = time.time() - start\n",
    "    print(f\"Batch {i+1} took {duration:.2f} seconds and generated {len(records)} records.\")"
   ]
  },
  {
   "cell_type": "code",
   "execution_count": 6,
   "id": "c2c7b97f",
   "metadata": {
    "execution": {
     "iopub.execute_input": "2025-07-25T19:47:45.311857Z",
     "iopub.status.busy": "2025-07-25T19:47:45.311625Z",
     "iopub.status.idle": "2025-07-25T19:47:45.349978Z",
     "shell.execute_reply": "2025-07-25T19:47:45.348985Z"
    },
    "papermill": {
     "duration": 0.059261,
     "end_time": "2025-07-25T19:47:45.351007",
     "exception": false,
     "start_time": "2025-07-25T19:47:45.291746",
     "status": "completed"
    },
    "tags": []
   },
   "outputs": [
    {
     "data": {
      "text/html": [
       "<div>\n",
       "<style scoped>\n",
       "    .dataframe tbody tr th:only-of-type {\n",
       "        vertical-align: middle;\n",
       "    }\n",
       "\n",
       "    .dataframe tbody tr th {\n",
       "        vertical-align: top;\n",
       "    }\n",
       "\n",
       "    .dataframe thead th {\n",
       "        text-align: right;\n",
       "    }\n",
       "</style>\n",
       "<table border=\"1\" class=\"dataframe\">\n",
       "  <thead>\n",
       "    <tr style=\"text-align: right;\">\n",
       "      <th></th>\n",
       "      <th>business_description</th>\n",
       "      <th>domain_name</th>\n",
       "    </tr>\n",
       "  </thead>\n",
       "  <tbody>\n",
       "    <tr>\n",
       "      <th>0</th>\n",
       "      <td>A mobile app that helps people find local farm...</td>\n",
       "      <td>freshfinds.app</td>\n",
       "    </tr>\n",
       "    <tr>\n",
       "      <th>1</th>\n",
       "      <td>An online subscription service for eco-friendl...</td>\n",
       "      <td>greenbundle.com</td>\n",
       "    </tr>\n",
       "    <tr>\n",
       "      <th>2</th>\n",
       "      <td>A platform that connects freelance graphic des...</td>\n",
       "      <td>designsbydesigners.com</td>\n",
       "    </tr>\n",
       "    <tr>\n",
       "      <th>3</th>\n",
       "      <td>A subscription service that delivers fresh, or...</td>\n",
       "      <td>farm2table.com</td>\n",
       "    </tr>\n",
       "    <tr>\n",
       "      <th>4</th>\n",
       "      <td>A website that helps users find and book pet-f...</td>\n",
       "      <td>pawlovelovers.com</td>\n",
       "    </tr>\n",
       "  </tbody>\n",
       "</table>\n",
       "</div>"
      ],
      "text/plain": [
       "                                business_description             domain_name\n",
       "0  A mobile app that helps people find local farm...          freshfinds.app\n",
       "1  An online subscription service for eco-friendl...         greenbundle.com\n",
       "2  A platform that connects freelance graphic des...  designsbydesigners.com\n",
       "3  A subscription service that delivers fresh, or...          farm2table.com\n",
       "4  A website that helps users find and book pet-f...       pawlovelovers.com"
      ]
     },
     "execution_count": 6,
     "metadata": {},
     "output_type": "execute_result"
    }
   ],
   "source": [
    "df_all = pd.DataFrame(all_data).drop_duplicates(subset=\"domain_name\")\n",
    "df_all.to_csv(\"domain_names_with_descriptions.csv\", index=False)\n",
    "df_all.head()"
   ]
  }
 ],
 "metadata": {
  "kaggle": {
   "accelerator": "nvidiaTeslaT4",
   "dataSources": [
    {
     "isSourceIdPinned": false,
     "modelId": 1445,
     "modelInstanceId": 8658,
     "sourceId": 10716,
     "sourceType": "modelInstanceVersion"
    }
   ],
   "dockerImageVersionId": 31090,
   "isGpuEnabled": true,
   "isInternetEnabled": true,
   "language": "python",
   "sourceType": "notebook"
  },
  "kernelspec": {
   "display_name": "Python 3",
   "language": "python",
   "name": "python3"
  },
  "language_info": {
   "codemirror_mode": {
    "name": "ipython",
    "version": 3
   },
   "file_extension": ".py",
   "mimetype": "text/x-python",
   "name": "python",
   "nbconvert_exporter": "python",
   "pygments_lexer": "ipython3",
   "version": "3.11.13"
  },
  "papermill": {
   "default_parameters": {},
   "duration": 179.210723,
   "end_time": "2025-07-25T19:47:48.470296",
   "environment_variables": {},
   "exception": null,
   "input_path": "__notebook__.ipynb",
   "output_path": "__notebook__.ipynb",
   "parameters": {},
   "start_time": "2025-07-25T19:44:49.259573",
   "version": "2.6.0"
  },
  "widgets": {
   "application/vnd.jupyter.widget-state+json": {
    "state": {
     "14402f0b1040494e8a9f1a9d24e63967": {
      "model_module": "@jupyter-widgets/controls",
      "model_module_version": "2.0.0",
      "model_name": "ProgressStyleModel",
      "state": {
       "_model_module": "@jupyter-widgets/controls",
       "_model_module_version": "2.0.0",
       "_model_name": "ProgressStyleModel",
       "_view_count": null,
       "_view_module": "@jupyter-widgets/base",
       "_view_module_version": "2.0.0",
       "_view_name": "StyleView",
       "bar_color": null,
       "description_width": ""
      }
     },
     "2bd204e21679463f8deef7c9875c58bd": {
      "model_module": "@jupyter-widgets/controls",
      "model_module_version": "2.0.0",
      "model_name": "HTMLStyleModel",
      "state": {
       "_model_module": "@jupyter-widgets/controls",
       "_model_module_version": "2.0.0",
       "_model_name": "HTMLStyleModel",
       "_view_count": null,
       "_view_module": "@jupyter-widgets/base",
       "_view_module_version": "2.0.0",
       "_view_name": "StyleView",
       "background": null,
       "description_width": "",
       "font_size": null,
       "text_color": null
      }
     },
     "4ac70c2033924a01bd5cd9a317cf2612": {
      "model_module": "@jupyter-widgets/controls",
      "model_module_version": "2.0.0",
      "model_name": "HBoxModel",
      "state": {
       "_dom_classes": [],
       "_model_module": "@jupyter-widgets/controls",
       "_model_module_version": "2.0.0",
       "_model_name": "HBoxModel",
       "_view_count": null,
       "_view_module": "@jupyter-widgets/controls",
       "_view_module_version": "2.0.0",
       "_view_name": "HBoxView",
       "box_style": "",
       "children": [
        "IPY_MODEL_9dd14f4858c848468ddf8a1313b9f3c9",
        "IPY_MODEL_53876436fcec4c16966a36936991f653",
        "IPY_MODEL_b0ca6a6c48494f0fa3ced97b9f2b8a0e"
       ],
       "layout": "IPY_MODEL_690f1ec54cb146d39b77b4d24384b511",
       "tabbable": null,
       "tooltip": null
      }
     },
     "53876436fcec4c16966a36936991f653": {
      "model_module": "@jupyter-widgets/controls",
      "model_module_version": "2.0.0",
      "model_name": "FloatProgressModel",
      "state": {
       "_dom_classes": [],
       "_model_module": "@jupyter-widgets/controls",
       "_model_module_version": "2.0.0",
       "_model_name": "FloatProgressModel",
       "_view_count": null,
       "_view_module": "@jupyter-widgets/controls",
       "_view_module_version": "2.0.0",
       "_view_name": "ProgressView",
       "bar_style": "success",
       "description": "",
       "description_allow_html": false,
       "layout": "IPY_MODEL_fb3358d132a24b0eb1c003e38de46d6d",
       "max": 2.0,
       "min": 0.0,
       "orientation": "horizontal",
       "style": "IPY_MODEL_14402f0b1040494e8a9f1a9d24e63967",
       "tabbable": null,
       "tooltip": null,
       "value": 2.0
      }
     },
     "690f1ec54cb146d39b77b4d24384b511": {
      "model_module": "@jupyter-widgets/base",
      "model_module_version": "2.0.0",
      "model_name": "LayoutModel",
      "state": {
       "_model_module": "@jupyter-widgets/base",
       "_model_module_version": "2.0.0",
       "_model_name": "LayoutModel",
       "_view_count": null,
       "_view_module": "@jupyter-widgets/base",
       "_view_module_version": "2.0.0",
       "_view_name": "LayoutView",
       "align_content": null,
       "align_items": null,
       "align_self": null,
       "border_bottom": null,
       "border_left": null,
       "border_right": null,
       "border_top": null,
       "bottom": null,
       "display": null,
       "flex": null,
       "flex_flow": null,
       "grid_area": null,
       "grid_auto_columns": null,
       "grid_auto_flow": null,
       "grid_auto_rows": null,
       "grid_column": null,
       "grid_gap": null,
       "grid_row": null,
       "grid_template_areas": null,
       "grid_template_columns": null,
       "grid_template_rows": null,
       "height": null,
       "justify_content": null,
       "justify_items": null,
       "left": null,
       "margin": null,
       "max_height": null,
       "max_width": null,
       "min_height": null,
       "min_width": null,
       "object_fit": null,
       "object_position": null,
       "order": null,
       "overflow": null,
       "padding": null,
       "right": null,
       "top": null,
       "visibility": null,
       "width": null
      }
     },
     "9dd14f4858c848468ddf8a1313b9f3c9": {
      "model_module": "@jupyter-widgets/controls",
      "model_module_version": "2.0.0",
      "model_name": "HTMLModel",
      "state": {
       "_dom_classes": [],
       "_model_module": "@jupyter-widgets/controls",
       "_model_module_version": "2.0.0",
       "_model_name": "HTMLModel",
       "_view_count": null,
       "_view_module": "@jupyter-widgets/controls",
       "_view_module_version": "2.0.0",
       "_view_name": "HTMLView",
       "description": "",
       "description_allow_html": false,
       "layout": "IPY_MODEL_c0a76eeba6674430b8849f9521f66d87",
       "placeholder": "​",
       "style": "IPY_MODEL_2bd204e21679463f8deef7c9875c58bd",
       "tabbable": null,
       "tooltip": null,
       "value": "Loading checkpoint shards: 100%"
      }
     },
     "b0ca6a6c48494f0fa3ced97b9f2b8a0e": {
      "model_module": "@jupyter-widgets/controls",
      "model_module_version": "2.0.0",
      "model_name": "HTMLModel",
      "state": {
       "_dom_classes": [],
       "_model_module": "@jupyter-widgets/controls",
       "_model_module_version": "2.0.0",
       "_model_name": "HTMLModel",
       "_view_count": null,
       "_view_module": "@jupyter-widgets/controls",
       "_view_module_version": "2.0.0",
       "_view_name": "HTMLView",
       "description": "",
       "description_allow_html": false,
       "layout": "IPY_MODEL_f0c9c89e29a4432c8af6845ad36c56e7",
       "placeholder": "​",
       "style": "IPY_MODEL_b458f4869c1c4478a787bb861c7938b1",
       "tabbable": null,
       "tooltip": null,
       "value": " 2/2 [00:31&lt;00:00, 13.58s/it]"
      }
     },
     "b458f4869c1c4478a787bb861c7938b1": {
      "model_module": "@jupyter-widgets/controls",
      "model_module_version": "2.0.0",
      "model_name": "HTMLStyleModel",
      "state": {
       "_model_module": "@jupyter-widgets/controls",
       "_model_module_version": "2.0.0",
       "_model_name": "HTMLStyleModel",
       "_view_count": null,
       "_view_module": "@jupyter-widgets/base",
       "_view_module_version": "2.0.0",
       "_view_name": "StyleView",
       "background": null,
       "description_width": "",
       "font_size": null,
       "text_color": null
      }
     },
     "c0a76eeba6674430b8849f9521f66d87": {
      "model_module": "@jupyter-widgets/base",
      "model_module_version": "2.0.0",
      "model_name": "LayoutModel",
      "state": {
       "_model_module": "@jupyter-widgets/base",
       "_model_module_version": "2.0.0",
       "_model_name": "LayoutModel",
       "_view_count": null,
       "_view_module": "@jupyter-widgets/base",
       "_view_module_version": "2.0.0",
       "_view_name": "LayoutView",
       "align_content": null,
       "align_items": null,
       "align_self": null,
       "border_bottom": null,
       "border_left": null,
       "border_right": null,
       "border_top": null,
       "bottom": null,
       "display": null,
       "flex": null,
       "flex_flow": null,
       "grid_area": null,
       "grid_auto_columns": null,
       "grid_auto_flow": null,
       "grid_auto_rows": null,
       "grid_column": null,
       "grid_gap": null,
       "grid_row": null,
       "grid_template_areas": null,
       "grid_template_columns": null,
       "grid_template_rows": null,
       "height": null,
       "justify_content": null,
       "justify_items": null,
       "left": null,
       "margin": null,
       "max_height": null,
       "max_width": null,
       "min_height": null,
       "min_width": null,
       "object_fit": null,
       "object_position": null,
       "order": null,
       "overflow": null,
       "padding": null,
       "right": null,
       "top": null,
       "visibility": null,
       "width": null
      }
     },
     "f0c9c89e29a4432c8af6845ad36c56e7": {
      "model_module": "@jupyter-widgets/base",
      "model_module_version": "2.0.0",
      "model_name": "LayoutModel",
      "state": {
       "_model_module": "@jupyter-widgets/base",
       "_model_module_version": "2.0.0",
       "_model_name": "LayoutModel",
       "_view_count": null,
       "_view_module": "@jupyter-widgets/base",
       "_view_module_version": "2.0.0",
       "_view_name": "LayoutView",
       "align_content": null,
       "align_items": null,
       "align_self": null,
       "border_bottom": null,
       "border_left": null,
       "border_right": null,
       "border_top": null,
       "bottom": null,
       "display": null,
       "flex": null,
       "flex_flow": null,
       "grid_area": null,
       "grid_auto_columns": null,
       "grid_auto_flow": null,
       "grid_auto_rows": null,
       "grid_column": null,
       "grid_gap": null,
       "grid_row": null,
       "grid_template_areas": null,
       "grid_template_columns": null,
       "grid_template_rows": null,
       "height": null,
       "justify_content": null,
       "justify_items": null,
       "left": null,
       "margin": null,
       "max_height": null,
       "max_width": null,
       "min_height": null,
       "min_width": null,
       "object_fit": null,
       "object_position": null,
       "order": null,
       "overflow": null,
       "padding": null,
       "right": null,
       "top": null,
       "visibility": null,
       "width": null
      }
     },
     "fb3358d132a24b0eb1c003e38de46d6d": {
      "model_module": "@jupyter-widgets/base",
      "model_module_version": "2.0.0",
      "model_name": "LayoutModel",
      "state": {
       "_model_module": "@jupyter-widgets/base",
       "_model_module_version": "2.0.0",
       "_model_name": "LayoutModel",
       "_view_count": null,
       "_view_module": "@jupyter-widgets/base",
       "_view_module_version": "2.0.0",
       "_view_name": "LayoutView",
       "align_content": null,
       "align_items": null,
       "align_self": null,
       "border_bottom": null,
       "border_left": null,
       "border_right": null,
       "border_top": null,
       "bottom": null,
       "display": null,
       "flex": null,
       "flex_flow": null,
       "grid_area": null,
       "grid_auto_columns": null,
       "grid_auto_flow": null,
       "grid_auto_rows": null,
       "grid_column": null,
       "grid_gap": null,
       "grid_row": null,
       "grid_template_areas": null,
       "grid_template_columns": null,
       "grid_template_rows": null,
       "height": null,
       "justify_content": null,
       "justify_items": null,
       "left": null,
       "margin": null,
       "max_height": null,
       "max_width": null,
       "min_height": null,
       "min_width": null,
       "object_fit": null,
       "object_position": null,
       "order": null,
       "overflow": null,
       "padding": null,
       "right": null,
       "top": null,
       "visibility": null,
       "width": null
      }
     }
    },
    "version_major": 2,
    "version_minor": 0
   }
  }
 },
 "nbformat": 4,
 "nbformat_minor": 5
}
